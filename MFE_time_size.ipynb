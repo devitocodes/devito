{
 "cells": [
  {
   "cell_type": "markdown",
   "id": "f11a9f6b",
   "metadata": {},
   "source": [
    "# Multi-Stage Minimum Failure Example (MFE) Time Stepping Simulation\n",
    "\n",
    "This notebook implements a multi-stage Runge-Kutta-like time integration scheme for solving a PDE system using Devito.\n",
    "\n",
    "## Overview\n",
    "\n",
    "To apply multi-stage methods to a PDE system, we first have to formulated as a first-order in time system:\n",
    "\n",
    "\n",
    "$\\frac{d}{dt}\\boldsymbol{U}(\\boldsymbol{x},t)=\\boldsymbol{HU}(\\boldsymbol{x},t)+\\boldsymbol{f}(\\boldsymbol{x},t),\\hspace{3cm}(1)$\n",
    "\n",
    "where $\\boldsymbol{x}$ is a vector with the spatial variables (x in 1D, (x,y) in 2D, (x,y,z in 3D)), $\\boldsymbol{U}$ is a vector of real-valued functions, $\\boldsymbol{H}$ is a spatial operator that contains spatial derivatives and constant coefficients, and $\\boldsymbol{f}$ is a known vector of real-valued functions.\n",
    "\n",
    "Expanding $\\boldsymbol{f}(x,y,t)$ in its Taylor 's series, we can approximate the solution of system (1) by the matrix exponential (see [[1](#ref-higham2010)])\n",
    "\n",
    "$\\hat{\\boldsymbol{U}}(\\boldsymbol{x},t)\\approx[\\boldsymbol{I_p}\\;0]e^{t\\hat{\\boldsymbol{H}}}\\begin{bmatrix}\\boldsymbol{U}(\\boldsymbol{x},t_0)\\\\ \\boldsymbol{e_p}\\end{bmatrix},$\n",
    "\n",
    "where $\\boldsymbol{e_p}\\in\\mathbb{R}^p$ is the eigenvector with zero in all its entries exept the last one, that equals 1, $\\hat{\\boldsymbol{U}}$ is the vector function $\\boldsymbol{U}$ with $p$ extra zeros at the end, $\\boldsymbol{I_p}$ is the identity matrix of size $p$, and $\\hat{\\boldsymbol{H}}$ is the matrix\n",
    "\n",
    "$\\hat{\\boldsymbol{H}}=\\begin{bmatrix}\\boldsymbol{H} & \\boldsymbol{W}\\\\ 0 & \\boldsymbol{J_p}\\end{bmatrix}, \\hspace{5.265cm}(2)$\n",
    "\n",
    "where $\\boldsymbol{J_p}$ is the zero matrix with an upper diagonal of ones\n",
    "\n",
    "$\\boldsymbol{J_p}=\\begin{bmatrix}0 & 1 & 0 & 0 & \\dots & 0\\\\ 0 & 0 & 1 & 0 & \\dots & 0\\\\ &&\\ddots&&&\\vdots \n",
    "\\\\ 0 & 0 & 0 & 0 & \\dots & 1 \\\\0 & 0 & 0 & 0 & \\dots & 0\\end{bmatrix},$\n",
    "\n",
    "and $\\boldsymbol{W}$ contains the information of the vector function $\\boldsymbol{f}(\\boldsymbol{x},t)$ derivatives\n",
    "\n",
    "$\\boldsymbol{W}=\\begin{bmatrix}\\frac{\\partial^{p-1}}{\\partial t^{p-1}}\\boldsymbol{f}(\\boldsymbol{x},t_0)\\bigg\\vert \\frac{\\partial^{p-2}}{\\partial t^{p-2}}\\boldsymbol{f}(\\boldsymbol{x},t_0)\\bigg\\vert \\dots \\bigg\\vert \\frac{\\partial}{\\partial t}\\boldsymbol{f}(\\boldsymbol{x},t_0)\\bigg\\vert \\boldsymbol{f}(\\boldsymbol{x},t_0)\\end{bmatrix}.$\n",
    "\n",
    "Then, we approximate the solution operator in (2) with the m-stage Runge-Kutta (RK) method from [[2](#ref-gottlieb2003)]\n",
    "\n",
    "\\begin{align*}\n",
    "        \\boldsymbol{k}_0&=\\boldsymbol{u}_n\\\\\n",
    "        \\boldsymbol{k}_i&=\\left(\\boldsymbol{I}_{n\\times n}+\\Delta t \\hat{\\boldsymbol{H}}\\right)\\boldsymbol{k}_{i-1},\\quad i=1\\dots m-1\\\\\n",
    "        \\boldsymbol{k}_m&=\\sum\\limits_{i=0}^{m-2}\\alpha_i\\boldsymbol{k}_i+\\alpha_{m-1}\\left(\\boldsymbol{I}_{n\\times n}+\\Delta t \\hat{\\boldsymbol{H}}\\right)\\boldsymbol{k}_{m-1}\\\\\n",
    "        \\boldsymbol{u}_{n+1}&=\\boldsymbol{k}_m,        \n",
    "\\end{align*}\n",
    "\n",
    "where $\\alpha_i$ are the coefficients of the Runge-Kutta and have a straightforward computation.\n",
    "\n",
    "So, for each time step we have to construct the matrix $\\hat{\\boldsymbol{H}}$, where we only the submatrix $\\boldsymbol{W}$ change, and apply the RK method to the vector $\\boldsymbol{u}_n=[\\boldsymbol{U}(\\boldsymbol{x},t_n)\\;\\; \\boldsymbol{e_p}]^T$.\n",
    "\n",
    "So, an outline of the implementation is:\n",
    "\n",
    "- **Environmental variables**: Set up the grid, and spatial and time variables\n",
    "- **PDE System definition**: Define $\\boldsymbol{f}(\\boldsymbol{x},t)$ and the system of equations\n",
    "- **Compute the derivatives of the source term**: symbolic computing of $\\boldsymbol{f}(\\boldsymbol{x},t)$ derivatives\n",
    "- **Construct the operator $\\hat{\\boldsymbol{H}}$**: application the application of operator $\\hat{\\boldsymbol{H}}$\n",
    "- **Implementation of the RK method**: define the required equations of the RK method to pass to Devito's operator. For this particular example, we'll use $m=3$ and $\\alpha_i=1,\\;\\forall i\\in\\{0,1,2\\}$.\n",
    "- **Create and run Devito operator**: Executing the operator constructed with the RK equations"
   ]
  },
  {
   "cell_type": "markdown",
   "id": "274432cf",
   "metadata": {},
   "source": [
    "## 0. Import Required Libraries\n",
    "\n",
    "First, we import all necessary libraries including NumPy for numerical operations, SymPy for symbolic mathematics, and Devito components for finite difference operations."
   ]
  },
  {
   "cell_type": "code",
   "execution_count": 3,
   "id": "930afc0c",
   "metadata": {},
   "outputs": [],
   "source": [
    "import numpy as np\n",
    "import sympy as sym\n",
    "from devito import (Grid, Function, TimeFunction,\n",
    "                    Derivative, Operator, Eq)\n",
    "from devito import configuration\n",
    "from devito.symbolics import uxreplace"
   ]
  },
  {
   "cell_type": "markdown",
   "id": "3a3b1e0e",
   "metadata": {},
   "source": [
    "## 1. Environmental variables\n",
    "\n",
    "Configure the simulation environment, including logging level, domain parameters, and computational grid setup."
   ]
  },
  {
   "cell_type": "code",
   "execution_count": 4,
   "id": "0d2a32c5",
   "metadata": {},
   "outputs": [
    {
     "name": "stdout",
     "output_type": "stream",
     "text": [
      "Grid created: (201, 201) points over domain (1, 1)\n",
      "Spatial dimensions: x=x, y=y\n",
      "Time dimension: t=time, dt=dt\n"
     ]
    }
   ],
   "source": [
    "# Configure Devito logging\n",
    "configuration['log-level'] = 'DEBUG'\n",
    "\n",
    "# Simulation parameters\n",
    "extent = (1, 1)           # Physical domain size\n",
    "shape = (201, 201)        # Grid resolution\n",
    "origin = (0, 0)           # Domain origin\n",
    "\n",
    "# Create computational grid\n",
    "grid = Grid(origin=origin, extent=extent, shape=shape, dtype=np.float64)\n",
    "x, y = grid.dimensions\n",
    "t, dt = grid.time_dim, grid.stepping_dim.spacing\n",
    "\n",
    "print(f\"Grid created: {shape} points over domain {extent}\")\n",
    "print(f\"Spatial dimensions: x={x}, y={y}\")\n",
    "print(f\"Time dimension: t={t}, dt={dt}\")"
   ]
  },
  {
   "cell_type": "markdown",
   "id": "d1d7dfd2",
   "metadata": {},
   "source": [
    "## 2. PDE System definition\n",
    "\n",
    "Create the TimeFunction objects for the wavefield variables (displacement u and velocity v) and define the source terms with both spatial and temporal characteristics."
   ]
  },
  {
   "cell_type": "code",
   "execution_count": 5,
   "id": "5c42f929",
   "metadata": {},
   "outputs": [
    {
     "name": "stderr",
     "output_type": "stream",
     "text": [
      "Allocating host memory for src_spat(205, 205) [328 KB]\n"
     ]
    },
    {
     "name": "stdout",
     "output_type": "stream",
     "text": [
      "Wavefield functions created:\n",
      "  u_multi_stage: u_multi_stage(t, x, y)\n",
      "  v_multi_stage: v_multi_stage(t, x, y)\n",
      "\n",
      "Source spatial function: src_spat(x, y)\n",
      "Source temporal function: exp(-100*(time - 0.01)**2)\n",
      "\n",
      "PDE system matrix H:\n",
      "  du_multi_stage/dt = v_multi_stage(t, x, y)\n",
      "  dv_multi_stage/dt = Derivative(u_multi_stage(t, x, y), (x, 2)) + Derivative(u_multi_stage(t, x, y), (y, 2))\n"
     ]
    }
   ],
   "source": [
    "# Define wavefield unknowns: u (displacement) and v (velocity)\n",
    "fun_labels = ['u_multi_stage', 'v_multi_stage']\n",
    "U_multi_stage = [TimeFunction(name=name, grid=grid, space_order=2, time_order=1, dtype=np.float64) for name in fun_labels]\n",
    "\n",
    "print(\"Wavefield functions created:\")\n",
    "for i, u in enumerate(U_multi_stage):\n",
    "    print(f\"  {fun_labels[i]}: {u}\")\n",
    "\n",
    "# Source definition\n",
    "src_spatial = Function(name=\"src_spat\", grid=grid, space_order=2, dtype=np.float64)\n",
    "src_spatial.data[100, 100] = 1  # Point source at grid center\n",
    "src_temporal = sym.exp(- 100 * (t - 0.01) ** 2)  # Gaussian pulse\n",
    "\n",
    "print(f\"\\nSource spatial function: {src_spatial}\")\n",
    "print(f\"Source temporal function: {src_temporal}\")\n",
    "\n",
    "# PDE right-hand side: du/dt = v, dv/dt = ∇²u\n",
    "system_eqs_rhs = [U_multi_stage[1],  # du/dt = v\n",
    "                  Derivative(U_multi_stage[0], (x, 2), fd_order=2) +\n",
    "                  Derivative(U_multi_stage[0], (y, 2), fd_order=2)]  # dv/dt = ∇²u\n",
    "\n",
    "# Source coupling: [spatial, temporal, associated variable]\n",
    "src = [[src_spatial, src_temporal, U_multi_stage[0]],\n",
    "       [src_spatial, src_temporal * 10, U_multi_stage[0]],\n",
    "       [src_spatial, src_temporal, U_multi_stage[1]]]\n",
    "\n",
    "print(f\"\\nPDE system matrix H:\")\n",
    "for i, rhs in enumerate(system_eqs_rhs):\n",
    "    print(f\"  d{fun_labels[i]}/dt = {rhs}\")\n"
   ]
  },
  {
   "cell_type": "markdown",
   "id": "38f6faa0",
   "metadata": {},
   "source": [
    "## 3. Compute the derivatives of the source term\n",
    "\n",
    "Implement the core helper function that compute time derivatives of source and calculate the source derivatives up to the specified degree (deg=3)."
   ]
  },
  {
   "cell_type": "code",
   "execution_count": 6,
   "id": "046482b7",
   "metadata": {},
   "outputs": [
    {
     "name": "stdout",
     "output_type": "stream",
     "text": [
      "  - source_derivatives(): Computes time derivatives of source wavelet\n",
      "Source index mapping:\n",
      "  u_multi_stage(t, x, y) -> 0\n",
      "  v_multi_stage(t, x, y) -> 1\n",
      "\n",
      "Source indices: [0, 0, 1]\n",
      "\n",
      "Source derivatives computed up to degree 3\n",
      "Number of derivative levels: 3\n",
      "Sample derivative expressions:\n",
      "  Level 2: [(2.0 - 200*time)**2*exp(-100*(time - 0.01)**2) - 200*exp(-100*(time - 0.01)**2), 10*(2.0 - 200*time)**2*exp(-100*(time - 0.01)**2) - 2000*exp(-100*(time - 0.01)**2), (2.0 - 200*time)**2*exp(-100*(time - 0.01)**2) - 200*exp(-100*(time - 0.01)**2)]\n",
      "  Level 1: [(2.0 - 200*time)*exp(-100*(time - 0.01)**2), 10*(2.0 - 200*time)*exp(-100*(time - 0.01)**2), (2.0 - 200*time)*exp(-100*(time - 0.01)**2)]\n",
      "  Level 0: [exp(-100*(time - 0.01)**2), 10*exp(-100*(time - 0.01)**2), exp(-100*(time - 0.01)**2)]\n"
     ]
    }
   ],
   "source": [
    "def source_derivatives(deg, src, src_index, t):\n",
    "    \"\"\"\n",
    "    Compute time derivatives of the source up to given degree.\n",
    "    \n",
    "    Parameters:\n",
    "    -----------\n",
    "    deg : int\n",
    "        Degree of derivatives to compute\n",
    "    src : list\n",
    "        List of source terms\n",
    "    src_index : list\n",
    "        Indices for source terms\n",
    "    t : symbol\n",
    "        Time symbol\n",
    "        \n",
    "    Returns:\n",
    "    --------\n",
    "    f_deriv : list\n",
    "        List of derivative expressions\n",
    "    \"\"\"\n",
    "    f_deriv = [[src[i][1] for i in range(len(src))]]\n",
    "    \n",
    "    # Compute derivatives up to order p\n",
    "    for _ in range(deg - 1):\n",
    "        f_deriv.append([f_deriv[-1][i].diff(t) for i in range(len(src_index))])\n",
    "    \n",
    "    f_deriv.reverse()\n",
    "    return f_deriv\n",
    "\n",
    "print(\"  - source_derivatives(): Computes time derivatives of source wavelet\")\n",
    "\n",
    "# Create mapping from wavefield variables to indices\n",
    "src_index_map = {val: i for i, val in enumerate(U_multi_stage)}\n",
    "print(\"Source index mapping:\")\n",
    "for var, idx in src_index_map.items():\n",
    "    print(f\"  {var} -> {idx}\")\n",
    "\n",
    "# Extract source indices based on associated variables\n",
    "src_index = [src_index_map[val] for val in [src[i][2] for i in range(len(src))]]\n",
    "print(f\"\\nSource indices: {src_index}\")\n",
    "\n",
    "# Degree of derivatives to compute\n",
    "deg = 3\n",
    "\n",
    "# Compute source derivatives\n",
    "src_deriv = source_derivatives(deg, src, src_index, t)\n",
    "print(f\"\\nSource derivatives computed up to degree {deg}\")\n",
    "print(f\"Number of derivative levels: {len(src_deriv)}\")\n",
    "print(\"Sample derivative expressions:\")\n",
    "for i, deriv in enumerate(src_deriv):\n",
    "    print(f\"  Level {deg-1-i}: {deriv}\")"
   ]
  },
  {
   "cell_type": "markdown",
   "id": "60c485ae",
   "metadata": {},
   "source": [
    "## 4.Construct the operator $\\hat{\\boldsymbol{H}}$\n",
    "\n",
    " Application of the spatial operator to the vector formed by [u e_p]^T."
   ]
  },
  {
   "cell_type": "code",
   "execution_count": 7,
   "id": "ccd0fe2a",
   "metadata": {},
   "outputs": [
    {
     "name": "stdout",
     "output_type": "stream",
     "text": [
      "  - source_inclusion(): Apply the spatial operator of the PDE system at RK stages\n"
     ]
    }
   ],
   "source": [
    "# and handle source term inclusion in the PDE system at each Runge-Kutta stage\n",
    "def source_inclusion(rhs, u, k, src_index, src_deriv, e_p, t, dt, n_eq):\n",
    "    \"\"\"\n",
    "    Add source terms to the PDE system at each Runge-Kutta stage.\n",
    "    \n",
    "    Parameters:\n",
    "    -----------\n",
    "    rhs : list\n",
    "        Right-hand side of PDE system without sources\n",
    "    u : list  \n",
    "        Wavefield variables\n",
    "    k : list\n",
    "        Runge-Kutta stage variables\n",
    "    src_index : list\n",
    "        Source indices\n",
    "    src_deriv : list\n",
    "        Source derivatives\n",
    "    e_p : list\n",
    "        Expansion coefficients of the source term Taylor's series\n",
    "    t : symbol\n",
    "        Time symbol\n",
    "    dt : symbol\n",
    "        Time step symbol\n",
    "    n_eq : int\n",
    "        Number of equations\n",
    "        \n",
    "    Returns:\n",
    "    --------\n",
    "    src_lhs : list\n",
    "        Operator application to the vector [u, e_p]^T including source terms\n",
    "    e_p : list\n",
    "        Updated expansion coefficients of the source term Taylor's series\n",
    "    \"\"\"\n",
    "    # Replace wavefield variables with stage variables\n",
    "    src_lhs = [uxreplace(rhs[i], {u[m]: k[m] for m in range(n_eq)}) for i in range(n_eq)]\n",
    "    \n",
    "    p = len(src_deriv)\n",
    "    \n",
    "    # Add source contributions\n",
    "    for i in range(p):\n",
    "        if e_p[i] != 0:\n",
    "            for j in range(len(src_index)):\n",
    "                src_lhs[src_index[j]] += src[j][0] * src_deriv[i][j].subs({t: t * dt}) * e_p[i]\n",
    "    \n",
    "    # Update expansion coefficients of the source term Taylor's series\n",
    "    e_p = [e_p[i] + dt * e_p[i + 1] for i in range(p - 1)] + [e_p[-1]]\n",
    "    \n",
    "    return src_lhs, e_p\n",
    "\n",
    "print(\"  - source_inclusion(): Apply the spatial operator of the PDE system at RK stages\")"
   ]
  },
  {
   "cell_type": "markdown",
   "id": "a462c0a9",
   "metadata": {},
   "source": [
    "## 5. Implementation of the RK method\n",
    "\n",
    "Construct the multi-stage time integration scheme with initialization, multiple RK stages, and final update. This implements a toy example of a class of High-Order Runge-Kutta (HORK) methods, with proper source term integration."
   ]
  },
  {
   "cell_type": "code",
   "execution_count": 8,
   "id": "0543e6d9",
   "metadata": {},
   "outputs": [
    {
     "name": "stdout",
     "output_type": "stream",
     "text": [
      "\n",
      "Runge-Kutta temporary variables:\n",
      "  k: ['k0', 'k1']\n",
      "  k_old: ['k00', 'k01']\n",
      "\n",
      "Expansion coefficients initialized of the source term Taylor's series:\n",
      "  e_p = [0, 0, 1.0]\n",
      "  eta = 1\n",
      "\n",
      "SSPRK coefficients initialized:\n",
      "  alpha = [1, 1, 1, 1]\n",
      "Building Runge-Kutta-like scheme...\n",
      "  Stage 0: Initialization\n",
      "  Stage 1: First RK stage\n",
      "  Stage 2: Second RK stage\n",
      "  Stage 3: Final RK stage and update\n",
      "\n",
      "Total equations created: 20\n",
      "Scheme structure:\n",
      "  Stage 0: Eq(k0(x, y), u_multi_stage(t, x, y))\n",
      "  Stage 1: Eq(k1(x, y), v_multi_stage(t, x, y))\n",
      "  Stage 2: Eq(u_multi_stage(t + dt, x, y), u_multi_stage(t, x, y))\n",
      "  Stage 3: Eq(v_multi_stage(t + dt, x, y), v_multi_stage(t, x, y))\n",
      "  Stage 4: Eq(k00(x, y), k0(x, y))\n",
      "  Stage 5: Eq(k01(x, y), k1(x, y))\n",
      "  Stage 6: Eq(k0(x, y), dt*(k01(x, y) + 11.0*src_spat(x, y)*exp(-100*(time*dt - 0.01)**2)) + k00(x, y))\n",
      "  Stage 7: Eq(k1(x, y), dt*(src_spat(x, y)*exp(-100*(time*dt - 0.01)**2) + Derivative(k00(x, y), (x, 2)) + Derivative(k00(x, y), (y, 2))) + k01(x, y))\n",
      "  Stage 8: Eq(u_multi_stage(t + dt, x, y), k0(x, y) + u_multi_stage(t + dt, x, y))\n",
      "  Stage 9: Eq(v_multi_stage(t + dt, x, y), k1(x, y) + v_multi_stage(t + dt, x, y))\n",
      "  Stage 10: Eq(k00(x, y), k0(x, y))\n",
      "  Stage 11: Eq(k01(x, y), k1(x, y))\n",
      "  Stage 12: Eq(k0(x, y), dt*(11.0*dt*(-200*time*dt + 2.0)*src_spat(x, y)*exp(-100*(time*dt - 0.01)**2) + k01(x, y) + 11.0*src_spat(x, y)*exp(-100*(time*dt - 0.01)**2)) + k00(x, y))\n",
      "  Stage 13: Eq(k1(x, y), dt*(1.0*dt*(-200*time*dt + 2.0)*src_spat(x, y)*exp(-100*(time*dt - 0.01)**2) + src_spat(x, y)*exp(-100*(time*dt - 0.01)**2) + Derivative(k00(x, y), (x, 2)) + Derivative(k00(x, y), (y, 2))) + k01(x, y))\n",
      "  Stage 14: Eq(k00(x, y), k0(x, y))\n",
      "  Stage 15: Eq(k01(x, y), k1(x, y))\n",
      "  Stage 16: Eq(k0(x, y), dt*(1.0*dt**2*((-200*time*dt + 2.0)**2*exp(-100*(time*dt - 0.01)**2) - 200*exp(-100*(time*dt - 0.01)**2))*src_spat(x, y) + 1.0*dt**2*(10*(-200*time*dt + 2.0)**2*exp(-100*(time*dt - 0.01)**2) - 2000*exp(-100*(time*dt - 0.01)**2))*src_spat(x, y) + 22.0*dt*(-200*time*dt + 2.0)*src_spat(x, y)*exp(-100*(time*dt - 0.01)**2) + k01(x, y) + 11.0*src_spat(x, y)*exp(-100*(time*dt - 0.01)**2)) + k00(x, y))\n",
      "  Stage 17: Eq(k1(x, y), dt*(1.0*dt**2*((-200*time*dt + 2.0)**2*exp(-100*(time*dt - 0.01)**2) - 200*exp(-100*(time*dt - 0.01)**2))*src_spat(x, y) + 2.0*dt*(-200*time*dt + 2.0)*src_spat(x, y)*exp(-100*(time*dt - 0.01)**2) + src_spat(x, y)*exp(-100*(time*dt - 0.01)**2) + Derivative(k00(x, y), (x, 2)) + Derivative(k00(x, y), (y, 2))) + k01(x, y))\n",
      "  Stage 18: Eq(u_multi_stage(t + dt, x, y), k0(x, y) + u_multi_stage(t + dt, x, y))\n",
      "  Stage 19: Eq(v_multi_stage(t + dt, x, y), k1(x, y) + v_multi_stage(t + dt, x, y))\n"
     ]
    }
   ],
   "source": [
    "n_eq = 2                  # Number of PDE unknowns (u, v)\n",
    "\n",
    "# Temporary variables for Runge-Kutta stages\n",
    "k = [Function(name=f'k{i}', grid=grid, space_order=2, time_order=1, dtype=U_multi_stage[i].dtype) for i in range(n_eq)]\n",
    "# Previous stage variables needed for temporary storage\n",
    "k_old = [Function(name=f'k0{i}', grid=grid, space_order=2, time_order=1, dtype=U_multi_stage[i].dtype) for i in range(n_eq)]\n",
    "\n",
    "print(f\"\\nRunge-Kutta temporary variables:\")\n",
    "print(f\"  k: {[ki.name for ki in k]}\")\n",
    "print(f\"  k_old: {[ki.name for ki in k_old]}\")\n",
    "\n",
    "# Initialize expansion coefficients of the source term Taylor's series\n",
    "e_p = [0] * deg\n",
    "eta = 1\n",
    "e_p[-1] = 1 / eta\n",
    "print(f\"\\nExpansion coefficients initialized of the source term Taylor's series:\")\n",
    "print(f\"  e_p = {e_p}\")\n",
    "print(f\"  eta = {eta}\")\n",
    "\n",
    "# Initialize SSPRK coefficients (toy example)\n",
    "alpha = [1]*4\n",
    "print(f\"\\nSSPRK coefficients initialized:\")\n",
    "print(f\"  alpha = {alpha}\")\n",
    "\n",
    "\n",
    "# Initialize list to store all stage equations\n",
    "stage_eqs = []\n",
    "\n",
    "print(\"Building Runge-Kutta-like scheme...\")\n",
    "\n",
    "# Stage 0: Initialization\n",
    "print(\"  Stage 0: Initialization\")\n",
    "stage_eqs.extend([Eq(k[i], U_multi_stage[i]) for i in range(n_eq)])\n",
    "[stage_eqs.append(Eq(U_multi_stage[i].forward, U_multi_stage[i] * alpha[0])) for i in range(n_eq)]\n",
    "\n",
    "# Stage 1\n",
    "print(\"  Stage 1: First RK stage\")\n",
    "[stage_eqs.append(Eq(k_old[j], k[j])) for j in range(n_eq)]\n",
    "src_lhs, e_p = source_inclusion(system_eqs_rhs, U_multi_stage, k_old, src_index, src_deriv, e_p, t, dt, n_eq)\n",
    "[stage_eqs.append(Eq(k[j], k_old[j] + dt * src_lhs[j])) for j in range(n_eq)]\n",
    "[stage_eqs.append(Eq(U_multi_stage[j].forward, U_multi_stage[j].forward + k[j] * alpha[1])) for j in range(n_eq)]\n",
    "\n",
    "# Stage 2\n",
    "print(\"  Stage 2: Second RK stage\")\n",
    "[stage_eqs.append(Eq(k_old[j], k[j])) for j in range(n_eq)]\n",
    "src_lhs, e_p = source_inclusion(system_eqs_rhs, U_multi_stage, k_old, src_index, src_deriv, e_p, t, dt, n_eq)\n",
    "[stage_eqs.append(Eq(k[j], k_old[j] + dt * src_lhs[j])) for j in range(n_eq)]\n",
    "\n",
    "# Stage 3 and final update\n",
    "print(\"  Stage 3: Final RK stage and update\")\n",
    "[stage_eqs.append(Eq(k_old[j], k[j])) for j in range(n_eq)]\n",
    "src_lhs, _ = source_inclusion(system_eqs_rhs, U_multi_stage, k_old, src_index, src_deriv, e_p, t, dt, n_eq)\n",
    "[stage_eqs.append(Eq(k[j], k_old[j] + dt * src_lhs[j])) for j in range(n_eq)]\n",
    "[stage_eqs.append(Eq(U_multi_stage[j].forward, U_multi_stage[j].forward + k[j] * alpha[deg - 1])) for j in range(n_eq)]\n",
    "\n",
    "print(f\"\\nTotal equations created: {len(stage_eqs)}\")\n",
    "print(\"Scheme structure:\")\n",
    "for i, stage in enumerate(stage_eqs):\n",
    "    print(f\"  Stage {i}: {stage}\")\n"
   ]
  },
  {
   "cell_type": "markdown",
   "id": "ef2048a1",
   "metadata": {},
   "source": [
    "## 6. Create and Run Devito Operator\n",
    "\n",
    "Compile all the equations into a Devito Operator and execute the simulation with the specified parameters."
   ]
  },
  {
   "cell_type": "code",
   "execution_count": 11,
   "id": "d64897d9",
   "metadata": {},
   "outputs": [
    {
     "name": "stdout",
     "output_type": "stream",
     "text": [
      "Creating Devito Operator...\n"
     ]
    },
    {
     "name": "stderr",
     "output_type": "stream",
     "text": [
      "Operator `Kernel` generated in 0.33 s\n",
      "  * lowering.Clusters: 0.17 s (52.7 %)\n",
      "     * specializing.Clusters: 0.10 s (31.0 %)\n",
      "  * lowering.IET: 0.11 s (34.1 %)\n",
      "Flops reduction after symbolic optimization: [209 --> 106]\n",
      "Operator `Kernel` fetched `/tmp/devito-jitcache-uid1000/ead4e1022d510052a8b9b1fb08d861635f2bdbdd.c` in 0.08 s from jit-cache\n",
      "Allocating host memory for k0(205, 205) [328 KB]\n",
      "Allocating host memory for k00(205, 205) [328 KB]\n",
      "Allocating host memory for k01(205, 205) [328 KB]\n",
      "Allocating host memory for k1(205, 205) [328 KB]\n",
      "Allocating host memory for u_multi_stage(2, 205, 205) [657 KB]\n",
      "Allocating host memory for v_multi_stage(2, 205, 205) [657 KB]\n"
     ]
    },
    {
     "name": "stdout",
     "output_type": "stream",
     "text": [
      "Operator successfully created!\n",
      "  Number of equations: 20\n",
      "  Grid spacing substitutions applied: {h_x: np.float64(0.005), h_y: np.float64(0.005)}\n",
      "\n",
      "Simulation parameters:\n",
      "  Time step (dt): 0.001\n",
      "  Maximum time: 2000\n",
      "\n",
      "Running simulation...\n"
     ]
    },
    {
     "ename": "InvalidArgument",
     "evalue": "No value found for parameter time_size",
     "output_type": "error",
     "traceback": [
      "\u001b[31m---------------------------------------------------------------------------\u001b[39m",
      "\u001b[31mInvalidArgument\u001b[39m                           Traceback (most recent call last)",
      "\u001b[36mCell\u001b[39m\u001b[36m \u001b[39m\u001b[32mIn[11]\u001b[39m\u001b[32m, line 19\u001b[39m\n\u001b[32m     17\u001b[39m \u001b[38;5;66;03m# Execute the simulation\u001b[39;00m\n\u001b[32m     18\u001b[39m \u001b[38;5;28mprint\u001b[39m(\u001b[33m\"\u001b[39m\u001b[38;5;130;01m\\n\u001b[39;00m\u001b[33mRunning simulation...\u001b[39m\u001b[33m\"\u001b[39m)\n\u001b[32m---> \u001b[39m\u001b[32m19\u001b[39m \u001b[43mop\u001b[49m\u001b[43m(\u001b[49m\u001b[43mdt\u001b[49m\u001b[43m=\u001b[49m\u001b[43mdt_value\u001b[49m\u001b[43m,\u001b[49m\u001b[43m \u001b[49m\u001b[43mtime\u001b[49m\u001b[43m=\u001b[49m\u001b[43mtime_max\u001b[49m\u001b[43m)\u001b[49m\n\u001b[32m     21\u001b[39m \u001b[38;5;28mprint\u001b[39m(\u001b[33m\"\u001b[39m\u001b[33mSimulation completed successfully!\u001b[39m\u001b[33m\"\u001b[39m)\n\u001b[32m     23\u001b[39m \u001b[38;5;66;03m# Display final wavefield shapes and some statistics\u001b[39;00m\n",
      "\u001b[36mFile \u001b[39m\u001b[32m~/Desktop/Trabajo/pos-doc/posdoc_fernando/devito/devito/operator/operator.py:878\u001b[39m, in \u001b[36mOperator.__call__\u001b[39m\u001b[34m(self, **kwargs)\u001b[39m\n\u001b[32m    877\u001b[39m \u001b[38;5;28;01mdef\u001b[39;00m\u001b[38;5;250m \u001b[39m\u001b[34m__call__\u001b[39m(\u001b[38;5;28mself\u001b[39m, **kwargs):\n\u001b[32m--> \u001b[39m\u001b[32m878\u001b[39m     \u001b[38;5;28;01mreturn\u001b[39;00m \u001b[38;5;28;43mself\u001b[39;49m\u001b[43m.\u001b[49m\u001b[43mapply\u001b[49m\u001b[43m(\u001b[49m\u001b[43m*\u001b[49m\u001b[43m*\u001b[49m\u001b[43mkwargs\u001b[49m\u001b[43m)\u001b[49m\n",
      "\u001b[36mFile \u001b[39m\u001b[32m~/Desktop/Trabajo/pos-doc/posdoc_fernando/devito/devito/operator/operator.py:995\u001b[39m, in \u001b[36mOperator.apply\u001b[39m\u001b[34m(self, **kwargs)\u001b[39m\n\u001b[32m    993\u001b[39m \u001b[38;5;66;03m# Build the arguments list to invoke the kernel function\u001b[39;00m\n\u001b[32m    994\u001b[39m \u001b[38;5;28;01mwith\u001b[39;00m \u001b[38;5;28mself\u001b[39m._profiler.timer_on(\u001b[33m'\u001b[39m\u001b[33marguments-preprocess\u001b[39m\u001b[33m'\u001b[39m):\n\u001b[32m--> \u001b[39m\u001b[32m995\u001b[39m     args = \u001b[38;5;28;43mself\u001b[39;49m\u001b[43m.\u001b[49m\u001b[43marguments\u001b[49m\u001b[43m(\u001b[49m\u001b[43m*\u001b[49m\u001b[43m*\u001b[49m\u001b[43mkwargs\u001b[49m\u001b[43m)\u001b[49m\n\u001b[32m    996\u001b[39m \u001b[38;5;28;01mwith\u001b[39;00m switch_log_level(comm=args.comm):\n\u001b[32m    997\u001b[39m     \u001b[38;5;28mself\u001b[39m._emit_args_profiling(\u001b[33m'\u001b[39m\u001b[33marguments-preprocess\u001b[39m\u001b[33m'\u001b[39m)\n",
      "\u001b[36mFile \u001b[39m\u001b[32m~/Desktop/Trabajo/pos-doc/posdoc_fernando/devito/devito/operator/operator.py:773\u001b[39m, in \u001b[36mOperator.arguments\u001b[39m\u001b[34m(self, **kwargs)\u001b[39m\n\u001b[32m    771\u001b[39m \u001b[38;5;28;01mfor\u001b[39;00m p \u001b[38;5;129;01min\u001b[39;00m \u001b[38;5;28mself\u001b[39m.parameters:\n\u001b[32m    772\u001b[39m     \u001b[38;5;28;01mif\u001b[39;00m args.get(p.name) \u001b[38;5;129;01mis\u001b[39;00m \u001b[38;5;28;01mNone\u001b[39;00m:\n\u001b[32m--> \u001b[39m\u001b[32m773\u001b[39m         \u001b[38;5;28;01mraise\u001b[39;00m InvalidArgument(\u001b[33mf\u001b[39m\u001b[33m\"\u001b[39m\u001b[33mNo value found for parameter \u001b[39m\u001b[38;5;132;01m{\u001b[39;00mp.name\u001b[38;5;132;01m}\u001b[39;00m\u001b[33m\"\u001b[39m)\n\u001b[32m    774\u001b[39m \u001b[38;5;28;01mreturn\u001b[39;00m args\n",
      "\u001b[31mInvalidArgument\u001b[39m: No value found for parameter time_size"
     ]
    }
   ],
   "source": [
    "# Create the Devito Operator\n",
    "print(\"Creating Devito Operator...\")\n",
    "op = Operator(stage_eqs, subs=grid.spacing_map)\n",
    "\n",
    "print(\"Operator successfully created!\")\n",
    "print(f\"  Number of equations: {len(stage_eqs)}\")\n",
    "print(f\"  Grid spacing substitutions applied: {grid.spacing_map}\")\n",
    "\n",
    "# Define simulation parameters\n",
    "dt_value = 0.001    # Time step size\n",
    "time_max = 2000     # Maximum simulation time\n",
    "\n",
    "print(f\"\\nSimulation parameters:\")\n",
    "print(f\"  Time step (dt): {dt_value}\")\n",
    "print(f\"  Maximum time: {time_max}\")\n",
    "\n",
    "# Execute the simulation\n",
    "print(\"\\nRunning simulation...\")\n",
    "op(dt=dt_value, time=time_max)\n",
    "\n",
    "print(\"Simulation completed successfully!\")\n",
    "\n",
    "# Display final wavefield shapes and some statistics\n",
    "print(f\"\\nFinal wavefield statistics:\")\n",
    "for i, u in enumerate(U_multi_stage):\n",
    "    print(f\"  {fun_labels[i]}:\")\n",
    "    print(f\"    Shape: {u.data.shape}\")\n",
    "    print(f\"    Max value: {np.max(u.data):.6f}\")\n",
    "    print(f\"    Min value: {np.min(u.data):.6f}\")\n",
    "    print(f\"    Mean value: {np.mean(u.data):.6f}\")"
   ]
  },
  {
   "cell_type": "markdown",
   "id": "4e028d49",
   "metadata": {},
   "source": [
    "## 7. References\n",
    "\n",
    "\n",
    "<a id=\"ref-higham2010\"></a>\n",
    "[1] Al-Mohy AH, Higham NJ (2010) A new scaling and squaring algorithm for\n",
    "the matrix exponential. SIAM Journal on Matrix Analysis and Applications\n",
    "31(3):970–989\n",
    "\n",
    "<a id=\"ref-gottlieb2003\"></a>\n",
    "[2] Gottlieb S, Gottlieb LAJ (2003) Strong stability preserving properties of runge–kutta time discretization methods for linear constant coefficient operators. Journal of Scientific Computing 18(1):83–109"
   ]
  }
 ],
 "metadata": {
  "kernelspec": {
   "display_name": "devito_b",
   "language": "python",
   "name": "python3"
  },
  "language_info": {
   "codemirror_mode": {
    "name": "ipython",
    "version": 3
   },
   "file_extension": ".py",
   "mimetype": "text/x-python",
   "name": "python",
   "nbconvert_exporter": "python",
   "pygments_lexer": "ipython3",
   "version": "3.12.11"
  }
 },
 "nbformat": 4,
 "nbformat_minor": 5
}
