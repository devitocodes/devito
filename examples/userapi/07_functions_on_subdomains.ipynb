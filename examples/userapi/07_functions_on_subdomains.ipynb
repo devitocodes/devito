{
 "cells": [
  {
   "cell_type": "markdown",
   "id": "5dc3d720-b69a-482d-8f0d-e68582493d97",
   "metadata": {},
   "source": [
    "# Defining `Function`s on `SubDomain`s\n",
    "\n",
    "In many contexts, fields are required over only a subset of the computational `Grid`. In Devito, such fields can be implemented via the `Function`s on `SubDomain`s API, allocating arrays only over the required region of the `Grid`, thereby reducing memory consumption. This functionality is seamlessly compatible with MPI, as with any other Devito object, and these arrays are aligned with the domain decomposition under the hood.\n",
    "\n",
    "We will begin with some necessary imports."
   ]
  },
  {
   "cell_type": "code",
   "execution_count": 1,
   "id": "18dea9f5-c610-4ac3-b76a-92a339fe55af",
   "metadata": {},
   "outputs": [],
   "source": [
    "import matplotlib.pyplot as plt\n",
    "import matplotlib.animation as animation\n",
    "import numpy as np\n",
    "\n",
    "from IPython.display import HTML\n",
    "\n",
    "from devito import SubDomain, Grid, Function, Eq, Operator, \\\n",
    "    SparseFunction, ConditionalDimension, TimeFunction, solve\n",
    "from examples.seismic import TimeAxis, RickerSource, Model"
   ]
  },
  {
   "cell_type": "markdown",
   "id": "55aa5f88-cd7b-4495-af2a-1112dfdffce1",
   "metadata": {},
   "source": [
    "## Basic usage\n",
    "\n",
    "As usual, we define a subdomain template by subclassing `SubDomain` and overriding the `define` method. The `'middle'` subdomain we have defined in this case excludes two points from each side of the domain in each dimension."
   ]
  },
  {
   "cell_type": "code",
   "execution_count": 2,
   "id": "04576474-fc3d-475e-9061-ef8f32fb04c9",
   "metadata": {},
   "outputs": [],
   "source": [
    "class Middle(SubDomain):\n",
    "    name = 'middle'\n",
    "\n",
    "    def define(self, dimensions):\n",
    "        return {d: ('middle', 2, 2) for d in dimensions}"
   ]
  },
  {
   "cell_type": "markdown",
   "id": "f4ba4513-98ae-43fb-b1d8-35d9065632d0",
   "metadata": {},
   "source": [
    "We then create a `Grid` and create an instance of `Middle`. We can then use this subdomain as the computational grid when defining a `Function`. For comparison, we also create a `Function` defined on a `Grid`."
   ]
  },
  {
   "cell_type": "code",
   "execution_count": 3,
   "id": "72953a86-6714-4a50-8ea8-bd89f1d398cc",
   "metadata": {},
   "outputs": [],
   "source": [
    "grid0 = Grid(shape=(11, 11), extent=(10., 10.))\n",
    "\n",
    "middle = Middle(grid=grid0)\n",
    "\n",
    "f = Function(name='f', grid=middle)  # Define Function on SubDomain\n",
    "g = Function(name='g', grid=grid0)"
   ]
  },
  {
   "cell_type": "markdown",
   "id": "575aab51-f392-4d81-808a-5c1b41929ac5",
   "metadata": {},
   "source": [
    "Inspecting the `shape` of `f`, it is apparent that it is smaller than the `Grid` on which `middle` is defined, instead sharing its shape with `middle`."
   ]
  },
  {
   "cell_type": "code",
   "execution_count": 4,
   "id": "b8780181-67ae-44f5-aae1-2c8d396ea177",
   "metadata": {},
   "outputs": [
    {
     "data": {
      "text/plain": [
       "(7, 7)"
      ]
     },
     "execution_count": 4,
     "metadata": {},
     "output_type": "execute_result"
    }
   ],
   "source": [
    "f.shape"
   ]
  },
  {
   "cell_type": "markdown",
   "id": "96b76ecc-a369-4141-9b39-53172c5024bd",
   "metadata": {},
   "source": [
    "Furthermore, `f` has the dimensions of the `SubDomain` rather than the `Grid`."
   ]
  },
  {
   "cell_type": "code",
   "execution_count": 5,
   "id": "1b98246c-7f9b-4aa8-ac9c-1e39d4cf09bc",
   "metadata": {},
   "outputs": [
    {
     "data": {
      "text/plain": [
       "(ix, iy)"
      ]
     },
     "execution_count": 5,
     "metadata": {},
     "output_type": "execute_result"
    }
   ],
   "source": [
    "f.dimensions"
   ]
  },
  {
   "cell_type": "markdown",
   "id": "c634fd69-b8da-4601-b0aa-ee0eeed59cf2",
   "metadata": {},
   "source": [
    "By contrast, when inspecting `g`, we observe that it's shape and dimensions match those of the `Grid`."
   ]
  },
  {
   "cell_type": "code",
   "execution_count": 6,
   "id": "f7182b5a-a4d4-41f6-9a80-da4c268ce24d",
   "metadata": {},
   "outputs": [
    {
     "data": {
      "text/plain": [
       "(11, 11)"
      ]
     },
     "execution_count": 6,
     "metadata": {},
     "output_type": "execute_result"
    }
   ],
   "source": [
    "g.shape"
   ]
  },
  {
   "cell_type": "code",
   "execution_count": 7,
   "id": "dca5dff3-186a-41ea-9941-374c25eac372",
   "metadata": {},
   "outputs": [
    {
     "data": {
      "text/plain": [
       "(x, y)"
      ]
     },
     "execution_count": 7,
     "metadata": {},
     "output_type": "execute_result"
    }
   ],
   "source": [
    "g.dimensions"
   ]
  },
  {
   "cell_type": "markdown",
   "id": "ebffda79-f2df-4932-9c50-0d8089bab2f5",
   "metadata": {},
   "source": [
    "To contrast the behaviour of a `Function` defined on a `SubDomain` to one defined on a `Grid`, we implement a trivial `Operator`, setting both `f` and `g` equal to one within the `SubDomain` `middle`."
   ]
  },
  {
   "cell_type": "code",
   "execution_count": 8,
   "id": "c2a08d1c-1dc0-473d-a519-2a63d44a5b8c",
   "metadata": {},
   "outputs": [
    {
     "name": "stderr",
     "output_type": "stream",
     "text": [
      "NUMA domain count autodetection failed\n",
      "Operator `Kernel` ran in 0.01 s\n"
     ]
    },
    {
     "data": {
      "text/plain": [
       "PerformanceSummary([(PerfKey(name='section0', rank=None),\n",
       "                     PerfEntry(time=0.00026199999999999997, gflopss=0.0, gpointss=0.0, oi=0.0, ops=0, itershapes=[]))])"
      ]
     },
     "execution_count": 8,
     "metadata": {},
     "output_type": "execute_result"
    }
   ],
   "source": [
    "# Equations operating on Functions defined on SubDomains must be applied over\n",
    "# the SubDomain, or a SubDomain representing some subset thereof.\n",
    "eqf = Eq(f, 1, subdomain=middle)\n",
    "eqg = Eq(g, 1, subdomain=middle)\n",
    "\n",
    "Operator([eqf, eqg])()"
   ]
  },
  {
   "cell_type": "markdown",
   "id": "20a619ab-e43f-4818-a8d3-689647971a3b",
   "metadata": {},
   "source": [
    "Examining `f.data`, we see that it has been entirely set to one by the `Operator`. By contrast, `g.data` is only set to one in the central region."
   ]
  },
  {
   "cell_type": "code",
   "execution_count": 9,
   "id": "39d4e439-447d-4aa3-bb37-3fca330ae50b",
   "metadata": {},
   "outputs": [
    {
     "data": {
      "image/png": "[encoded data removed]",
      "text/plain": [
       "<Figure size 800x600 with 2 Axes>"
      ]
     },
     "metadata": {},
     "output_type": "display_data"
    },
    {
     "data": {
      "image/png": "[encoded data removed]",
      "text/plain": [
       "<Figure size 800x600 with 2 Axes>"
      ]
     },
     "metadata": {},
     "output_type": "display_data"
    }
   ],
   "source": [
    "# TODO: Make a plotter\n",
    "plt.imshow(f.data.T, vmin=0, vmax=3, origin='lower', extent=(1.5, 8.5, 1.5, 8.5))\n",
    "plt.colorbar()\n",
    "plt.title(\"f.data\")\n",
    "plt.xlabel(\"x (m)\")\n",
    "plt.ylabel(\"y (m)\")\n",
    "plt.show()\n",
    "\n",
    "plt.imshow(g.data.T, vmin=0, vmax=3, origin='lower', extent=(-0.5, 10.5, -0.5, 10.5))\n",
    "plt.colorbar()\n",
    "plt.title(\"g.data\")\n",
    "plt.xlabel(\"x (m)\")\n",
    "plt.ylabel(\"y (m)\")\n",
    "plt.show()"
   ]
  },
  {
   "cell_type": "markdown",
   "id": "e7ce28d1-d762-4215-9286-8667fc85ba20",
   "metadata": {},
   "source": [
    "When operating on a `Function` defined on a `SubDomain`, Devito keeps track of the alignment of the fields relative to the base `Grid`. As such, we can perform operations combining `Function`s defined on `SubDomain`s with those defined on the `Grid`. For example, we can add `f` to `g` as follows:"
   ]
  },
  {
   "cell_type": "code",
   "execution_count": 10,
   "id": "0183e285-efff-48ed-854e-f51b1a7ff590",
   "metadata": {},
   "outputs": [
    {
     "name": "stderr",
     "output_type": "stream",
     "text": [
      "Operator `Kernel` ran in 0.01 s\n"
     ]
    },
    {
     "data": {
      "text/plain": [
       "PerformanceSummary([(PerfKey(name='section0', rank=None),\n",
       "                     PerfEntry(time=5.8e-05, gflopss=0.0, gpointss=0.0, oi=0.0, ops=0, itershapes=[]))])"
      ]
     },
     "execution_count": 10,
     "metadata": {},
     "output_type": "execute_result"
    }
   ],
   "source": [
    "eqfg = Eq(g, g + f, subdomain=middle)\n",
    "Operator(eqfg)()"
   ]
  },
  {
   "cell_type": "markdown",
   "id": "d4ca0cec-8d45-49b9-872a-a9448d8c01fe",
   "metadata": {},
   "source": [
    "Plotting `g.data`, we see that the central region, corresponding to `middle`, has been incremented by the value of `f`."
   ]
  },
  {
   "cell_type": "code",
   "execution_count": 11,
   "id": "92cb6c4d-e043-43a9-9ed4-791bd8f4291f",
   "metadata": {},
   "outputs": [
    {
     "data": {
      "image/png": "[encoded data removed]",
      "text/plain": [
       "<Figure size 800x600 with 2 Axes>"
      ]
     },
     "metadata": {},
     "output_type": "display_data"
    }
   ],
   "source": [
    "plt.imshow(g.data.T, vmin=0, vmax=3, origin='lower', extent=(-0.5, 10.5, -0.5, 10.5))\n",
    "plt.colorbar()\n",
    "plt.title(\"g.data\")\n",
    "plt.xlabel(\"x (m)\")\n",
    "plt.ylabel(\"y (m)\")\n",
    "plt.show()"
   ]
  },
  {
   "cell_type": "markdown",
   "id": "b5093b05-e715-4378-9522-a5855fae0cd7",
   "metadata": {},
   "source": [
    "Note that we need not only iterate over the `SubDomain` on which our `Function` is defined. One can also iterate over any subset of this `SubDomain`. In this case, we define a new `Left` domain, alongside `Intersection`, which is the intersection of `Left` and `Middle`. We then define another `Function` `h` on `left`."
   ]
  },
  {
   "cell_type": "code",
   "execution_count": 12,
   "id": "991d6e39-d388-453f-8977-a9fe99f9cba3",
   "metadata": {},
   "outputs": [],
   "source": [
    "class Left(SubDomain):\n",
    "    name = 'left'\n",
    "\n",
    "    def define(self, dimensions):\n",
    "        x, y = dimensions\n",
    "        return {x: ('left', 6), y: y}\n",
    "\n",
    "\n",
    "class Intersection(SubDomain):\n",
    "    # Intersection of Left and Middle\n",
    "    name = 'intersection'\n",
    "\n",
    "    def define(self, dimensions):\n",
    "        x, y = dimensions\n",
    "        return {x: ('middle', 2, 5), y: ('middle', 2, 2)}\n",
    "\n",
    "\n",
    "# Create the SubDomain instances\n",
    "left = Left(grid=grid0)\n",
    "intersection = Intersection(grid=grid0)\n",
    "\n",
    "h = Function(name='h', grid=left)\n",
    "h.data[:] = 1"
   ]
  },
  {
   "cell_type": "markdown",
   "id": "dd1bf872-0074-4057-a3de-baeff8379962",
   "metadata": {},
   "source": [
    "Printing `h.shape`, we see that its size is also smaller than that of the `Grid`."
   ]
  },
  {
   "cell_type": "code",
   "execution_count": 13,
   "id": "0d61fd74-d283-403b-b4da-7da883555ad3",
   "metadata": {},
   "outputs": [
    {
     "data": {
      "text/plain": [
       "(6, 11)"
      ]
     },
     "execution_count": 13,
     "metadata": {},
     "output_type": "execute_result"
    }
   ],
   "source": [
    "h.shape"
   ]
  },
  {
   "cell_type": "markdown",
   "id": "87dbd8a9-a9bd-4701-bae7-c87339995a8e",
   "metadata": {},
   "source": [
    "We can then define equations which act over the intersection of `Middle` and `Left`. These equations can operate on any of the `Function`s defined thus far."
   ]
  },
  {
   "cell_type": "code",
   "execution_count": 14,
   "id": "607c8144-57d3-4830-9d03-abd93f9c6a34",
   "metadata": {},
   "outputs": [
    {
     "name": "stderr",
     "output_type": "stream",
     "text": [
      "Operator `Kernel` ran in 0.01 s\n"
     ]
    },
    {
     "data": {
      "text/plain": [
       "PerformanceSummary([(PerfKey(name='section0', rank=None),\n",
       "                     PerfEntry(time=5.9e-05, gflopss=0.0, gpointss=0.0, oi=0.0, ops=0, itershapes=[]))])"
      ]
     },
     "execution_count": 14,
     "metadata": {},
     "output_type": "execute_result"
    }
   ],
   "source": [
    "# Add h (defined on Left) to g (defined on Grid) over Intersection, and store result in g\n",
    "eqgh = Eq(g, g + h, subdomain=intersection)\n",
    "# Add h (defined on Left) to f (defined on Middle) over Intersection, and store result in f\n",
    "eqfh = Eq(f, f + h, subdomain=intersection)\n",
    "\n",
    "Operator([eqgh, eqfh])()"
   ]
  },
  {
   "cell_type": "markdown",
   "id": "bd0d9c5f-b3b0-4956-a7e5-7c66d58b0442",
   "metadata": {},
   "source": [
    "Plotting both `g` and `f`, we observe that both have been incremented by one (the value stored in`h`) over the intersection."
   ]
  },
  {
   "cell_type": "code",
   "execution_count": 15,
   "id": "23032351-8604-4502-94b7-5a48a35533d5",
   "metadata": {},
   "outputs": [
    {
     "data": {
      "image/png": "[encoded data removed]",
      "text/plain": [
       "<Figure size 800x600 with 2 Axes>"
      ]
     },
     "metadata": {},
     "output_type": "display_data"
    },
    {
     "data": {
      "image/png": "[encoded data removed]",
      "text/plain": [
       "<Figure size 800x600 with 2 Axes>"
      ]
     },
     "metadata": {},
     "output_type": "display_data"
    }
   ],
   "source": [
    "plt.imshow(g.data.T, vmin=0, vmax=3, origin='lower', extent=(-0.5, 10.5, -0.5, 10.5))\n",
    "plt.colorbar()\n",
    "plt.title(\"g.data\")\n",
    "plt.xlabel(\"x (m)\")\n",
    "plt.ylabel(\"y (m)\")\n",
    "plt.show()\n",
    "\n",
    "plt.imshow(f.data.T, vmin=0, vmax=3, origin='lower', extent=(1.5, 8.5, 1.5, 8.5))\n",
    "plt.colorbar()\n",
    "plt.title(\"f.data\")\n",
    "plt.xlabel(\"x (m)\")\n",
    "plt.ylabel(\"y (m)\")\n",
    "plt.show()"
   ]
  },
  {
   "cell_type": "markdown",
   "id": "38a4f735-6f85-40e3-b57e-41f891b5db15",
   "metadata": {},
   "source": [
    "Finally, we can also take values from a `Function` defined on the `Grid`, operate on them, and store them in a `Function` defined on a `SubDomain`."
   ]
  },
  {
   "cell_type": "code",
   "execution_count": 16,
   "id": "389d08b3-f3da-4b51-9e40-3fd5f2ee074c",
   "metadata": {},
   "outputs": [
    {
     "name": "stderr",
     "output_type": "stream",
     "text": [
      "Operator `Kernel` ran in 0.01 s\n"
     ]
    },
    {
     "data": {
      "text/plain": [
       "PerformanceSummary([(PerfKey(name='section0', rank=None),\n",
       "                     PerfEntry(time=8.8e-05, gflopss=0.0, gpointss=0.0, oi=0.0, ops=0, itershapes=[]))])"
      ]
     },
     "execution_count": 16,
     "metadata": {},
     "output_type": "execute_result"
    }
   ],
   "source": [
    "eqgf = Eq(f, g, subdomain=middle)\n",
    "Operator(eqgf)()"
   ]
  },
  {
   "cell_type": "markdown",
   "id": "1e6a4057-4762-4bd1-a65a-e96a64e490df",
   "metadata": {},
   "source": [
    "Note that `f` now contains the same values as the central region of `g`."
   ]
  },
  {
   "cell_type": "code",
   "execution_count": 17,
   "id": "34fe2d36-f662-45cf-af71-442998121dff",
   "metadata": {},
   "outputs": [
    {
     "data": {
      "image/png": "[encoded data removed]",
      "text/plain": [
       "<Figure size 800x600 with 2 Axes>"
      ]
     },
     "metadata": {},
     "output_type": "display_data"
    }
   ],
   "source": [
    "plt.imshow(f.data.T, vmin=0, vmax=3, origin='lower', extent=(1.5, 8.5, 1.5, 8.5))\n",
    "plt.colorbar()\n",
    "plt.title(\"f.data\")\n",
    "plt.xlabel(\"x (m)\")\n",
    "plt.ylabel(\"y (m)\")\n",
    "plt.show()"
   ]
  },
  {
   "cell_type": "markdown",
   "id": "a76ab90f-0f26-433d-a7fc-9185dcec3f38",
   "metadata": {},
   "source": [
    "## Sparse operations\n",
    "\n",
    "Similarly, one can perform sparse operations such as injection into or interpolation off of `Function`s defined on `SubDomain`s. This is performed as per the usual interface. Note however that the operation will be windowed to the `SubDomain`, not the `Grid`, even if it involves the interpolation of an expression featuring both `Function`s defined on a `SubDomain` and those defined on a `Grid`. This is because such an operation would be undefined outside a `SubDomain`.\n",
    "\n",
    "We begin by constructing a `SparseFunction`."
   ]
  },
  {
   "cell_type": "code",
   "execution_count": 18,
   "id": "20fcba8f-60fa-4ec0-b3e7-a8ffda985e74",
   "metadata": {},
   "outputs": [],
   "source": [
    "srcrec = SparseFunction(name='srcrec', grid=grid0, npoint=1)\n",
    "srcrec.coordinates.data[:] = np.array([[3., 3.]])"
   ]
  },
  {
   "cell_type": "markdown",
   "id": "3deba198-84be-413c-8768-5f515f5373de",
   "metadata": {},
   "source": [
    "A simple interpolation operator is constructed as follows:"
   ]
  },
  {
   "cell_type": "code",
   "execution_count": 19,
   "id": "eb06b86f-7e0e-4bf4-9471-a7d47a05193c",
   "metadata": {},
   "outputs": [
    {
     "name": "stderr",
     "output_type": "stream",
     "text": [
      "Operator `Kernel` ran in 0.01 s\n"
     ]
    },
    {
     "data": {
      "text/plain": [
       "PerformanceSummary([(PerfKey(name='section0', rank=None),\n",
       "                     PerfEntry(time=7.5e-05, gflopss=0.0, gpointss=0.0, oi=0.0, ops=0, itershapes=[]))])"
      ]
     },
     "execution_count": 19,
     "metadata": {},
     "output_type": "execute_result"
    }
   ],
   "source": [
    "rec = srcrec.interpolate(expr=f)\n",
    "Operator(rec)()"
   ]
  },
  {
   "cell_type": "markdown",
   "id": "fcc65a64-6076-40dc-8e61-e353931aca92",
   "metadata": {},
   "source": [
    "Printing `srcrec.data`, it is apparent that it now contains the value interpolated off of `f`."
   ]
  },
  {
   "cell_type": "code",
   "execution_count": 20,
   "id": "b8a767e3-1a86-4388-ba88-9ee7fb955e79",
   "metadata": {},
   "outputs": [
    {
     "data": {
      "text/plain": [
       "Data([3.], dtype=float32)"
      ]
     },
     "execution_count": 20,
     "metadata": {},
     "output_type": "execute_result"
    }
   ],
   "source": [
    "srcrec.data"
   ]
  },
  {
   "cell_type": "markdown",
   "id": "1bd994b2-3e4a-4403-9c8a-78c64bb42633",
   "metadata": {},
   "source": [
    "As aforementioned, one can also interpolate an expression featuring `Function`s defined on both the `Grid` and a `SubDomain. This can be straightforwardly achieved as follows:"
   ]
  },
  {
   "cell_type": "code",
   "execution_count": 21,
   "id": "8437c015-1214-424a-a33a-e3bb7761ba07",
   "metadata": {},
   "outputs": [
    {
     "name": "stderr",
     "output_type": "stream",
     "text": [
      "Operator `Kernel` ran in 0.01 s\n"
     ]
    },
    {
     "data": {
      "text/plain": [
       "PerformanceSummary([(PerfKey(name='section0', rank=None),\n",
       "                     PerfEntry(time=7.099999999999999e-05, gflopss=0.0, gpointss=0.0, oi=0.0, ops=0, itershapes=[]))])"
      ]
     },
     "execution_count": 21,
     "metadata": {},
     "output_type": "execute_result"
    }
   ],
   "source": [
    "rec = srcrec.interpolate(expr=f+g)\n",
    "Operator(rec)()"
   ]
  },
  {
   "cell_type": "markdown",
   "id": "f05d13c7-a7c5-4317-81f4-d31047fd5073",
   "metadata": {},
   "source": [
    "Note that since one of our previous operators set `f` equal to `g` over `Middle`, `srcrec.data` is now equal to 6."
   ]
  },
  {
   "cell_type": "code",
   "execution_count": 22,
   "id": "02ac1bad-1850-4629-8bc9-c6b63f81d40d",
   "metadata": {},
   "outputs": [
    {
     "data": {
      "text/plain": [
       "Data([6.], dtype=float32)"
      ]
     },
     "execution_count": 22,
     "metadata": {},
     "output_type": "execute_result"
    }
   ],
   "source": [
    "srcrec.data"
   ]
  },
  {
   "cell_type": "markdown",
   "id": "1c1d4f72-bd09-43c2-a85b-e254eeb7629b",
   "metadata": {},
   "source": [
    "We can also inject into a `Function` defined on a `SubDomain`."
   ]
  },
  {
   "cell_type": "code",
   "execution_count": 23,
   "id": "dcedc341-8318-46f5-9866-9cfcd323f75b",
   "metadata": {},
   "outputs": [
    {
     "name": "stderr",
     "output_type": "stream",
     "text": [
      "Operator `Kernel` ran in 0.01 s\n"
     ]
    },
    {
     "data": {
      "text/plain": [
       "PerformanceSummary([(PerfKey(name='section0', rank=None),\n",
       "                     PerfEntry(time=7.2e-05, gflopss=0.0, gpointss=0.0, oi=0.0, ops=0, itershapes=[]))])"
      ]
     },
     "execution_count": 23,
     "metadata": {},
     "output_type": "execute_result"
    }
   ],
   "source": [
    "src = srcrec.inject(field=h, expr=1)\n",
    "Operator(src)()"
   ]
  },
  {
   "cell_type": "markdown",
   "id": "809590b4-7802-4fa7-ac04-333bb2fa5c16",
   "metadata": {},
   "source": [
    "Plotting `h.data`, we see that a value of 1 has been injected. It is also apparent that this injection is aligned with the global grid."
   ]
  },
  {
   "cell_type": "code",
   "execution_count": 24,
   "id": "ddc63593-5c35-44d2-ad0e-4159ac952a83",
   "metadata": {},
   "outputs": [
    {
     "data": {
      "image/png": "[encoded data removed]",
      "text/plain": [
       "<Figure size 800x600 with 2 Axes>"
      ]
     },
     "metadata": {},
     "output_type": "display_data"
    }
   ],
   "source": [
    "plt.imshow(h.data.T, vmin=0, vmax=3, origin='lower', extent=(-0.5, 5.5, -0.5, 10.5))\n",
    "plt.colorbar()\n",
    "plt.title(\"h.data\")\n",
    "plt.xlabel(\"x (m)\")\n",
    "plt.ylabel(\"y (m)\")\n",
    "plt.show()"
   ]
  },
  {
   "cell_type": "markdown",
   "id": "22b09c56-676b-473e-b858-513eaab34558",
   "metadata": {},
   "source": [
    "## Snapshotting on a subset of a domain\n",
    "\n",
    "We will now consider a practical application of this functionality. In many applications, it is necessary to capture snapshots of a simulation as it progresses. However, such snapshots may not be needed over the entirety of the domain. We can use a `Function` defined on the subset of the domain that we aim to capture to minimize the size of the arrays allocated.\n",
    "\n",
    "In this case, we will consider the snapshotting of a seismic wavefield. In imaging workflows, there is no need to calculate an imaging condition in the water column, and thus no need to store snapshots of this portion of the domain."
   ]
  },
  {
   "cell_type": "code",
   "execution_count": 25,
   "id": "9f1563e1-2a7b-418f-a169-94f44d4cb872",
   "metadata": {},
   "outputs": [],
   "source": [
    "origin = (0., 0.)\n",
    "shape = (201, 201)\n",
    "spacing = (5., 5.)\n",
    "extent = tuple((sh-1)*sp for sh, sp in zip(shape, spacing))\n",
    "\n",
    "# Layered model\n",
    "vp = np.full(shape, 1.5)\n",
    "for i in range(6):\n",
    "    vp[:, 50+i*25:] += 0.3"
   ]
  },
  {
   "cell_type": "code",
   "execution_count": 26,
   "id": "93511193-75cb-4f17-a8db-4f5498bc4736",
   "metadata": {},
   "outputs": [
    {
     "name": "stderr",
     "output_type": "stream",
     "text": [
      "Operator `initdamp` ran in 0.01 s\n"
     ]
    },
    {
     "data": {
      "image/png": "[encoded data removed]",
      "text/plain": [
       "<Figure size 800x600 with 2 Axes>"
      ]
     },
     "metadata": {},
     "output_type": "display_data"
    }
   ],
   "source": [
    "model = Model(vp=vp, origin=origin, shape=shape, spacing=spacing,\n",
    "              space_order=2, nbl=20, bcs=\"damp\")\n",
    "\n",
    "plt.imshow(model.vp.data.T, extent=(-100, 1100., 1100., -100.))\n",
    "plt.plot((0, 1000, 1000, 0, 0), (0, 0, 1000, 1000, 0), 'k', label=\"Main Domain\")\n",
    "plt.plot((0, 1000, 1000, 0, 0), (245, 245, 1000, 1000, 245), 'r--', label=\"Snapshotting Region\")\n",
    "plt.legend(loc='lower left')\n",
    "plt.colorbar()\n",
    "plt.xlabel(\"x (m)\")\n",
    "plt.ylabel(\"z (m)\")\n",
    "plt.show()"
   ]
  },
  {
   "cell_type": "code",
   "execution_count": 27,
   "id": "2c011930-791c-4dd9-8a1a-e981bea1aebe",
   "metadata": {},
   "outputs": [],
   "source": [
    "class SnapshotDomain(SubDomain):\n",
    "    name = 'snapshot'\n",
    "\n",
    "    def define(self, dimensions):\n",
    "        x, y = dimensions\n",
    "        # Exclude damping layers and water column\n",
    "        return {x: ('middle', 20, 20), y: ('middle', 70, 20)}\n",
    "\n",
    "\n",
    "snapshotdomain = SnapshotDomain(grid=model.grid)"
   ]
  },
  {
   "cell_type": "code",
   "execution_count": 28,
   "id": "cebb2646-f12e-4e95-9810-a127087e777f",
   "metadata": {},
   "outputs": [
    {
     "name": "stderr",
     "output_type": "stream",
     "text": [
      "Operator `Kernel` ran in 0.01 s\n"
     ]
    },
    {
     "data": {
      "image/png": "[encoded data removed]",
      "text/plain": [
       "<Figure size 800x600 with 2 Axes>"
      ]
     },
     "metadata": {},
     "output_type": "display_data"
    }
   ],
   "source": [
    "# Make a Function and set it equal to one to check the alignment of subdomain\n",
    "testfunc = Function(name='testfunc', grid=model.grid)\n",
    "Operator(Eq(testfunc, 1, subdomain=snapshotdomain))()\n",
    "\n",
    "plt.imshow(testfunc.data.T, extent=(-100, 1100., 1100., -100.))\n",
    "plt.plot((0, 1000, 1000, 0, 0), (0, 0, 1000, 1000, 0), 'k', label=\"Main Domain\")\n",
    "plt.plot((0, 1000, 1000, 0, 0), (245, 245, 1000, 1000, 245), 'r--', label=\"Snapshotting Region\")\n",
    "plt.legend(loc='lower left')\n",
    "plt.colorbar()\n",
    "plt.xlabel(\"x (m)\")\n",
    "plt.ylabel(\"z (m)\")\n",
    "plt.show()"
   ]
  },
  {
   "cell_type": "code",
   "execution_count": 29,
   "id": "130ec297-aa15-4d5a-b9c0-e66cb5a5d508",
   "metadata": {},
   "outputs": [],
   "source": [
    "# Set time range, source, source coordinates and receiver coordinates\n",
    "t0 = 0.  # Simulation starts a t=0\n",
    "tn = 500.  # Simulation lasts tn milliseconds\n",
    "dt = 0.8*model.critical_dt  # Time step from model grid spacing\n",
    "time_range = TimeAxis(start=t0, stop=tn, step=dt)\n",
    "nt = time_range.num  # number of time steps\n",
    "\n",
    "f0 = 0.040  # Source peak frequency is 10Hz (0.010 kHz)\n",
    "src = RickerSource(name='src', grid=model.grid, f0=f0, time_range=time_range)  \n",
    "\n",
    "src.coordinates.data[0, :] = np.array(model.domain_size) * .5\n",
    "src.coordinates.data[0, -1] = 20.  # Depth is 20m"
   ]
  },
  {
   "cell_type": "code",
   "execution_count": 30,
   "id": "29d5813d-e2cc-4448-befb-294c4a41b761",
   "metadata": {},
   "outputs": [],
   "source": [
    "nsnaps = 30\n",
    "factor = round(nt/nsnaps)\n",
    "\n",
    "time_subsampled = ConditionalDimension('t_sub', parent=model.grid.time_dim, factor=factor)\n",
    "\n",
    "usave = TimeFunction(name='usave', grid=snapshotdomain, time_order=2, space_order=2,\n",
    "                     save=nsnaps, time_dim=time_subsampled)\n",
    "\n",
    "# \"Normal\" snapshotting for comparison\n",
    "usavegrid = TimeFunction(name='usavegrid', grid=model.grid, time_order=2, space_order=2,\n",
    "                         save=nsnaps, time_dim=time_subsampled)"
   ]
  },
  {
   "cell_type": "code",
   "execution_count": 31,
   "id": "45b54425-2973-41a3-983e-fa6923e56335",
   "metadata": {},
   "outputs": [
    {
     "name": "stdout",
     "output_type": "stream",
     "text": [
      "Using `Function`s on `SubDomain`s for this snapshot reduces memory requirements by 47.06%\n"
     ]
    }
   ],
   "source": [
    "memreduction = round(float(100*(usavegrid.size - usave.size)/usavegrid.size), 2)\n",
    "\n",
    "print(f\"Using `Function`s on `SubDomain`s for this snapshot reduces memory requirements by {memreduction}%\")"
   ]
  },
  {
   "cell_type": "code",
   "execution_count": 32,
   "id": "783e37b8-1e17-4cd3-ad15-5cee35beb70f",
   "metadata": {},
   "outputs": [
    {
     "name": "stderr",
     "output_type": "stream",
     "text": [
      "Operator `Kernel` ran in 0.10 s\n"
     ]
    },
    {
     "data": {
      "text/plain": [
       "PerformanceSummary([(PerfKey(name='section0', rank=None),\n",
       "                     PerfEntry(time=0.04995899999999993, gflopss=0.0, gpointss=0.0, oi=0.0, ops=0, itershapes=[])),\n",
       "                    (PerfKey(name='section1', rank=None),\n",
       "                     PerfEntry(time=0.03899600000000002, gflopss=0.0, gpointss=0.0, oi=0.0, ops=0, itershapes=[])),\n",
       "                    (PerfKey(name='section2', rank=None),\n",
       "                     PerfEntry(time=0.0017959999999999999, gflopss=0.0, gpointss=0.0, oi=0.0, ops=0, itershapes=[])),\n",
       "                    (PerfKey(name='section3', rank=None),\n",
       "                     PerfEntry(time=0.001967, gflopss=0.0, gpointss=0.0, oi=0.0, ops=0, itershapes=[]))])"
      ]
     },
     "execution_count": 32,
     "metadata": {},
     "output_type": "execute_result"
    }
   ],
   "source": [
    "u = TimeFunction(name=\"u\", grid=model.grid, time_order=2, space_order=8)\n",
    "\n",
    "pde = model.m * u.dt2 - u.laplace + model.damp * u.dt\n",
    "stencil = Eq(u.forward, solve(pde, u.forward))\n",
    "src_term = src.inject(field=u.forward, expr=src)\n",
    "\n",
    "# Save both \"normal\" and subdomain snapshots for comparison\n",
    "op = Operator([stencil] + src_term + [Eq(usave, u, subdomain=snapshotdomain), Eq(usavegrid, u)])\n",
    "op.apply(t_M=nt-2, dt=dt)"
   ]
  },
  {
   "cell_type": "code",
   "execution_count": 33,
   "id": "ba74a16c-c19a-463e-8d85-c38baffd093a",
   "metadata": {},
   "outputs": [
    {
     "data": {
      "text/html": [
       "<video width=\"800\" height=\"600\" controls autoplay loop>\n",
       "  <source type=\"video/mp4\" src=\"data:video/mp4;base64,AAAAIGZ0eXBNNFYgAAACAE00ViBpc29taXNvMmF2YzEAAAAIZnJlZQABDsxtZGF0AAACrwYF//+r\n",
       "3EXpvebZSLeWLNgg2SPu73gyNjQgLSBjb3JlIDE2NCByMzEwOCAzMWUxOWY5IC0gSC4yNjQvTVBF\n",
       "Ry00IEFWQyBjb2RlYyAtIENvcHlsZWZ0IDIwMDMtMjAyMyAtIGh0dHA6Ly93d3cudmlkZW9sYW4u\n",
       "b3JnL3gyNjQuaHRtbCAtIG9wdGlvbnM6IGNhYmFjPTEgcmVmPTMgZGVibG9jaz0xOjA6MCBhbmFs\n",
       "eXNlPTB4MzoweDExMyBtZT1oZXggc3VibWU9NyBwc3k9MSBwc3lfcmQ9MS4wMDowLjAwIG1peGVk\n",
       "X3JlZj0xIG1lX3JhbmdlPTE2IGNocm9tYV9tZT0xIHRyZWxsaXM9MSA4eDhkY3Q9MSBjcW09MCBk\n",
       "ZWFkem9uZT0yMSwxMSBmYXN0X3Bza2lwPTEgY2hyb21hX3FwX29mZnNldD0tMiB0aHJlYWRzPTE4\n",
       "IGxvb2thaGVhZF90aHJlYWRzPTMgc2xpY2VkX3RocmVhZHM9MCBucj0wIGRlY2ltYXRlPTEgaW50\n",
       "ZXJsYWNlZD0wIGJsdXJheV9jb21wYXQ9MCBjb25zdHJhaW5lZF9pbnRyYT0wIGJmcmFtZXM9MyBi\n",
       "X3B5cmFtaWQ9MiBiX2FkYXB0PTEgYl9iaWFzPTAgZGlyZWN0PTEgd2VpZ2h0Yj0xIG9wZW5fZ29w\n",
       "PTAgd2VpZ2h0cD0yIGtleWludD0yNTAga2V5aW50X21pbj0xMCBzY2VuZWN1dD00MCBpbnRyYV9y\n",
       "ZWZyZXNoPTAgcmNfbG9va2FoZWFkPTQwIHJjPWNyZiBtYnRyZWU9MSBjcmY9MjMuMCBxY29tcD0w\n",
       "LjYwIHFwbWluPTAgcXBtYXg9NjkgcXBzdGVwPTQgaXBfcmF0aW89MS40MCBhcT0xOjEuMDAAgAAA\n",
       "LPpliIQAEP/+94G/MstfIrrJcfnnfSyszzzkPHJdia640AAAAwAAAwAAAwAiwrDsX4Uczmo6AAAD\n",
       "AAegAW4BjUekvBgEfAA116cdIQXPxX0PQkS3l+P/g7tYW5phupX0wHqY3ug/30cFQ41KL+3704Ht\n",
       "b3ZgZtK6VQZ/XFMIvxQAAC6IYcYQjNPi9LeJnqMEGVJXwEm1b5i8jl3d1t6Sbq0+YrfZ+8SQ8vKh\n",
       "85we5xdzwvcP+UD/ee5TRfwLJAne8pm8NaARdSOpkIdoEGFMkwMbNLQjymMwua4xdbnIFD/zUBpJ\n",
       "uMCHXY6N4r/4GyHz5NPAMWpEK+pzcEdb25RXI+/MSqAM7hrqD5QHcjcOGH0zVHLtYVLF7UYXfYwO\n",
       "93lGG/yQOxstaqvd4JnZxB4qjqsBU54ZlwRP7rl6inVSzSBMxRIk59aSAJgc76msZ4fg6iFJwu2Q\n",
       "tcuT93ByZqK38GBqABcgVIGvOIwSzL00fbarzy3vdT5rBOxJ6wZjmQzGefkKZvTcs2UklwzsaiRp\n",
       "qaIoNEZjDf+ZglaojGGGrJIbv01iP9WNn0Ks+92wgdUKjh1TCkR9/2/CFPTu/JPChJP3FLjFfxpB\n",
       "Q/D3hIa81f23KhE2iA452Ri37Km9ftBiYxRe7qKWCLRmQ+43RCJ8vFLNRbI/LM66EOORsoCjuh5n\n",
       "Q8p0YUcG3DhXYDImu2Me178jTaCXllKPRw6X7f40bBFqg96rf6rEGgvAfJTEnO/C8TamgIrG+PMI\n",
       "Y+0QeMxA31tj6MpkrqDE4aT+lxzAArwV0dTM++PRJmsLSZEs8E11m6nKF9uZj4HnMepZXPsmbq4/\n",
       "cZnPxx0Z1HsBGbey6v+w0OiVO7mhwzCnlZFZFwxMS71B5w2oV+KAIip85uyHsGGlk5uYUafRdQsN\n",
       "H7haOB0wSPG80FnBgx0F7O9zQYg4VuYA4CLWURozC+PgVg9CGnxEUnOMUkbGCmyFadYvzfsVZZVE\n",
       "rCWX+n8Y2wIQCGqK5m6QE5bvhi69SrrxKgNfcCFHx59/PoClp/vXalpF+i4IkhDlcEMeVezWrxxK\n",
       "YUksJuey7BXpEVLM4NkFPlEYO4xaj43cbtrVmsmiAFC2gp6GzpmYT8RYsIxOXmsXQs9e3//fXzwE\n",
       "NvgSWKpY396Vc9KF+VMKdFHQB/kAEqff1o4tcp9l5ATRZRz3awZN3qBi+fKeZPXQK2So7yJ/uF3m\n",
       "sPcEJ6DJcutXd0tbQk96TrZuBeJltHnNlyvpGDoAEEne9qvTgxuC7vr7GSwHqc1qh8pr3z0UTU/Y\n",
       "Pm8jaZQv0L2KgBw5fUCRLnfkzJYVL/2j4zpns5j0ui+fGMruvzP+47Bcxk1mCXFJvgEEhO0MpiMo\n",
       "EnBbfbTwRkDORNLlMPAVs6n2cZ8XVprU0iMQl+z7WAbqdcbJDVqA8MLxfUMDt0Fpj3bsVVjekmTD\n",
       "FI3wSOGw8aayZ7xorgU8DK6+Rt4gJtoqB6CWuJlZvqZgYxQ98KfiCCgfuD9cFSjXRVF3V6cLiKpT\n",
       "nLaWxqSol8AHbaz/bKSzly2CfrJT9J2zFfsLMfYt+YHwjSqReroxPvDQnSNW5GD1q6hZY1ljZC4i\n",
       "Rugx/8Klel21a/lRx912FrWfm26v3qjaoodn8DGr0Fpm0qRXF5TXvzeC2Vn+IIrA3cNjf0EySYxZ\n",
       "VRWlkIvHcNDygcvNLvOX4VZSWFi3COer7ipky5cFKRUcF/Jzr1khZvNhzEs8jX+iw9ugU1JshCkX\n",
       "HziLKA6/cNoeJYuj6K/kUaYQa4DRtOf8xFysJTmptUxdRqmOwn9BwfSmwHhYULlnsJMEvmKKQ/RY\n",
       "Yl8NWb+8Wv+wZcLVsp0vGIKCZSazH5mYQlqgc906EHkDDodUc4R+lg6nIf3cHSJYy8I6n825JT2q\n",
       "v0hwqnZhDMrpPcbiD8904kql0BCHMyHYKpku/0ch2yVw2flOqqOe6/zWR7k3bgWBZ0VLSibKJWXW\n",
       "nSoJSiYFjCYG0PBi3IYmKUA5r9t0iWY+wuLUKIKvKDjwGI+6fpfBRs+z5Ipyrjtb/71JapUzekk9\n",
       "p9OCG+SQPuY1W9Il5+LTcFQmZ98jwv7QDuKY00bPIMNxB9OFuAD45gJUAVnqVjAvVgMCfkv0J9vU\n",
       "wg/f5qsIbO/0EKUS2hyW576XHjIvIHsOBQ4eGnxIyIPuKVEQaLpaLqJUoQnH7rwuxe36BgybKvpJ\n",
       "jd79wbsr1bWrdsapTQdoywRGt/it7yrpovMGxdNAHullrbTdmEZjhPRiGpsRjt9m01ozciGRpyok\n",
       "rwmmtZQZYlBfZCymUjnfVW1MmtvlLMhfT2pUCgszO5RHQpczucA1IYu46W/BYSBS3U1C0cPxF1N4\n",
       "cZUqNnk83T2Kz0QIXeIUf9EFz6qMOPXHlyl+Kiske+8r7cJ0wpTQtd94Jh+DaLAwgcc1q6oSQ7uo\n",
       "c5e3K+6C9Rl49ogi2jShf8H4rxso9UYwgHV0CSy32oL24L0swHZeDAqCN8pcx/yN6apk1rtdVeTs\n",
       "ZQuBsIhOfOiCwzF92vVaDRK9nhgn89wxcWF9XbFIQf4Qw8qwb/I8ecBVtWiwxbcYl/mQAHCQ9kNF\n",
       "J/ez0AcFqk1tz4H3bhdGVfF6HwL0Ad+MFJBnD0lYuRf9b17DPcYaFLlQA2293BBd0shVO/PYoeIj\n",
       "Btn7RWijwULSw0pvuac+pI99Ock3E4Oi96sKgnNNjKII07DOut3bYlKv+WjZTYtoHuK3DOwyizLJ\n",
       "b/gKVSY9tDG6UWuYSWqtFqHESrbTqG41b06q/Pj4ofRaH2CyINbfSYY8jXv2T6zcno0nHlMrzF7V\n",
       "ItEv4gqjfxAgCh0YpVVetHcwDkDrBSQy13SW4Mlcr+/nRdaOltVCtZ9zo7cebcggR5F2sI5p3Lb7\n",
       "mnX1/cYcd14E2JOZ68tCXdvns3j4eRtMuOPRtHWle1EQAmJ5XbCLwGj+EBHMas+afi7wZUxkX7jj\n",
       "kIuH1nOAo3f/6enp8AbcN3UH8BXphhWzU2TFruxH/8xMD3hSaBJclobE3bVw1EYJZ5SWgtyjHA2f\n",
       "GDpZm9d1dFSmSHlBcIGItaGIOgnI2KLzTzmHTCoG5YyNn18qx6K6vWTIhhj+uii1+CRbxaJVLrvb\n",
       "XC82oiA6DpW0dsh6mu278gKkM/Y4PTJCKOEgaTVoRX6DHhFibOtKD9tkC1R+YsyNFhncMLiE25mG\n",
       "1pr06z/SOCtOl1MdN2tCoDCcpIGs0RSIH/m8wYRDlfqKsdDfy4L8Txg/WmsLRh4V+I4aBWVi6W39\n",
       "aZVWq2hufAJylQl0tBkOER1++cTL/kJss2epiuXQMqMqTf/0LDdc8/2IMjSr+CXkyNOzszhWX05i\n",
       "PqcWSSgAAAMAAAMAAAMACCrJCy3z2q2x30crsHTLFhsft2uroOJx60Ahzr1hDbsf//0MPOHsfxX+\n",
       "QBQKxcc//l/GV0SCJdw2JXPez/U/Ge1X43nfa06yI/kfs+XLtpJYC1Z0cQ6/RukZ5AAAnv3sDFNk\n",
       "xplSuAHrg7Tx/CXTUClpNLwiD8oLUPevizNs45x7uJT6jZOdohqj3h3yo3MPxQEQh7CQNepNOzKQ\n",
       "pyVMdWITFur3dS7eUVZxTQH9uKrujXm0X14SC7aWVjOu1H2PHutDPAndKDXIBhAjgz+RdNB6tpI7\n",
       "3dUMyopj9jQFWn89ZAAPgobB7m9ja5CpP9ZDejR563u8YOpddPd/RbQ8Kxy/QsEtR1oSGpxEal5n\n",
       "+xA/tVv308G5pfa0K4pBJ2LfP/4kkzY+GXOzQ2X9P9oYAx2MVx8mrKRKsaT2MswijDgEh6Yb6P6v\n",
       "i8VG0FJvgYz02JuvIFJ5iARzRnCMoQP4IITV3kSR3BeZLlkabFdAmBHmRKuNlY+cYDM7ZVXog9J3\n",
       "TvdDClkgj9Ki6U0UynJhIKVjPoRSba3I4CjkYjmkQXoiaKgIcT5B8niYLxfxoCNYmzuAnXeFkD7G\n",
       "XnrgafOKvylL/rMB1n5nUZ8J2A1udvP25LCoXW/fOZo6a401UsP2OG8YPEY6+YHRmvgqX2Y+J1/9\n",
       "bovU0NtWs+gTPES2NuiPyPhUkIpoNDto7yf8NxGUh5npVjMHAiqF0KkqwHfofr9ttQHv7tksp2JI\n",
       "OjRQeihYIGHITD9th9Y/Zc44DPpPWeUpRctc6i5JD2PYO/xZ+NY4+RXaQHHEBQHMLm9e7d2haUe6\n",
       "Wyxg15PWQxJr/NqHOT9Tlqei20poWjCBmzubldQEHDmWOZt02jqpEgemEyxkbtWmiflSkKLwPWnb\n",
       "Df0hYbKQGjSd0rtUEINX/7TymkbAGlXnquINrrVIx9YmTcRota06BjJFnuDgnakghkT2Q/XAu0OB\n",
       "cct6d7zSwBOOWPcMksD+ZPZesnhIWqidW/IFb1HTjM37KpXXCnmO0BE0ytQAL011TzILfHvoUYmF\n",
       "EXQm3SqqVGL17SXU73uJgANASd6WYjE1BjSqrQBg+6NNlpXF+0q0VaGUeeqHlDR670PdpoQlEeRX\n",
       "R3MvXinJ0hUyys72WhozDRrDt5XwJmCNB0p1Ruvrf59vViL+O8j25zpXWRDFqYf5P+5BYR4YDnCy\n",
       "234GDmHhRwoPTd12sB/JruhvfraX9UbXx5B9E+mHScdZJ4h0Dq6txnD/nFxStpt6rO08tFP6M1Zb\n",
       "TO5STzUe77zcf54mIzLKH5iMONNKKvmpDSbXHUzxJUQJGl61eFxmKNav0S773dsG9zK0rPXb/sPL\n",
       "jzIO0AWuv0XK7AvWHDhxWFFXj1PwL8QI9U5kasLD07yZYYql7dsLKq53CDczB0dOy6m/lX7+AKhn\n",
       "YHT4TH1L1HcAAF9xwgBd74ivFhhn9fvI/gvillyoyUlfJbaAyD58JuxVf0SUv4Ykce7rxJohrQjd\n",
       "F9+huuV0drYRPrTkJ7jMCF6sp1zeHL18QXAKjNGRpDZPY+sTjLnNISnoFh4qvQTQgkKEBkbtzVcE\n",
       "/F7HausGcgBsjHsEvcRYPOk/G3PfIiU18VNq3rpDiHBpN89GK4s2iOvxBzJw21gJ/F2+GI+Emxbm\n",
       "//wzAcWxof7WIOAMKASGIpIuermIkYWPojiNKAWtygMLt18jRl/m6FMwDwUR7OkWWB2lsqNWBOWZ\n",
       "m237x02sMaWB7bn61k6AqHVxTF+Ly+2BrG8PCNBkDnWIwGVW6iZlM6kASS4aUKEOmOMaw3ywmlMi\n",
       "BAUaz3PlDpEHeM9f//neyazScBKQWxYKrs6kvrGGep5hEZ5dP9tinN5hverNW4taL1balY4N2lqU\n",
       "doq8wVbRgzMM16gNSpN6lI5SgGkkR1bZ2HGUAfAgGDTMKg7Afjy7wrc2oSzxjTcQS+UhjRPuncFz\n",
       "8TBqmR3QgQ7/cWxyjsjifztxTanXpjXMF50gEwMD/WfzxFi0RRuC8TI3/CZtneTQ65H5mOspF4hB\n",
       "bx0UzJneYummViTu5L10o3WHV2cILCIDYgq7AtP+mtdp5EofEsttKy27AwWkH3ht1/ShTNXJSExy\n",
       "A4AAf7HbGp0kEwJYPkALijYkJP/0rb5IZ0p5mw/YNkw0Q4Arneyh1Q4qcsQfVuI5mse5UyP3olqj\n",
       "kIcoOckixjpqupc382HmAnb/l5yJrbtUzxl9VQT8O8pLITJNvVJdyiD0t/rF4pS+30j5oT3DOfhq\n",
       "B5/MNE3QCZJW0Ugu8WPU8HPJcGjE+VbqJH1gPJWrhe2jIgg9/CGAQRftlYXXRC76+JfSOspz5szJ\n",
       "ClYc83HMveOgHiXMqsnz0BVbFJjb5o5VJbK9hS1eDJV0u7YNdIm48ZmRwiLWdVKTuC69PMplcfQC\n",
       "WbEnmLIlQlR/u9XtZYhkJoa36QzFt/Tq5plWckKIbZpl8R5n7daLMAnO2iBoqarKR79Dhuz6K1Qr\n",
       "WNZE6b4l3XIqDDBqkQYxk0SQEQt7FgOJK1BFaCsjkL6E7pJdbalYnM9tWEEmNF9qpP0BQVKcdHdy\n",
       "uTk6hZ5G3JPa7jJEoQAALqn86EDeK/7YAohCC4RuSu2WG/GqgQCO4Lsh/ZiDtpjHo/wZTloRiVvJ\n",
       "+akw2zHVC3+22b1qGHon0Wukb7JcnyhmyIdlMtEcjIEOyMd880TW716pI0KysOSqdQOxf7Wvxc1X\n",
       "JN/DcKHwXWdJaL05/r6GvUPrjbf8vR0RTH2on289vvSehEfmvBwW3cdne8mT1X7MZlYK95M6PZbU\n",
       "DV+hj5lshEaodYSLtHznJiMAUnpyC83R/7LqM3so6iHuDeXSmXpU7EeQiuELwd0dHCyqEVZ6XrBf\n",
       "JOLSXRxN+WZaseXw2fhoEJL7MbFzIUKkdYyKBSjzJcHHORNWFfe3y8cih+qKaf3Jabdj4weIBzlH\n",
       "Nk6IC43OdWkPeMS3hE/NJbVItnhTL8FCsJuSdv0r0q94sYZVBIbgnnpbjApIdZLFf8qe2FZ7rTM6\n",
       "pEC6ZOZIMYHDW61n4D1QKv/qEJnk1jXUTn2Bzm7i35pdA6nQnk4I8oFjd44Mpy6tnltAplKsNlhU\n",
       "fBcODEp/5ih9QtypB/qm1aF/ktVSMv00vNUiuAZE71cja8tBEskLCGDeugJebaPAaV0r5Pjj0HZp\n",
       "ieW/bD/G5w4I7day03W8GTqxlVuSSCgXJRQKN6Xbgvp+5LzCJUcdnY2H42Ccefn7so9Fk74JEfX0\n",
       "7lIvEayoqrOE2WeZRp/Z4ymhKPHj+ryO42xZvfuJK7D1odxwpBKSTrxHYOaqqAqXkr/IYrWrxst9\n",
       "jFMqsVfqQi9bnYe9TdPakDueFNW5pvkfQ6CGoao099v30K8Ks54L5apuAAYdI+HarQ/1I9RulLHP\n",
       "CbdE1O/0VbfSfLt3LJm7+lPiKTMYOYly67oMV3ic5bUfHCTfRSVN4rGmGYV//xXZxRAPWF2sBsA7\n",
       "DdnU8W3exKeyti3Uwq5V4Bd5hQ23RH9tBi+DvN8lKqkGougOc4GJAXgVfFS1P+v6p7tidusBBHuO\n",
       "De4+8+44SQARyzknCOvpANfb9WuffuzVU82bPcgXao4dTEeZs8+P0UiyqSSB259FgCu9aDwnUBTD\n",
       "wHMB7Patu2NkVASxLhkP7YtB7y5PU26D6yd5WEyMGQImL3e+kjsI2NJHe5XMHXJ62IXf5MOeKGld\n",
       "1U4g5OrW8SfM1igFtu7rgntKw/oAuu/uQyvybbC0IR60XWPsv/7M8lFj7Wi2OF7CVCZ2KHLShsaU\n",
       "+QlknG0kWlrDpgJBXw9qU/HUFfc4igXnkkeiGqWdFeZFCbMfqwMhr4P+vQ5OcqJaPoaGGvdraNGC\n",
       "lKcIE1jR/XTWj4qxIIcxGt3L11dAraQsaMM9j/CVS4wJu/4gjGCX6hddO65HguJQgFb5Or5EmEQG\n",
       "1RRJBFw/rcXlS6zkD2aH/D1+xu3tv2W9jGC54zQJyOAr9SlOjx9BoN/KO/pVwcLNV4iwtUjR65FQ\n",
       "RIJSDBNIKTDCzTIm2aQnY55v9Rn+RomkbOZSDyASoIOPZ7fS93AhWb1iYINe81mNkdycU77nnR5R\n",
       "G87YGo3wK6lHDFtDek+gp64JQ4RNIY981isFqgvKJSCp0FOJo1v73lyuprSANL0Wwf6PBqX18G44\n",
       "NrVwllaujPiHTIwMloNgTog3aNI5wymzYAAQjRBDx7sC1qmuvCtavM3NOIcaEPXJsCVtqxBvR1aO\n",
       "EEcqKwhFmtgUGAf1zzuTUHDGHoJ1aODe3WPsjtnN3Mdmr3pIJuORw+bHIBuNSaCjmfLUgkkNMbJs\n",
       "dTdVpwi4RbrOvp7Iokl86uBv9nCKHe07WbNWzhKjlprLf9tZEnNbyDEKM3Y2Xn43luUfrQL8jV4L\n",
       "UUAKBX2q8aFzWed1t2KusN1Ie0Vz2qacGzHADa3AFB2eQ5WFPXRPBe2TZfFJaX+qNsjafwKIqeBC\n",
       "4iDLHDwSTlvVTWUQUrVhNXuVrfiZQfnfsG7jpcWYlVsuvf84RLrOh5kBtL0a7c8qsKqV30PHR+2c\n",
       "wa15Tyrwb17n2eKUDb5TClW7woKTkubTno+xMsmjYjhuwdkCD7INtWC+/Uul2A7IaXytZk4Gqt7m\n",
       "0aYZ+N+a8wsm/zP96InoM+0UuIL8EaYL0L7NjikDElRlx23jbgr2PRoPVIcJeXghxCjAP76ywXdu\n",
       "AY1cS+U9KWUIvE/ckxO8XIm6UDXbzO6jZtWbgONRi2AcFobCAvL+LWbb8/+E3+o+xQ1bjYAChE3E\n",
       "9fNjTf+gyDA1JcZuRxEwM7L9myyK/w99jxDi51qSz+CyVq6Ad3G1G3z00Dz6djnWiseZ62yUJIE4\n",
       "upqDccBDliegCnpgcxjBiCtNTSMjJBALD8PXF4KbUHOG7OEBEaVtddoL+GqbpSSJLuMFCL4d6Oq/\n",
       "Yl2K2bAhLWdGQW25wg1uY8vRbMC0tJwYLbpNpzKBC8rrkSc+L9SKs9o80PKGjVlq+fU7abkSEuQb\n",
       "9MXMrwwi5FbNUGIMrwNKOhZNePM8AZsFMle4BY3LNJgELtxfLZG08NDbunvqv0Abt7qYlMQAgo1S\n",
       "J8KILF5GpLBoxpq3Pa2CDbpMooq337+4Z6Stz9vtQAAAW9c8bLSOSB5CGSEDxrtjLEAHXgHIFMMH\n",
       "9wquWFDwnhuY5NKIMDJaY+Tm8qWSQtRB/7goBVglQhWMW5GELqDCwpFQSqldmUjk4p5l4UhcuEAk\n",
       "Kg1hR2hqN5+hSDtPw9vx8u4C8YexQ6kYIK0ULqHfbGMfzCpkdyUsZvFmQD//Wc2WIp3M2YEkXQBn\n",
       "/zoDUQ2CItMGyKt8QsiPA8F+savBN48ij42+OrFOMugyLA2dCgafeYBBUxAo6LXWn77/HMB36iW0\n",
       "TVPcNwDi/NkRjb4UcTR6GQY6NNt1tyKLO8yOgcLDTM8Hq+KOrFV7Zp4bZy4MJXowKqo8972AZ+LN\n",
       "/+rypuPz0PDD7ekCzoMXNj41AYOdc1T1vxFG3poQt6k0YSaInID/+08qzj2qTTpURzKOK7KrzEni\n",
       "MufsSpMB9XxdOxPRwI1jspJq5OBjK4IEeiOv0Sgtfi86eX7d5ZvreRsH6shesOJwZdHy5fLBs8gG\n",
       "7+9sYgdaTcEdi68u+1fZHevqTh84U9ppBh2FL4PzDxLuZoZ9ZNwKa69B3mhgsPtSMUMUcnIj/m/K\n",
       "AtirlPD88Pas3ratj4p2jSmY90e8frqFrAOPbPq1RfLex+0Y1mUA7G/lstcYs16xfSCFLuO94eiQ\n",
       "ktjatFWPIbdD/Nu1ECfNO8e4FtThKdoCpk4wlkp3XG/D7V484q9jGQv38jidRiEnWic/KjUKQml8\n",
       "H+j05BnknETEuzc0fEW+T0+NgSjCLwHKTTJN/SZfcsgKseG1vuoIaoxvaD95Qqpz92yedbp4JAej\n",
       "IBywpqH2KvSKAcZT/EieMf3Z6dujYcrBjX328gKzjbBd/SvMHb47Q2X5ZzCS3iCIvEcXf/ObbraU\n",
       "BP5biJhv8c7ySnyQQe6qsSGWL1EU7kPIaGebBfOp30BuwbLMgeAqj2Jpb9j8KNL7s69dgGuCKo3U\n",
       "0mV0tPub2VlP8gDteNzKeOfuiomMVa2IIFNHlXjhzKxyrYizZY561ZiMRxVyPAGXYzQQ2ZPJcjW7\n",
       "132PrqRLS7dXhmvhJGaG2KCBC9+xE/8A9oAi4pJzckgIf2oq7N/JRZaj2v/v2b/ShPLP9gAaL4cF\n",
       "LeI2LpPjE5PlPZI2ApELm/u5fB9EhsMDrwbRnMdteggh40IOXUoM+7SJFQEDsKjnBXCzk503t8e0\n",
       "co3jIxXN/46V86kezfeDFlrRYMblL5embzZF/1Bv3tc5JR7bAipIm6c5ME5Yq04Wl9LXURJJ1An+\n",
       "hFEYLOUeWTT/Q0/RKFHkApSuLxaGzxnpGuMCacIqALPk7FpA+Pr3rAiTKB/3Jmw0tdwiYR5ohfYg\n",
       "GdjbbNfsoTWspI9G5Q5AmEp4OLXTiXsYJB+uK/QDdxMB6gxVto1Bcyb5DdpuNfb6WDFjmX12/xTF\n",
       "p+5AoaBmZ/TpA56RrxvTGf31GCNROQJEKRPp2fAl9BhBS/WcD/4fuB2jgHbYg10f1LvDhybVllMw\n",
       "nNgkaGwMwxGdby62vEPRN6d+3qi9Z+JtQkp/7rtBnmCMplwe5jYFrpObmA5zu+A8BaPvURWR9Tvs\n",
       "zSY2rCKJOw8j0tQwSlVYXoIVw1TDp5MweuV8b05Uc4MGplXXZly8sARpixwee9+qNuz3va8ZvuzZ\n",
       "OoOnMbj5V1hn0po7MoOz7GXrk8aJd1xwBdmlstC6J3nM0gC/oqO019BBim9m6BjZY1Gif4E7lSRO\n",
       "kjqdYCbcLkFTSiQ/Lpr8+YeMsim3Rl/jzB7OG5IWT7Ka1zApbfIZB1ArQZNQv7rc5mRol/6m5cTD\n",
       "m0hxmLBaDvEZWFgICyurgXz9oFJq0HBtBqUSrHZ+0oFs959k+Hy8kl2f6FAeiHtwwH3uPOI8LmcD\n",
       "mC4GNWk3HgZv7xZFJfIgGDZZHx/71jMF2V3LEv2u9wQ44mJIgC/4bUG24zqBo9ml2zKi+BrJb8su\n",
       "FPdWwOPq6uT+JPCwWCs+nHTsn/9VsIeK9As0SUEn/+/zpxlMrybdCxlt3Sf8X/ZHpxo9uizaly1l\n",
       "aOkB6AbFOmYAR7Rjv6EkoFD3b6kIm5Hs9p8nx5xblw5HmCLkV3Fdcrt+RFIuT38GLjISusPgKL++\n",
       "D9YC7VwmNIIPEx73ef5jW0BaN57r/m79G78dIxP7EFlKYuCoYcsVo3AiBeJ4HxvF5mnZe5UlmxnB\n",
       "YHLVZ37ifa9/L816jCUMKI01Jrq4TdyCcayreGvnDzEnMyQe2lgBC/Xbf7jQbse9KwucPC/JSQp0\n",
       "PORRVk+/TBte7YTkCLeSUg+6QYCLzN1kChlLbB24pZa0pAkfjnWkkGuOnIfEZvTWKXAjcUCbDMn6\n",
       "UhT9lT/neDOvWi8p03iIPvIdnfsgGrpQQhC2Wvl3fAREEnD8Iy2WAfzd1RIvq18HZuzCQs8EojSx\n",
       "otpjVr5z92fOGkNzHZ4lkzX+KC199HEw/UIaSrMzzhstStTxi0AvhPRGnMwk9g49nUwEDQUV93ZI\n",
       "KYB7Vqi38aVx2VfgZi3iMiIuexUQdp1ODF3qGVOYg/x4UVol27YKGLMPG9xOKCePmRASnlX8q8+l\n",
       "2RLkZEm80wDKFIGU/bywGAgpv4BGb1J6MSWup/Ye61yYUtLYiEP8LzJVPHCnhUt06BQP38Q3VOn4\n",
       "2WwNxvpZA0XNeD/iFQ+eAWcqiL4KVmWNEdikZzrpfExHP9BEtG3Ss38zcgLQ9cSb95MkS8vQd6Qn\n",
       "FQZD9UxObQZJxu0zL1Lk1sQ6EHRvKyVBkdozhTcSFutFvOCGQ83xF1IWzG1Z5clR3Bxj9y6pBkAB\n",
       "cBdctH5udk+Sly16eEW75GB1CLkr1YarL4HOGbusxmpdQaAXH6pgq00PvRRvxj99nD3V+DitISsU\n",
       "UQXf7LEXyj0fgS+KsYQ4uNvRcHJY8DDgIzJIbUbEI3fyofH/vExfbAPBxPOEDtxTXm8vT10ANN1K\n",
       "jJZXHjsYvnk5AOXXlYgP0GssQi18CgC/Ww1m9p65rEenkiaDtitgCXz/byLnklWxJqR//KoX7td8\n",
       "H7V8p+Jpdmq8CWsxIs/1q8u+dAPjC7f+wAkSMDuaVEFd4r8ngYhc1t/9v8ffL2WseNmq36HcHGci\n",
       "XQl3n8EYGzg2PmiMZkUHryJzuz4VRAKZVrr3hxixQgcdo5fXEk78UoC9b7YhMp5QqrakuVrGghUt\n",
       "IcuNQ2oWHcm0U/Btaqjo6SVkbohb0FLLnq335seGP+mUXHd0MCC6D6N3l3PBdlVtOMRwlwMoIkQU\n",
       "nerDjjYEUcAYJN8ZjGIsvtr/yOCH/a55QAAAQeH2yIAAEA5HTisYW4Tr3Iu9DpGAg/KFIY11//nQ\n",
       "GCjDfFQAMP5utPHFxFurrglTFsiwBUhzUd4viwyyaSSIsKJ6ZST9KNX2QYZ9ZoP+6WmT0/DXZBFm\n",
       "5yR566TKRfHsVtx/qHQIs9Odb8rRvtw837EgvmP9Pyn6fztQ7MSeDAkS+NPxe5wyD72pezXa68Hg\n",
       "J0nAJSykHxqozfpRSP/6FNXQquaiZzlUINMk9azXFcy1EKdtA5VIkUK4lCneAEtBOjgQ+GRfXoJe\n",
       "sGzwo0K05ZfdK5RCHChTJDFpIA3OoGMbxmQSvCGlps9ueJOKNH8RXUjDJ1h807ByAEYJXuJ96pAZ\n",
       "xk8vuN856JNa7SW8/QNXdvm07wIniO9hMyPCZIiOOo1ani7IR7LH8F8R4ZHsJtX/PQMUedVTVFsV\n",
       "64gjm/GTdIckTlZsOXOTuhbKVlHP6baC1/Hskh4oN14FyKe+SJ8oaqaAqg84BkpBQ7jTee+v2T2A\n",
       "9W90E5f7O7RTeQZBN5Vg5sS50iS0lvCkb4P3bn1ZuLYQishe7/2m4g6uycf52OFu0o3xBLA/8IY7\n",
       "JyxU77inubKowBznn9P2NPMZPk/BoFBe2niWQ+YqwnfI7HbUDpkMI0WL9HViqAwuvOK4MhT3YjFq\n",
       "QRX1ssNEnOAxRBymm3zd6t/1RPdNNX0rVwHWtm4I9YEXLFpicLboYuc6UKhELqJGxTw1Gmjta0g3\n",
       "wrkleQUt3whfoVv/lDG9XcExGS0HHM/blSsnWLd+CvevCei8CRIo3z6bajj4Kd1njty9g6lULXXr\n",
       "9fmBlvOfrUmXA2x65yKPAFSOqbOI4mYzQ5yxng5hbAkQNJGopTIjypc82maM0ysFSkkioWFZUOoR\n",
       "MCd9h6+7z1p4H5qusVp6fz0gS8iBj0adSJoho/jLA51C2sF/X3A26eSUagOvjDZK2u8DNEcPf+n7\n",
       "p7EL6VzhBqgmf/7o0E088z3CkTfuhYO9EEIM9rEpOBt0xqlbui87vPqyydw8CEDOmtovBYeQmNZD\n",
       "biXd6QwjvWqaALPZYSJZHT4GGzk77v+ao4itW4G8pyKlxnK3SRGJb9OQNTNFDFXxczUdBW97v4TK\n",
       "goJCsuE0TpU5fyFRZPg/iKmGUEKflQDdctE44SkEsBHLdHuE3C46VmXKQEewg85ICMb4dXia1oC/\n",
       "7LsEeQiEQyQGMXZlSEEPPhNdL8IUZJnXmzAHT5R5OKzeeORixtBF/kRCOz67KrUqhlDRwZxGX8j/\n",
       "V9AbJ2kA8yixo9TnopsVjsmRGTr99xNPBBGFQB//jLaxhbcBNLaFRfWGyT5N+95P7P7pr8zjIfzX\n",
       "o4tG29bjMnUjZvkgqbYuRf5C5rgr9Dr0qOyw3j5deiD91EmxMmaKQN9xh8pCmweEmCjN2y2BPiVL\n",
       "wXOfPSQzZlIZpolyf2mfbe+pTToUFQ6PKS6TTMEcPemvK9qWhU/N3n6r1XdIsiNRBCyB+Ajtw0X9\n",
       "M61L1ueL24bKVzcD1Rk8c0+6u+csrzccZEGKAH4INH3QYC6K+x3UanreMdecD6E5j2vE3qPW7Dgl\n",
       "UCSMXwFhcvL4GpC8P5uLzpZqVW4TlC7m4jid5CSwywMJ0ggYOg2fYaHF/aTXovIqbXjuQf1+Ozdg\n",
       "j6nfOED7+RWqIMNcYRFuvVL1iZsvJgX27Zf2QmiNTlZbqezoApu0DwGuB0CGUwxFMdzjjCuJ2yid\n",
       "o8KLvvDCZscWqkHTc4dNW+15SiUChXr2EQnvPHQscW4zCqohBlKQj8RqdgPSf+cechKUJfsYQbpY\n",
       "VlEwJfPP3QHHXQ/bUAOh9PFwHp2LzYx9ZXlAS8/fcg64+P+EY69X20pyvd3a98tR1wa+IrU6zGFs\n",
       "6W1FXJ4MHa3Zz2Cw79/B+mvbbUCQGh+o/sOhvmGLtxrPI3HCnzoHEMZnhPxFi8OspFPwX4lQ4pGf\n",
       "9KRSCVSinF1qEkyEhhPin5GU+08jqTDF93WTnqogtqJ89QBGmGcxf+RjOXDhrJfKDP+MlfGOWdnq\n",
       "i+62kznaxI5DF/efNVdiYUQ0QtiX6h84OV45pRGVU9EBwNEioFiVD/6S+qwHp3RJDwwcJS+CQoPv\n",
       "PUVRAJdXW3cUuDt0vENx6XD8nmuvMsZG0GpYVoJyCDXMRoPQCipIbbl5Ay6SlkI20pM2ZFO1xP50\n",
       "8L0t1Zo3xI93+6xd1zNz/7q8Ex3tSXOioo4nIo53h6kgIjM21wvVBTG0ZydttGfL+DGwldFj0LqU\n",
       "UcG3altTJZj3dc+Ag81eOKTrhmGBypqw2m3OKoc+LdCiL/nn+xtagYhTu4Iysy5GuTXOqWuB+grS\n",
       "0NjQOPTDJ6cMXoC397DQdEh1HpDGKvEVTAy2nQ52r9Gjnee7BIlhX6Jc360dbJmT2H58q2WPSKRx\n",
       "LWliNmsTKs8WKW20neLyYqAftEv2ysVDqrnkfilUo6OyXvLXRWh72w/jnz4/a0ot7+WgWfsJyh93\n",
       "1HBnzN/DbSbSNrpvvUCUcrjbK1JzK7BwfqsTRa7N4Gm4cObz7laHfBCn5V5Zj/I2OEpBLAdNUjHh\n",
       "DPfAWyCAOhs/gpCzseGKjYk2R07R3xLdHjV16YRnFJCQFtQA5VsvJd0uu/PVsJxMOwXar3sRpSS4\n",
       "kbcfFPeqa9dq59h2HOZVILgjuJYnVuV1GuVSPAJQMkMCQCMVnHPFz2IUBRuCeX1sGexmJzNc4YiG\n",
       "IqGLpgsUpxuTm20ZvXF+SLJ15F6S1l4MhADHWZ17bsh6+afwcrSE4euaWAh75ZfEB3ecc10vBkr/\n",
       "nnsQ4UPp27UYeQBEJkDZ58/TnSfXtUiY/Psi9l5+mB23FHjSTdnlFYbJd93auXxFmBc7Nb7RW0+N\n",
       "1+UCm8I9WPzFhd7HhIPggtMnh8MXnhcA4M2HQB88i/1rUV8eb4LM/ChhozzLRBx5jFHDzYe4dvUH\n",
       "wAaAtWKgk64fk/pWsNmmDLzVdOhRy5/rK6Xt1uOjWNC6EqWzd5blGmLyrDrsAdSTCfK794YHHSmG\n",
       "85oHRupAr0Lg00UlXitB00KEya5/3a6ye2wSj7/VPTJnZeOeNt/Z2jCx6OkHkbnlzQBZEF35CC9+\n",
       "BEZV0e/u9nx0m9FCRkyz0rK4e3fW5PnxA4uuz2NHsed7UMoVGMTuubPCFztROvtq7asb763iA4Ou\n",
       "FOtZ2ZHoRnAKeX0M4T/ri/v+IvXvy6/ZcOA0WDcgAAD6aHA6f0MjzPTQjtDCND82X1JsCLmS0xb6\n",
       "2azHDMw2z903XoQg7S+Io3gQqNsA9Y1VMb0L5R01NL5CrlWUasXiivhtqRDktvBZWU85LsuKM2/y\n",
       "S+1F7dDjwULlhDWrGxaXrup2fwhTDnh+badziu+95aVA0AVL4eELGUpN+FMnJEyoQRVWpKgfDT9O\n",
       "hItpI1ZfdM1UmaMdu8pUFywn9X2KY5Bu45rukka1/AHO0AbpF7iMq12FFkePfuQlJ4ZDu/RXIx7b\n",
       "MKQ/aFfFLkctc5kEe2HYSLdR5VgQf/dDSHICoPqnxqkTZtCTSa3toR+Kp4EwchjUn/ed875rPuk0\n",
       "BX/vb6oEMu5AB1u1+z1QGEUckVc7QOTXykVvTBBDv6pmmpqspt7K0AL7na21LAZMXbTACHEARiAA\n",
       "7oEAAAEtQZoibEP//qmWAAA7+z/4ZbwIAKIWS2MN4+r5hP++t4prM3wTXzBEGEw8hgaG3Jk//2S9\n",
       "zMhXG5tytUr4p1CNjuIfQOruq0R86VPJh4iEOePixGOdjXClJkOSNqflQURBDPZe3/wW+zJFitRc\n",
       "hRDCmS1Fsv1O1iDAR4VubRYNmyZ0tm2sXtkKnLUnbtVNQBWyANNIBMfS74+yz1DjSGA7ao7VKZ/W\n",
       "2o3DijaKR9AOCmn7nLxI9LtXhjSkqZtA0QgKHEbfe2bNrRSBxLc83gee5UHAXwwjW/wWKYF+Wy33\n",
       "FrcA0hmqrgOR0JCq2jEhJv8gQ9i679ud/PdNRqvwnANreDuLLuWC2dWZRrNRDEWBUBx+0QB0Eg4b\n",
       "HddpTzEk/z0X8cRSOv5AjpZiYVpm4AAAAFUBnkF5Df8AACsxJTT5xZz8A1sHPBHNAC01u7T5WJU2\n",
       "RBmZPUeVGavsA4lm0c195qhen90DCBWu6sUZtZ6sWI36sBxBDbXkAUbsAAAQPi6ILAur4Sm5AAAB\n",
       "fkGaQzwhkymEEP/+qlUAADaCzHWZqhKqa4F1WOFyAAfudHhFpbP8RNwWQTRZZ47toagNx0uAKX7+\n",
       "bAzHle3Tqz/yLZJV0e71scEQQH+SieU67Vj/O8fJMrlP7/OZyU8Gn8n9UYWp5PMEwx6Iv/nFYl9w\n",
       "MH/xNZqhKySQ+mjjqg12J9lKTR3a5UD23apuOT71v+GPZ88F3DZvoHjC3WoGJKd3T+1gI8r3cgUs\n",
       "0nbGFeYv7fRxS+AA5BzATlelLnCG7H02m4vBkcqWMULqW/m23qiwEzUuM+f1ILOOdVv/PLP3VnyH\n",
       "+TW7kF7ZyRC+KIFr+Iy7orqNnX++bs9qkveebeV2lR8l1qac0sIE926aO7LAfKGj0A5yiNDvf1dt\n",
       "BXfkNnGY1HODMWRIP7Z8rsFmINvKA90JhmynlenxBlGTaz4xFKSWzRKO0ZPAHnxNnm6udKO7+9cZ\n",
       "NGdll1YhyOHrvY2GnRucnFv4edSyRvmZG22+GAAAAwAAAwKoaMsAEnAAAAHaQZpkSeEPJlMCCH/+\n",
       "qlUAADfCtk+AxAADb9rYD3tkrq28/x6YXg1j1XuM9PTvzyZtq3pp6n6pyqleK2iA5lj5lc/Yat4T\n",
       "SgtTrQEQhxNGD2ka+8fnNiE4jh7PxgaLV4+5gEIKBdkM9Pa1oi3FKSDOTSz+kRPk6UoU3ZONVBPw\n",
       "pfuV/qBWrKJOhDrPRH9OkOEtbAWBVgsgVH05MzJtaiwt6OaF+PFOG6ahDL7TRoF3TQx6Sil4IStx\n",
       "Ps+evzqfC4CVKGJc+zNDfV/5Zk8vs7Inv0HSwTehLzxnf+Xy4T5aSqjjiKc3EPxs43iWuJFjfVMD\n",
       "/LwHIizC6d0i2dGL3Ey00MbZV86H+sMIwsRNEyiyu62sZpyPM2HAGR6XhNAi9zH/HL2GwMJ6Nhrt\n",
       "hVEAh2SnEDe9ZdxjVUGCyMgqIZwRiOtcgJYPJw65caWF2HE/8PekQdvk4jP2XFMwP4xrjNaUULPV\n",
       "S3dhNBs/IUMLglykvZc6+Xa0hN1Xg53r/GM419aoAA7BD5INmiedVNM2JjgZFLBqreXMinl0zuQI\n",
       "M1AmR37rIjp8uNqAAbAAAAMAAAMAAAMAAAMAAAMAAAMACC6NkTdO+nZsqpBDUWFDoaUwi5rAlyxF\n",
       "QyMZYAg5AAABtUGahUnhDyZTAgj//rUqgAAcc9mbKhk6kAC3Pb8lEyoT95NjbmyFLTrn66GTM1gB\n",
       "FJh0EYU1LtOReEBYj4vd0kCVT1rwBZ5njH1rcX9yMxUfYJ5qNxSX3UDW0aU7KpnXQOqgUE9Po6ZA\n",
       "bA6ry85xFO0SE9p4XBXMC94in2/+al+R5/18IwgNTKRD9VhGa3rJkXt07UDh1fuEXPxxExd4BU0P\n",
       "5IFPSxJDUNjXskK1v1VfA+tGlyaz3VgOtElIOT1dtaUcd8QwkURz/wB78w8tIMHW1ZiIaA2bGsJb\n",
       "myvPF003TtKhlb1fPUA+gBUNj4s+HLG3lmx4qlAImL4w0j/gbhqLbcFaO97mYGczzcy+dxyiyRnv\n",
       "l2fwhzz57PIIlpbu/0QeFKq64bddjXeLD5OhYBpD9Bw78nq5IBkS4ZHpLikHTjy+HjvujYTsAdXY\n",
       "5xK2BoJSP4+7e/0saXITwSvxNah485Nj8V9u9PkDM2xVQ0XY/gnH0e9CObe2sG5XefLHy/0jiIgx\n",
       "a6hQKSRudlFA15UPoQ0Ne0pTyGfr4n8/2NS4wVEAAAMAPG0PE3PH0gyvY7kMej7hAAADl0GaqUnh\n",
       "DyZTAgh//qpVAAA9B+EIO7pD9UoZia/gcQ/OurbbKG9TPYu9Qc8x/Snk2Elp1ol8949F8Y/DKQWW\n",
       "8jhxXRmP0jAr1V3KukBH2zOCTv5hjGXlm26ACRD+Z9FhGtwz9zxLTIdHmGszQNKzKkeb84/BRFk8\n",
       "VhhE8Jqbmox5rMCp4UOQjshP2sMmXUtKNqOEN309iNBZi9s3lH4aLZpnc58zxU8H2ZdTygGpke9V\n",
       "nOJXeYbpshgxFBudFgrhnOHKFICGYBIZtL7JQ5LkEUkCChtVIRWU1Vf3i2gQTUVuxZhxUGMiMZ62\n",
       "jX1ifd08bwKX/mVeioE5RIkaXtQJrLetpmch0Z0nyTdSJ6tWRoBeVODiArMK0ZxQ286yqWuyCSyQ\n",
       "ru3cdS+R4A7oWHnhOFMAdQUcVbfFvo3JdB2gpiEK6IGHL469qJrnuwpMygdrYInvWs5aO2OF/LVK\n",
       "9elsd735NpAJItcYgRuuLA/PtHQiKqYzhKZ2j3kI2Yrk/T3ZFsuxxe/uVTXIOi4zOhKtnoh3PSOx\n",
       "CV25e3OF13kxkc4C/5upbQFzoNBv1tDPkwXUm06qmQfBViFRZRF+cLl30a2lLSfjLMAjPWirVoQi\n",
       "c79HZduB9JSyJwQoSeBlhAB5TRxckd65bs1GqJe7pH2ArjDe54K+sRU9uGjqhbtBtYg4bl2vSeqS\n",
       "i1au9YLXDPKS76ZYZokfvlost+lMRu75Gi4ofi7wSCL+6ZI1oipnO4LxmiRWfOgzOaCwSyr6LkBF\n",
       "gwTab6cOWsXYQKyCKxfHYztO5IZehNa/qoIUO4ogiyevoeGn1RJkl/JSGMzYM/lJI7Dqe2CvJQBu\n",
       "r8hh0jitr5WjuRGUqCJst/q133kAHu85MDJZ6bLEMbEsKxC3OP0bOYcvalHI1vJP+/mRYZA6kaQd\n",
       "2GbIemyx57adfVOSo23vkRGq1DeyD/Y4K/iNCP5KnnJpJsv4zKA4hMRsiQ2/Hl7KsMBbuOHkxnbk\n",
       "FBCe97r7GA89eSLPXUF/VvI0Mgbnpl0Tx9Od/7xW9SXOLwy/JMAs+AticmfK5OA4HasyLuTrzv8v\n",
       "ku6Egiro7yJh+stN/KutmhFpl76ex/IVb0zfmL1w3qNNVFtw3Bzqa597LCWnqE/4BJuOlc50jsgv\n",
       "CEDwdEZJUlLjDh0p1GosTdItxWMAABbw+eKJzYR7u5nHgYDfJ3sa/G7GWtwB6uV6QAAAAwASgplg\n",
       "Ac0AAAHXQZ7HRRE8O/8AAHd/u6Ay0QZpkFvD3AAVsXkjW0EYCcEFCSi0GUcvttSeUGclpi3GW0B/\n",
       "g/ci0KOs8NT/Cnl2flH/VasOYXCxYCf4SpB6gl3bh4O9008dfzrpmxuNebvTa7So0IVvQULciGSU\n",
       "7dzwGTGxrWlYaXL9reDi10M/TfHQT6QG0dKo1IoskNjW860Szh/LqLJku70KKymcgOCCyQvS07oB\n",
       "+Rbk9hPavnIilId6EG1cz5zQOQ6w84Hht+mg2TsG6Op3ZIaMgLjpgKBzpTMo1lsZUB0g5Go12liP\n",
       "a15HIc3HaO2597YHkXYnGyBNTydb3hxcN0WCzB3xkciIK1b94i0MKG7bv2mj2tkVT/FqxphZKN8T\n",
       "ejI7wGLlqPoPABEmoc96Gm3jt3e/yVG9G21dCtYFmNI1UPGHgb+PNb30ZB9NEe3TrstCP3sbHnQN\n",
       "u/LPI3fN+MZcPw0m7HIZk59333UciN0tzDIszAnyy1psa5CHWlCNGX9E0AfaIeHQFYp+21CYQYqa\n",
       "9uaF7DPYE+kEB6ifyziHCJE1b72ySiERXAgrkORtB2oGTdgBnw7E5xfBkMVictNemAFzXpsjMVwu\n",
       "wGftrmUfNpXwACTQiqmWTyR/WIYHAAABQwGe5nRDfwAAqESEanfLAn/QzgUumrhgBbQZ7LHguOYN\n",
       "PqT23LToqrbxTDRUnLdxo8LB/IWIKSLMnyLH9Ll2v7K3WIYvrD64lcVFi0/w/7OVYndINe9a8TnR\n",
       "qWdIcX9ZtBRcET5rXfZHqsvwwmQx7nLwMo+Nmojoi56RKcWrGxB/v2DPJ2xjKpwgOEGYItPUdlDv\n",
       "IX12VO/oDFo++Nfx7Uibq6RQYar1ogc86YmgyK/vL5riFmJamKzYXOGASz2nFFZl8lusNfjA/9iy\n",
       "So0FY8dev/USZDJmoRqCFQhTlnKem0bZ+tdWN1sxAZWxPtR226lE/jn2gV0excZcFeEVHZo+K2cA\n",
       "QYAijszTA3D66xqUzhc510IvZTdhuOrxUpqlbirluonQ0Kzn6l+QfK3gABS0w58Dfgr18AABCtZq\n",
       "VRCuoKKAAAABBQGe6GpDfwAArLzqYwjKwedKL5If9xI2II3hlzr24thb30k4vakOjzXAqc0JzQ3v\n",
       "P3dPQ63Gpwb3toh44rJkmL8VyURIiDIfjm2fol3mj86QI+1Y9RucXF7aevhW6xMrp/9wtf0Hq1K3\n",
       "bgkj4QtbcKJ04f636dd0vLTxdNwiaAzUKeg+vpcnhhTIIOYuvBBKOhFZuE2y9CMoz3IXbLE5AQ+p\n",
       "pncKRGRM+g2fVnIM4HDZt8xkjvYZ9hQilJFhhOL85eKSxa27z8pUMqA8ydVeEp+pdcJeQpGqPNeA\n",
       "aPJMIBjR3kwDErn/hASFGqxYcbDBlwBVAAADAFLZxyLhdwAAEajhAdQNSAAAA6dBmutJqEFomUwU\n",
       "8EP//qpVAAA+Zgf/zcwH8+6ufgAaqJZpxh7e/8Z0xXkDJmVlIrKQY7oBpxvaBUmTrjoAsMsHkS3v\n",
       "uM1XZXptpaE8imNrRe67YXOnfBOzh2KFZTdo7F2ho0y0kxYRRIqn3aRpIq+7GsmhOe/sAlVVPBhJ\n",
       "1b88edu83EjvT/BLNmrnu9KYliCCHLrBnhWc2LW4Nm2i/ZbCnLln6+1sGMFb7KhM4kGhZ6XUuCH/\n",
       "jBmQUmvyWkamTInkvdMGKIX1KQEUrBnuz3AvRrUBH2ZF5OLC6m0kzt8l/xZ0EP2n4JRlN/GLwqyu\n",
       "Jq1hsmjIDp9qpYZ2dKau1LCQFzcn5lE4QliIE2KsfTL3wTsG2T5MYVxI74E1Mv5HkMYSBxHcQwBV\n",
       "qUh9PoKEJOSu1dY5jIMJPkOg7wQKArC6SSPAQAyHSZpf1CwM79DoxyyA9UG3en/8Y32LYJhCi+gI\n",
       "Im0GXJBOWmsih65Q6JdNHjSz3N0/Wjd16s3KIoWaiiZf6hX7jvLu1eofK0qUV7h8Mg+PhD+uNmnD\n",
       "H1fbY/FF45P89s2s66t+zp5cEwtjjeYjBQDmlKz1DOFGGlk9tnwXpDEjOPiU5uVq30RrNnFgtzk+\n",
       "LF+T3cxzVliJ0AFDFypTMm+3jC0IaMn+cjYf5MNTy/ryr1Vyb36SCNERiy2UuHhnsHPfqhvP+dhu\n",
       "3EG9RiDzhVOxc+Qw+ljDy2QXALOX7NXJrJ7XKQfhNcZjKBu9VbCa59cYrnYOfr+/jpCibulQc/f+\n",
       "4AZIns3VVP3n2mG5ZsOpTs+gQQHCnxd04iwbiu5BObvRQNJM+7VID0mO7QqUqoLgyX8Un2jSijc/\n",
       "u30AwRy/Nktx8ZkWPQu6frJUlCNZn+6xcMawW9Fh8QwRTsTkHTwQjgLr8gzg5mBQzKssIv1o+jbQ\n",
       "rHRdi/Ki9GeMdQbuY2mCny5/0VPARgTJbMOrOP5mxlevNtRWzDiACpDNyfFJ/4kMe3z9zTf7MHmB\n",
       "P6LCRai1CgYRaI+UkNvR/67wDPFS0REwR/rgBdekdod/UeQlTgCr5wEO25C6kPcrWwN3NVh8OlG9\n",
       "O1gzP0G73qDDT+pVyqYfvQ64hYAAAAMAACE4AAAFjOEAAAe916840PX/tRe5oPPhISPPZ1/qRAIO\n",
       "i/GVcoyT3lqwDMWTkokuftRWzcvJDqxtE2lMArMvEc+FJ+UdZ7quJ9JPumLpt7vRqlSxDtPE7RPM\n",
       "gbOeo2R2nUQGh4ACbwAAAZ0BnwpqQ38AALE8+IRV5bO/H5iQCdaG7CJxVDAFch8BFiLAqliTzowh\n",
       "3NFgW1/SkvjLHmHCYtlbCsg9CgjIlnRc3qoRe5lqb7qv6m70YVVGdY9lcOJsXziq10jZguZ9br+X\n",
       "7EE0qwF4MBc0AYv3Xmiw5OXVqz/es/xyL+OdYdVwstT9kzIMgjDrpwaUIaF0ItqwTqszESzUCXwG\n",
       "wnRLppj76PKnf53lfx0Ft5X+qDBK6xFD39FviXuv/n+tc10+WP7/QF4lanThsmr0epHLV5l/5EZJ\n",
       "vtVu79SFAeUeUBaD1LR/59t4FXzYNjxPodPN9/v98BLphBuEQISnKDCmYGJEcp5PTwtwOamfwStO\n",
       "LkiKedqjQxeQIWW3ENbAKhay/24zOCj6IkD2vLGS4VjH1NGdbUbcVcbtzGYKwrfUdN/n+yuI9JfA\n",
       "zPjW+pAcM54SNVVTZwFEnCQudgAFe7j7mGhgHQsj7BhZxg5YvewrpILmzgIrA7S//E/O6mqviBLj\n",
       "nqEyCpFqJpFwld05KoPjSGOtJ02876ABO0UAeelTMAAABtpBmw1J4QpSZTBSwQ/+qlUAAEAVhNew\n",
       "Wy5Jf4Z0+4ae7b9mYgiSvu+jz4pJoSsVSDADVsW6uO/r+PtvIL9UHiCpkUn4Vu7WkqHbwJXdED6n\n",
       "ji/F0dHkeZPJwz0RwzY5XkJQyW5cRUEbZva6BRUXidcR7Tk9L2oiL04zOCtMEPJ83M6mVPWZJ+56\n",
       "Dm0oBK/FqAQ1MzJAvspHMoIP+a7z13r2cFHS6zKznRk+sAB7OUSWnGanAE8GMWPdmV0y13jx/rvq\n",
       "humhTOhylqB9JfrNWi0LIbrQ3YW2MGWu9k9pjCi7SeIpaGvKch7kec11skiG668bP8hDOk/id2+e\n",
       "PnClsVMqj94FO9V5TnoW10j/lh9Ru4x1zJNEJQHd5SDddh1z0epUkHs1Ww3rnlzrhpjcspxP7hRH\n",
       "lcGFn/+H78yeKjhXx6YeiGQIInS9xDKv5vLySsVvicKh7Noct55GvMCLwaGYiogWXGT1Qju+sfsa\n",
       "l0HlAk2JJCif678GBZ5VQac8HmQ5tLgKr6FSUZ8JDkMtaN0eQhEG6F/C4/GGAnw1k5g293+h2Uo8\n",
       "CFFTUlZ3IlgnTvlQIw7ROFSFPGfQEdRuiEjUfS3BqgpQssNqQGNjmpoL63di6mRQc1I29j89AZ32\n",
       "IPS5g1Q4QeEZ3yMm1B2ZRw2dPuNoLk9dYr1tTVOYues/+W7SJIvvc/hkoI+8RZ4ZMi83aIHuGrPz\n",
       "jQjRUO5ZprFoI1Bxdpl+zShoUd2u7dmY1sI3EgQ0OlnP6wUjpb8o0DnVAzL1rq6eO3fcvx1NQLZA\n",
       "EEkUaUTKkbF83KrqNjS/h9aHEUwItBvH2tvHnEd3bTuUkGN82MDdqhJrKApbfoj+TErmlEXWcYn/\n",
       "nqCDKe0YGunje56rGBUgIa9WfPGx0Zq0lcggDec1uT1wKSoPd+8z3DfEM1nTl+izHWZiOgCyPGnP\n",
       "o+ZfTUbsZ3jRUBr1H6h6aaZ7iiqAMhaFM30S97uqMTCTQfsvh2aDj+/+5nTNqSJJd7JedlJTl3ik\n",
       "2JbAnamGiyDRXuQq0XQEBmV4tUL897Rh0bRB41SsyJZeJgFOK1LYRq+zxSE6tfPfK9Fr0LY9fQKu\n",
       "mRxBDmGU0pjY+VxlJ6wx+AT4ZkeW4vmoeeJn8hLEjuhnCFPioF9gWstHn/pBit7BPB1L1kWUibtA\n",
       "np/Trl+O+obZ7mnmWkPd1q6LOfNtPVao4HxqIXhcwpWMOUPw1kzWyhI6X7eMqsFQRGiV4052cWYA\n",
       "4Gmx24lom/hMmxhsDrGQPa3JF7oZda52oPiNK3UQJexXozCNzdIw7YNP7LaIx2+AB6SXhdlYXWyp\n",
       "yMdwgsbsrxoGd9GCF4ri09UAR2dySja+mLYlvqypvIBszial7k5imgBJWiwRCLE3G0QYlgpWugXJ\n",
       "VWAmKShh9zVRetHj9D5X7WWeOiiO7F/cjpZFSgWJZ3of2LJ/E2sBcidtpxqEmcnfABA+yBu3Nls7\n",
       "XEpaCm7I6O05WKRmLneHljMEJjISJ3QWukPe8H/OCT9dnH4LWccAEKYrGCTeYl7A6NmC/1ZuoZBJ\n",
       "6AekhWboKJWc5p60R/WG2uAN66Z0W+5xjOvrV8WxeVaWl0L6DKsfjU5mocuBCwWJLchBcaX8AY3h\n",
       "yb1R7861DB5GGjFCyAg3Jn1X12+/mOQN9ANXvUJjad3oMDcG2pTvRbtdx0hG6kXZ0nzDl0DYLOxN\n",
       "07Ze0ji7M/q8DlL3C2/G+0qeZ4lDWzGwBszOn4oWlyHp4UncIqRWneU/NExe0Jw+cTNSpIQ0PYHy\n",
       "SyAXNcw6Uc2RZHrB1ud76lZ/Fj+S+m+Hh4PNHNYc6BVfUCzSrkGaEmB9tKfsplXVfdxyKlC8nzdb\n",
       "ixY68j7fp7g0Nq8j5kPL7UCYbH5s9EO0i7yWoecOrFgsqjE+M4YWeHVoEpJsctgWiewOtVuDL6Xu\n",
       "UR4woOVrPVpNvGtbWptWzsXrC15YQNbsFVVHMlyoSogPJuSLNiQLqkxIhp90HP61bdwH7B84+SQ1\n",
       "aBwQQNQTnAcHOgkm3fJWODAHV5OGEsuD3Wn9S5MreDYW8T+3IEKIiAIm1iJ3NzQmIU/gqODafaNf\n",
       "cmM6/lNDQXVxeVeZ2YJED26uA2JutsWLTsEB2uaeI1zHPaRHczny66TyCmJFKQnZ6SriOk5nq1Tr\n",
       "CorSnT9PJtDd5tq6CbgQI5NFoljmoy1mRBRTBME2ZHhr611GC594xkyuR33WVFbTdPb2zP3lZDj5\n",
       "aix9SBr80ThB/xd7wd2+U3gNI2m1f77KUrpNSgCM+wABnc1AAAAN3FUAAAWOXdW+G6I6v2ov4JTo\n",
       "AAADAACP0l51AAydy77wAKjwgACpgAAAA4kBnyxqQ38AALW8+IR/AhnnkANfk67Bl/D2Mn96d9Rg\n",
       "ukXbtbgJuGQgH2rXUbcz7b5+YM7vj9jn2yxkTU9RoEDKEIUeEgIwNXLFAcG9DKayB5dSKCBpG9Cs\n",
       "XABLsTXJxrdIZbMFyZndgUvBMwvvwbrxlPRiycid6BIulsgCtjpUo0FDdUAxH9Oepf/ng3GNrIE7\n",
       "eVMnvnMr93spAP1ny0jwWOdUER8lfAaTsUOgWrKL7Xh/Mbu3m3RmiQAcuYYIayAXOEchG4IIAAjp\n",
       "KxfQoGfhLCXIL6meBOg0sjnxn+306MD5iUJhnAYg+T9Cat+T/ok6+yOF5wPddsLJF23MYACZDCYm\n",
       "drBYFvAadFDMwmQO83bTXH8SvrnVVUOq+dObFr+GX9QxFqs36p43po4JTPtig6kAt7VkfZz6p1QX\n",
       "JOSeLwq730XOFbHUrgV9Ov4WdjWfkA1R4Q0vyKeny1zxTJbgRw+cczUI9knwKBOdvbJVmJY4IhRQ\n",
       "O2r3ZD3YiJ8DqWjY9qZcLvu5ROEm0U/lMH8g7bICYRJYnLi4cOF0cIcnLYHxxZuItwwL6E+MaFU7\n",
       "TlB9SGkNrJzBlep7WRJVdjIz7iaDkQ9vqi8flmdGNYl8wKUVa4rSSZJydfq/jgARw7RTD3giPia8\n",
       "4DvCBX0DbwrflCp4s6Cu3wKRI9Os3tTdEmqoJ3xbhh0l4UUop0XHij9bLW5t0jikcd7piG4wBLU/\n",
       "ZSKBxPCPl+D96boNkEtQJGNfvZe/rdEBjpSwpRWk5StvvJachZDuSHwPgOXDbWHzZrUKghvt88/m\n",
       "hFRAUubWI5RvPSOya3hz9bFrOyYt5o6L0p4XBieqNwyy5nUf9NYs5tPZpQ8f4wSYggujTTGA7Jmw\n",
       "jyqj9OWYN7+9Gdldg29Mpu0Iptkw70kfkTA3Rlfm7xreJ/lxkZhcyCAoGqV16krLWE7Dqz3VSJvg\n",
       "Ax//mrTEEqgAFrzJJpEzioYltouWsXPMdUzGeiyQAATFAVjNwmXj8M+4iigYJEQ+WdGlRLgdvldf\n",
       "9xvwBE1C7R0RkCb7BJWzFhZkiJsqUsAn9/+JFlGKCWg9bkHhJnkCJWlLDQSKCWja4JvPOJyWd0qA\n",
       "AEl6yoW5py6+QtCiWf5+wsITKkxTUqqKzhm817x96SQkTex5v5kRUphXSaA0dj892FkleZXymOfj\n",
       "yURNsjGs3chb4Mi+epoL5YAE7QAAC4xBmzBJ4Q6JlMCH//6plgABCDIGC6wRVdNH7x2reFbiJDCy\n",
       "RRfya9pG3ZnpxF0p30BNXyjYNJ+crmN/PjE3uRPRbNm0Yv1+ITzG+R4yRyTIRvPDaFeeOQZHEIpp\n",
       "6HKfLmX5uy/bpHNi+Py3eGqekaerCak25IWNrA5LLEkWpdwl86a9QC4aolDl0wYnSxhN8vla97Mc\n",
       "4oafclTqsBUm/i0vZRqcTADvmgCZ7USJhAVQsp2svN96bU8Ch748+5CJHvMqqHw+zXdP02My+YVq\n",
       "BQQO6BorljV9wh4YdrvdxSwmGVXCyXiZimCpTiSAPguhMbsCZKlwRpeeh7Kdd7KfsdB7AJDglTQU\n",
       "dH90NsdJKbzZqwybLJq8PeiqUVqrkwZZlI9uhmi6jnEweEz2gggoMruS8yu1RQrJMc6T2yQtxMZF\n",
       "PzkKbWCIuGZL1rdIwnS6FbIiglox75p8MWLTYpQXvgWcNFVX1mHKocaETPANJPELUPxw3ZssiohT\n",
       "/WSta7Tw/NgFWNlH1se0Ur8LO+6ZEjQ4NfkeV2ie0ohTVWQGpaHNiiJY+8ofIbN2c+uOzxpT7h+I\n",
       "33YBCXiNt6R0f+p9NFTIyrPFXWULfwOjrdiyJBHkipJvDjXytI4TnpT6WqH9vqrNa545U4npmyu6\n",
       "zKeHDE6G92IfOrOJ1WXpBTmXXCs5blrtmydtHzU4JYB3xMcxDyYHvU8+5CKBtPlywbr6ReNO/cyJ\n",
       "I+AGLZ3HvW1zZgElh4V55yj6G7g0Yu1+imofYf7NAdluRu6SEB/WfExE9kO3gGwBrPc7KLu96sTG\n",
       "b142E0Hiwbm3uNXnBTUJ9gw+aAoXfoCXeRP0qbi0mus0y0Q+ZLge7m7MMgmXs/mpN1JBLVo60QcV\n",
       "rtfPcA2JHu68/YiFGB5SKhUkP0xTd7pj+3lByRTPKLwe1ziARYYFqqPqVRmfPjJkypDyomZ6unO6\n",
       "/iHr1Gkt4oc/k9myGHAqnPuWfSEYAOUq5sqhd+q+oQsveGPcurZwxEsLUiGI62lQxmzyfofIewBX\n",
       "GkJ3RNUvUGPxUiNL4iO1rXzwSiQz2vsFhW4t4NObLxV6s+LwQKDrltgmO9Lv5w4qj02PscFzSjEy\n",
       "e3+z/VUiVyL0zB3AU8EkWj4L8zakeRp8OZYVOraVcUXNaH3Az2bAib16HzqO3zjndTKN/lKVkJ8L\n",
       "iJtIOuye5lTaS2qW8iuLfFnnJv+S4XvxRtEwpeXl+mYFjdJRyuLWSlUomeJaxhyzj/WbE/RlMXo+\n",
       "NkutrzO2JejSXzU7757wgE8hySw/pB7Gomn+gbnA32v/XoK/5bEFD6KAgQI1vtPCfkaV54rsbaTu\n",
       "CFWAY2IDlfkl62rRkgc5mfHBTD9J/Dz/bnUOWSmsxfWib6ajp+OBbQXrO3SI+ThY8AI8ZOK60d2w\n",
       "IXvZ64+kYDdjCj+/NUGNNW8lzsuUDHk0zPtufft7PFRmzh0OeQ/PZpxFeMWYuVYULwATWhJg9H+f\n",
       "aiAC63GuHREteBHebHAvajCoA0DrVa3vvugdt/AOnF9LmfQDTGc7oy3eHdCLhuJBD98lFNhleREa\n",
       "fV7D/ec4MMpMVfrnuPlALUlRdEa1z7z6f8Sw+CfWKK9QtLNjSV35hhH51JiXletT0rtRlZAwALsr\n",
       "G8UVSLUDKyH7yDvhG7HUsqPNrn4vp4ilQOmCWYs9UNwgIUvaJc7WAsPHHDmx0P/n4iNJQomvkH2v\n",
       "6uXLTBfWkey/GApxAV1fdr7iNS9u9StOvDH04mKe1VPh+Po8aWdAmS68uSqt7i1Nex1NNhu28TUh\n",
       "yQerktjhNrZoXbMdcyPvt6fFlBXP8kDHng8EzrYuUjRo+Z3FlPBkighGkUv6oawN3dytwwiMMa59\n",
       "VmpWuN+ahew8dHmFD9ljp/utYlJFWhF8p6Y2gnGfCUYwZhW5j1BPMDBE6x4FnVYQX9qq88XB+wDi\n",
       "2BL+K7fQnYRJCfj7zLOBs252qhDUuQMvxNIetumbd3OmlgoLnXGawgx7uqbnxYgmQjQ/f7SEt45R\n",
       "H0bcCfnlWXvQTR8j80i0PZ7nxp93KFU5fnEhqO/NelWYjXxfwRCJP4pI4BJ43lyBnuom+JK20F2D\n",
       "+wQMcSQ9xcNf5gS/nzcdmMCbukjQsIeelXD/vLPEWsretpnW27r6uGvEO3JMcKSFd1CgmFIawbsj\n",
       "8Eziw3DTjZdohja72J0kvzLrYw+UUq2RyXY3pFX5z9tZUZcKeBxwuiba2giBl1zigLT8tum30qC3\n",
       "ysXXsWDYSQbcD5NQ8AKjeLBgkt0crxfwLIFPB50ub8HEsytM9X3LpI9TH6lhqrWk133V4sJxwTzj\n",
       "oHjxZfxPWi//dwh5OnNkxKUGTpmTd22Vrv+kGJH18d73qpj4JcG6IACEHjmFbW6V0HYxdIh7Q6Y2\n",
       "C+FLKjVu7IpnjvdYDXUIa30XpR0vEzETuHvuiGaYJqy34tlflNsHjWCadS8t899HANAtbwYUXDHr\n",
       "TZbcHIeabHiX/zFbn4sLJSfYjfYhmONEBj/v3GgTase0ndfwWQXeWmo8ORSh0PSu1cZ41gkPE+P/\n",
       "7XkB7f6wS926G2HqQUDEsx/swEdtKKih+8KsxZiGF6D7jVe/9EQkhLelKKEewXeG596FDrMQCO64\n",
       "WMF4BBdi5EvooWrfdwpvFdxkwE20g/d7ir+wDhQx/EXeeEp4lG1St0f+b2KL8Pcd6hRcJ3zVCfBt\n",
       "jW06WZPqSM8rLEc+eQCIG3aOGosDszmOF/1YguzFjvE6W4xGInu7rMam+y3rAL2SVyAXGNCA/kHL\n",
       "NqaEgEaSE0PoEpVNJnMhJ925XztZB1EGU7ajovNlL05zh1ECoddqaw0+0Gk4MK6MvBoeH2SMZvvM\n",
       "Zd0HeOXnATZc5JH3p2XsPMJUDmA2jQtYaLgqxd135tljwLNqr6v7cQS+RQTaH34Nu5CqThENDrHx\n",
       "9v112qT39TYd8FIaBmMiPEubYKNOlywLQW6fiworF1VLEMohAhF4dE7UIwc6WtCHNQtqQEPdX1ZT\n",
       "XguFB/ZOkyY3Z76Q2kV1wrQTNGWfcuryjpDI5bL40aYNlbG29XGGfoJ/SSl7iqGRdtbrd/4COIFU\n",
       "HFvtVa4xFGzJwAxNWPIoKMSPtCtHE+ki1nuSrtlpU2c1J+AtD0dz/gZ4R0nW8Qs2YK57KXMI4T30\n",
       "MX2QUJMNRu/s0pPrf7mA0ZRx0MAeggrn34iyWw0X4GUt25BDrZjBMCKVMXBzIjl1FZ+F0AEvODra\n",
       "BnW0GuUPifDgV+my+vA++L/ov5NcjLmb335uu3DFYD58DICG8gusiixITdPagdG7RgVJYF8DEy8+\n",
       "6VPDDnYKUGFN5eyQPUu3SoF/yNNl3os85WDU/I3YskmzYI7QT4DciKKUXitfoNAle04bxAkWF7m7\n",
       "VAnjVpO9Ikvm3yzpGVW3x32+QU6LdHmdmICBpZquUIWdxnPj49oZgqwvNvIK8/Gw93e4058YRPcm\n",
       "70OlmesOI7k2n/ayrAOHCsvPC+BHKT7Aa0g6KnC83wZxr6m8hC58A4bUOc+QhwuGkxDgVYO0KbxF\n",
       "ydqkGMbcvDOW59doH5NvQZ8NpRO940HlVXzaUlYW/1xEtB1ZSyfw6tsfoqS4imvLUt1RpF4vacV6\n",
       "cn7lNFr1qZ7skLOCcEDiDy4OmXHysVrCCx7kdj1BRXKfSjJpy7SgeFCE7o+m4I1I9wTXNE7lTMwi\n",
       "dfRthvYWIeo75ESQQZljM9Yd7kAHHkiE0vvtyPHtKroWRgfImTIV54WHuvbyFM4TiqJwn+fk9sYD\n",
       "GxKgEtE49P+YU3BcH2j1U2YbbGTi0GW+sjjokrOr06c3uzmPo8YYKza143O/FaSkfnuBnKbAio3d\n",
       "Ysk0MVxhm91FuVMm1kDfTcZNAdC2Zc6gHA4R/2BtD2+L6BpgGv1Lcs9YAAEUPq7vWl3xuJSHMPbm\n",
       "dqrDhYgAAAMAWRKVQAJPAAAD3UGfTkUVPDf/AAC/F0mHzoOMKbXquVSMFpYbudtF915Pw2xmniwi\n",
       "bTevDyCq9I98gAblj1I9EqTbK6pMMgIos4df1A46g5CLc6WuDRUtpVnqPefI4yIhRv5Einzsgzpr\n",
       "H4e5u2LWRbSeMAIuPzpcXE0oTaYeD/emLa43mZ1DqGEOfaNeMA7knsj58o6G9zIFtmcc4HsVrmZX\n",
       "UsraCXmsvnNAIitloiNKxIZYKEx8s9ntdvz27xNokMLVv8Gj+7Y4L6LsoNG/yLJ804vd2XG4YtdW\n",
       "9MTOB8zQlvtMCpAsc3sNY13o7u0CnI87tJfSjFQJ+AcuNSJYsRLOGbwfgGOvURFlaSM7fwgP5II9\n",
       "dXK6OY+EZ9NG4NJgLCKAhdQrQo1UNsv9U8Q6Afq6Mvj8XeCGXB0E4eugKBCY6U7u0qs8Mk63V1+v\n",
       "QiraM0bRBo+iLTRSWVWmfgY3uvrAg2qkDcVuYp6+t3JPztr3oCw9jRe1xdqu08BQMPx14aMzYsQ+\n",
       "2v6LQ856w9PzBt4EhS+14zutrHTpccw1PXC+OpUhDAGc9MZpS1qSi4zbW3fKcwulTlUgBHLm15cQ\n",
       "NBvRwhoX5ic4aj8XkBcqNbdiu/zrS7neqEkLbSD2v0S9Dvd9r8r3ypXtKhr5p0wyPCMoJQs8Pux4\n",
       "6ot7riCFsQFJote2A9hAHAiEIroQipE2Q9xeWNV3Whz6rxfkPwTyUU43YHHMK0nW6QwwOBRpBr4l\n",
       "QZhXYeJ8389PkR5hFiYZli0XwX1DSjslzNBYp0GebkfgqApclk9Isahnc30c08ArvR1qFjjR2nbs\n",
       "Z+uiKBYBnx6FH9c0mBxtZ5ruLOUP4DM+qcjV+4XFDL8mFz9AdTY6+AOPolAySjQTFcpbpGolGx5d\n",
       "UrffXd5riClmTnA+hGS5kzJ2B2m6OsAns6m6wEOfEu6DgyShvqzTaNHamkbAQOqVQqaIfGOC/mYr\n",
       "hkYTmpvlGiZh5wW0bsceb7J7SLgMjFJm9aTF2fVM5o9HtxV6MdhkG85MNwTCved68ZkCKKzQgENl\n",
       "Yl32I0B10/3Z+A6tUFTzDOyFIEfOxtEmBjYDOQg3MSIzjcidPhCUgiTM6sZhDDLzD+7gN8cUBWQB\n",
       "0KzuozMpGu3pKvIQF8/VRh7P2N5aS8+SvqU6Vk9BCsEb11Bqs55WWplj7CH0pSQ7DorNC1PVGGn5\n",
       "9bVpBIjrnF5Qj5xCpwckZ4nyQBOcCgah54ZDgsSv+tCnrz8FvpGUMJMe29u7A/VDH7ISl5tMVhKd\n",
       "tGDYdF3tsbvmyIw/WCUsHhL9uBfQuMJID6aF8s+XBhEAAAMAAE3BAAADygGfb2pDfwAAvxdIt0mv\n",
       "MOZmqQ88g2dLIGBSWO6fhN0H4oSkkYwTe2yQAmbaOVyzHs3iTcd5MHvXAVNVNcehRaySwpg/heqt\n",
       "pwflsx9Fn21Bmrz35FB/nDmrwRx2EfFoaAEFPdFOXgBiUG/kNQtjUJrCT0fWgtCpW40JhXNAKQkL\n",
       "FExQLdaaRyqFoQ0aWXP7mfYGqmA6QOkJ3cwsem5Xn8Hlv+0bptSqGQwgL9+fjdHbvY+qT6J8Tlmk\n",
       "6PU25CMN4P88/fOWMHYFhOPPukqxhmaKNknQ3EBWuYdQgaYVCPItcdqYusf8IkuS+kp99fLsPeIU\n",
       "BNWra06fqT9JkG/E0rTT4yq35TeyycdLBnaI5M2vGAXT7w7tct/ABgJT3Y4pg0JE3GMP1jcukLE3\n",
       "5dCw6sxRLXfdF3Bu/j0WADfPrdVVElCy02kWKy9P+3cB+qpVPgdahH/dYrhnWSj9wKNRBrcE4IPu\n",
       "8unNdqgnjMCSDFIM9TfMvInfKiK9DCAlDBhC/QU9x4orcbdynXNF8DpUE3TjtxOOmzntPUsmv3cg\n",
       "O/LAteqBbVKA3rJxdYX/nKcxAhQ0ZWwDSsbW2kl19MTsG9gHjpRUwcCGhoC+11xfs/1RumbeOqjI\n",
       "EPINobXDP28uGQbE6X11qBrEMplB/alyGY6za0+v360kuhIMCx1ipkblMvsgdVbe/UZU7kXU+2Hp\n",
       "LxEm1zjUua77evy8u9I0+4cQ35x4oXdVHAPhqR7wsiBZKYJyL/2SHEtuwMJQcHloTI+hqqpCfm5O\n",
       "o1SeZ/BCti7E8szjjW7PdGb5cb1CILXN/3Hz7uoCecOLeR3XtasiuoAXRwHrxNiE50p2bm8pWahd\n",
       "zaMzGGb6t2bsy7kxub/+rwKqFrJMThdr6WD7FkQ803/ZFvQ9NDYiXi4qXt8Moy+bJt/cjK6Tu5qA\n",
       "8TtaKhIPBm5Y9qdEsPWy50hElWV9GGkICOJB378TOui/j3AVh2ZAdJDdJdVi/ySGeXC0aRnbTitQ\n",
       "9icbvboYeAuqsTvREx0bhl/WdvXAjegq66nZJRm0+T1kiAKWsLqfD5xQy3hVQgolTDURw+CtLaLT\n",
       "JcpBxJzIQkbGoFTuuxIxeXDMGzIgz4fyNlhf04MYHeuW8N9pnKTEDDM6yo/9Wtaa1leXUfVPQM32\n",
       "I5z4cOItCrqtAAADAXRGYfJdRz04aecXVyCETDkyl4AGVxeTcvCd0dGcWiBgvmZJ/AcpfclZ5ZYv\n",
       "LvzCcX5mexAKTwTwn/qhQzGn8MTpIkVDzH4oUE4AYVDNwdAAAd+BzwgAh4AAAAfeQZtxSahBaJlM\n",
       "CH///qmWAAEIMadRzEIgLE332XiL8GWnU5ZyGoB/DsLYYNdgUnWpC/kAMfKX3bmwAkCn/VFG8TSF\n",
       "v+rRvy/p4/xlRlgpNBbdRxxo+Oi4bskYJlc7iHkYqkAUyb8VxzXLbqhHDtFVHACzQgYECmuflBNA\n",
       "+kOTpTvqdwl2eqgyDMmw+YDRW+zIGm3JqVYr3Rr8S4zKlRpyw1pzGlQ3VcXTC6IDo9x2tj4gNEtp\n",
       "Cf8VVwf37a0zVwtgMel8EFKLkYUFT9s/M+IZIdvhFAOvSOArrevEYaJaGFvwNJwgtJeep0fNIWH/\n",
       "JHcvJFkRdWR2UFYuEMmDFmCJ2Jwlyzkqu7AeOtIahoRroa9k4HFF3Eiy0GpDnexWGN7Tniyb2+Jp\n",
       "epW0+yakj8BB+MyeUTduTpDcoc6nCIA9uh4cUBlvaOj1gWKjmiKyjUa74IXlqwtFJycJ+z9E6J3r\n",
       "XmusaTTWGcnPtL7hny5J6VgHQ3zZf91ORDLgeBJF1htmnwpd73qkH7kiHrip6W5N1pmifgG0bs4e\n",
       "h+P0jdCCMW4Bc+60qzR4NJ/Xj6glOLZPSwmax5+Y/x6yoNzbixpYNwbbExM3iq8/dZLa1C4I0I7t\n",
       "X56SpZwXoHrbvCW5dZkfdQ6aGMM78Ptq/M5v2rdWRB57GSo9ZI0BkBIvOfYl0oLNpvcovW1rcyM5\n",
       "fvnM9y1DJavtbeY0XW+bXLERGTiF3Nv//kOCNK5o0zdxREPXsoRW8DXx/duAreeT88kxiuEbBq2S\n",
       "4foJpGl8lkNaIVkBmqIMZB2N78NywEXM6e+LUbzzhFHhgautInGRIcaX2N0HlAqiruLq/TnRZgCB\n",
       "YzMruHKiUS6IvkdpRLuw+NgGLfak/jIvsljrGbYNAZdhVfFAxCWJFafBHWc82vYtKWVnuJtL5lJ+\n",
       "WKK/w5uZLCT40Pk5IwLXbpfQFWrrmMt2ovaw6KP7hkCi4Blq7PfaJrsZ/i6kiZon5fx4lXye7jdy\n",
       "LCmmrYVWm3keLNN43PBiQRxxpxwBuFcqmaoUNebYOwpcH3S950nKYh3JY5+o2wvPn9CQfd+ZN9w/\n",
       "Ir8nHfNHOHSl6KdwJcD8jSYGksQ03HU2vqKnYjuANTv/lc6aDaDpfVy0xQ2bl5NiA/hTmrZGOCxB\n",
       "E00aMWwtSuYG2qI6G2LmFfmoFzzDMP18N64ZAA/ZGaWB+XVMduD8r8+vmQLPbJFhhy4r1jumTnOY\n",
       "xJAqUtThcYRIekXnxehjmUpg61S/1Z+238pwvUqGogNzoIn2XXlezBTQbD2JTLhHxr4HwA4eekBW\n",
       "/b35EiWL4gS5uJGkhVYCzr7e7STmF3EUK2shTknbDwph4KMLeeRrzBnjPhcXIJW3rB3Jc+l1boCj\n",
       "aacU7a4ymCZdVNNX4x4N2+j8z+op/1PYiTNuS1EGfRYnLl+O+UwvUhYv03SN2HvRle8IpG4ZkKTL\n",
       "6oCh0TIpGxY1c8QFAoU6FFTv+c2qdd1VVYbdkzF/aFkFcC/qh+1eU2d2PfAhQRLrDxDdWrHF499x\n",
       "UJSu4TZCEmsVx5f1qCh/cmEW7bJuixSfTmllz+zA7LmzkmE5bXLe3zd+OX6rhTFYivG/HZadZqW3\n",
       "bffRcUsxy1IaJoJo79F5chowYPI3H96kXaTxKvQcH9HR5UsG7FpH2F3yKPuYPEFnLBxfI1IFpBql\n",
       "iRfEezH43zxDaj06ju+hWJCpf5GpY06PcFjUqYH5FVo6IJniCsBZmbBHLvgNMg971PRk8pMAuMiH\n",
       "NxrqM2LjW0dIs6nKuD9EAcvnT9o0g4gg8Hvs0PYQRO4yaUUc8Y1e0a/YVHhPahdEqbFYsZFxFRLU\n",
       "xXY9VRE3TNeHI8xubR5Q/gK6/yKVNoBeQTIYZAXa5wtAmu83EOvJXS8Nm3rSnb3yyLasHmQ1AoUy\n",
       "+uyfWY0kt5aBDysP26T9ljSbO7qwRqQXmxluNHNyfR5/jeLp4qIiyuXTSfRSX7/+X9gQTrq1XSjr\n",
       "kDpKSvJ2Cfo3Qb5PtbKv2DO3Kjtfv2EtYhoLO9fAW+hiDxZrJFpTg/AoJooYq212KxvCz1MTPviH\n",
       "fgXDblMErOHKPYohtiE5X5ycc6Dg8Gb4SZ17K91QmIIkX3b8Kz5uiInyKJecwetII7EWeJFWo98x\n",
       "npfVVMgCKAY6fNbx2oUVtNBawglxckbv9YiYWtldIRgNU7HZMPFCwc5usixEsnL5NykxQzGsHNHc\n",
       "7ZXNxt2UlOoBMtori6nNZNRcMeFzVqSpEfEszfD0uCJ71ZuwofcJgBbtD3eqV1QEbHGKJIMjEpkB\n",
       "gaPdfY1QCKbdCUkCLmDFEhmtoN4bGj1K0gcLzsLO0jIXkao6sfVq/wkBOxJOjPNNWUssZSMNVoXj\n",
       "huN9dB8Uuog7yao+RJzpe+FcMXCxi9f6AOcZ88P2KN7Sec1SUdHRFdlG3VkPOhLiUkrIzeXTAJ1q\n",
       "7o5gFvMcLOIps4ykEGlUxiotEVdbDI7tzgxe88Bp2beu09O3dnUw6RAmT2frr8yy4TnuiJ3Jz1Qa\n",
       "YBnIlb/YSf/E/fkMt56NYs7QdODUo4hroKwa/VBV1S45OmctfvGUgKUa28BghfcI7OkuO1jJ76o+\n",
       "tiBvWAyvCAYJRB7cH9Vffp87e8bv+WJO+egd/4PyoHnWryAamBXUIm2FEyOsP8vuOKQ2a51uYIAA\n",
       "AAMAAOXFKoAEnAAACHVBm5JJ4QpSZTAh//6plgABEWIbHF5ahG4viA/f7+ALS7Ww+cqwmOTk0FIk\n",
       "KBOVlk9ploqdy2OF4zwntuSeLpCsRA4O7n03NBjUvXAmRtPLY+Hdx7RFGE+rcy2WQYBHXINlLt9S\n",
       "lD2Ts3XsptoXlTfgOtw8PG4brjcsZ07lBCT8dXgX87Yeo0GJ2AiL3v3BYHZUbJOdkBZODbkGFH1K\n",
       "bzOpKdIdESbfdfhC12OkdeqsP3OmuWWMR/gLyrpFQYwzgQiCZDvW0PaGDRiA9iH2U7nNi/hihMEU\n",
       "+/0q7y262DbCRskbs0Mk/j0RlEVmjp76kbOUD6OlhDWBOBZ7DU0T4b4mpIwQu8HRj4LtZUU7/RzU\n",
       "2RQ1QV+ek4xj8SkzgcdOGiCBLVLjwsEySlx/JY6WaHI1eoVpoN6s3JGGTh8T049VEE2RnsBXjtdE\n",
       "2xf0WQ66nt32WtE8zItuoD/ufK7ZfizafM7xtdlQHuUBS1FjyGPTW64GAZtSAeZuOsillznki3wz\n",
       "5GpoM8gpH7ckuvI/lUjHBWyszE4zYtGK0vZ+gQo4BroR0MJRp4W+2bd7ARX2URlwkrO7Gc8JIu/s\n",
       "CZ+e6vg/19R2VYTbpa6vlCajTg5QzvQl/PDHtkeb8Kd7RKBJ7+sqdFG46LiZfusSdIfh7RQB4vTm\n",
       "v6TfxMwKq3zj1mFv+96pwmfZ6PcfwWrbgZ/9OO1vCE2UjNWlf6I6V/DT8V5ZlWdCwUchM39tIY/D\n",
       "z8d5wOvooBQDHmynpqEzFMcgfUdjP9trRKvH5Q7Wup/UrVaCDzKqen0bRtE918WlcQE/8w83i6w/\n",
       "UTSSYDa95I26+EZKIBl5QsV0MXYAHjklsS5qdzk+zKbOC1PlH2c2frHaJ5QdqKplwfnGoNeX+Hfr\n",
       "Qw3SWFWo9BYXjJPD9ouCiUlsGei4EuDYt9KhLk4/2ho0nHeNMFlyZX9Omneakeoq8TF7KMuE1Ec/\n",
       "NCyONW6mE+4N5YE6lcXn87bpMF91zNLnEIgU1nCR3N4Btk9PrjrNpq3lF+1FmMaUlLaymLHtRwm7\n",
       "Lu6Cd7buyPoO8NqPWI1yUhVCPsjGkJ4vsKJkG9bGEPYQGavIoFHBYBZxk6J3VaGCA2iO7AKLrxxC\n",
       "H712tbWanmvdKv3BfQxls5gB4LXs+3lJT5aCTsR1ScoDrc6LsfEfKqc6uYMMVr6IiPmYG1bE77pY\n",
       "+mAdgVbSBI2H0xImHQiVvJIdaqdnUFVzNRVYQyVe8b9y7F5zrEfEFt1PaoXQFDJ6mUfAN9YjMVfA\n",
       "ujL80DcsN9STaTi0gJZdUgukgZnxblcNHvDZMV/KyTdCRngcjjNjxpea+lTKCsZm0KmmgNHCJntu\n",
       "dDyhkCjC2jbodD7mYNPDZ7eZwHHEN8PBAwDq/6kiLXCBkoQg0xM1TMbXLIjfk0bHM6xy8fYhJdTA\n",
       "ShWwf90fYzFakp4easUfur7ccqlItKFaVbD16sl8dImtBqWsWdCVaIvJ7JdrrXXDuyy40yPALrrA\n",
       "fWZxpSYaDFHHo0y8cZ5w71KCQjkpnzSZUD2H6mZzkg0k85jPsMaBdAjRwqmp216vutGqQwoLNIIO\n",
       "0Iv8uFyDpAA68LkiYgFyiiJs2+gHJkBIPM3SeBINKlE93oXMjwfxDFQV8PZC3fJAWX8JZ/x6PtFo\n",
       "G8/qZTkMH9h+4+9UQs5TPRIYDrtz4EelP8bHpMPc/1rPmRLXGHBclJSWVDoT6h7lJCu+OsPQIct+\n",
       "CnrZgSzk7LyWP/fafUUkrP1l8xs024bupkyy72554+epZ46adJ+yQZMgvU6ebi6EeuUeOs/KieBA\n",
       "/SFl/BYcnF9tahMQcjat6rO9KqxK9UUWDMrPJTi9hfJycM6dWkN4Wk40RPH7mlorgG4AeNuJ2fJr\n",
       "TXAbFCdYNGhsNXoBXdMCcteNmftsyMw4wvnNvwINmbbF2px/8T9QJt8LJzA7wsO1QzH/+psojpRQ\n",
       "/pYlEK3Q3V2r8njdgEfIlG64BGNzcFIU11ICo37sxtybDiACVbUYTlBxjTGUa37XaodFy9n7WyQa\n",
       "kro3C8oyw1fsgCudanA6bg0QFWZMpJN+EuPIxfPS+8tLkBzOLA166Ii9CjBchb+ekGQnjRnQ0Xwb\n",
       "7iggmdxQW72zEi1bsVLa4sbKLd+nS2VHbPdQYYvZmg9oWjsVpoCp8u1236wHlc4zBqeKUfdiaT50\n",
       "oth1yZ61N+cNQPsKt/LTs15uz+t7zKnNnEu0ShEiwjXUi6SQtLJJdgeK9WV8PGsPjoOo3jPUN1Nv\n",
       "JRf1P/o/thlW8FydqfX/+Q6c2xRyKq9gW8F0Way0cyd9m+fc6+CB6Wup4zpxDWEtW+lteeCEYnvR\n",
       "2i9V6jFmJpc8Ezm1g50yBd35/Mx3w4WH5s7RUSgT5pXc01rTeBI4/HqVdV/kVtd9LHsSE3DZh8EJ\n",
       "JBjfPOKYrqsWF/+pwpbXtKnQ0HVPkgPt8PPRB34vG1/ZHKzaPFMcyYVO1XL+td7v7aD/NSytf6G+\n",
       "Ld3+s4X4XV2Hsx1XxqxkZRJSBZ8jkmeLVkZWu3tufHZlvKfC97dKjRo0PuEV1RR/YJGKckSIBeUo\n",
       "rlUuajyUeRX6tM5F/7Lu1o1mJ47PVDdZmZh/wFJFrpNphXiAmnN4IyT44gyxGoV8q6JaNaevj47I\n",
       "u5jQzJbVC9393H7JTnWt2Y/sVz6fkZ2B5v2x51C9yyMSM9vJvner+pNN2ymyQ6pu9IveCS2ZO2wu\n",
       "KAkKWD2QPpL7/oZeCHUERWVRX5tLnMg3wl8CMqrx5APCvgcldCRB9MIAVVc1cp6HcxetVhWJfUm1\n",
       "Ibxt7zB8+lw9AQzTAxqfFlyol1yA37S6RhlWdwM6nQfYvjn52W6OzDuI4Rdpd2Cmne1O6QSq4vbz\n",
       "sy+ilfJcx68MjkAl4QAACTtBm7NJ4Q6JlMCH//6plgABEDGsdXLFVPlibkZEm1/Vx2tkSVQt9GwA\n",
       "ZOvJfrxkz73N/ZmffINamkVxSBZREmFV66DTJs88mOgke9HZ4rOtHIKJTA5yT+AWeKmX6rK7X8YM\n",
       "43XC45s8nNOHhTyIFob/VSaxtkKgqe58w3z3W02RrRWbvY5H7J2lh4ii8bT2HXNmqCDQLPd0Mgps\n",
       "AdmPAwW2PrwKiMRlSUZ0Hc5/ArpiwpKY0FQSCT+der9B8yJGABhW8H09scUtL/vTvO5ta7+A3/Od\n",
       "+TGu64XVw0vX0qqUkhjxDnQblI0EfPABTyCHevsJ8NH0+ovMiBL524s8+SWz4yesGCPcI4Hmgj4/\n",
       "k3IiNkiKQk/BkrivwAYr40FFLzwzCwaUZoOj86lSZxMcN5xFEW1qvbYUm5XEu6he1f5Ul9USkY3u\n",
       "7BxgmhPW1oSHYqeeHXDr46Y9k0LCqb9PARsh4gj7H1MUzZXP8OJp3JvDeOZdVnR8ckPgoYsDmbV4\n",
       "rZG3ElB3UafOgcZrTb8wteqjRCh4w7Jg2rWz0cGYZvKgWY6sC/9SQYeruiMuds38SaDMn97yW4KD\n",
       "Lr76eANKRctP2wxRqLA9FGoEcxkJ35496uPsJlIj5rSFSVlLeBIiaVH1jRl/cbJxCNZ/3ghI52wJ\n",
       "SgkmwXN9/bC8aIiufB6YsN1SAg0Ifln2hLg1o/Q2n2PtQLJQOWoP2tHRN3tXpIMUp8d2gtQwzpcw\n",
       "GLrwNv5R+e0iSladzAi6g7Dh9NYHrx/RXCLp7uSEMKr0EKP1bejcW7c6r3VLlxlxQvyNBa53e09W\n",
       "hds/fW0r0OnAPftfKT/RRZp0+i1jnxNTW5/TiVzcxWMqLyXDR3h3VXLPA/9e19U3wDoi8tX6BNQx\n",
       "2RXweBWj8O7auPKLBoTKe5+y3KKpjwiP6ccN4SaV57qC9DciH2ENXGtQCwwjZxctXXJ9RfkgC8Ww\n",
       "qEBYaJEMT0+6Va9YCOZQ8hdUjFB+6W5tDTMcnmjwYeDTkzSVDhOiqKEVt2R0l26aIHoH3tBkoiCq\n",
       "BcmugW69IRzXgnx++nzX2gmf69PuFIZtCez6kgUIGW7MtchvCu7Xemfh+a68K8q8NTyop98M/fxD\n",
       "BC4rT5AhiTnFZX28ge/zkPKoBB5BWd1UlzNPXgjM2qRTrWkkhT2Wcuow90KfUE2eTK4/6FkrHxW9\n",
       "yVPOqFLSJE/t5g39UXHqKaSh2O0eW916vZZ/YKBt3K+qj9yratnNE2OflM4mZab1Bp/PAeamikBm\n",
       "YsUfibDS9583Trwuxdzv2Y9ChqZao7xpa3f62DKrYQdE3EATixzWseaGOFs698V2m9e5kqOteYrQ\n",
       "5okwE4axziRB6GhQfGW8DBMC9BQwoRU6/3dytBXTMKTDsUMLK8X3SnBvfA98YkZFBOHP9sN7aJTY\n",
       "yUUwJHmfr21Gowfwkc+iJXVBj+N7u8cKAUbysl/nfD9Lx722c4BB+WUChi3LOfU5HaQkIPgW0CUC\n",
       "3aFnXsX+wzGHLay/u2M8pd0Kztu8fVBAG8TAM0MPaqeauz0mIdIN+Yz+VKe+qGgQBoI9krKs0tjY\n",
       "rJkbAEMAID7UL5iIMcM0Yfws/VHX8biBxKPGa9QGMRuPy26Z2Ot7b4S8sB2A22B/R0Q4CXUQJKQO\n",
       "Xkhx6HhHaqC2+A7xPgDjhUSYKU+AAiy6lBHb+CRLtfoSUZy6qqjq+leWOa1Di7gM4TDr3jUaJ3Vq\n",
       "e7A8wHcB+DSosseCp2SoMTlZNbY6/hHkgdgVwXkBnWwwmr+ezKc/FnAna7irNVjwZDeLlDCeJF5J\n",
       "zOxUn4qY0KTbfnUmzR4Ewle0vfWXkXIydWk8UCrUSWq1pigwgbqC7pYPmg8Qf58xlezCIDsN3jE1\n",
       "MrAdvfxm3QDXg6f6CdHMnsumYLLGPXGoIQVqXVinGcJRege5T16Myf3kSwiLhq8HKz9h4AwbB75t\n",
       "K0sUrPIbFevNiXBR3TeOXODIb3VJENvW0a6M4+c+PxYIQ+0Z98hQL7dMRn04fhzjSpvv9VClR7kf\n",
       "WfO+nx2D6GihXhoyapnp3SGi+LeIZT14WkZkcDhDhW3xOvKnDxJDPKqnBJvli7JzZXm4PMeJKqEh\n",
       "cKDYYsNyfgrpXxDkA69Uw3eo6ySJyDiEj7hqZhqSGsPTpdIcKPjZALLcnzgYyVSndRJ7mtzzU/db\n",
       "lB6fCJkYxOsvH4FPtIp6V8vgAp6AFQukWxnWEHXkteF/PLK0Dw2FutA/8u56eRm1+a3XXUy0ht0S\n",
       "tyTF0656BmlJ3cz6YFTW2uJ5JSF1DcIkVqYYTsvKMYww0I4+/u4oNUFUyP0ibP9eiQ7Dt5ZCawF7\n",
       "hguM2kqi0VbGaDY3CJoYt6rksvuV5pOO3MmtEC/ouMKG5HfLRRTPC4pEEsw3NZW2uFk1hTJbWhca\n",
       "PKcENoBEZ9XaYC6Zkx5s+yZVcrekDEHmC9xWPeiFMUpe/RdUJxdAxGx/fFxrRa9duGQon107WioQ\n",
       "ftmcEQtSzDJ40x6aYr11ULMGJ8za1bkIHL2wHV749d9N++oo3m6EwrOp8wdMsHhih3JS9SBOvTNu\n",
       "lYby5hSA3JJ+dPViCo6fyvdwMeZ82W4iDAgnNdULc5bw3NF62QbD33tnxkhZDWnpJYwaL07K3jL4\n",
       "18MSc5BndnE/LohRQH8svIGL4N6Lk/bOO6EpngOG3ddNVJUux6lRtQfUrEqYBOzwPx/c654k5egp\n",
       "dhlTTVhN73l7prDR8R1lY3CFiHVlMHjHyM3w3O/AlnNvhlL/aakX4rMLY7ya+MIe1Rcv/+smdoon\n",
       "o2ADKPcA2ZZaNF4OBdKg86/TrtPxfh6Ph7chSitDnDqhNGd41nbOsDRsk30gKsyUnwpBFnNL4pFS\n",
       "45lxQ72kI4vZINtryNAvVwMGFwF66O+yiy/lkeSmwcE0ihWhDMT4AGF72VWCNe8mm/cmq8Rc8/gp\n",
       "MK+1hfhUIymFUkXGUMcqJT5j/f5qD06Oq7HWTbpRj1LmwqG4hYoeSESlmBL3//+V4TC8RAF/6uNd\n",
       "bbVo+FIRkno2qxw+2pmm6iRU2LmKFyefkC3MRv3VprcJjGTCqkfFwD+l+WKUkvrE6CX2mNaDl+5u\n",
       "d0Fw4gkbQtffX0QFYs2AX+PkeV28wY9sTOZ3+pNgv95CUij5d5HGWAAl4AAACjdBm9RJ4Q8mUwIf\n",
       "//6plgABGDGkIXAC8rPi5r0fP1/X5DK22qK2bY7kGsh805wUjxh35+jQprD418S42PBXbGQcGcXD\n",
       "dNCBM2+3KMh36kAAaV5osTwMZnRPeCG13Ps8JdJvP9SFPlxyS0waUdy9Asfn7fFyp4E1a47vex81\n",
       "f7MviBeJsjiHpZUs5jvkS+nvqEyCdL/S3hyZcc0Lv+7pkoigDUac0hX7FNltERPVWbdY8G2AtrHD\n",
       "FBgl9RBVatu4W1HsmKlhMsGozrb68KVgfDrzpgKbAKxWIfyfXpxhcr120PHmDJ09f0zYJPEeZyVH\n",
       "NudH+g3lSSArWm3VE9CofQL/mnNBJbWjOClvaGtP9geNZ36D6B/QONuc/laBWgSds4HRSMsAA6zq\n",
       "ygEVv6MxPGf+SHf/OEfRQwD6m1q0a+J+HBihE3t11iZxbbL/3YHeWiCrkwVMNx7OqSxs478NXExx\n",
       "OyNio4G2IT6mmgoaL9VrsriVqsjWTT7JG35ppjrZtxabQZKjWDmBCenAzH4/WyBA+4Q40IxoatKZ\n",
       "pA3y7VjCkgNjfabhk+2JAGIw6U2d3K3mgP2IQieDR/WCfkq7OieCM4D+kPMnWRi/hIHX1RlBFd5N\n",
       "n30/f0XIyVYDyRXirSZ7MNd3QLB7EKwlgT/D7jW+JFNLiGkoP6we4+W8XsbE2/4SjDKayt82Ntyn\n",
       "qf3t6LnwXNHwVJ2ep+T/kgmMA5WfKLz4/Qz9vMuDtL5iTYi7HAT0EoWQn/lRS+HFlezmrdRh9c93\n",
       "jrnGF6jwBicDdwQ1L2wj2Qobz3WIpyG2px3UxZhUotBRx/6k13D8+z9ohkeMX1hHIBlDaRf/V6L1\n",
       "TQSIejHUjtssRns/sh2UQ6PBkyxyn0ElG9wAL4MTKtFiY+BQinVW1OvDRADyZobjDwPtDcwNmeVk\n",
       "Jo3JCTyK02oMM9wDi+iTlnZlGvHGMcAYJBnOGKAETrDJtXi7yLIVfYyjdSCt/ZFltBgE4K+xsEB0\n",
       "6UNpaTQBLFqqNZ/CxbeSvtmxCRVNUasdp8rUXQ857E97p1/Ms2Orl+RDVS0wVWVI2pxgnF/22FKu\n",
       "J3AY/hpsmJLr/Yaqy+JMee4R50etMvP3TFAc9EQhhzGUROXwy2N7vargSMwvd8aviwwgIBEPDfpb\n",
       "2SApnWNTxEBMmi4s67HmQRdfCiLcwZxbTwz+7vb7RfWMvprdNpmmbmmZ1l44E5SxId4CXNz0Jxha\n",
       "2cWr/D55SFocoLXG91v1FzHRjTfFzLlsx2eiB5auBbBMHLCWToxjwL8Ou8JPuI1kH2I+Jasg6Kmc\n",
       "/N8J6zPCTyoxMEjJUyHzrMDW1Ly6Wn4QOZkqGeNNqDMI7XsvkXv+pQmhgIRW1/4ejaccTcaLhIAN\n",
       "ldc/sIKptw7Mh4YSzR8qJI6yqAtKCKWwCY5yqznoJnp58e0OkAsJia3V15coqZ4tvPietltujMol\n",
       "LwSRG5XZTx2/PMA4lneIPAS820ZWFyoJ8cCNprVlMDEaPsh1mJbCGPj9BapiC8EoJBuMDmSMPHGI\n",
       "o9a/J5Te87K17314GkU6QkR+C0mbXH6ho5GIWVGasCspVXzGC8Jn8D3xDzAZ5BUDc+ROYTR6kxgX\n",
       "kFsT6EeLOtAHFhe6KXczs1WA2rxmGAA9aYiMUra749hBa1hEtCgWWjcgb6PGiLQo1rOiV1lk1M0T\n",
       "eQj2iL41aHbRPA+PdJrNVBLytAovC1EL3jHWUIS+Y3d5ALW9qNI2VaQuT4txRdCSl6aO9lLOsrSg\n",
       "Pqd7M/bNAf/KdKq6/g0u4AP6Omsd3TPqWVmgFPHyJt1SKgxh3Vu/pS8fs4yohADEhuMJozVtIMTb\n",
       "JKnHoqtqg+M0XwpGbAGFS2avJWnfL3EysjtOe2z+fkdmeOPkSmPNL3Hc8Uv1kVwkjZMhlS5kYqer\n",
       "fp9KdO2rC+J2q3/UjyL7o2+JUJA+em8YqODyx/7Vi0OOyxdkXuO4e8C4dh1RO42SP5/pm6owebIW\n",
       "ifIv+xRWiF0HIJmJyNnx5PrCyWXKptZGw2bR5TMD3VUjnRqAVqZPrUon57ST1EgbVemVMl8xLOjB\n",
       "tH8zCJQp3eYqQ97lOTk6de2NjEFRoI2uHjwhS6jjcTNGtx50YOlLbsByLoEDRxdFo/s2G8U292lT\n",
       "uUOXkqtgw4rU/bOxb1YEUoVfdU7JpzutC6QLMK+RLBYHkqzMexLtTg7PIHNPse+y/eUC4GxRk4ou\n",
       "TB7QJSMcWFYmnQ2sCJ+nM1ljFtyXxCCH1p/tU0tmUnoqS0ytRYHWvM1LttME4lOuhZ9zJWcbUHo0\n",
       "r/+X/iSwWO0ic3HhxHB41kghxsS5cMATLp0jlitfedTLA5N1M7LuXVmZDh+wldY0EqlWKRTRyAXR\n",
       "fFpEkjmw2M5UQmaIeUwSEpeS8JXtMVNIwcWKL4Mjbv9jVQ3/PuOdApu8AUSu1qxXgg2hs6jzt4ug\n",
       "KNRpLTcXe+TptbZGtU1wB55UlKMHPrHGfYuvsH5UGSKsfswGfBjOs+0E9asnMHFB0HQRENcoZuJw\n",
       "/7lOZTg8aJnaTWCiTZ/TCznmjbp6yWsufo61d6lbpLDNRKVvyhaGfOcjG8azEoj8MfsGl6UmwTGr\n",
       "Dk47WkzD5iGhlMlJ2fG34+9lp1w/RE+AEmKTkohl7sW3jWMrXyGK1e8/BvNY4Ymuo0/WIE/v3RCY\n",
       "nSAL/xzvoDAYqKImn7vnvHlXWyufPCHa81yX3X/QL1bIASPtckH0AF8Z4xaXG6M7HANML+CcoAUG\n",
       "VAtI5IS8UoGY4xFTijlrsVqUR37khlvm3tP2tY/2uZQMdqXmUE4KgLSvGnXS562r2jd+W9IUc9E2\n",
       "VcOfCjF3pVQbRnL8Xm7ajKKpSo1YAi0YgiGqiX+w/iz3zC7NG795lYfs0n1coDiVfm+ph3z/u51+\n",
       "SfaRevUF1TilARpKFdz06G0/75ZqiO+sraC0mltpxRn0hXZ9WNXGSQ5xMgccez70aumppTvfS0II\n",
       "frs0R6BHM7/Q4NR+wvDPKBpdUd615uk1oJO9VJVsT+asH4C9eMlaroyJj0ZmTn+6fj4AIWHS9Cic\n",
       "wAZYTNOfr1PH+wbVgU3DgEV2F3CtEgnqkzdGZX8IGc9oTDcZwVtOWsgYTaY66W/3UmTwdk8xZtkq\n",
       "Cst9GF5n/GyKcEuVKDtGtg3m1+DFLCERaPafzCuO7301XfyU5A6EmTv+YnhI4kMJof5yTmz3jDQF\n",
       "3yJTG+13vJtKejdF8dvY6Fnz4v4WI0PXel7+UqjzMuAXbsjRC97g7F0ZUxy9VOLiRzwnDcF6q2XZ\n",
       "n1u8XLuToclj+WZRf2Zp7B9olY0/9rAv1Mg99u2hmY1aCpxU8WsZoJwFOtIqzxutuH5aDX1relDG\n",
       "UmOwQIO+iWIDwC6sKf7JYt4oT3Ua+v3U4FX4bXQTqZWT8aOaW//Yy2YoCD0/Lq/74mnWTiXWT1wN\n",
       "0EGvFddYSWHkAAADAAPEfqL+twuM7FWmpwAB29dR8AELJ0QyVQACXgAAC7RBm/VJ4Q8mUwIf//6p\n",
       "lgABIDGkBqwxQ/2fwU4v3RI7KvU93MFEWn+yQdrbaUE/zE6oLxM7bBT2/+IBPNl4BvsXkUIPiWgL\n",
       "m+dKJglT3TNRONZxR8fnfhXyHIAbdjno5X6gFj9gEwFbtK8C9fefWZUJ6qQsah0j2F7FGAeIMC3L\n",
       "kyu3+lemNICRi0bzQiLKlr2AkT8Qk1Liih71rlWeb9zwDW2uqNuGCwKjJS7VCTE8L7JpUp7Uha9Y\n",
       "8kWyG0U4Ua596bgge84iKaIC6EOzDfOVHHhpyKTR0+vQJAMhkL57NqXLAFeb6oG9d/jD1wSmapmG\n",
       "fjEgtAMjWg+SUMViA3hghDSPeg7WEnrea7+ApaEqiCHUETy7UI5JvghniiuGzB9j4bVnWq1piG/5\n",
       "v78ZfClp5Aaf3tGrL7dgW//cqPOC1sd64gVFGa5P9MLhBt8e00LcFtRJHW4LM/vrKpUT+ZqfqpEK\n",
       "zunNHTOK+vjKHypa58t1nhwsqqLpZFTomicbGK2Zt8m1Ywoe19yEyh72kbzGtZ8mEJIofEAwqNaa\n",
       "7X7WNezVNA41CQnmVJAuUALWUWT0jzrLqOtWmpcE/SxtCiemETxKwsNlBYpHfdr3Du1GlP0rIvvY\n",
       "ksmfZw1Dmut9jBhERTWCZzT6hyYf82sbm81BFb1guYXV+8gng/kD8Y3FkIQ+j29MAqKeBYQn5Yx5\n",
       "6UnjVMiqUX17JwuuF/YrcfZ5of/5bWJUaF7ksTT4436iQvRIoaBZEa/XkcNYOqa28BkL/9TCahWY\n",
       "x0E+WWc8tUjbtXLpzXJbknjMkVZWCOosw7XMbLUQPRIjH66ar/4mzEHaGbqJpezUUjugHJ8a0iEU\n",
       "2Su31cxqfxilHjcSxo1IdMg9GrxssjbzGzaMplXX4LRPzT3iTyhY+0BUTgOGQqHMyz0Dd81yHkYN\n",
       "GpcwIzBdX1RmgoiSo598rrx9fHkJ25WNFThhjZqBFcypr/yf76e0YfUMaS6rpbH1wQzLJFazMFoO\n",
       "5bsurYcDezwd2fuPIjr+clWlDySmO6aVCl+5NOz/3jlhMa4RaUrZSmHqpa8pVFlnZIv4NgF/ooof\n",
       "7Z8ZNXnHLeyE+taaB/rXJahYITfy0vpjgNkQvP0ZY7esam1BkpukVvtTm5mrsz1rfeVlIfBwbSzh\n",
       "SFT6X00Fb1DLGK5iAxjnc6ODJzWaYFuKi3ypeBE+WVkx8FC5KT4b/K2HJUbbsA2NvONIXy1J6d3I\n",
       "zofKdABzPlFKvV38UyXkCUPgcL90/0vE2gqdkQacDB8RFlUIAhmSHuXIHJJTMgVK2RmGTvrkMo9u\n",
       "wkeS8r5/3sVK41RIn527VuIwFtY7wfw7qh7+kkKfZ+6D0bxdtIrSP5SQuZq5maVFg+9r08UVsNgq\n",
       "gjUM4zBPdip96hoBYFDcruVCQ+0uLBXQHtDkKieXNv8qNOqiwXhmkW1jB4JJw9NnBCMpQdm1wFXR\n",
       "9hyMDRv5o2dIQLjT6lw7oV4julym4+WTeRhOK017UylAMifL6SEjZ028vuuiQ3AM5a4Bii0gbG/b\n",
       "K6K2K3X0isx4rqpj14jq7WkYdFGrafjDdQHQIDNpYmT1hylBrro0B6LdSB2WGUzTkg9E+7P8C+iF\n",
       "aScRUHL3F2M63hUCRIzph+MlZN+bF4bhnL8dwy63vKLUPNEddghPw9MPiureupon31zhk7sr/FAo\n",
       "116cX25K0fWNkVoM6yyv8gFvCVl8CD4oYtxtC+aGnFTyebhWQebWblVd2LUr818lhm1iyI5VAqg7\n",
       "PKxuH7uiSBwQun72XBgxY3FAQBXrss6AynAKGfvLux0xDd1z7Vn5i9Ac0EeXTuYFOBL06JdhQq9+\n",
       "fQkSSfxr/W+yn40lJDl3xjYD3kAy0XwpjpX2gYK1vHWaJqYv22p3WO/kVy1HWlUIdBniqVDTSLts\n",
       "I3LA4zDXr54XrwlHdDouJVZ+MvEZxv4FjZeP75wlm67Zv5a2YAVbrBbyuinRpdIqB2S/ZtR8hAW7\n",
       "A+ExCl7gW3RrSEMXlysZKqSSJo1ZvMM9Mnd8FavpEFXNrUlUdFpykLsZZtq39ovNJ+epZHMTccPT\n",
       "tNTCKSpX+CChu5joCRsuYNinmeqLcUjAiYUGD4cdKA9kgF3yLkGfbsJrmoLKNH5ic0Gpj73LEmfI\n",
       "DuIZ/0bFx9S8ghEycZblenaxb8n9inNyvlz9r173sfWPqzzy0jXS+z1pMWLOv8ADp7O01HrBcDus\n",
       "GChtwvPqI6+WbMnG6CvmILzI4+6gpvjFL9iyaFA33xM9Z8vHUdEckmKqXKFOcOcbPqTeWVfGaEf0\n",
       "jWzPs9TZx0QxHo4uTy8uaPHnVvXLqqy3yuS2ZvKJJDT+3Zfk1FHzkRqnnPEQcbu+NtwV8E32T2WW\n",
       "NkE77Cwbc6fjKDu5BaRrkrmr39lJ9BfCYT5fW1G4jhneQZ4nw2gMoZQ0fnajzxE98sO2eRw4e55h\n",
       "rBbhvnDxNYRwvTpHVf6voVofFQILmYM3JRciCzxHO43dmjQlz/ndY5scWOr/olSQ+QFs/FA16XUT\n",
       "D5k9Ib43Zn6m7IHItQ+O44nmMGCZ0/mStSV0qsCp+9BdG1z0GyqMRdIFeyM995j8W65Zr90oJxr3\n",
       "OWNsAISequWKdSVwxo+9f0J/z1UQNe9MIBLs+wDaddWKMzOZiCdcvk0k8Ku6Oh6nMcfAJtpwl/Jr\n",
       "DIE5GMhe42cvkuqd6XKB39bL2cAxK8A4tGG+mM7QYltbo07DZj1ha1VgP77UL98jnQmS3NqJrY88\n",
       "mGVpYpiQ6E7DQ7LzGTxhQE4zB9N+C7z2Ou8xWegDyRcv1xor7PVIPI7HkS8lJ3uGA7vzF9YxeWY1\n",
       "krDJop+gQ4ZYkYEyRNs4Qo52qMz84+a1Q2X0G7TcTlEiIrmgvHFpRxB2p5e4frR8XbC6nEQp3ZFO\n",
       "JarRnFCQ29iCs70iAMZp7hZQZyKh3/f2SCbOJ7gIpzKg2AeELSmys0oqD80xIVt4/DoqzGlmlmbn\n",
       "xVDGp9vWM/GlJUof89RV1fMIFSqrApnwEIV6rMqBAzJQzN+4lkpqKQ9eFN4hzmdXLSA9kE5QtTUi\n",
       "XDr0GEPcfz+6j3EOW6zmvtX/Ax1D6BQjGttEkWtN9RaZ1NR1nvIjGPa1cTiL6lwtodSCmXXXTB+H\n",
       "J7RKXzBCuWoy7yuLj60BQUtevy60uKoiQUcaEyJ7L4VWL8I03z9qFglmsaramuAtDuf9KDR/P4FV\n",
       "Sr7fLfcvSMjNhwoQU1kZCPZWSeza3V+7KfH5h8Nk7pj0PhxPin6f5FAEpAdnasp+xRwFk1J3L7CR\n",
       "+bBDVGnjGOGnPD+XrTrxQzUsKm3ts0JqteJot7+yskQzOdPNEhsIutbj1pLCJ97SR117gpxOywLa\n",
       "HLiROwN72Bhpr84Jq72SknJTIUXE71lDyjqRpmJu9F34eboToCw502IgUK9Kxgs2DlcM4g7IFFra\n",
       "YvJk8nNS+W0/x7fQw5EEDo8uh610jChagJ9frR9njzYZzorvBf92/Q5SSiCy98gblW8ILsuwueY4\n",
       "p5/nSmU1dPfk8ChGVst1S3Fl2UsChX4onVRUJPLIyNf+lT+Plit7DG2IvZ7rrOJVg/IX9IyU16Qv\n",
       "69x5OMRqEjlfJKNjz5JWYHpM1QdYr20z3WhM+s8tnzseTxfpxKPN3A+To6y+JZQhsDlO8XyU5mPQ\n",
       "WLXsx6Ux2MmuPNf9MFL5zsRI6UH0ZUPzcGmqF+zYZlYpZ15QFxc+N4xqUi0jeTrFH1An/rWeO8hf\n",
       "8JmQFVbFWNrUheZEaYgAAZaGJCDvEQODQnkcl2je4Ti+1VqKbdnnBZnqKnka/ar4MIuqDTZL3Ffw\n",
       "3CsD9/oJhFwPEYkh03RUK93MYlOHvx1Y095OBKDBAAADAAADALJTfyNRRWrPKdSkwPLnAAAejzd7\n",
       "jjn6KbTAvK9jP9TznLMGhGAMEyh3kmBeF5jjQSVgYCNWGNKhvJLXWpbAAAVEYAAJNU+AAHuL1gAA\n",
       "O3bnFWsqkEAAAAMAAYIIMsADmwAADBNBmhZJ4Q8mUwIf//6plgABIDGkBqv5a7Si+VIMKEeKHFzi\n",
       "74gn081uTl4MJKDeY3V5FqcaL4/H6LW+RuoxQpWnD8dpWZ+KJPPq6qW+vENtb1z9F1QEQ/ChFH04\n",
       "OpSIif+CozQNu02Y8KgP7iy/XrxPEuJo2SnIRHwe8iO93lOddP1yPvTIPKGhVme17S41ca8KINsz\n",
       "a6iHx5n4FD3KML2CKul5Q51Pfbp7+8L4qiVcpaubWdakZoEcrOD7H48yjlj98dlsMH2Ub226WLol\n",
       "tfviLA+clrk6B5M/5dSRfS4qmXIWK6xEAo3O2JaLZPjmOqk9kyqy6zdlEkh5Oe8jeQR1l0HXQf6U\n",
       "trF87zzierIKS7in4XTAlfSxTv5ccvj9UDG80Ai2WaFMCv9ae7t7EFrmBCMu3WdXcGgeViML0xFt\n",
       "2TNM+tOfhlkxJXMqK1fQ/zSVksA/DdFvLlC9sPZpQPNDQ3tMxOTj+FNjjtDk2LoTKYXkFzPgSOtc\n",
       "tHW+ovmPqljr1xq4GamSYFut4uwwKg7tD2h8jcQPAGVTovtOI7t4tG9dmZ/Ykm6yyqEUK2hJuM1n\n",
       "eqFydb5bdQHgqe0ogM0RzD1aB2xwtpY735x04ZjAATx0F0D2L714ZUkZH2JNNyW8Ty7oQhNdP3FW\n",
       "S6p1jVEMr77RzAA2o1S0QDKvvOFg9XCkTq4+OsGdZtXQf3qHtL0LgXADMVULz6K7vzuUeyB6JLcK\n",
       "DvjqnghhT3/KCAxhtKvisUVCx6jM7oT7J7KTIOCNYey2SEYdeHC0PqqUMDYbSPomvthWbDHMdnd3\n",
       "55APqz5xuEGdl1MkM9c1vTC+aP4ZODNHWZDwAACB7Siz0j84n7HDW9UGVVyUFhFmPWeUMfgIn0ot\n",
       "9xM/JchO2QEBYn0Y2O1tu8yHI+qGLus/IMrXGx9fg1UKnRbDy+kYbYAGprp2fNaD9W0RfalHSrsR\n",
       "Ot1dQHDY+6zv8ScytKNyzbfqmNrDjFf8tmJ1IUOXENMRGSNoylQvb7eRtGR8rpxWIOXlUW4msISS\n",
       "UaFlUsOl3uLWCDM6wjCqZep4kz3LWYD5Y/0zXjyO8WI46T99viYT4APKgG+n6w+rUrrvRHPBkz/I\n",
       "X4xQkaNHiEUCQtR4TqEXkocR/+FrQLwOs6Hgt5IToc0r/2dIL0zsEHuvP2/1h3xHdYoEjh3pmOsM\n",
       "T2h1rIxd5C5R2vt1HBRnSkXrIVIbltgte9mCY7eHBxdbjQ6pGXyMVnyNeLpgAO+w0UjLyowy7U4T\n",
       "k+tvbDcHFSh8un2jYpO+rl+pbvqBYMw/NU8yD0Vdzpewj0prKPZh5oUkdHgrpWdCKwYqo0DI+gJg\n",
       "aIQr+mXpwT4cM0KlJ1duId0iKXTh8OYMYtduKjAKwdEiL+g0o2rQcDj9xYW/RtCnOA64uY1OGwtY\n",
       "WbDlsxXUKxnTL9KXWv69Mrk4AwVCdlcBxf7k2sHb3oKNSYDvnHqdooMG7icwKTxH7oxunP5tQ2C6\n",
       "duhAm6iIC04Hrc56kdvgsFlalttZSOSquplKP0e8YHkzsyMvPenQbLXzBidc/EKMivvGt5/8f+A0\n",
       "945XX3UkBGsXJ9plou/FTWHRlFPqa+czjfhj4VJpX29bAJ2a9cbYZblaX4/YGUjHuSdduDXVxged\n",
       "lVb1GwHRMopfhpmx4ZCtAisZuGfl8SweTUkLaCcpLbnRmVIO1dYZLErCH0R9E4zU1OG8WC7QMfX/\n",
       "iSdxooxEokJIP9QWfvg4GGjYPZcgUOh5KdZDIYwwJXJXDC71E/3oLbpmmlmCCeHviUTb1ijfiqoD\n",
       "ODKtCgRCayJlBcCGRp9oquiyP1jalXOey6QXoI/D1h8hpBNJpaqlYjxClTXUYCuJxUUzMItkZrqj\n",
       "GrzITINmRWS/Vx2Ir7E1KLZ6pgRHFLgu0PH2SnpZzxgza28yK1kp7vrJEkCrfPJHl0jqLTMQwv2d\n",
       "xq+hp22dktef3uMxtGvc0HIXQ5HkgA3zy5Xh7pB/IhWmhwv35ApR/GAU967jfZg+EAy3zPGNn2CN\n",
       "/Irj60PKeWwAt2UsmJFzH76xLGCcQKy+o0dKCv7tubxlo1CgFvdNakIlY6yeFx6+cz+pK+c+Qibv\n",
       "eMhAQF0/VFeG387uRyJuYiT4VBDdYmNeTIFqV9kVwUpNi0qi92CeSTjmSE3FSisBa6B4csBZRSjf\n",
       "Z6GDhiYHuH/MWe57DkyM2UXtmI1poxiMTdHc0xuY25l9k+6r4gyZPhRY3J511oRiDBHga/Vb5HRz\n",
       "9g4MPC8lrsfraMQYWtSyde7bqSzgEclv38fhX6XNpM1EkuaoxRubLfIa7kiK7vy4DXDUq9jrSuCB\n",
       "DmOHNIKrHSoK1v63zc4PUyOeK5dkHho+2kIoW1FgMcRRLpL9ttJ3ET7++fG9YqLY0tf9lgPLcK6Q\n",
       "8NsjkSUnMTbq7FUClqT6NZtQWNj8IgVWRmQVfE+lQtFFY90s1yDb+hYHh1XVkzQ8F6FYvdI/Jvd8\n",
       "JOYUf+jO1o1uCcLrQ5sNb3vF4jFqQ+EEQ5lewTHktdVgIBdVEGbOycbbhFsPE7sU6aZ5Ob0BY6A5\n",
       "H3CJIczFPBCCpLstFqqiKX7UeWcjSnwh4ye5GtZdzh/QM0qePHbmh8PO0rOpIdBOWQBP9en+z/XJ\n",
       "82m76ARGQ2OZ2CLZBq6sWT/6ZtxPmXgejyio/d6RqM0USJM2RJENbbeUtAEBQ6Tl/o/o2OJEyBuP\n",
       "eDoK8gSxjPgn685nJxzmUXTCbX81FUvUSjjr7Ofpqv0PPgoR+GcmnD+xOm75B2ykXY2olksUKM72\n",
       "zlK6gvUEboDxfgXCS9WdV9vahZdcit1G8R7LoSIyZ0FTTfoPq2UTCb+J0ajJbcRb/ZWiNrk+bbGL\n",
       "Kyaurhnfp88RHbfu0kgAMovEBorMVkMqt1P8ncqzpuIc8dGb0/7L6QZiWqoQlXLmeR36UWh28Pj5\n",
       "BnkwAHPrLOn09mdzwj4UUl1J8X9LJJLxSfPoHyuqfv7KeXyiGZdep+peMPxq0Gib/Zxxq3b3Yzrg\n",
       "2oEfAMvxB687U21xQGO908bmJEUDlGDSei1wpduC1RrYBmGaTlY4soFCs7ljtosHPMsxQZ1Rwx8C\n",
       "7ufKy6AFoThvCGB3IIh+XlnHYuCaj4p7lMVA9HC0YPvrO7HOZG/FgWc9X3KpFiIm1Tn6/P+oIGf1\n",
       "J2iNXEMq5Pl67u3R7RoxSCHX8AoAzHL7tva03fuQzJkA5SeTDFCY6b9voc6PM3iWMtWn00SGt1SM\n",
       "cbYo8+ZgQJl00/DEKLNQNAEX5XmTxgYT0cOzpdKXRo6Cn1fhgc3z2ZTAhsP2gqzd45+9czS75h8f\n",
       "Ws8bx37mtjJANngs3kjVhhbn40sJTV1hhdTpfWZ1KVa1k5NP8mxd3crFoh5eMjDRYz/T4gtSC3Fw\n",
       "fN87zy+D1IORfgBhhPVeuCMHSi4YY296V53ZIlU28+yAvYhm2aqVCl9hHdR14+NdYS0N71xaKydN\n",
       "QCAvff4N2VJWsPOPQ7lEVv6q0jdtJr0IPJTeRVUgGm1e4WwO8OxdvuJxhtl8vMLjADEI3E968Z16\n",
       "p2fx46tW+dLVf8gr8c+olgd6POcmiPHT/UvLLkk5j0wEvmJ0Ivmwz9p8fP/1Q2PLFIVmaZZofgvJ\n",
       "aDNJeC+y6pTVr0nd6aKPw/gJ+kfAIrygjPQDlGXHnezy6FPzVCDgj3kaevB55NoGpu8Q0X7u5L+q\n",
       "HTjnCFt+Q8Ecfec0HmgXyvSw/NQq0SZJjGMBvBO8QrY2d6uwWzmu2P31bGXrrwffvnAJv/+qZR8v\n",
       "DGUQNDW8OFhYsv/OhrNrou7uj/f++UwFdR42m/L96fwVdxW80fcIUG0ByoMmK2S5VOESjBHrjR/O\n",
       "TxDWqEd4BnWBC/4lZxrYzuu8JDJAzZ5nWfd0DmbWsVRhZRAoruLt/Zxh35W5z1YbbyvY0MDPQ7Yt\n",
       "w29LjN6IiBS6n8no4KtBzZ3t7xBprtYAt4/iWlnUB62p0CfkPc5kpv/qL9cz41Z2mexWDvy4siYX\n",
       "/+7K2uFARphRwAYisz8UUxJJWIiG7WEAAAMAAAMAAAlOJlikDqQ71HrE0AAUjTRb1ztNx8wGekWG\n",
       "6aYiPKQqU5hdxcZCBl7tNlra+9uJsuQ7hIbxBagbLIZOfoJeAAAN3kGaN0nhDyZTAh///qmWAAEo\n",
       "Mad6IEozYE+ADvx/0ly4EGoSZEz7HWExRwEMawMigQax9QDGLsfPh7htEaIhQKto1+efftyz8BtZ\n",
       "iEgq4pmAuzEa2rsBjR4td0AUiIj1I6DVeCdr8GrQr4lpOUXy88ZvnFoTHahH3xT59f8RFWjo/GQN\n",
       "juraS1705hI4MEXnfycphG76T2D5Qq9mQW5+0K7I/2hf7KinQNJ60I/ixEY+kX06nqenpWpwII3j\n",
       "yEsHXsWzaerWHbl7cstr5Q9rv8JVl6zXgjT/ARKj+uzmy9jK3Inid3u99UcZUd2NWbCAqRaUsu5k\n",
       "lyY+vs0v44/lk1V38dzwZ/JHJa6wCvfxlBRPK0q4b/4pmQNGkJ2Wv5pFdsN9FxFtsWez7B7HqXCG\n",
       "2ACH9pfUHGrFUOl3DxdfUE/nOeELbVPuvl+DMKf8YouQD7lrCblktQ+pd2xkz8h3pAyuCWEiT5Kg\n",
       "LVfCqKw2V0FMzYIvAVeeG+xCg/eqOQe3ne3iR+bSV03yPecUoq8lwRQnmqkhE5c4S6F499EJs6OB\n",
       "izngoO80myk6rAdcnN+Laaor7dCXmfLPKtUelEcN4fPvz+Ox/qooWoSFkHg5WDUlfIl9FR5tc/27\n",
       "htvi6+D+O8ZG+c+46b88yrEu0TBxcVWxVa0XyVATppcR/xu1PePOyNtDgJfwFDDbMRBGgVrFMp3N\n",
       "8vsu51lcK1Wr2erkl/yH0xpmCBSB7bGhvQi6Z9VLwp6auViVTc3tTNFxkMwRbwrPLDjbnMMEyBym\n",
       "Zc67GIhH3/NdF+IAc4sJSV/pIulRnS9mf5/j7ujEz8JTVj0Ilsiom8TpUK7LLqEcseuNHC1QLEWD\n",
       "ReFcxafNQ8E7fHUUVH8obmgogh/YDJRWaDDUkEKN9yKSitzF6TeoBgXTp88VKUuOe+Sn08NdtcTz\n",
       "hwB9N8ToqMDPuU9c22BZ88MxUyYZkyZh+Tlf/mtmzJOHbk0BiTi3sHIuW3F1tbTGku3lHtb9DT/m\n",
       "P0QwZYwLj+ktLrlhX0M5BGhG+9kNHE2NHuVWldMKxYKzGw3JFMGC8ZSDwlE4mYCquBXq6QH6vK/9\n",
       "k9JyGtnX6eydHraZfJ9H2y/o4pd8AVDdk1L8T+wWqTxXVe74d1lCdZZs5TTm3nIVaqZow/uMe0Vi\n",
       "ESxSien/nXIV38J4NOdfjMj5nySPhymglZZqQhcYKAMlW3o/EwMEwe7n+xFD31qFvca98doCOyUI\n",
       "EZs3XJ9aHLud3R2Ssz27cgEckmDl64AKb+EYA/rfZh/WAuIQldXF/L2cgaRNrCY3txPoFsqA1vYo\n",
       "166g5l/bGOMTMnFTyHmc+gaL9e37cSOsIMmrEDzyUHa4Y5up3BC/Ls35xiUO3djDprIH4DA3OPvg\n",
       "ACvMFkPGfJDcB87pBZCHBYhX/PVJbBp++u1EUSkGUpKx7hRey/oykto72hO0fagjyd//xJTfCwO8\n",
       "3klWdPzOoDgQvibeZrj+Xr/OE7lYJaDOp6b8szI2Tkhsx1kXa/jnRXlA+Jk7YLE9cM0ZeyGYdsI+\n",
       "jOIfhkM0Qvfnu7zEKJypEBmh0+YoO9e0v4xGaGPRJjaQB3Zp1Havhbx4IntVCWsMO5XvqNQZLo+/\n",
       "xt+kL6YhYgC5utgc+dh7vajieWLmaPuSGOQoM/0rp7/uFk9YlbvOWiWIHHl48GrB23lBHydGDouO\n",
       "RgrODlyChtFiMQtLTOfopL94O1+/Mxvyki0MqCnIDC8r5t3O9R/Sq5w4CQjDE12Q2an+cuwRTKvX\n",
       "fuEugD87rIYiHWFqbS0PDpkX67wFCRZ/E8Avg6YYDb+AA81o9Pwl4QpTE9TuCmycUYbe8P0M19Yc\n",
       "NhV36afF4vkQJzzDfIakW5H7v9cMyQgGPma6rJBIrvtJDTcFBac2fmK4a/Ddj8ZfWQHkdr4HIOuH\n",
       "iJUW2qee9XFFTyOqgjdJ+fpNzJhDG6b5X3MZaxM2TNC73Uxt1h6F8q+i4DeNhf013TpdcARD/Yrb\n",
       "K1BLu9DmtUptvktOqCizUPJVmjhxHd++EDTQ44ScR/0Ad8cfDhpPJRAdZFDIRy4m/KPogWYHDJlX\n",
       "nPRAjKbgW4yT2PwFT45ALN3tol33DJkrDtjuKFd+92Z5XzV0uXQ+I2PM5I0ZQoddqPtfRCs9YTyv\n",
       "K0T3aXGCnN9ltk5r5hw7ZGGXC/wMBcU5TSKt2rIImmkcdOL5SPHaJ+PzO/cTC14QoEWLzKTffLVE\n",
       "mNuuYCUnDd7+ebyRVRq9ME+/zSWNL0lCc3ueFnDFxwk2ZQK9/aiQvGmT7iBs3MG8MfTfr1uX6XuZ\n",
       "ccRNYg8peFHnv+/kx7DQGkURzy3dlVclRAAtL5LyTaEFpCxNCHx4zjvgwyRl/+s6HG5dx66x/PLg\n",
       "/yU2g4l1MAPJP6iddTgRdg8ueeIPOhUd0xeCHHriOdUledInVaM//bUUy6z+LVdrgFGbt3fHTig8\n",
       "Q4BVZPAqSO3tRQltiynQbhEXFTJo2lKLnVH+IXfRY1n7zgFoD4MkTO8xqOrOTIlvv4jkRuSUahRa\n",
       "UMBYL2MyF4JrswSO7/6DBE7Pgy9fwznwfAkMLh9EKpiMFO0Y18D+1m/1OC7ONDxks1HmN1aATVLr\n",
       "HNtl3YDF0HbAfHqwjUClHXxgUe+bQQen77G2L+r8I+Mw4ksFo3z3M5Kr6tEyPGnxBNZBTI+79DKG\n",
       "iJldt/exLII+RZvNgcHARR5b5g45k0zNTMih2ZAeIsGO4EADG/v5jjJMN+zzP0nzlw6BsJIWYqWA\n",
       "acDH9mM2a4o/iBfh4SKc2kWR43slTm8k5OgMRxXz8xwltZdRxIPZHnPDqUC+CD677P6eeJVLVu/T\n",
       "BJreD6U+v1u9AME5MK8ABComh/4jOHF+vO9Elr1pNvOkd1WiFQFwibUhsKHV8RYJfXy7LyAjtqW5\n",
       "5/aHgzBcnBw0kuP69iRnHhyFhwJ8DfuVTGmCEWEsvNkxeNPvhUWAic8GEU+xfjaYXeZH3i738tjY\n",
       "VfzVs42uNcNPQ9y5o0zT2H2oP+51Vbht2SEI1MYgiBExBanSGf5IGo8k6S1gkFhLOAScoPV/58nl\n",
       "ZPalllMm8XjoskCA7l7JtmU3w4yAwJoBZaEwwLMYFSxsu9yIkjWnZUL6xoVFR04C2z1YgJeLybgx\n",
       "ghLHuSZLMhg61WyYtHwnW1wQ4e1Xj3sn04Xp6MTREdFojg45FksjYraPzM8zxjnoUC5DNanWb22Z\n",
       "SUheijmgYJlKs/fgdFGuwOsmr1p7Dtm2kt6x6FCn4eOyV+MyG761TFABEE9E2AQp+R6bANX9UHdz\n",
       "6ym6talRt+5Mef9Gf45p5VnuCZT4HytyFinX27+OaT3Ixee6Fkgfi1jxdO4oVD5Tpw/iJCmGvw7R\n",
       "lVBa25wUQSHf2rKWaqlcOwLI5ZdEMW6hEXtI5L79mmxVab164nv2UmXS0bkz4GOujGtn6Ao1M++z\n",
       "aNvMaJ3Iu9/V2YG6iz4zUPngNrA+JMLNhWSFVjtUGXK4ir7QMpdEB2V4i2zWkZwY4hlfB4Ahu8fi\n",
       "S8+KYhtrIo5AaeKPv/PdoUTT9QB4F5bwHZrQQQWJKBbLymHeyJos7iZqt2ciOvpAcym1N3kgPnwa\n",
       "SRxt2Gm3HeJbe2MqU/kasSz8iAQC3vCUyrdQB8/fteuyEy8IQSRtfihGQpbbwpR5sdZg3ineIrIX\n",
       "qLZbXSU6SlL3tcvwQB3Kuzv3v61/oM+e6MKLbOFvfuIBNoGKe+HqeXOac4SHNDbm+9F5v+vB3ukA\n",
       "mqHvxs97cd41yMO9i8xv8u0024NWDIgHs/o4s03snGLEBs8dEZoaCjmnGrEkADJifSpnLYjz3IdF\n",
       "xIrDeZRTA8MfT8cwg+z0vk4iwlmIp4FTp1zZ+XyVXbdDBvGeB87OFXVhmrBEluWg93KejJiWZk9t\n",
       "xSpvE9vOlGGg8K7ircrqca62zoAwIJLVozk/9JEbkSn3OkE5GlpqiFaSwtU87mxfSUBm6bonESOd\n",
       "OjrqzW+xUDEr+PvH04SSH/vsxC3iRKSS/8/BKzQ61e2/1E4XBpPPvcdP9a63XhfPc6fMoNb9MWkq\n",
       "N1ZyD3ClhgOA0fBvP01wxg4fxvEvwY3KgG3vZ7jIG1/y8pCVLsaY9EoBVxaU2cdWdd0gWWhekHeg\n",
       "kDqy/eTzzXRtVpzgKcawTbTQ3FTfSzu65kEaCsEfOKN7qapi3SA+AnNAIzRagPofGPBXvOAvZDdI\n",
       "Pkm6PnOCjgVFX5GMnB+Ea+Hd2h12Lywc39N7FfzCmJYxOUd74mp1ObLJqOlSeKvsooDk/AiS8rDz\n",
       "OlrBFL5MzH0rYRVyR7NHNXsrRlJN6050dqlLMKnS0DjQxuoIPOF6I8q4u2/TAwCYkha9m/mxIqu9\n",
       "+XsMyY5ikDu7GWF+v9d/64WJAD8sM0l3psP4haL57jjzo873wBfwJ0uZtXvXor8yQYZYyFrZknkz\n",
       "ixGsmB9r+p/loom9awcw8T/v6t8SLXsduqwMfTJnakNPU1XzirwC3+F0cxvP0wDSBi+dA/fpa596\n",
       "VECP1I9NW8hHoyoZ3KPvU2WyvxBKeUOK74p13MGZS2D/u8AASiFufNa1BKE7WCQzwAAlSe2aGYP3\n",
       "TlNU3UnsaAqp+bdzOnzPlRD036YwJlzc6B3FittgnX5RVD237T1Ey5QlAAADAAADABhdIpcyCeVa\n",
       "/fhsr96v1s9hnZIMEBMhRrSNTtAB8LjFxni03Ys0HcyOjyQ1YKmNpRw/q9i9Dt1yA5gyUqgAOaEA\n",
       "AA+ZQZpYSeEPJlMCH//+qZYAASgxtkIZmSoo3MX+RYAmW60le1HlbxzUKXS1oiO5bBrAj6ud5N0G\n",
       "7RytBK0a9DF465SR8ITjD5iOk7TkuvYaBYMIQhwm3AxhTlsZqWVpqu8ZVWa4ITXf66G1iAlpMov9\n",
       "o0Tyy9GLzEIIbnhNLIXdVnRy3SMQHRYIS3BPaIGQNC6RtAGS3i6m7WY75HS9CITzusCpGOiPJmWv\n",
       "2NyoYaWtWIn26HeuTLxhin0aVw6Ych8Fx5hKaAyPaDNMPZFogo39Yn/tUPInDuuO3vhW460gTOb/\n",
       "SzR/b32JoKiQtMWZSCb/xSe/h7nNunTEP+8dMz4i+bv2kaQb3Z6v/fx/Hz8MUhaW8SWz010CsiFB\n",
       "yY4I9FQyYZ5c0DCpkloKmaqxo7x8wh7egDk8XZgza2LVJSMXcNwrmfeEdfcl8dspaMLF93M/7kAM\n",
       "bfqqVhwDa++C29AFhTwgzYcKrpagO52ZBGf878M8BL7wtrfoj7npsAlDGFGr6O69mCA7gnEzIpEB\n",
       "XZZWvN6jIrf/b5M21/J6fkO1rHjOYnTisg7PZSKXCegY1I96iOsfSN6yvlLUOfPT1rZ1K0vlvi68\n",
       "PGn211pBRksfiTqrmi2TFjuwUkcunAvvhmAzXH0Wt4nHMoHhIUZHSCELx0evp//zmh2cKceL90T0\n",
       "jU3aveE4BENjFfIpMTs69ynE26utxPPhPnIOuoRfRU0MDc2oRK329ivMEUcYs1kQ0KUrh6TaFzfH\n",
       "tTMoR0YsXgCTvDU12nZMQo3BUOj0tuBQp7yCLrEQNXsEVLOppvf9/hC/NZqJiZ4hbuxn46deAZx8\n",
       "Xx0XlQg/ktgtkulPoUoaXrnC7k/qGDHo8jf1U6FFsuGXZKXpaMZ1+9ID+HoywJn4HJVm490bqxQ9\n",
       "NDcWom6zCCpwJ18s+LqRPm1rmVPst/TlnXeEJuaCGPP3fuWzSAUeHmypIOvv1eHmLtXv/TgAnJRL\n",
       "BHF9IWKwEKJyY4OXYnrkGWoKEHLuqGdt+RiMRer7QkLIYr9g2TuB1HKNpMgQSeQYIiCiyB9VBO2e\n",
       "d9PvGhmu5oTrxmyE5QJNGYMDtHYtboLdrNz3GIF92oRtC1TcwGrCglIIUiOdRZ8q2rbfUl5XToSl\n",
       "UQNBShar/P+QtCIVkxtrMUs5wzk7rAAqaROt6wdD9qYAOfn0qvs6vNjTK9jpIm1GcwWZj/f6S8/l\n",
       "W18NYGnoC+4Rw0b8cUXwytIEC3McJCVY3yNF5cdoR/cKTuNyfuRCCnLieD2usAZCYjZg8kz/NPmN\n",
       "R2mFn6bssknr0JIFXH8ssvfvpgwd5imOGq+yXGURFo2Sj8/JY/06yZzuQbbHpFiUaCFG0u43Cglb\n",
       "LtyPY8dyofixWzouTGXEaJXy+CL5tgDvSO83EfUoMmpw7KPnXbpTjhmeGhGc4hzlU3BCVl+ITCmB\n",
       "lTIX/DF2TIPnNnrSxEHmehshA8BhldNU7XgkKvXw4n6BNm/xDp51c+jcfOr867XBPyVMzhNZtiI0\n",
       "2PP5fM6xqlbMyiI4qT8gej2HuDBlkYT3je3Qh1sYXINVlAOLLpzhUbDq2+vADjXbxx6qW+Mr+vQV\n",
       "7xDPJkd3d7E4nDBvPS2LGVo98SJPEoY/CqZYr4CVVsTmv5X3igY8+CcP0LNJ6riwOp+zd7/hbsFb\n",
       "01rGoOYORyTgJR3DYBe5Kq62K04DvG+hDerHggrT8b74K1L1Sje+NkVOK64zOBE8ZSZyai51FXQW\n",
       "YRk6SIgxJf/FSypwIE/uLTHbTExRw415tJgKT2Q8/5xymkbWEYpX9u1qk8u+2VMTfArkOO2zfu47\n",
       "95nYZWxmD57ZWRYInhQbnOwQ20QObxMj/vr8bVq5dn7C0LZuRuM00oLFsLKHNXZ4BRX4ePArdWbg\n",
       "kmtgzW/4AwumCRZoc7UPZMorMEgbu+HqeYduvSB4xSdMvO8gM4CbOn4gH7B/pp74bRJIVuOe6Dda\n",
       "uyLHNLgkE3J/kbzqeINoKZujSy00AY5iXq+VQguhyuy0HqXhBy399CyKZb4AOn36I1IPom0keDdf\n",
       "DMu9KgDxMItMAWTHSQ8hJzet3g65/+mMjGmEDalSVuHUBK68n4HrcfgMPWfRydV6gIiJkooYfcD2\n",
       "iFpRTkVIPiyoFT0jcMHLbLY0QdnsMIzGD4Aw/ua6YYbCl5gplHGuLyiDpT7EnsLkbS3/DDgi2cZZ\n",
       "pFVD0+zfxctdIaNaG7QILudJm/5s4BwPAUZUd7kDzbDuomQiBN0zdSh+7kWegzZ3eRsKGln/Jk+9\n",
       "igrqtm9/x1zpwSxHZ82+UwM5RpGDwrR9c+Viobgx8taD92WVX4lOd8kN0CF2dX89JKTQrjj/qKlr\n",
       "royYtBzxs6n8JdpG8s8+XRSa20jUc7Zk8MvVbelmBn929p5Fcr7FZHN9QQ0LzCs8DRDLbEllCXS/\n",
       "o9+W4anp2+n+B1bwKq8nthBRJXi6SjOJGLocotYK4tkqsPhoveLVpWtvNlH9stQ37hq5a/Ub7YsN\n",
       "ujedxgobEgOCQG+gtG0MwomtD+crcDuamzPdAGoLtpT/2nN938OwcJIUULO5iBZjV3cBoPDo0z6T\n",
       "EGNosc5DeFPimyzOOIy6v9wjPfglZfmd8Xur0VayzXPJquEnrafnwOxbflVehfouemBeCC7tusNO\n",
       "jemSaZEot2Lzk34/2XM9h7aG+ECe676kCk+85PHvUq0bDYTViCts5Lg4t+PnRsVnlk+rj81ljTmW\n",
       "Tbg/YWiIYHKnfLx7IDouDWd+gTM0Uz7yqy1TQbBtD8KJgUOcLqkQSXUnYK3/6M9Yc4Rg+3XprqxP\n",
       "0jxO1LMM/vP29+IlKVAJoOVzrUB/dd6Kk86srIJPpXm9H57BrWkcYGRFJMFTlEIipy7kNaeaY71d\n",
       "VQbD1sgKP2tTcs027CMRLSX3Hkrhtgr2AymV6UHQ2GGkxs3r1vB1pgjoAYWWlPlz8AMM+1O/Diu4\n",
       "nNeXbX8VHIkZuRS+Gxcc/pWiTu6zAGekp3b7+AP4fXGpr/8wGNQwvtS9poSHGFIik3Ed42ycFVnu\n",
       "RgZ/jTxqOvUdXalOEKN/TM/ydAA+70XUKF9njceBCWUw2iE6BsWXHUxJkqL3kTeNGVFV8p2iTWLF\n",
       "5c6MZzZdHeQ4owyqebIwA8At/8V6jASAyrszmL9hcjPRJUTPHNxPWk47XCDuPVvvdc/s4RLkXkuY\n",
       "yJBj1qw80GBjiyYUcONG7zqsNZcVKaIcONKZ247AR2oxH41x8gleIiCQnCL+fDJOYmR/Xy61Aeig\n",
       "1BjOSoKBX07ilmBEschkTlwbi53QXe2djio5rvBXu9wbF9+poW82vrqtYKRsBKJZ74Mwk5pXd8gf\n",
       "FNcZgpzBb3WRE7ezx3dEYBd+AqGT6mhf6npOkorWB+AlNiJHM1k07S4lBO2oi+XlcpGWQcgjKlsg\n",
       "dn65RUU6kzSCrxIIWSptS52PWky6J9C6YX3VvOu9kHTghGUuwN/JETWujHWYAHceBt3huUr2OUu4\n",
       "QdBvKH/3Ef864ajLbwf83NLD5cgjmioMe6lDsEsJFi7wAyHlPgFM81jdd0gjP9K5/ddwY8uzycET\n",
       "c/k5eFNGuQRCxrCZ1qsrifE87hzVQsRAELE7KetPiztT3TddZZ5ZKDgf+Fvf7lDR77pS1vtWyidD\n",
       "qkXdWhWdtPax0szX/AgPro3ir84P4WOFM2q/otJaS4yYkGqV7F2PkE+IvHcuNtd0XeagITMeOTUt\n",
       "fJmHzY182FuVY7LOCFlZcHhPNKw/T5+XZlaZTYArNBZdI3NUu1n9KEe2OGh2ivNgZ2BkYnllBrhi\n",
       "sX4IeIZTtw+7IZ7wz/6V2jHP7x0JgWUXETpsAVGKu1LiqHBjUueup2wYc5HpJD93ymxIDXEGMH/2\n",
       "d/x2PuImLrPpsu00FZDF2y0G1zb24fbpM98a+cf6M+ys+uMiizK9xP+YsfN+34+Yrv7i9eZ9W4jg\n",
       "H1sK+HWcTzfEeCMQSCnHoxor/wILwUhsYeX27gT+blPEK/I6BopBWq9SaRgC97c5HvIjwCqzQnzW\n",
       "7W6IUi/+t7L1oRzYhEL6VuyvG7VOUjwpVKXYKiOC7kCtn6eiqUga4B0reBwdcifKMJWWsRnYAzZi\n",
       "ZGiSUcsrXMm58wM4AgFa8TMfnKcT1O8yXs38GQicimri778ThhWbQmHou9UGHBuX4gK8JiHcQ39H\n",
       "MAxn5vlBCiBjcMWlH0On0+waJ8c2t5aOy1ogHUgrtsXYgreMiZNNMVW9uNaYS5nzRyCMO2F80k+b\n",
       "KH96CSdaI78CfeBhVVdUXvWtv//zKBuFQOMHUW73rcNF6RArtJ2FP0Y3vQAP17UaYq+3IulSyh53\n",
       "U7SOmYG91aRg0AnFHX1Mes/tAxS8m3uTw7dbx+O3g9V6RoszMvZ2/2le2EL1v6RAjhh6U7qcmifb\n",
       "GZ9KD87h23Fofaaf8Zyb03LCVz/j14Tjud7tFz8bHupdQgtTJBwkSyjQd5M7f2k6kWu+CEP+w8kM\n",
       "eDQglp1s5cVTGIuEmg2tMqr02SQK01FIqLTsR1vGadv22r41T+YLYs/Clgyi9iA5Pu2fB8elMRw7\n",
       "DGnJS4VxU/ZB9DAdZ2BbBtFewNlWF1r2t/0kk2wYW8OtYBWfKUgqSKFdmVzoHlIsDNXzUyDp2Hkp\n",
       "bqi0tLJIvFNGJfWBcmidCdITutDg5kkRFzQqI5EDDG9XkiEH2FJJ+J2Wk7ZTHjRSUoZEv6K1GUFa\n",
       "fcki4Fr7BAuJGTqNH93i/xOLGy89u18vnWVWCOCZAhzb6qlCB4+XUCrZU5meVcq5nZcZMU5mmvnD\n",
       "WBzu91lpwYP7u0JrtHWRJfhlIpRX13qaP4Z00ZDndidZonAyRw5aJj3DfLjRtO/iqUMJzixMvH0B\n",
       "/Yobmh+4qruFtqWpn2zt6Ov6Mdrtfnzithza6/eVM7+h2J9XvUonKFwdcyM5G/Oljad6oQQuct9c\n",
       "joaVzKhrBdK5KJP9FjbC7SNujvIcsMOt/EF2DTWRgnbGn5enVIvQ4vSSWa48wyJO2tTXQMKCK0qS\n",
       "CitYKFsgkc3h+IRbZ+x0EKfRsnr+fkgsYQvSFrWBc63qZqeF5EvdqN0BNRrBuT1gNJawEoYkPZYX\n",
       "0xcOha+RmpczfBq9ciu/ICwiLQiHVrQnzXDpxAYt2tW3KuAg/IB28Pu5r732HB1lrzVNGXH13mUx\n",
       "aobuMX7zqzRdSFn04Y3/UAmKy8BYJaOd/JHEmP4NIhmUqPZZztMQNnzN3wH1PJltlsYNAAADAAAD\n",
       "An57sxBU39u0pueGyaOAAz+Nf8XQPfY2wAT0BrRAvjGzi7OxLpPQl/bnk47UJ/HdkaYhC0/1BmwF\n",
       "Zx4QAOCBAAAPN0GaeUnhDyZTAgh//qpVAABMGPCFoGqTsQBmMoMyFUo1e1/6h3UCDESKMGTYeJia\n",
       "XDLP/IulvrtlNvR53rsE6Xscz126lbFsWJ3d7yAsV/r2PLzVttPDW3846NYTiyD6n7cVPMkAIdhV\n",
       "C7isqjF8K9T6q4zlj4NGH06kR8uiEaSPPBkdT2iwRgTVUH0VMobXit8bsGFFe3cgBp80GMUFEp52\n",
       "3Mx4xjo1YRGh2OBvA/0O+q9DcNHz8/aN7kGuoCtmzUeQdoVTLsYbzsbVfps16drgPvyW+lpO5i1e\n",
       "hevLNChbjmL8KsWFEbCYtT5dlEF8QDwtCflPkYg0Hn/22gzbWl73DNzScA6vtTJ508BGnvtIoRSZ\n",
       "SEAp99fA/AOlgVdzZ8ZygHE3zD8KxolRc5Vz03E3jPLrRplkyvFepX8Yt8gSjQoPrj3Su1kdN7MW\n",
       "ST9IoM4Ls/UnLbpJzp5BpGnS3KqaRRojbgl2HyafL65iJCbkZYlTH8FVXlt/ltWIw818fJIJzoat\n",
       "IqWC88a8yA6tPg8pR6Sia69tLF3wNaYM6r48jsCsQ8c8DBzCeW6TWGqv+5g+SPQQFV0wA7JhT9gm\n",
       "/5aGp7fYpT9htt1YFij8h7rYEHNYOycPf58kOLh+q+u4uW4Rf6cqHU7ajlYeq5thBkjhDzGWnLdV\n",
       "0QufAvHZralWwJhfpu8ltiq0Ka7eYpjCO/+YuZGLm95w7EcLUlpV667hndnnWIonFsReUlT7nMyV\n",
       "pYybGi5ab2estIv1LOJdVAl2fpBAtpdABUA96VwSn88nUYzbrVAOCregteDiirh5xJ9K+XGk5V0E\n",
       "ODuGUOAfVB2hDRppWPwVQyFjj+AwndWgWlEHwRdi8Ivc/LbXaXD71J54aNVPPl9Tg3VOV/ZtDOJ+\n",
       "p09jM0+Ss9/fKKfqB7b8jcZPW5qH9+tHMfrbwSAcB4NFmaM6s79dDcP69L0pATV5nL6wgJWK/zTT\n",
       "dLLotCVErRAROIn+9TUclJHArRP9N5jMH5Q4TSbP7XsI5RmO4GEWwYBxSehTLiSnFKMdd0sI36RG\n",
       "ejLrw20n9zqn9t3yj/OTjO0x+TnF3UneHQSLqG/GIELLOGYFtGKo38wPinVGehqDO186xI9jZ21m\n",
       "3xt1BaizOpKnDBr0rb4PPt7x3jwmbQCixMgqk0MTc0BeFjFBJySTGZOLhQa+ZPI60pHocOyKrVes\n",
       "tqOlRfUcZFC5FY5Ia1Hp/dDZmrKWNgE+I7mfLgOdgQi56WiseyWi3200801x/uohUxULp5ZgnBXV\n",
       "D9/p18tcBYL0d/1mTqj5oeJSLFzQnX1Knn0NncwDk+bUIQHQ6CBI1AVn4PeEyKsTFJ/MCDPirjGP\n",
       "kHmTKFuTn0i1kp5txT7pXXIrAL6XS70b7KKD5UcWBXl3P01koqcalDD1WwfV/Fz07faV8AsKvemR\n",
       "gtJ0+K5G7F0E9Yt8wmIylgHdi+yTTg7pzwUDSQXgS9jSzCxuviroADvuIIhOH8/Sq4fzLM7v5siI\n",
       "qro55nN5FXk5HlcaIewN+4VA9U/EWxw7fMJ0OlxZu1MoXA8xdD07HAZkSFrvyPXjoI5LU5bpCQxs\n",
       "+k4p1oWsa5VMc0Y1/ZEa5awqtcyYnywiwXHGY/65Qawd3nkJdGurxpEMU1c6/reVM2ZkvZLzjN4Q\n",
       "OUUQO0J0YSWIPtJ41kGYenmDweWNVGWo+kEO9iYgjda1DXayQ3tA7x2065l1OYxGu6LA2tcrFluM\n",
       "EPixhG0bHo/2+FCkj+LnAliiFtOeVRjQdEiQfC/cycNbqo8C+hxe73t7whYJZjgoTqIM9Nmt8w/2\n",
       "X+DosYk7gZ8S864dVACNepqg+yda4awUFApj4V8M8E24HzYWWOpYOaPk/QZo9myHWMz7QgeOXJ66\n",
       "g481+yseTD0BLbcdRG21tcvo6rhxszl0shIgpR8UNduCra4w/g55urOcdIho6xHa2FqGcDbQoEtC\n",
       "8rakThQPgVbHJ3zHFGvjPDh1a5iJL0K84AR+5gLEPe2zBtqHLxlta4K8cwPHJ5DedSwMjAuh9/2y\n",
       "RmAez/L5vOjIL1oLq6xT0HHz6KtvKioHKuEEMR8GfQcpfuQZR+Y0wlaTTCET++gcE5YSc0y8H3Xc\n",
       "E6G8tGcOneGBkrFx1pB23S9HxrengEabw8Mn/YxkH8N67TdrA1nY2NQKmPG9iauS/LWc0qpwW2Vn\n",
       "dWXuIGzD3J8mIwROYUz3q3cuEOtO8i9Oh0XxomBB7PSOElQ8AAIkvidZtIAngPF2m6bNpRk+JWiN\n",
       "/fHFEStYrJukfkC43pUhWddb1hOH56FQgLVbrjM4YPBO4BbXOIlEjB3rZfPM4ePlStRieqtk+VB7\n",
       "Tp/Ym489ablk4MvPVdQtGMZSq/uSz3abPulW77JFbtN7eL3NFHmw10jsP1VxS+lY1fV39XCiTaJw\n",
       "veVqCY0rTGgLRHdgUdCm4AUo7qHy4awci5IfZ56i+RfB652lqfGw9Z/FAFGo+wEXxi0Cc/tsu6Ap\n",
       "IyJ83l5zXkv+Mcz5L0ZmErLnFLxS+B8GmdRZsC9nTMPQPt9S9CX9Vp+9NVXmXcC96452A6pmbuBn\n",
       "FObs/whHFML+fOx7C5vW/gNVIpmCIyiwbF8sFGq7z0oBhFJS7aXiNQsEo92GC3R0aGihw8jrKMmL\n",
       "+ZVWAs4rv3PEYbZzECZbbvpsyA5VLRWHlmmFEK/l4Ph4TSl4A8aIeFei5Nbop4F7LlbB0vNLDg3E\n",
       "iVruLq0w+hZvutFurvki6yyCVrGoabsVwTzLEJYkLK2O68dcHEzruL1o8DeRrDuynndIjDE9pnZU\n",
       "pRiamlIzkZBgVHlIumlnIuuCFVijWNXFjcy6FbV2iXMyW+kVN7e12QVECKKofaxBlQyxISFsghJg\n",
       "Uv/JntUFRczrK+WoJhofQO+RcHwZlrCeTpxFkUcvOkgiguBcIjfPWsBDEJ5BRLv9XfCwpjZZU69I\n",
       "ZC4ht3NjB2X25ax+DIhHikPzmbAh7TlOc1wyPso71b8PQiE491GQViQMfjznSnUe0VyfVNZlVLv5\n",
       "1Y3LCICrpBN4YK5uxOa+nMoHB4+vgTrMcTWDPqdAU7wkefSgqMjf6JRzAk4uoOYE2Dh3kst0tQp/\n",
       "zaBEJ/xl4FZ6odMl5O1pH5mjcCJB0fRfgxeCqHWnQSXZb0CrOmCvA632NbIOdTZCwsxeK8pvO0zv\n",
       "NdEazi3XhwdpnN32XgOvF6QumKvjRNCurGymbPgqWYx00eZnc+tO2Lnagwm+LdAGDMCROQIJXi8/\n",
       "h11B4w55ifEVMRlwW6cVY5fKpfmqqxguhHoVUIRYlmYf7jcghMFELDTKc8TpqAMrUSvteQuuRjDE\n",
       "gmfFZowNa+3ajZ0pISTUtoQiSAteizGUVNA7ic90Sc4+qFGyMUu7cIU7Xxc0ahFvYnHAV9hBPF9w\n",
       "0nRLYKa2yWVqiXBGWZjcmdeBUytNQevnYUiBfm6eImjeAlazPnFgr4HRzXcUissGhklpCLxvKP8O\n",
       "keJoBZlXvkCnHG89NtUGEjyiV1VoZ60DHTlljZqV3ACpC64KamYpKbSUB7LLpDX8YuR65Sx+if+P\n",
       "mIb8PZUvAiZ2LblW7emuLuq7fjmQOTLAGyGcEwJ9H62nuKIYs5JNzCBDGe33Za6gCdIDxBNC7PYW\n",
       "GERGBmnpk3ZzIFy5pPG8f1NlodxZXOtBImJEbkjKzBuS1i1luTSVKUtnynI58ofQQiOzAjpLcNsh\n",
       "0W3Zq6pL3ig2qPoAQ8eANU/YZ6ay+3OI6HcagkG3smQt1t5sKuRWbtThGZ3Tne90vXarEoncrDkT\n",
       "AbZclvC9s7PvD2yvNcnsEoH2BtD3xPvyf8FVN+s+Llwv2WHYTq6nQPjBBE+2eYk9J2N3Uz/XGSjm\n",
       "8FuVtnZvBNEZ0rJ97+42DErZ7c7uwjWpQn7jWi4JhNCOp0kxzb3ZrKxZkY82UPC6lo0+9jUB/Vrm\n",
       "Z+AFLRg8m7L6igqv1T6mUken8NSdPSmNU8VHsSiv7oTx/QqBcp2EzeK2Hl9dUrDKGWlOXZ0btGDV\n",
       "6oxjbPBDCprmfGDBjlSQ5KNiArRlMBXmYFmd+kcINvzz6WNnLnzKxmJlCeLgXiz24C9H0hXhl5qq\n",
       "jFCyk3yVUJDYPMjdF8rcgsnVH34p9wcnVpHIAxrYcEdNp/1qEQtibZWCGo/+DHNYSP26mGmNk9Vb\n",
       "6N+1gKI1b9Nyr8/lV8WQ2Qugxu4sm0Dzu/qx6b0CQzLZEe65YbemM0QxYfZAYUJJGiWCBSGWObNQ\n",
       "mxzFvu9MucCCodMHXI/evG10lnl6nvEO1qrpIXg1P5zcUq4f/V8q6s6CIbdqkEGHqJE/3bq9lCc2\n",
       "H9csWTQ3fcCocisybEbRR21+EmbcqxPXeOAfP1fuQUHcUPGUhpfq6nfHZ27th0H2a4zIuL73NEUv\n",
       "xi87QY1INQ9J6hnFwX9m75+VbAAt2QeP3o+7EqH0Y2rX4gVX5vfuTuvJrVPqtz7LKp2erMIVKGUf\n",
       "B0kiWmU7GTBCPoqDPfE0vm750GaXnx/+LTgYheDhJe9QJHkqQ9gCoepU0vVHfHkZfEAy+IJz3R8T\n",
       "Zm7vWZfrMmtrLu48ukaObFXHBq4qH8FMjikP1brCKePwqOZqwO9XcQ6SQOYTZ7tWr4jf1OlFNlP/\n",
       "Nuc/qGyWYYuxiERpq7tvT00sDsx+yoQH4+/gjIim1K6QWGdVlYb1n+/1yl2tMBFeodPFmcMCXOif\n",
       "qYSvvTC7PpeqQf4cSxY5spKR3g3/bFaqwPcqg28vlJkzMr+CV1A1EHfkmPs1hrJFOUJjenM5reI2\n",
       "QrO+WCoiG4VBpYxFYmLF42BmSJ9AHcyBmQpm+2zZbJ/thX1IYWSsJRaOomyzI3ROV1WDGfVzFPrV\n",
       "5AlA+dUzivoC41CJ6Uxr15oSR1EUNMN59Be2bG3oLiCfkjZOxdF4yQl18LV85hsqlO53C6iJJjh8\n",
       "+QSeO9QNDiycL5202urNpdqhIWtVDWOAqy4KUjdLsU/OKoKFDQc5bQ5ebt13DI8gBqhNGuugLaIy\n",
       "2PTC1uvd4BIlQ34/zcfTYUx7/e+l8s2gZP5VdmavbK8K8O7dfVhvJ72SRpFXrzjZDms4Z3mRt+/l\n",
       "FSqVIBywy+1KqWChjNdAtwQZPZzgTXISIVCnss0/rxLGplDjGtp0bX0QLNB+1Viz+4aCLH8HAxac\n",
       "WvqRBowGbSHz6dMbRUEjlxWUVBPoRnTLN8MwAb0AABhrQZqcSeEPJlMCHf/+qZYAARA2uwBLQPOU\n",
       "hnloQk1iZByc6/ok5jDML6nspB90RVt690Jj3TmUJlFvMdG5DopkaRe91vufMQATeW6P+4xmYwUM\n",
       "QRdd/pO+6n5vARVnVXtfodc9vtivL3DMU56GD7AL+n7mpoH9UvtaKI5a8z+5d0zFAcnVI5uhGFri\n",
       "bI3x4j3Zi4QmoZDPnOHQ2X4MRxMLDwLg69tvs0ZeYYpcjaVOFPKAwUx3uVjVIa4vk1mzkbinB1RH\n",
       "KH4fJ5+SJBTAXoUU+dxHqeE4FGxdaU1KLUCx6HTI09vOmc/GZqCq4B8iUo5mwtEzl5ZLg28kIPkX\n",
       "t3Y2P3afQDlgs46ShMT2aiushWg8FV5hbpH2ApH7TteGqkvWn/GJYg+479Gk93BKcUFeZU92BpFD\n",
       "2c/lfdImJGMIy0jjERtZBUaYiW0yjy+w9gAAE53mA+mo9ntCGPX1/Rmkj1gchA/RjkGeIjMMz7vr\n",
       "vtz7xGnJMzFOHL3OHbkrLXVrPUWAH74vY263wevLMwuJ3s/JckFyh6QZv6H7IAQIbwoCdIk6f+r+\n",
       "OOAAAAMCb5+FmWoH0GaCvVn77g9QHvfYiapDIHGw6EUswekw7kXrgqV5IcshBxVDl+W4vwPfcsiM\n",
       "bddMm42ZCYXh/V+a2C71txCOfduUv3po5gAHbjs/z8mLvCSWjIZnD6z+u+8xdY4HXB4j3o2jNxKf\n",
       "g/fQ+1ZwkNQgwi9B+wVs75KMuZfgkTtrr6RoKqGC7LyuNFPqMH2hKb8MY3zCGbHlGkrGd5TEY9j+\n",
       "H/VoUeH7XvU7V0rfEH0JvNjmD63duhRUOP7xPdpXXaXSSaWqjARI68dMaM9I+jO8UiJLerYyOYgg\n",
       "To6/xpIxYD6KVLxLjKGiF+XWPtxMD2L4Rcfp5/sDh8maxSL0JIoeowcjVB7iXi2bKt1acRSUyeSL\n",
       "zeRnw79NqHIWyyLn+jY3KWs5cwvnBKm3zz1KaUrd+G9D6967X7YwYpartBOhQ3CsBH5+opiqXPjh\n",
       "DfGdsn7v5WcMmLdbLPMPfeFLNi8hN95AoeZhjyna+W9PzdwufHWzTfBIzhdewAX7ojY1HF6bBnNY\n",
       "+UFyeYbJCTJkq1QmzypALh1NMYH1yh/zfFv7J2dqKiRpzlt5qrYWwkGCijhLapSmho5kF/pX/cqH\n",
       "XbsBe1ZW2R65ieXHlSStyDzMWxfrp5C7QQWCdj1uWC1xu9fLsCNJbfO8QffHT8V2qPnbO4ZMlSCj\n",
       "+ZjXhVzJIdVqhTGR82DfSRVwFFtagxhw6qsS9eyvtEbjFH/ZXkXMN1ndhGZgvTbWjvF/Ff4EIVGi\n",
       "LnOpm1ldOYe0Dq+gzM6c0PUB/USE9btm22JRL/tgSb269XP9wIcJpqsO4YEw7vchPsdKf7b7S0Qf\n",
       "lWdy3BMu2ysV94iX3LlhvZfiyrpkGr+Acqh2ZoLD1j7/uoTttYB2p1QmZZe/duamvswY3mMKL3Bm\n",
       "OWBnefdk24zRm/BLPl5PN8VAkGcNVXHxctguOjswDbyWPn0OvlV9QQP/ywEblhdyMU16xCVbbfpe\n",
       "E3aNGXncUBRXZS7QMAmFCJTZaGKshUgDxyhw+MirqJoEbAfNkaVH1Y6Oa8GH4LQaNRlfRnjs8FfV\n",
       "WEMll7F+kRipwCv9MD9iRlzZxjVQN2gA8HuHnBGQYsctezm5lmBYlgWJIoSbdZDKN1mdidl+dz5W\n",
       "2X3qHD0wo/n3R936iw2pMiz28yD3cpNTR3KwTVeTkZxLaFhSXbRVqWiGyAgNEM12FTvgr7YSvpXF\n",
       "Ow8Gm5OtuvvTvy3FvFIuYKcOrHIlaChO4bio3KsySYEbHXVO4Cs9BhHSkPXpn6J/PjIZzW2dcHbU\n",
       "gT3577BDLvUIVMlejzF1F6GLn+uvqpxm9HIcfwdwqUmh7vXi28tyZ+xoA0kjCS3jul12jhUtSdH5\n",
       "MVcDusAbEDqnbfcGWuhlX8eiV80MFlYmV3H+WFytfLYAuP11DAvzlLeHQCnLki7oaZtIwrmSpbtK\n",
       "WtlhvvFwV1t31evFcC/BZxa8asXnBcqWrWqnkpOqAz8MiPfcFJepmhZbA8ZflU3FADqCINBRIfhm\n",
       "Flj+5uZM2EB+NYWP+L5u6lxlLuDQUER0Cfop/DG80yc7a35SqKiOsrax5/xcBqpBkWI/AJ6Su5Zy\n",
       "gdgz+RLMQx4Wo/y6UInRs96HHvUxN2vW7hUW7N5FjjpYKX5hfcEhExY9AqFoRka0JD4SsSOZkr4K\n",
       "n/vGCY+MSAUIutE8G0TcVG1SOsjNAYZ476JJOrDtf+0MMlROhb/WXvzpoAc1A+nIObQ+tmmttWwU\n",
       "gQz8iasraMpx3AwvPwl9tO0rHk+H/zn+rFJTLWpGIH0uGcfnx6bjEWultxz6J8NsVa0n4u0wNbxl\n",
       "LVwUfhUoFGMcHQ9UciptyqLFdZtS4ZxpaH7laVKlHSd85zsE4uxq09sJTM8sNjfq6v59/W9QsUjB\n",
       "XbEUB4Qne8gORDHJCHqAMtaSgLamC6+Xk7fPWH1BraX+8WCSNbyrcNnnx5FSBgtvwF2qOPHADCod\n",
       "fiJQlptIdGSoWr+HYhHvOAFyxUvThNmqDKak+vrvwArU04E+9gtRIFWWryiQfH1ftFmAvbKNthie\n",
       "6xI9/7CGTqOyP8C2NEJRo1XRYhuuMssNJpEupkVh9FRDQN+86VQJDtNnYn25+ZPP9bwP4hs11zmW\n",
       "rdPqEkb/UaWyBW5H/qHTuPjpH/SPO/txLF3Rwwij2ZTIGUaDPCKcu7PG4MftMdzwxUKFd7M6q2xS\n",
       "wB6aGK8jfWsOF0mrk5e0e9aNpw8OelMpzv3Y/2GYb6GwmessD1A+0dskX9MkbgZzQDnBzkPII8DL\n",
       "DSf5RB6L8aXgoG8kV8oJVLODeXM+uSOgpbx7fVxdlKhuy3YW5ivtyqYR/e8clxyHshd8XN+KHpGV\n",
       "rtTVeTJrsa43GuTKir4zs8NAmcVPk5GM/4n43DfjDP28cDcoAH6uqNwWLeY6XiGsO/KC5hA871jX\n",
       "1APVSFMjfiCtMvRwCk3FuOITfN8ecy+gwpUou28UcKISX2FGtahkSeGoTbI9p5F8670XfSYBfmtl\n",
       "nfETm1skGT7Y6U2CATX4PWTorUaQxZbqaRPuMAmcJYF7m4vIMHVtRoiBHOQD49pWjMUuReUHmT3o\n",
       "NnYAl6TEsu8K0uCd1MUXQiI+6WnjURr6L1YfP09IbdPvA59zMO9IEIQ8XB4kDG5vcbu0VvN35O8+\n",
       "Mse9eYhsTdoLlhhNeq7SQy5iiCBKRaSa1eANgY4MOAYG+XFQmf1pdPaxqpt5ARl21PnSIXS/StyI\n",
       "N13uNalE+7Vcr5jJmg97tzppLuAIssNCTOlstTVtXLtftERp6R5scgr4NV/8yX8DGml3ITrvEQU9\n",
       "3Ku91t4Hvb/Ue0n0a6Ry/JgHPRw8jti/dzbdxYJ4UXz5Y/pN0H6N4nGWHrIMx7BgSjyKO2lFUo2y\n",
       "bGWorjTWVwpg9tbQSzDzVPQUP7EBvEuUdgYv39BYnlLjh0vJmLUm7SL/5/eOTOnJrANVv6y2KmyZ\n",
       "gXq1PytyGUmZEmL9IQ38JyvNj0eeVb27J7Vne4WXEIdLUktNerdnq62L67ChgRWj3/hKpa+VzpjD\n",
       "ytmq/Hvxc4Lufz5qh1ks6yDUhZm6S1ejD2fa+TgqQPn1JPwvyRmiH5fCV6FWElXveqo/0vh1lgsD\n",
       "caHRBySyuqBpD/F7L14ffDUgsrywOuVnM+aphG/UZ3caIaDCOfPCHqBbb9odWH8vpuN0JNfAAfxn\n",
       "yM22XHPlPWBv1PY4bp6bG2YhxQz4xhampZvHpOnxyiPfum7n68o99q4ChDM3MpeoircxagGmbUG9\n",
       "KcXJb/VRSSWmedNtEJD/s2nzUzk+DXe7+6szSJG/b/0DoAw3e/PzrugjxcxzDLxmoLZ5hjALZoDU\n",
       "7EKi5ZL/3D896nUdFqWNEZlE5h86CogAie4EE4AS7wBKXKhYWZTjxwMjSnDTWq/Uy6/npPL3tpHK\n",
       "TIoO+e6womHzyBdjJ91/gKfb1+6/DuEa19+bBHOQEH+n1X+AMOc6TaUjZ2rvHJ6GWPFLyYkCDpZg\n",
       "FWrNdN3Npo/Aav64Ng38Tm+CDsa5WYUXzDXOeJX94nS0rcNln7rUxg0cGW0UE6QB2thMGx4XULwa\n",
       "oym9UY+KlzBP4SYpx9VdwJVWaktq7FB+DhyZEUMdXECghA5BEUongxytdN9R7ClSgeBOt5DzArab\n",
       "j2pqkPfvb3Blcyh39YM3ZYgrLcC9+0RgjHuwhRCYYLd5/wbuOkJpqXwQxW6XNRkP6b07bMOM6pmt\n",
       "VqO5hkMjlfSL0+bsObfhrlIETNWXKL7n8Prihv2bCi2o4TJ/g9babv5vowyYtE3DR0Sa/SjhDA1y\n",
       "AM+WsuIsLnrbz/mk7rd5E3zBJe/AO3tVNqoVq3gpKidBiNjLOEVFS0zd7g95oYlnLfeHvW+HIGFJ\n",
       "EzJrRinXOo8ASOQSIIa2YFLlLtRR1P+e+biFnLvwbOrmdGKqZSpai6+RmS9AxbQdy37VMpllbNUp\n",
       "ILhp6LcxeOpJXBHdalJDYmmcAq4vXT60W758GF0AwLA+N/dcV06pJx1pNPUbuf3QrbWC+HxTqOIM\n",
       "rqBVf4GUOeBrCavd7YNB5CxDDQSstHrTGRuJ3Opn8DXI0QQrq3Y0xB0DOMr3A5a4nXNcJiV9rfrN\n",
       "XdxR6Mf9bQq5HjqnkHOzdQCVaqJTQ5yB/gwiK9kz37M/yd+8poE28L+6yW3Nm1ki5haEXNEGw2w0\n",
       "k+bY+iFoTXlUaqL+uP+UdGhHY654tb3nk9iyMx6SNs4xMk4taoeVmsLMMgVDXYRpGcI8W/CJlXmr\n",
       "CNszA4P//S8D+HbMgnuvu4DgGvevx1V9iEqe9upW80Wq3BpZtl6IsWNfjUYX8hONv8ohgUlhL75B\n",
       "7c+raRXjvsp20j2c2kVSdmx+bvAZtaKqNg31rjB7roHnjx3J7d3ZD3WwdO5W/KTyJ/p7XKwp7jOP\n",
       "WWH0OI5n+X0Lk2+CDPIC/ukhjndVxFf24IyL1+wEIP0EpkoMFNL1mjcFvQSZI7kPrpPr+ngG9oPk\n",
       "tOU1z5Pxcr836qvT2Sw50Nc0s6MT3jH1zVzYElpphpatODp4KGPoDlBupa8EzK5hjC355wapwwzz\n",
       "+65fCbZNEg5cZ+RN8FLZ+dU4ImINNFSmXbknS+ZbtJg/2yocldXdX4xTEYLPFgqABZyud0jYLdWX\n",
       "raFAJdm5Tx/j9qVAV3EwB9QCXWR5A27w35Wcj9xPm35HTmVdftgipudaM50dKAUvqvCuvq/9+URq\n",
       "wrFMaIeu5PtG+oSh8oxy8ElZXQzj2aEhrKVcrGhSmTXNhatY5reJAd6C9vFkyd+Wpvb7m4RLmDz2\n",
       "ylc6DAFubQxwuIx4EgTD2D4xQOWFeWDxjsmvIIAG8mbPcFKUD36EpKX1dAaTrvn7OHh7PVi1LK0+\n",
       "0xvnWuffwqWx4C4qv1KTIO8ORUPKJfD2Tz8oqiyyG++lbWYo5goFmdoQpYPHv1xglISM6T7o1x6U\n",
       "yzuPeiiipYvP4JIb0BJ4fExGJ7/0JwEV9EdSrLOo+8N7tDE+fPkevcDMO100LWa4CBekWyhAx2ug\n",
       "yuizRh9MpyZ6T7nxsumajaEw47uX15Maui8ZdNSczMa9Yd6Das3soLZULiujgmKyFwewsgV7wXXb\n",
       "bMzoSk1EBlIDkKKlKvOEjqWNHyq+bQrvbktb2zGmG661mXvncoE+Ub7vLgbl+sPGFj+uSnEX9AeK\n",
       "GRD71ia9zGbjRJ1FOhGEBNfyZZojC9ORuNJcLPN4NpQxZeJ/4oOpsQ7yzBZN5+Xz+QxCGOncsQyo\n",
       "EF4Z7eiRSmPEeixaAsX1BKXdj2Em19nacsqOm6hkgmzTEiGQ/Z1zkbcRQBLar6zRieRD6atz2Lpa\n",
       "cb9o93vN6hZjNHL6Px2tDG/WuR93goHhKVDo9Iz0P0RbPRqOWUwguRsTJ7hdpaIzHZTH6jgpqadZ\n",
       "v4D4H5odnYT1y4HzNJI+BIlMVPYlv0Zu3Vc9i9K1kC2G78sBl7ltYBa/mdAiKHrgQwmqDHEFkWxb\n",
       "O6Dp/kDPIa2sUIMYwyjuqX5yv0MnGuswS95kw7EJFwgtYK/tyoNVeP9jWzzGtV+S8JLmCtgW88XV\n",
       "KaF9i0XCl5Mx5wDIF5KYGgrSsMAwt61WueP5Niu9edBdKIlj3UlsLU3R/Ke4hjdoJgCt8Ws96/8o\n",
       "kXDNMtcOUFvqi22L7oyjhtlTGzW6TL6VVPChvOpcGGofVIYX9ZkzzXbf6aNMN2+GB+nH4jc1mJZ4\n",
       "NFDwmXVyZEswpmDePROAnGRZZAQCNqSgPNQZZc0eMyXKZBQ6TWKhtRcQvyLpEQnHXOVSzCH9BN6+\n",
       "sbLk7uqDRtWgyYSD85iosb1pQOx/iGPJu6bnpxO5zZ/EFCW6130s4+u08lpKdBeIWFOC4M7/OuTW\n",
       "ynADfCyQjKzkDxU7ncP2iMuPnCjidwo4jIuWr8AwW15SpE9IRN/TpPw7sBj6rVWgDELe8ldSPjMp\n",
       "abWI/OEo7mauzMLfSLt39iLhFAF0OgogrJFHYuno3+nsmUokjXPi9DTWBXkD6K+ch+AjROIuWnJI\n",
       "lHJVgdxBU7FWR3CsA2fc/FdhGrWzxLEZThQScbSwLA3StP7kYFIzT7uFt3ZJ/LoN2Nm8Fg+3NShR\n",
       "toHbOgNkXBYRl3+sIz6L1D14aatgs/ki/z94CIydmgLo5PGPZU1CBM6jZJknZceOVYsjH5EcxoAM\n",
       "5q9kWHnznaDuVqU1f9y5w7TIR0iJL/lWVU5TO4gnXJ8VbS8+fu6kyJ7JUql3oEgBIthmQfHRq1D6\n",
       "E1Ly8/EzRbo06sTXu+Viq1Unh2aOIlM+Qwo424MTOrTn0V7rVXXtnp5k1y7z6bIJ4y3w7Rjwi/X3\n",
       "a3K6bTigNRUYaKoSDiCtEpTIdYoBFOs7RkjhAaVRQ0GE+0oMIj6gAmCEm8H4rT/oTJ6W4VG0cfyR\n",
       "BcDiR3KNkTAOX9sld9wNQQur+9i1W4sFQEHfpu0G1AL9sQQobQgG9jhFyZQ86bulwiiEFhJYmnbA\n",
       "RTPypQ+fH3OdsJQh8uLZAxe25PH9c2sfROqa0afhTYyCi988wduY3zDttuUKD2Xq+xPtu2xGZhxh\n",
       "T1wNRAKxQcMUA0AF7kqWUKeC7Nu/czFPndeSWT0DuGRtHXJwjgyYeEW6TROF6BRRYaGkUSZR3gIk\n",
       "frCTLWYgNx1M5Cv5poppqK6cYwjluug0/s8Vrs/uOHp7G7B8JmmWaPfOCKobnvxTMC8Fe61dzN97\n",
       "On81Nz7IF1AUiPzadeOhNYOlRV8WEsPnQYssdDGWxoCYM7pQfVLeiDtSom7/rjMOZkvORJKsqxxp\n",
       "8iDy3zX3j4yBjVKnBobs+EcsMiV75ufWsLEgB60YpUVRYjK3wuN8zqSFHZcv8o3Hi8MrwnBPE11V\n",
       "Cmx9pmzJRXzmqoRJXTe/HkV1IJtnKiwAaxYUn2m6XxeQbnMRQ54Ub1QwOho185/F5bwQ+Bo5p/8+\n",
       "6vJFCRt3/+LdzEGAUxk5k2qdreAZCd1oUyXnopBZpquZU6AtsomJARMZvIn3U8SiwPt9YgFSY/F3\n",
       "st2CAmcIujfIjtygrZbL3LLX60YcFsJbLM/8dpA46fqTvpzmqCd4coQojXTqgD8EXNe9QNMwBLea\n",
       "ZoyK5y/ABcUvOdAYP4e9vXyLU1DXiVOfJbcYIyHQs58QXMiTxeTplgXThw4XHPQ4JOMf8gdkQMW+\n",
       "e8qgOCEHf2M7/mg/6r5s7/GVlUqPazTExV2vkxYwQyufM+OV8xg4Q0hz8nWsyB2P3z9VPvE40OFi\n",
       "k50wngo4KnDkJeCaGaTFa+wGjBDPeA1jSsl6APhEhF/5e1tIt7jSilZEOYniDGDsg57oZ19hY4lZ\n",
       "Xw7nMPHrpl/7nGA41A0qcQ5SuCFlt8dPFdrcWetFrkBVTy6qnPTc734klOLEQvXK7Kzi/mMC7Qdc\n",
       "Y5ekmHr+iB4ppZ8Cx2fbO5R+Mu7rLexOaSNSMY4Q8LT4s0pPGV6/1hdSX/qrNt5N+mcbjSphAUh1\n",
       "2U9S7VdoqoRGbR1Fgs+bAXHCrdr31CnWOj7TBNIahp2A2dcBvolb+CDqVQDX4Tc8CEeuh1X8MZpX\n",
       "iMvAbgj9B3UDc7NphybIWR1FBjE1j8q9d80KBbFpkiUfpYnqcDhIhbs0mcOvQlPQjID/OJJqEJWy\n",
       "tToP+/+e/Az7VTL0/T3Mq+MiIyNUp3+VESbdL3zzwSqiZ4DdW+UrgQsQWDQSa2gSQwCB1wKVq4rN\n",
       "DZiKHNhpYtfniE6LOuJTaP4lhe6OgKmGPFx+JaIvQHfJebXCpv182kRdLrX/FDklDekx86N8X5mk\n",
       "u+d0Y5vVCPuZkUqgAScAAA7UQZ66RRE8N/8AAMQXSYvpqDWXAvAg7Ke57GwyAW5wSUSNb5TD3YEA\n",
       "4pP82jyf11NR6qhm6vDgJ3ID7FZmisNKWjZCWkpraf7PjqLYlynWCaTvpft/njW8VTptuGqew/xM\n",
       "W0soWJOYTAAAAwACNOqGDIfQ+jv3Vwgaw86kE1Cccks6jiQnDBaASyTID0X4MPhj4OxTpi3SsBcj\n",
       "/2gpJJFkDSqUv4uFvjf+BEZHieUm/wja9rFSxHKALzvR6Zq2UDT1DebZExC6MRU+YNtaCcX0f2VK\n",
       "a63UwAL6+tMcSDjWUmJOCgXW9vtIuD9M9YBqQAZ2NgbqfZ19fGpKddavJEVwFlv8xckPkrcyrLaw\n",
       "8tdT/k+2X57vfSqsi3YP3VMAJ2ieXCcP5OPkWi+cjZOKF0ppP7xKP3KzxFiF8iqzSV/miN8GqbZR\n",
       "6uxnXemo/5I7vXNnjChHeYJt0nkWQrFqLk6JGfFosG6//0r6iCLZ7KqBg1CMyScAHKQZZ1lO6AAH\n",
       "3CpRG6y/cJ/8IVsrhkc6odBMl9TmjwQsLydtGnMp9iQfTHoud+SIYN3dWro1JNIAImN7GtDKis2H\n",
       "3aJ9xood5AkczTN6FVZyWDqOv9eZs+CD62DOKbIDVdWiytO4fipd/g9OfJzGIXLfobatVqncDZuO\n",
       "Ib8DA0fHnnIm4JLANExNEykU8bzLgY0VgOR9Osp11JCFoSPh6YwEMMYifEwGk+trXcIaqmZ81yGf\n",
       "Bs0GQwWCAP96VeDerikmGujy7N3vSoY+q/IXqZIdV+tSruuFNJNrQ5OTEHRN22Zososc9VAIbkPC\n",
       "OHBPBmdO4+Al7HbrVmXWSS8saDa31zZ1wE6xGhvkequX6VKcEATJ957oSc7OfXV6SCURlEbFPoz4\n",
       "KH4dW9vi9bLtqhbDjnvoUOY/U1iODZZBZHt3o1nEjgE6IC9t1NW2fTy3VRP1UQhMRaxAYXynwVCe\n",
       "bMGbHMwRwCjV/zX0qY5yL/FHZuSCEcae8WX7WDxznW90HysVceKpW/1QJeCWa7rFDCuKdy0VB5+q\n",
       "yO2sgbGShUKXxs29xCMeeMcuWM6LeU7lkiKQDJvK90IfZLhrFcuB2O6boRus8XEyJ73K/416fJ2j\n",
       "0f0mbhrS4T4zx6+DpT8sQaBk/n7b3YXa+ENFuZstmnUo71emt49ezgWAuAPOo0uRZy8FcR2itEUi\n",
       "bPp9bvw46vRJ1ZQ74yGYqt4JJ0p+7e/1WkuMtncTrglHIV7uKBMTJkr2MQbpJUzKzK6i6fuf68cT\n",
       "LoPA71pmknTSdj85XgBbTkeVPHXvSExdEpyNlvN7sWsCM2knHYp3llR5mdiUqlHRTmrr/d7JXeum\n",
       "QwosclKlYLVFoky9wLR7PG5bpu0c+zdPccMzwa6Zx2AbgCyjDS5QDlfD2tdR73tFEJDOhp0qcISH\n",
       "N+qwDuWD5yHtPMSBLNtTpN4Aoa3Q26cicwxqYnCxC/rGTt8lhbw6b35QRtH8kJvEq4f7NyviZoap\n",
       "UEw5o64FpkYciG9MQmAXUIt9eB+cNjX4/SpqW6Cx/F2w7nyAOpopCznM4m0kSVwbaAosK+IeZ3wy\n",
       "zc4W2/rU7urd69BjfTY6RpovQXxK5zNlmJ3zYeiDlwTfczej0OCamZgdMsm8p75vJ13oHyv4bSBz\n",
       "NF4xmYwWoQEHohepF2iKt2E0AR1bNiaDAjZoklcVsRz80eUMIo2otx6W+OzvfCOZOW1puSsV13wQ\n",
       "GIu6wcwWLMDgCl4xJIdJEOJWDIz20dvaLgK6onzxko9VK5q3eKggg2e4gYe01dQmnGhblMtybRWk\n",
       "8+OeWeT/CtVVV9dRhi2qxZlYv6BJ1/8eJS7apI6S27Rp2EeINhEs38U+dPQnotCCWHIRUKwhvWsh\n",
       "C85XTMh/CrlEFPb5Juxtdi6b1kyAI3EZFMutO87RTG0NNK5k5s1yQBdW+hAeHOmGhHRnTN09yfhV\n",
       "USwW0FlZGrI8A6bUZgkU+WlNDoIddh/h+BfXo8qZM0h5HdAtZjBrHCWwSuHXtAheac00RP3N2Ygq\n",
       "IXG9A8YhygX4psrLyvZw5VnR65qoh4NcNhslVFx0N7WhV3toVWmoZYb4ibjJsRoH69to5rR/lIsp\n",
       "A3O8HLYji3suOc9J9DkUWMkg0tKKUvC1NYumFDLKEZ5sOLHdyFaTQRS2YZ6XSdeYBHwhSeODvrRW\n",
       "yZwybxoZ506FF5//H0Gwk+OiR1s41sKp9xOKQnN5dVnRS/J/lNI/KBiuhLtz4cOY4gzNGfeUumN/\n",
       "n3uKAE5JyOo/fe70ONr7HEuhYnGFtr6qKumNnOGHHlgYU0peA/z0bmqa3zJvGyDUTsObgn/mbCmB\n",
       "0igxsbk851P9XvEolBTOk9zwmNBPFnGktqBX7r1JW+FThVxcKhWdaLdLDtELbn9h1mer6ZNtH18A\n",
       "hqHvE1yfaZT1tGr6Lzhy+lNJel6fX5q5VE86/23TbMWcW1cj0teERZiN2BrL0i4XGVqimWzuvuSt\n",
       "bGiADkZZNRHjl0XP5E++FeCTkjjHKGZ8NozB43LtgewG603PLz9Owf8Q0YCC46f2IID4gDrWDt5H\n",
       "+ijeIcHBrNnTu12Y9UOg3/SCwK6zNJg0k9Uw5cRrnx/JRTuogHj64o+2qV37SzbNZcCRk3r34TgZ\n",
       "Q6t4G6rF4e4oqJSs+kAN5DPXeYwjcDTPJGWC7ms7jMUlLeUKElJFnfSiEsoOLW29AEC72siyOoCY\n",
       "/UiU0M6c0q9hm9fbfzpDf0WaHRYrnHAx6LLTpDx0pZL2wrVExtXls7HKJYO9i/d0T0EATwDCoElt\n",
       "bx9R4VFigjEzfkaYWAI0CuLgFySnIwZ9O8MeY2y/vEzxEmj0GKFnatp+LJxCKDGC4R5cq2qNNr89\n",
       "1buvu6vQ35r1grHuz9IGVrbzzwgeZkferzfTMlcR+o6CCIWp3q6ZPXKVDkFcubQxzuteDsMq5+ue\n",
       "KJjnbI8lRzJCX03Y7J3qFVsj/Bj2p3Y3TZlG1l/wX+/+9qc0+clXmG+D2b6+4FTjavkJWypX068I\n",
       "RE2xnQ3XWmA1Fa2zo41rbnd8shwmdGaYcpa2qzO5g5Vtui1PssAETjRHd+4IeIfaTNwog+BM4DE0\n",
       "y/rmT9aMXbmPMjpnwSok5n+2X5bPw6CEj2aSsgVo4YoUBd5p0H+mI9tZ5/IKLZ4y/02RPXMxfL1e\n",
       "OpsEhPftaq7JNQ2qHsJzNJyQXUPPAG4+t/N8xkgHyQqoKCm2FnMWW9kobA9IBU85kuWXRJ9w+feM\n",
       "T+AHl5TITYYYG3vy/LvkTz/1Z9//htRQvNN7t22Kavz5mPGgOmX2rXZ0iw727zxFTXzJXKG4UbIy\n",
       "sbEY/OFI+hN1/nqpluqWq96q8AyUNhixeX17ev7k1H69K8TLTLWmrdxU5ge5LtLV5x1fbE3/orOI\n",
       "lh/wxtZAF3xKKzNtngFsQ+qGsJr2nayLHWML6HsQ5MRuAPcoubpuDOm9IkjWcOW6RS42OWYaqWu8\n",
       "pP/6ggMyopCSxdNy/A/Tp0hJEBHiRzEEzjex5pXAgu8rzkP581Vxj6A0MdhxlDm4i32QGRBKrAef\n",
       "G61QZ0AvUINfmlPGTZFZqeSY/HyIp0G1qkZEjOcbypgF4zAbFYyDphYxTj44ldsyi/JQ3nYFrW3z\n",
       "MReN6EiZHxdLiVG1CgRNgblUh0RrvTbQqAb6wWJ2jnkN9b4+kd+j2GhXTmcduxKLZTqAD6R6BSGE\n",
       "bZvI537Zcd4V+uuETMxXqMCGoj4Dte9MEeTaqAwY7zNBXMg1vaZWyOXpdBobQDhRtyUnRM+OI1VO\n",
       "2NwgWlqmW1G0qbIyK5uNR5x0R21maGtVfUfSg/uCzUfc6zK1caqklvpC0Jtc1BuqaTDbyFtSSFA4\n",
       "Yuh9hs+8oS6WmrtBY0yn7lIPuO3jDhVnmvnuju24DtcS41mdoE1zc7u9fbXbdo0Q3RBiVIBIYsxM\n",
       "xU+7mgYPLFNH8lB3OXdsF2aja/AJvz9g/DLXDC+MYSJeJi0uoxdCqHq2P+wnoCqRpbus8W+JOLVu\n",
       "OyoKS0WSbW/EBKzaVm24iygiCq9rv3U8hEZ84H7P4rXpwNHe439MxQ7A1ROXlQfWX+ZYythkni9U\n",
       "74cDkNwNDR0P9AjiLo5FQDw/0xziycLsaZ/uQP2fko8JH/vGREUoHmOHr3HQH45twrAqZGIiVNlT\n",
       "nUgkS7zHqmyW1BeBzE8Vu+IgqU58y2cIFRZ4Mh1Q0rayG8aSqetkpOLngcDuqs/VF96g9qWFgB8K\n",
       "145vj5DdgkXEsMR4Xvg3S1UFwcwTfYnMR6QdgO0PJvUtfhejdUJyIOT/uRHrTSa0Drqu6iWptvEf\n",
       "qBFyPP1EaqiTKD5ZFiE7ykhZPLrNqc3kRKZBh1BauGSTq3BEo1gvLgOcTDwE6v2hXgHgi2r8kNjs\n",
       "Q1OPKcCoc/rgOG5D1G6/X27mL+SEDNI2BmRWfgCkw1JvNUcf58lJgE/xE01sTmCCZ+ZpQr9jLeUU\n",
       "ey5bkb/51qW9u8lencZ1tpihsWb40MHp9KvHv7R/4tqvF+sCiI+QYSdEed1YaumdDGt91RVrSXs7\n",
       "TUGMnCbILdZfF8h0EIgTAlOtP81rLr712XViuoxtVE/kYrh3j475VlVLFNEWM9DHU5wK5bnyIs5x\n",
       "8hxkoGtDzEXblP0BJCbvsmCYe4mMKa/TQg4ek/xwXG34xjTsq3aZXmJ+OefnUlUhvUJIzPsr+YF/\n",
       "3w6daBtIlbtZlNz28ZfPQCc2AVQM/+kOK7/n5pSuIWwDQobMez5rcd/yyeF/B5r4anFF/SEfzWiv\n",
       "7HUuWsw8IUDrzy+U4RdG9f7RnEc5GrgMmiE5DjM3PPLrm90paZ5/9vCuqK9BHd7rlm4tIbocGZJT\n",
       "rNqfJ9BvUQPK06dWahIlkHzPcgSMS227IRXSSjeBWUBUXRAUF4Uyk88DIgHEGGr+YHXJNeBPHTFD\n",
       "PAFlki1VRjh0L/ioMR4MPUGFKfuqVnpfvPrDSgBup8ZqrXxAGNV5MzbNSz8Tl6YLNg58IOiq44ay\n",
       "fXoOi+RFpnwjXQvNN9KQ3nvhkJVcmItW1Clva7Ln2gMPGjZMlFS8auSZAdU3iv+jVQAfMAAADKMB\n",
       "nttqQ38AAMQXNmo2Cdv8dLoNQ+Nhk91Y4Xc5t5d9xsOqBvivY89vJWOtrRw7m3JZyYIThyBPuX3k\n",
       "gVk6CagI/l3x0tME0XRbE6d15wJ6Quewbp2nZLgGlSNy2F7Kh8o3bsF518WhYC+AgfD3kJNXxokY\n",
       "hqVsYen3j8P0TzP/K8ymkvRs6zFk3tDlKScsrmuAG2DEb03W4UrEDyBVkaCifPox6QbOr3poj14C\n",
       "cVPXOY6rLsC9Qm5UnxfwVPjQvxpc9czM2gvF775HlCy45vtPyqFYlxjtzj6WWDmBjt75pyDs5/0K\n",
       "5zkTvHCEMSjzZjVi1O4OH882RQHhTfFCRkt/llcJeJvCzZAjOwRj9VHvE/zQPWD5O7bKuuyBhoDc\n",
       "vh2VT+uIpKSQXPB2p0ZDbBgqZRvSPvFdhE/rBSY4YWHKMCO+F/BGmKQV3A8lwPBPyR2aS8Y9qdoI\n",
       "P2Ni5fbC39nx1f/nIaH+qQ0gc6bV8sT25Lf4ljn8iIO6UU/LHRUd8MfHgNaWxMLl4pUzH4sbFEoZ\n",
       "PM0TXy3zPINAEnpepfwdY3qJn1XypjrhkQ9pTjM50wPuBtOLKn1lSQJIHolNGWDBGcfiQeK0XXlJ\n",
       "UPuMK9GORvGeBnFWGj1mZfB2ap3y4uDt84BPYOPy8UZa+D38vLEstgKt9XNocy3BfJ3JjH22c8l4\n",
       "s1dG9vSfdM7xEHlM07UH8fXNnoLvHL559oWM9Wdjcv21mL9CRctVj0dKsGQg22eqm8uaT2Q+DFp1\n",
       "DmzIMqLuyvJWMnJ3y93Qu2QQYCGF/YtWwkVd4uvQNWbY1e/GIGyLnPwBEpxwwGxJRuJfV5E5xPER\n",
       "6iHx4XrTRaJvrUVsI5wo2BLMF6N7uyzk+SzNI/A9hKjNWerGi1GhRVnDkD4vpRt1pjuny8gYemdG\n",
       "65ST6LOkMSULBQFDYeY1/IEspVb+WNOGBlybVHXx7EB7PsTileXQ/GQ7O5R4/40CCbNBFvmTKdya\n",
       "lIGx05WJYmsh1c+OkO5kzngkXj2kc9Cscx2b3z6eR+u4euK4wyaCxsIFnNu/P/ATMLjPKMvEUs2K\n",
       "QdWzCMZ26IvIt1yqMcrnAMtXBrHJYiTGCsBZd0nnEOlsW5GuBNZh9J9R/AcJ0Fnb6tj8E5YysC9Z\n",
       "3JJxqqsx/IcXUTlihfLHLtfSM1teEdnXtcGieRvQYUQAL6eB6XlEV1IjCY3eAZaYtwZkt2jWB+5W\n",
       "anKxN4TApe4HUVPVveJR6tnlDbR76Ukgr2DhFddjLs/e2O+S46tRJT2oC9W85tGfsSr/5c+I5gwl\n",
       "tgylNewlPaAWbeyEJ2E8NF51noFB3CqoArv6WF88AniMqZwSWpmXVXAnDcjcWSlJckXgnsAGVIVd\n",
       "B9FcjOW/lBK76fmtrJV1l/JufiounzN55yNWIV3SWpYv/NGsXoIlkYmUR0uYtFVFWtbUyF55mNwM\n",
       "hxTSb9bwgNqwZdm22blFiL1eai5KNXDk9XMWvN3jA3T8VOyrLBsjEPCMGKqdC/HPlUvMz1I/GQ47\n",
       "GCgn/968h/MdjLQrv1vZlWO2reLF2yaYzpfHorvCvU0fCB8Ii9Mew5W+YCc8yWk2fKagDzfNJDfb\n",
       "kLkdDwApd57JLRAYJ+PPlZ45tntwdDtrvUpV5rKL7/RmAy9kgoac9js7FIyYrd3mxznNRVCMJBtE\n",
       "qJg0PPjl+3lrlNTdBrN5wUElkEXBU8YAYjEi3+8u7pT1Q/LTlvLeB8XB6JyNy2LiyPctM1otexuw\n",
       "nw1p3eGSTlFgVY24LHOTPv48c4wf4PLK9zwumB5U1CskcURWDVqXx71iR+x0tqjbPiO/j5BeSdlz\n",
       "iyzm3JiRgQdQyxrH/npaVQKJTlzg7nFpr7G6rbmAc1APhz81QQQC3r8dksHP2ruG/roPxyKxujt1\n",
       "hOB1wmMYDN7TBhHW5CYPS1QkLjkBBuyJVWpBkUbTY1B5LCpPZ1YyaM4/MoOpATipHuaHwBSxmNtZ\n",
       "c5+HUg4gKxoobuFFsZTypawD5tqKQT+uv+jBOt/KT+K5h6PO7ztCNcmRhvv0aaL1uJwQMs+hPaNy\n",
       "i59LTjpQywUJOs1j7X7hH6yXUFkVrIyAsltsluRdwMsYgumoyWHNH1OV6cCi01EHwQk0p8SZan12\n",
       "uKiPKlejtALM5wFPnZjpicI20JhgkEh6sU+SrCbdrlnpw4M1iChKefF23xkinW5AS7601MiXRN2u\n",
       "nh7Pd1e5czXpoCtkFFo2cqeVotuIDEIEphYFxTgopALhEp+vqyePExT32heQ/9Vc9pQj1Dk1i4bA\n",
       "mau2rVorjsL4FgUAMhLKCKf413bwDpCalsljhU7KFFYkHTr7VwMVolfrL6B0pMNKmN+PKsL1vMUF\n",
       "BDZB2xtuARXeI3GAQZmj7unf95hNy2uTTn08xgypIGGGlL9fzjDH/hQPfBlXirI5vwPyS2+SadjC\n",
       "ja62LyV+pEyydO6zw9Tlp4qv2404NMqD7njJ9AxbSrtqElTUQmNansS1/6FTw3XPv4DEPW7ASo9N\n",
       "WqJWvM3l3LNaxpwdYDbIM6bpMU7zEkKjK1pbnoWJ9Zam3o9QpCi9Scar4rLeli2qBhH8m5T9YkPo\n",
       "nx5Y6m5CPaSEOSCl/c/k5ZWAzxQ+lYbry7Cjo5Rlv2s1ZNb+Ze4DiMBFEBYIRyKSXkGBNv+Mum3u\n",
       "zheToEvep/hk9Hb0HNeedTcODXlzk5seyIP5HDvx/770AkBaba0bS0vvIk9E6kAnwcgEGVkY4aM/\n",
       "m1nUw7rj35fNmuVtA9t5NEfGcGLzpCkDFXeCr/sR6hgP7j4nnpesuWm5McVcJFcYG/tR+o3gIJKl\n",
       "73foEI6oFdi0FDv9qS8zzqwDwwhLM7Vip7WOrjfAqt9WXL96LbgguaGOfmvvnyncElK/jo8qW135\n",
       "g229UCWB8dc8fKiNs/DQq5nqxGXf8NDawpihQ4nGx1wIeDvrC/DNhZBspS1HnxO/v8nS2WCym/8D\n",
       "xPSregqW1GcxWwdH0VB4rIOX6bqbk4P3UgpVVePl/+6QiDuv47Agd6En0tizqfP1TOtAqmMe6jkt\n",
       "8gD+E9X2oBVPfNQhtSDLdtexRb92pQ2D5Ew/yuBWDKLQn+M/HV9GB1HSAHuAQMraezUMkuMuOz40\n",
       "uhSB0d5rzz/ndUlN6GZdocOcTLgWl00+YpqNdleDd5IPqMMURX3GTcfNOzOjtFiCAd4AqZdaA6kh\n",
       "5pMKcTVksZhx4DhiStOr/UGHQlsDYD44FJKM/Q6oCBLbz8IKfybLRq8UQ+RSnau7VoZARVnfEnl7\n",
       "6SRy2Xbbf7oulxwVh1VapF2eZetYdjTedj4wJbW3sjhYt2jt135Z3bXskkp9ZoHa/E7NFPPzTboi\n",
       "PhUlqWZFwW2Hama0IHGl58pJjFouTdGIn3bxL/yjP0CEznwYXB7fPsjAMJvb10cJdYBobN1dzSk7\n",
       "ozUgcL+nXq20NBp/jdD+lzAwjTBFmQbhKf503zH0dRKCdC3W/0/PI93I51MQrK1J5QRUse+Eyjn4\n",
       "zMf21QJ0DIaE/g+tRFLnPyhgZ3Av/POIVLtR8mhh1n8L7AFRw4pWvQ3YkkSL4EiRvmmLMTFNe3Fx\n",
       "d/5OS6fHGigxUdvTudhPlcCjUF6jj1UjZgnhVwk3jIICchod3rX316EPZo9xkWzKtyJ/SV/tRuj/\n",
       "qzb1lVJIRmj0RD0MlLFFP/DvbQFyVjtPynzieJ6a10bMEBido9b8wDqZ8pUKMkrlZoaZi2wVFP8N\n",
       "f1/sCxp8x0uNMh03vzyzPD01w555KvkXeZorV8S+wDRsdgkhUtXP56z53f80/OWg9GLf1WceD0Is\n",
       "YEa2owawYeVeAVKy+vptPk/5q+fjyIBypKNiQbCM9cdnQKh+kw8gI9k2TVjTF++h0meUfK2NvXxK\n",
       "nCD2aDV9x0p01zA61QgEVn2+H4FNB/n+RtAhvj8GIwr53b2Qa/eR40W0NWoVn8UiyDucKad/iZ6A\n",
       "2GcTcmbyt7+sPFs/jXc4CQMOxrEUjuItKCIqSWkJy72cSugqhr1RyE2zGCUXBi3BzYf1VEjZ3SI4\n",
       "RJ7D1+izXqs5fjMbtSNhHZIoJANE7evYXMqqy8n2EToyNrO1EeoSjQ/1ZgN73hGLiNVRi4kFmkqX\n",
       "wiFkUw1N7JMu0LeSfDO5WptwouyhRf16m9MU93babWLsvDhshBkg/k+uCTDVc1czW7n2Cyqu/1MD\n",
       "9MOhfz1wsQYkbiZNwBPe6JUOqn/mmeF8XZPJ3cXy7Vl+iP7QZJkSDs47j/w2qaPDQAiwgmF6akEI\n",
       "4H6xxhGhj8C5SA2LBfiqS21ZBdxwrN0jYFmjPNddAOC01ASHIQplgAlZAAARZEGa3UmoQWiZTAhv\n",
       "//6nhAACK0i5HFTpakRi/dSjaH68wEMqaFtEryb1xGHn1HBebwuAsugFacRhAWejPzpTH8KPJUP7\n",
       "kIq4MlzU4UkhCvFlP5EgU97ZWU6JWhL9h3vmVV27vxm/OVv//7Xx8GmnqERWw/DEymE+JC6na9xB\n",
       "N/iS9zKQCKsPu0nFP9k/lT6MVAxu1QudiApS0z8dBXY+HvBNwTVgyIKkgX9FXKyXT22UCOKDb/ke\n",
       "mYLQYqFmHPVOxrpAj5KZf2gk6Q8BVX1+gkOjvXXLYey1fORhDDBJQLRPygE+o/q61Csa2ST18NK6\n",
       "fMeLpATd00HFJ8I0+L1sxjFLYrFuOPQ+ARwz58+1OFW/yONqAtYLN8Ac/fRkK/P49/f1ZEAje6Ks\n",
       "jhCvpXbExvM1gV6A3Z/XgYnJ9pEZUILqBjVAByyeBEuJ80w3vggD+l7nQ2QQyNKLQEb4pgFufp1y\n",
       "0agDMK8SxDVAMmrD+YN/379NEy+ezxfB91hpt/WvAMXobBGNXKmPvadYy6NYQ1hAC9cdvgFoOqvz\n",
       "NlWk6CaxwvMZgklwqdB0r0bqQqosfpfTri9n8J0XIf8HHe+ny0UKxmayRdfGRHyV/gi4RMFBEqVK\n",
       "Rfs1pvV1hFb6PlhIoUp5AJ6RqQD+9m6EHDXaxhUcI08IRaaC6jyvggPL8M6wWhaIRqibhchQS/0B\n",
       "2+7uTsskPgJqy8a0aXgUnxij55grVVDju/sq48DsGJ+oXlUKo1BKcIKBePChqgoYtj/VYR/NMbdL\n",
       "WIl1gcCRetfCHsenqxrb5vph5Lg5q/i9YsSF31ysqQ0hz1KncdLPw8Iq5Fj8+JjvZ1Hg4VGbGrJJ\n",
       "livwqvXajjwu2jngrnRzUaaQT9nH9iPYc4+mHBbCOcwzts8/Zlfnm63VAxfX2bgmXA6WWfp8UywH\n",
       "Va42zH7IHn3/EaLTTJ++X+AHK5ZU70lrb9Wki7jDi71jwGLzopHZir+rcosy/mY4YOQrqsRIwY2x\n",
       "MsoJ5pcqNXTFQ/XHMdKqWsPRqsNXbtOaPY8qyYQSUG/ScxbzTs8w6Y4evkRLQcEIi0UfklaOmTyH\n",
       "WJvlyKEdw/3M4KIYCpCzFnOBHZIWJwd8EFmYkPmcU2V3QbfnI4/rdvMk3671Zw5dMZcS6L9OpLWW\n",
       "ydkV+zPwhbuLDvXEIYA1mbY+j/y20dgSuP5cZygv1OfpzOC/5zRneEjBwWcIpp9tzjnP0HKVZMKt\n",
       "xFAa2Vk3b+eufZx7zpVsigSSwmD+Fw0vwy+7Xo7uqIVH34d5giOhCynOuqx0gay73L6JpCmkmncm\n",
       "AqB0eAiD5qQYTU1f5JU0zeQ2VFu3jR1QTaWDXHFpLIKa9gUzSNp8NhmOhn4sgfJYz+lL/JIkOm08\n",
       "yKY2Ll4yS8yiMsI23JJbjQox5vqvBd48tU3hI0OT9th3x/9heDsvxDIEdlyYst1A8W7sHbpLG9xZ\n",
       "a9zDr0zSFInlQCpRmQYq6XilF3zSO2vSxviFqOO/YaWtbKaxithQ9IvX40apa2fL7zipVDSQHafy\n",
       "glj8WQNd24WGgt+1zK0MorE5UAyGYNA0t1CvtVGDUR9ubbqlSdIn1wAjz0hKA4TkXJZnlJ32StVd\n",
       "bmCngJ1LxcfdAAflnOvsr/lJzTwQ+3txAQhG+oRtdu8d4z9+wpfdeAGfcx9F21diHRORIGZDOGIc\n",
       "zUA1BfiUO+Np1opbGdPdJxV6cbIriNAC+OxvkynxSy3mieemTfzYir/Huqi7PMsxmNSt8ju6AWDR\n",
       "3XRBqlVCbVo4hZP7LBmauYqWvnryikd/WQ7E0Fiu3bkrmsKwwAhPNsGZwCZVjpvCulXDcI51u2yv\n",
       "T29vl49OuAlklJzBUZ76CND0DO/UMaXXVMK1JcoJ8yuOnZJWyNEA72GbwS1arl181vw3rFRYYN6Q\n",
       "dVQrCciNL5xVdoS4qy9J7nfyi3v8zBqaWYonqUUa5ZupoXBvDcmPsYvOrJi7XUC0HO9HJW0bZpSt\n",
       "yFqu9ArgUdOvXIIRsLxHSaaTYFJRv2sHOScKSSlKN6b7hnTZHjb6zy9g1ROQtnIBZ0k/dP7NU6Jj\n",
       "8IztkEh5fR5vQkgwlf6mQwcfV2kxBjyvC3XJojqvx0LJgw8GrjKc/D8BEewudPyeqVnIuSYTvYhu\n",
       "0utVjfG/oGZYPrmu5OB49NqYDrYE7aPLhXstS7MOQxbH2ShlN4UCR3Si3QPjG8fnfngAshj97EBW\n",
       "Huryvlcftw0l0nChGQjNiNZnxRH2hYbCHJ/g8GeYt8eGhHaFGyH0PpGYsfaOppuV8ePCz2aox+qk\n",
       "0mbHhQj/ayKYQegjWhfsSW4BCvEfKNi9BqPOZ2FpGrrTKXXYmgU+x7ORzVnpxaxjrmR+r1r9/xR+\n",
       "GXQyZ/7H87281UwEwSkezh7MBwn8cf9Cw2c5p4u243GAowwro/9xzQmmWL95hO6TDPvyQe8joEbJ\n",
       "JHgLD2UlpBxurKUakcLdDh4gt4srtvh+4xaUbCfRUQqe7dsWVF76iYydSl1gOyPk8CSa0vDJB2Lb\n",
       "CPPb5YsntJhiBy8fENUXKP5FyXhY/bvrNTPx6VKesKzqsW07EpkkWOMJ4jGAZdlE/4TgNk+Rg9zb\n",
       "dI8zSLRPjfiboOs1iIZ//4bYS8fvjTmqP0X/aQNanA2e2NtpfNK/25V1V9gOB8fiXIEMPPZys1aO\n",
       "IM6z/Tlzl1gAnbq3vtgunVZ84qGdq5fdna1D5CYMkT1QrCPN4LK4D4cl6p6e2W4gsAsOO+p5meAd\n",
       "ua1uyzhddleh3fMizZw+Qj7t8pFkDqbAK0NjHiU41QK9IuvmwPD61jsfEpSaz58IfEYWet5LNXcr\n",
       "o177VOhZVzu9YmXjSYX5FwCvLnTchTlg0VIF1bL6d0dyv8vmPJ0nTaOuLlBKqbDiWz+aafr5KheJ\n",
       "fTmZtB2wUONqnI/e7MswYnEx0EpAXEgpmxH1IdE+TbAL4/7bAt1uu89OGXrah0OpTMtJVBm3vasL\n",
       "tR3XxbLr99HREAhByW1WTp0eup6ITOsNj+LEwHu6LoBMN6DoefooG/qzGrkeppuK1kxLInt3zFz2\n",
       "0kT+NpA1ueLw5KHJjcLtzsE6SbY+d7KUXmEuFdRRz3HgSNYDXELZcZRSd4WK/oSvoce1guLJxZeW\n",
       "VhnX0zMeH/+BTAfRNMq4eK053DDE3retc8nDPcMbCha2CYyf1TssIQKkL5BzL/8wvfx2d2R4KmlH\n",
       "S87mJDIYIZULdC//giS+cZ7UvMOGt2hofuIZfMrvyzmvBaPWLr2g19XwkjeKTj/XIkMeHLIJ7z2S\n",
       "it2uTHR1pOLKyXOC1RnyIW7pEHQbt4V6ShtuzwdrIWlurHIUqdChXQAAPPbotLFv2YSr+G145rR9\n",
       "jtTsrtz4AtA7sQvqb9Gu4yWaYt/x5RZ7BS2f5QNzT3cRiWHPWiBKc7fpG7uYG/XTMk+18SBOWvH5\n",
       "1kHQSvi4obQwDK7Rm8MIkbBxjdEav3D6xWDw3KMmtRFRSr/r0hXY+VoN055g9aQtP02HCmNR1qyS\n",
       "fvWSNE4f0m56pUCYaC0uTDSFOaBl8u7MPrqbNzCzNSRJVesyK/BH6dTbQ/83Xt4v4GsOpsDzxC7T\n",
       "L3CheCTkFekt7fNrrKS2xugl4qBNUkFWwxBc72Lzf4oVm1u++UnIYm4bJLGs5VlNEJDNhfLAzoEt\n",
       "E4HeHtKynu5oMcJ9cQ6x0XOdAY60g8JjRMCiP81JQxCt7AOg5mblXvh4Cu8xBuuKvrpV4R4H5dbs\n",
       "WeD6UA7lNHAeMdt/ZBKrCd88VncpYF7yiTCCrBo+SuS7UDrOt2t38byITSKvQWM2drIg+tRlN/8I\n",
       "FZMJ8sYWcYCoqeI0IsOqjS+7dJk+qmJP/8A+Szj13I2BpeS92P4wfVcKqUkdARey2GqSv8us/dRD\n",
       "+qapDiQjwwIPd9loDut5QczhBtANJ7WOoj7pC6z4tGQ5gXB7iVOOmDStnF0227izpfEZIYUSSDkk\n",
       "VKXc7dMVV11qHk+G05o7EEhExieta5IQiDU6CTdRtGaCZLJRalC3FrYMqEp150voG7oKKTRCpCEa\n",
       "Lmtf8ARMzYUFbvTFdzF8EzDdXNQfulY0aITillm13ZK84V2qCnCVCSzDqCWd0I05gTDx63z3IoK/\n",
       "ZbWQSTpEz9erlVSBrwPto1eRumO7pdQTJe5Cz+X/0byx00PPwTb3pnOVqDfI7ZkIynSffrTZNyJh\n",
       "H5x+tBjIHTq5jFF+MyuPjOAEG366WRkPN8U/hRDwg8rRGZACSoFBOaadHjicqXZH07PX3r4xes+V\n",
       "wJbCwsu4fnN26aM0gDiaQJxJ97NQHgRJaP+k3hPlxKIFZ13ir/tf9kEFdItbwy/cF3krhuxmW/ov\n",
       "CZVs1/TYdM4tVcLo7Rn9i4jbQg+3bK4+H1FGCvvHt9Xcvrpj4O5y4x/OC/RfnfNx7EJZPAaPMm8J\n",
       "IPb9M33SluCd0+Bq/XXvBanEW4PQQj1jewkBWef9U351PrD1XPuW145FOIvzqBXmmwA2VcRFaGKk\n",
       "J+LUp5Gt1Sp7LVrJvxsu1zApySDQ4zRf3Nd6D/Hc5CtP01f4AkAbvIij+YFOj66gud3k4C8ZImZB\n",
       "3VH5pS8+3Z2cqE+oqkTWBhM1oG1VKWX8B3cRw/mCmKkLawtP6AOwVA4FqHV3ZIkoC7g5POvszl5J\n",
       "5qw36wjieldJJD9ncWZBcniLL+cmsW/C1LJ6DxfXBu/1LqNnOMlXOma/huT+NXZ51HF6RgnCgqqE\n",
       "TJQsIX8K8jYhUd8NsmVn5Q/y92CRhrDeEuv0hf8eo+yPzKHgq8vS0mZSvKT1hI1ZuBPTmYu1hJ28\n",
       "lqYqZLsqds+aq4CBUcSIzgVnf+93DnG03LVJ+KDbjVp9uVwOXGc5JoiCMPsxzvHchCqjs/Zjd13w\n",
       "6fss2AeuklcZ7GhkY5zHyqWAmA9g5lgoUt9V53ah/tUyORNfNvaCswEDyZ7E4tLZ3Q9+QRK5dtWy\n",
       "d/AExuiI1/il58WKPT3cKkVeguTIHcrM6FafnBkOn+HW7gWf+H5fXR8x1FwwlbE4opgytthK1pdc\n",
       "O4MMpCtWremgfckL64pyLhscQwJbnPLYLo/cd7XvoSnmuV+51gFvpJ1GexDyidxBbLVrYY7rprY9\n",
       "qek64o4zkyYGe+sdN5D5c/VB2XQi2GdQmjnsVf685ou9IExSPXxhRGSJj27iU9b5yO1bdaWLq+QZ\n",
       "cNnEF8tWVaF3RmJLecoCdz4gGFg1BLNQd+NIhqbKYLnVcaLKtF4cJa8TluhpxR85Dd0eBOr5fLAY\n",
       "8r8e8JczrgUMjnX19hq7oKA2bp+7krum8is7tE6ah7qITNB6AjaAeQ6M7gBBiOy+hiHcuFxpMHnv\n",
       "X3Ll0DPdrOmUJnT4PUv851fks3KGTj37Sg423Z2F1Yczmrr3utVIddqaBXSnhsUz5qGdi6Bk0rKP\n",
       "YGZIJY8WwVSGYjMFtAxPys0DTzc8PWN+EJFhaRMfJOqob+TnY69NSW6UuigoePsRLFkzsooSFrKI\n",
       "6TjRFbtGYjirQOPfqsDYjEV7nMH+Yiw8yceI9WxnRECUclN55vlICqEvMSp9g3twDm4aQiVKc4mq\n",
       "P+bNCHaluO6vUgYN0p9ZqsFKvgupipo9EKqtPMcRRGmRrjB200VwTHUddWDWdBQFBUdlelPz/Hxa\n",
       "qYq9WgQOZ/venwiaKaXWngYU5+Qu4Db/2QiTabol1Y7ECcyj/xvqjz5GP9dd4ILNhXs0hQ3SAJ4h\n",
       "+1JMeqDUWbFX5dcAo3CigxYyX6Bc/bXEnAwga51Za5092qPZj01v71XKYJDl5o/IBCJurzEVno5J\n",
       "Wk646Ll2hE2mqjtgeDLJ/70AUSlVvldTKNbPn/wNg3p/iqUJILBxbFenhJPUUAuX/9dRSilf4wso\n",
       "uj2IQvvKhzEANzOFnRHXZKqtq5FPFtLb5VauxHiHRgEnNm4GXs+ykWQh0x57uj5EmwAM+QAABDpt\n",
       "b292AAAAbG12aGQAAAAAAAAAAAAAAAAAAAPoAAALuAABAAABAAAAAAAAAAAAAAAAAQAAAAAAAAAA\n",
       "AAAAAAAAAAEAAAAAAAAAAAAAAAAAAEAAAAAAAAAAAAAAAAAAAAAAAAAAAAAAAAAAAAAAAAACAAAD\n",
       "ZXRyYWsAAABcdGtoZAAAAAMAAAAAAAAAAAAAAAEAAAAAAAALuAAAAAAAAAAAAAAAAAAAAAAAAQAA\n",
       "AAAAAAAAAAAAAAAAAAEAAAAAAAAAAAAAAAAAAEAAAAADIAAAAlgAAAAAACRlZHRzAAAAHGVsc3QA\n",
       "AAAAAAAAAQAAC7gAAAgAAAEAAAAAAt1tZGlhAAAAIG1kaGQAAAAAAAAAAAAAAAAAACgAAAB4AFXE\n",
       "AAAAAAAtaGRscgAAAAAAAAAAdmlkZQAAAAAAAAAAAAAAAFZpZGVvSGFuZGxlcgAAAAKIbWluZgAA\n",
       "ABR2bWhkAAAAAQAAAAAAAAAAAAAAJGRpbmYAAAAcZHJlZgAAAAAAAAABAAAADHVybCAAAAABAAAC\n",
       "SHN0YmwAAAC4c3RzZAAAAAAAAAABAAAAqGF2YzEAAAAAAAAAAQAAAAAAAAAAAAAAAAAAAAADIAJY\n",
       "AEgAAABIAAAAAAAAAAEAAAAAAAAAAAAAAAAAAAAAAAAAAAAAAAAAAAAAAAAAAAAY//8AAAA2YXZj\n",
       "QwFkAB//4QAZZ2QAH6zZQMgTflhAAAADAEAAAAUDxgxlgAEABmjr48siwP34+AAAAAAcdXVpZGto\n",
       "QPJfJE/FujmlG88DI/MAAAAAAAAAGHN0dHMAAAAAAAAAAQAAAB4AAAQAAAAAFHN0c3MAAAAAAAAA\n",
       "AQAAAAEAAACgY3R0cwAAAAAAAAASAAAAAQAACAAAAAABAAAMAAAAAAEAAAQAAAAAAwAACAAAAAAB\n",
       "AAAUAAAAAAEAAAgAAAAAAQAAAAAAAAABAAAEAAAAAAEAAAwAAAAAAQAABAAAAAABAAAMAAAAAAEA\n",
       "AAQAAAAAAQAAEAAAAAACAAAEAAAAAAkAAAgAAAAAAQAAEAAAAAACAAAEAAAAAAEAAAgAAAAAHHN0\n",
       "c2MAAAAAAAAAAQAAAAEAAAAeAAAAAQAAAIxzdHN6AAAAAAAAAAAAAAAeAAAvsQAAATEAAABZAAAB\n",
       "ggAAAd4AAAG5AAADmwAAAdsAAAFHAAABCQAAA6sAAAGhAAAG3gAAA40AAAuQAAAD4QAAA84AAAfi\n",
       "AAAIeQAACT8AAAo7AAALuAAADBcAAA3iAAAPnQAADzsAABhvAAAO2AAADKcAABFoAAAAFHN0Y28A\n",
       "AAAAAAAAAQAAADAAAABhdWR0YQAAAFltZXRhAAAAAAAAACFoZGxyAAAAAAAAAABtZGlyYXBwbAAA\n",
       "AAAAAAAAAAAAACxpbHN0AAAAJKl0b28AAAAcZGF0YQAAAAEAAAAATGF2ZjYxLjEuMTAw\n",
       "\">\n",
       "  Your browser does not support the video tag.\n",
       "</video>"
      ],
      "text/plain": [
       "<IPython.core.display.HTML object>"
      ]
     },
     "execution_count": 33,
     "metadata": {},
     "output_type": "execute_result"
    }
   ],
   "source": [
    "def animate_wavefield(f, fg, v, interval=100):\n",
    "    \"\"\"\n",
    "    Create an animation of the wavefield.\n",
    "\n",
    "    Parameters:\n",
    "      f        : Snapshots on SubDomain\n",
    "      fg       : Snapshots on Grid\n",
    "      v        : Velocity model\n",
    "      interval : Delay between frames in milliseconds (default: 100)\n",
    "    \"\"\"\n",
    "    # Determine color limits based on full dataset (so they remain constant throughout)\n",
    "    clip = 0.5\n",
    "    vmax = clip * np.amax(np.abs(f.data))\n",
    "    vmin = -vmax\n",
    "\n",
    "    # Create the figure and axis\n",
    "    fig, ax = plt.subplots()\n",
    "\n",
    "    # Draw static elements\n",
    "    # Velocity model (constant background)\n",
    "    ax.imshow(v.data.T, cmap=\"Greys\", extent=(-100, 1100, 1100, -100),\n",
    "              alpha=0.4, zorder=3)\n",
    "    # Snapshot region (red dashed line)\n",
    "    ax.plot((0, 1000, 1000, 0, 0), (245, 245, 1000, 1000, 245),\n",
    "            'r--', label=\"Snapshotting Region\", zorder=4)\n",
    "\n",
    "    # Draw time-dependent images\n",
    "    # Initialize with the first frame (frame index 0)\n",
    "    im_fg = ax.imshow(fg.data[0].T, vmin=vmin, vmax=vmax, cmap=\"Greys\",\n",
    "                      extent=(-100, 1100, 1100, -100), zorder=1)\n",
    "    im_f  = ax.imshow(f.data[0].T, vmin=vmin, vmax=vmax, cmap='seismic',\n",
    "                      extent=(0, 1000, 1000, 245), zorder=2)\n",
    "\n",
    "    # Set axis limits\n",
    "    ax.set_xlim(-100, 1100)\n",
    "    ax.set_ylim(1100, -100)\n",
    "\n",
    "    # Set axis labels\n",
    "    ax.set_xlabel(\"x (m)\")\n",
    "    ax.set_ylabel(\"z (m)\")\n",
    "\n",
    "    def update(frame):\n",
    "        \"\"\"Update the images for frame 'frame'.\"\"\"\n",
    "        im_fg.set_data(fg.data[frame].T)\n",
    "        im_f.set_data(f.data[frame].T)\n",
    "        return im_fg, im_f\n",
    "\n",
    "    # Determine the total number of frames from the first dimension of f.data\n",
    "    n_frames = f.data.shape[0]\n",
    "\n",
    "    # Create the animation\n",
    "    ani = animation.FuncAnimation(fig, update, frames=n_frames, interval=interval, blit=True)\n",
    "    plt.close()\n",
    "\n",
    "    return ani\n",
    "\n",
    "ani = animate_wavefield(usave, usavegrid, model.vp)\n",
    "\n",
    "HTML(ani.to_html5_video())"
   ]
  },
  {
   "cell_type": "markdown",
   "id": "8aa9eef8-46d5-42ac-8701-19b8d3f24b23",
   "metadata": {},
   "source": [
    "## Seafloor coupling"
   ]
  },
  {
   "cell_type": "markdown",
   "id": "93031bab-e748-4dd0-9d3e-09f1aa4db895",
   "metadata": {},
   "source": [
    "## Perfectly-matched layers"
   ]
  },
  {
   "cell_type": "code",
   "execution_count": null,
   "id": "1e9ac2b6-74e4-4aec-915e-2924776a5d16",
   "metadata": {},
   "outputs": [],
   "source": []
  }
 ],
 "metadata": {
  "kernelspec": {
   "display_name": "Python 3 (ipykernel)",
   "language": "python",
   "name": "python3"
  },
  "language_info": {
   "codemirror_mode": {
    "name": "ipython",
    "version": 3
   },
   "file_extension": ".py",
   "mimetype": "text/x-python",
   "name": "python",
   "nbconvert_exporter": "python",
   "pygments_lexer": "ipython3",
   "version": "3.11.5"
  }
 },
 "nbformat": 4,
 "nbformat_minor": 5
}
