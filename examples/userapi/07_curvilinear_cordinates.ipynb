{
 "cells": [
  {
   "cell_type": "markdown",
   "id": "5b8125b8-8115-47e5-a5d3-9e4c19ea7b32",
   "metadata": {},
   "source": [
    "# Curvilinear grids in Devito\n",
    "\n",
    "The symbolic API of Devito enables straightforward implementation of curvilinear transformations. Such transformations have multiple applications, including modelling of complex geometries, modelling in non-recilinear domains, and variable grid resolution. Transforming the partial differential equations (PDEs) from the physical space, onto a regular, rectilinear grid enables these equations to be solved via finite-difference, before inverse transforming back to the physical domain.\n",
    "\n",
    "## Transforming PDEs\n",
    "\n",
    "This notebook uses the isotropic acoustic wave equation to demonstrate the coordinate transformation of PDEs. Note however, that any PDE can be transformed in such a manner. The isotropic acoustic wave equation, where $p$ and $c$ are pressure and celerity repsectively, is as follows:\n",
    "\n",
    "$\\frac{\\partial^2 p}{\\partial t^2} = c\\left(\\frac{\\partial^2 p}{\\partial x^2} + \\frac{\\partial^2 p}{\\partial y^2}\\right)$.\n",
    "\n",
    "Physical space dimensions $x$ and $z$ can be represented as functions of iteration dimensions $\\gamma$ and $\\zeta$:\n",
    "\n",
    "$x = x(\\gamma, \\zeta)$,\n",
    "\n",
    "$z = z(\\gamma, \\zeta)$.\n",
    "\n",
    "Via the chain rule, the derivatives $\\frac{\\partial^2 p}{\\partial x^2}$ and $\\frac{\\partial^2 p}{\\partial y^2}$ can be written as derivatives in terms of $\\gamma$ and $\\zeta$:\n",
    "\n",
    "$\\frac{\\partial^2 p}{\\partial x^2} = \\left(\\frac{\\partial^2 p}{\\partial\\gamma^2}\\frac{\\partial\\gamma}{\\partial x} + \\frac{\\partial^2 p}{\\partial\\gamma\\partial\\zeta}\\frac{\\partial\\zeta}{\\partial x}\\right)\\frac{\\partial\\zeta}{\\partial x} + \\frac{\\partial p}{\\partial\\gamma}\\frac{\\partial^2\\gamma}{\\partial x^2} + \\left(\\frac{\\partial^2 p}{\\partial\\gamma\\partial\\zeta}\\frac{\\partial\\gamma}{\\partial x} + \\frac{\\partial^2 p}{\\partial\\zeta^2}\\frac{\\partial\\zeta}{\\partial x}\\right)\\frac{\\partial\\zeta}{\\partial x} + \\frac{\\partial p}{\\partial\\zeta}\\frac{\\partial^2 \\zeta}{\\partial x^2}$,\n",
    "\n",
    "$\\frac{\\partial^2 p}{\\partial z^2} = \\left(\\frac{\\partial^2 p}{\\partial\\gamma^2}\\frac{\\partial\\gamma}{\\partial z} + \\frac{\\partial^2 p}{\\partial\\gamma\\partial\\zeta}\\frac{\\partial\\zeta}{\\partial z}\\right)\\frac{\\partial\\zeta}{\\partial z} + \\frac{\\partial p}{\\partial\\gamma}\\frac{\\partial^2\\gamma}{\\partial z^2} + \\left(\\frac{\\partial^2 p}{\\partial\\gamma\\partial\\zeta}\\frac{\\partial\\gamma}{\\partial z} + \\frac{\\partial^2 p}{\\partial\\zeta^2}\\frac{\\partial\\zeta}{\\partial z}\\right)\\frac{\\partial\\zeta}{\\partial z} + \\frac{\\partial p}{\\partial\\zeta}\\frac{\\partial^2 \\zeta}{\\partial z^2}$.\n",
    "\n",
    "Derivatives of iteration dimensions with respect to physical dimensions will depend on the transformation applied, and can be precalculated assuming the grid is not deformed with time. Note that depending on the transform applied, many of these terms will simplify.\n",
    "\n",
    "\n",
    "## Variable grid resolution\n",
    "\n",
    "The first application we will consider in this notebook is a variable resolution transformation. Such transformations enable grid resolution to be concentrated where it is needed, without oversampling of other areas of the domain and its associated cost. In seismic modelling, required resolution is dependent upon seismic wavespeeds which generally increase with depth. Consequently, a variable-z transformation is commonly used, stretching the grid vertically with depth to reduce the number of gridpoints required to discretise a given physical domain.\n",
    "\n",
    "To perfom this transformation, we must first consider the required resolution at any given point. Frequency, wavespeed, and wavelength ($f$, $v$, and $\\lambda$ respectively) are related to one another via:\n",
    "\n",
    "$v = f\\lambda$.\n",
    "\n",
    "A finite difference scheme can adequately resolve a wavefield sampled with some $\\alpha$ points per shortest wavelength, this number depending upon the discretisation. As such, the required grid spacing is given by:\n",
    "\n",
    "$\\Delta z(z) = \\frac{v_m(z)}{\\alpha f_M}$,\n",
    "\n",
    "where the subscripts $m$ and $M$ denote minimum and maximum values respectively. Reposing this as a stretch factor $\\epsilon$ relative to the vertical grid spacing at $z=0$:\n",
    "\n",
    "$\\epsilon(z) = \\frac{v_m(z)}{\\alpha f_M \\Delta z_0}$,\n",
    "\n",
    "where\n",
    "\n",
    "$\\Delta z_0 = \\frac{v_m(z_0)}{\\alpha f_M}$,\n",
    "\n",
    "thus\n",
    "\n",
    "$\\epsilon(z) = \\frac{v_m(z)}{v_m(z_0)}$.\n",
    "\n",
    "In this case, the physical dimensions are related to the iteration dimensions via\n",
    "\n",
    "$\\gamma = x$,\n",
    "\n",
    "and\n",
    "\n",
    "$\\zeta = \\frac{z}{\\epsilon(z)}$,\n",
    "\n",
    "simplifying the transformed derivatives to\n",
    "\n",
    "$\\frac{\\partial^2 p}{\\partial x^2} = \\frac{\\partial^2 p}{\\partial\\gamma^2}$\n",
    "\n",
    "$\\frac{\\partial^2 p}{\\partial z^2} = \\frac{\\partial^2 p}{\\partial\\zeta^2}\\left(\\frac{\\partial\\zeta}{\\partial z}\\right)^2 + \\frac{\\partial p}{\\partial\\zeta}\\frac{\\partial^2 \\zeta}{\\partial z^2}$\n",
    "\n",
    "where\n",
    "\n",
    "$\\frac{\\partial \\zeta}{\\partial z} = \\frac{\\epsilon - z\\frac{\\partial\\epsilon}{\\partial z}}{\\epsilon^2}$,\n",
    "\n",
    "$\\frac{\\partial^2 \\zeta}{\\partial z^2} = \\frac{2z\\epsilon\\left(\\frac{\\partial\\epsilon}{\\partial z}\\right)^2 - z\\epsilon^2 \\frac{\\partial^2 \\epsilon}{\\partial z^2} - 2\\epsilon^2\\frac{\\partial\\epsilon}{\\partial z}}{\\epsilon^4}$,\n"
   ]
  },
  {
   "cell_type": "code",
   "execution_count": null,
   "id": "3c4cc0fe-64e5-4552-ba3c-af3638641cfd",
   "metadata": {},
   "outputs": [],
   "source": [
    "## Variable grid resolution"
   ]
  },
  {
   "cell_type": "code",
   "execution_count": null,
   "id": "247b99b4-2a04-45dc-a44b-a063f9bef336",
   "metadata": {},
   "outputs": [],
   "source": [
    "## Flattening transform"
   ]
  },
  {
   "cell_type": "code",
   "execution_count": null,
   "id": "4bd2c96a-1353-4be4-bf27-9d1d0d09f968",
   "metadata": {},
   "outputs": [],
   "source": [
    "## Modelling in a curved domain"
   ]
  }
 ],
 "metadata": {
  "kernelspec": {
   "display_name": "Python 3 (ipykernel)",
   "language": "python",
   "name": "python3"
  },
  "language_info": {
   "codemirror_mode": {
    "name": "ipython",
    "version": 3
   },
   "file_extension": ".py",
   "mimetype": "text/x-python",
   "name": "python",
   "nbconvert_exporter": "python",
   "pygments_lexer": "ipython3",
   "version": "3.11.5"
  }
 },
 "nbformat": 4,
 "nbformat_minor": 5
}
