{
  "nbformat": 4,
  "nbformat_minor": 2,
  "metadata": {
    "colab": {
      "provenance": [],
      "collapsed_sections": []
    },
    "kernelspec": {
      "name": "python3",
      "display_name": "Python 3.9.7 64-bit ('base': conda)"
    },
    "language_info": {
      "name": "python",
      "version": "3.9.7",
      "mimetype": "text/x-python",
      "codemirror_mode": {
        "name": "ipython",
        "version": 3
      },
      "pygments_lexer": "ipython3",
      "nbconvert_exporter": "python",
      "file_extension": ".py"
    },
    "interpreter": {
      "hash": "823bbfbda30020ce9319c70dd00014b8747d366a7cc8f488df4511a522ca037b"
    }
  },
  "cells": [
    {
      "cell_type": "markdown",
      "source": [
        "## Example: The Darcy flow equation"
      ],
      "metadata": {
        "id": "r8k6R0vOzMTM"
      }
    },
    {
      "cell_type": "markdown",
      "source": [
        "In this example, the Darcy flow equation is used to model single phase fluid flow through a porous medium. Given an input permeability field, $ a(x) $, and the forcing function, $f(x)$, the output pressure flow $u(x)$ can be calculated using the following equation:\n",
        "$$\n",
        "-\\nabla\\cdot(a(x)\\nabla u(x)) = f(x) \\qquad x \\in (0,1)^2\n",
        "$$\n",
        "With Dirchlet boundary conditions: \n",
        "$$\n",
        "u(x) = 0 \\qquad x\\in \\partial(0,1)^2\n",
        "$$\n",
        "For this example, the forcing function $f(x) = 1$. "
      ],
      "metadata": {
        "id": "gXARUDah6yDq"
      }
    },
    {
      "cell_type": "markdown",
      "source": [
        "First, lets import the relevant utilities."
      ],
      "metadata": {
        "id": "4hQiyDqp-bWZ"
      }
    },
    {
      "cell_type": "code",
      "execution_count": 3,
      "source": [
        "import math\n",
        "from devito import div, grad, Eq, Operator, TimeFunction, Function, solve, Grid, configuration, initialize_function\n",
        "import numpy as np\n",
        "import numpy.fft as fft\n",
        "from numpy import linalg as LA\n",
        "import matplotlib.pyplot as plt\n",
        "from mpl_toolkits.axes_grid1 import make_axes_locatable"
      ],
      "outputs": [],
      "metadata": {
        "id": "pfUqcLDs1Gmz"
      }
    },
    {
      "cell_type": "markdown",
      "source": [
        "Set a random seed for reproducibility:"
      ],
      "metadata": {}
    },
    {
      "cell_type": "code",
      "execution_count": 4,
      "source": [
        "np.random.seed(42)"
      ],
      "outputs": [],
      "metadata": {}
    },
    {
      "cell_type": "markdown",
      "source": [
        "This is the class used to define a Gaussian random field for the input:"
      ],
      "metadata": {
        "id": "oemSkYcwfhUK"
      }
    },
    {
      "cell_type": "code",
      "execution_count": 5,
      "source": [
        "# Code edited from  https://github.com/zongyi-li/fourier_neural_operator/blob/master/data_generation/navier_stokes/random_fields.py\n",
        "class GaussianRF(object):\n",
        "\n",
        "    def __init__(self, dim, size, alpha=2, tau=3, sigma=None, boundary=\"periodic\"):\n",
        "\n",
        "        self.dim = dim\n",
        "\n",
        "        if sigma is None:\n",
        "            sigma = tau**(0.5*(2*alpha - self.dim))\n",
        "\n",
        "        k_max = size//2\n",
        "\n",
        "        if dim == 2:\n",
        "            wavenumers = (np.concatenate((np.arange(0, k_max, 1), \\\n",
        "                                    np.arange(-k_max, 0, 1)),0))\n",
        "            wavenumers = np.tile(wavenumers, (size,1))\n",
        "\n",
        "            k_x = wavenumers.transpose(1,0)\n",
        "            k_y = wavenumers\n",
        "\n",
        "            self.sqrt_eig = (size**2)*math.sqrt(2.0)*sigma*((4*(math.pi**2)*(k_x**2 + k_y**2) + tau**2)**(-alpha/2.0))\n",
        "            self.sqrt_eig[0,0] = 0.0\n",
        "\n",
        "        self.size = []\n",
        "        for j in range(self.dim):\n",
        "            self.size.append(size)\n",
        "\n",
        "        self.size = tuple(self.size)\n",
        "\n",
        "    def sample(self, N):\n",
        "\n",
        "        coeff = np.random.randn(N, *self.size)\n",
        "        coeff = self.sqrt_eig * coeff\n",
        "        \n",
        "\n",
        "        return fft.ifftn(coeff).real"
      ],
      "outputs": [],
      "metadata": {
        "id": "NHPg4zwifI10"
      }
    },
    {
      "cell_type": "markdown",
      "source": [
        "Next, lets declare the variables to be used and create a grid for the functions:"
      ],
      "metadata": {
        "id": "pOft2icQGDCI"
      }
    },
    {
      "cell_type": "code",
      "execution_count": 6,
      "source": [
        "# Silence the runtime performance logging\n",
        "configuration['log-level'] = 'ERROR'\n",
        "\n",
        "# Number of grid points on [0,1]^2 \n",
        "s = 256\n",
        "\n",
        "# Create s x s grid with spacing 1\n",
        "grid = Grid(shape=(s, s), extent=(1.0,1.0))\n",
        "\n",
        "x, y = grid.dimensions\n",
        "t = grid.stepping_dim"
      ],
      "outputs": [],
      "metadata": {
        "id": "MSLzCGkeGMFt"
      }
    },
    {
      "cell_type": "markdown",
      "source": [
        "Here we produce input data to be used as permeability samples. First, the Gaussian random field class is called, then a threshold is introduced, where anything less than 0 is 4 and values above or equal to 0 is 12. This produces permeability samples similar to real world applications. We will create three different inputs."
      ],
      "metadata": {
        "id": "NycndcDQCkyZ"
      }
    },
    {
      "cell_type": "code",
      "execution_count": 7,
      "source": [
        "# Set up 2D GRF with covariance parameters to generate random coefficients\n",
        "norm_a = GaussianRF(2, s, alpha=2, tau=3)\n",
        "\n",
        "# Sample random fields\n",
        "# Create a threshold, either 4 or 12 (common for permeability)\n",
        "thresh_a = norm_a.sample(3)\n",
        "thresh_a[thresh_a>=0] = 12\n",
        "thresh_a[thresh_a<0] = 4\n",
        "\n",
        "# The inputs:\n",
        "w1 = thresh_a[0]\n",
        "w2 = thresh_a[1]\n",
        "w3 = thresh_a[2]"
      ],
      "outputs": [],
      "metadata": {
        "id": "oR6aTcyhAZb_"
      }
    },
    {
      "cell_type": "markdown",
      "source": [
        "Plotting the inputs:"
      ],
      "metadata": {
        "id": "cNp4LBpwfq9c"
      }
    },
    {
      "cell_type": "code",
      "execution_count": 8,
      "source": [
        "#NBVAL_IGNORE_OUTPUT\n",
        "# Plot to show the input:\n",
        "ax1 = plt.subplot(221)\n",
        "ax2 = plt.subplot(222)\n",
        "ax3 = plt.subplot(212)\n",
        "im1 = ax1.imshow(w1, interpolation='none')\n",
        "im2 = ax2.imshow(w2, interpolation='none')\n",
        "im3 = ax3.imshow(w3, interpolation='none')\n",
        "ax1_divider = make_axes_locatable(ax1)\n",
        "ax2_divider = make_axes_locatable(ax2)\n",
        "ax3_divider = make_axes_locatable(ax3)\n",
        "cax1 = ax1_divider.append_axes(\"right\", size=\"5%\", pad=0.05)\n",
        "cax2 = ax2_divider.append_axes(\"right\", size=\"5%\", pad=0.05)\n",
        "cax3 = ax3_divider.append_axes(\"right\", size=\"5%\", pad=0.05)\n",
        "plt.colorbar(im1, cax=cax1)\n",
        "plt.colorbar(im2, cax=cax2)\n",
        "plt.colorbar(im3, cax=cax3)\n",
        "ax1.title.set_text('First Input')\n",
        "ax2.title.set_text('Second Input')\n",
        "ax3.title.set_text('Third Input')\n",
        "plt.show()"
      ],
      "outputs": [
        {
          "output_type": "display_data",
          "data": {
            "image/png": "[encoded data removed]",
            "text/plain": [
              "<Figure size 432x288 with 6 Axes>"
            ]
          },
          "metadata": {
            "needs_background": "light"
          }
        }
      ],
      "metadata": {
        "colab": {
          "base_uri": "https://localhost:8080/",
          "height": 269
        },
        "id": "8TJvO-MhfwKW",
        "outputId": "6da22b3b-03de-41ca-bebe-3ec1cb80b6c6"
      }
    },
    {
      "cell_type": "markdown",
      "source": [
        "There is no time dependence for this equation, so $ a $ and $ f $ are defined as `function` objects, however the output $u$ is defined as a `Timefunction` object in order to implement a pseudo-timestepping loop, using `u` and `u.forward` as alternating buffers. "
      ],
      "metadata": {
        "id": "6ivrhF89Ao2P"
      }
    },
    {
      "cell_type": "code",
      "execution_count": 9,
      "source": [
        "# Forcing function, f(x) = 1 \n",
        "f = np.ones((s, s))\n",
        "\n",
        "# Create function on grid\n",
        "# Space order of 2 to enable 2nd derivative\n",
        "# TimeFunction for u can be used despite the lack of a time-dependence. This is done for psuedotime\n",
        "u = TimeFunction(name='u', grid=grid, space_order=2)\n",
        "a = Function(name='a', grid=grid, space_order=2)\n",
        "f1 = Function(name='f1', grid=grid, space_order=2)"
      ],
      "outputs": [],
      "metadata": {
        "id": "Ij6oBLWc3gUQ"
      }
    },
    {
      "cell_type": "markdown",
      "source": [
        "Define the equation using symbolic code:"
      ],
      "metadata": {
        "id": "BAv2binzGrFW"
      }
    },
    {
      "cell_type": "code",
      "execution_count": 10,
      "source": [
        "# Define 2D Darcy flow equation\n",
        "# Staggered FD is used to avoid numerical instability\n",
        "equation_u = Eq(-div(a*grad(u,shift=.5),shift=-.5),f1)"
      ],
      "outputs": [],
      "metadata": {
        "id": "EdLNON8dGxVc"
      }
    },
    {
      "cell_type": "markdown",
      "source": [
        "SymPy creates a stencil to reorganise the equation based on `u`, but when creating the update expression, `u.forward` is used in order to stop `u` being overwritten:"
      ],
      "metadata": {
        "id": "8NqTAM-9GjJg"
      }
    },
    {
      "cell_type": "code",
      "execution_count": 11,
      "source": [
        "# Let SymPy solve for the central stencil point\n",
        "stencil = solve(equation_u, u)\n",
        "\n",
        "# Let our stencil populate the buffer `u.forward`\n",
        "update = Eq(u.forward, stencil)"
      ],
      "outputs": [],
      "metadata": {
        "id": "mAv0bMVgGnSX"
      }
    },
    {
      "cell_type": "markdown",
      "source": [
        "Define the boundary conditions and create the operator:"
      ],
      "metadata": {
        "id": "M2JuvZ5AG2Og"
      }
    },
    {
      "cell_type": "code",
      "execution_count": 12,
      "source": [
        "# Boundary Conditions\n",
        "nx = s\n",
        "ny = s\n",
        "bc = [Eq(u[t+1, 0, y],u[t+1, 1,y])]  # du/dx = 0 for x=0.\n",
        "bc += [Eq(u[t+1,nx-1, y],u[t+1,nx-2, y])]  # du/dx = 0 for x=1.\n",
        "bc += [Eq(u[t+1, x, 0],u[t+1,x ,1])]  # du/dx = 0 at y=0\n",
        "bc += [Eq(u[t+1, x, ny-1],u[t+1, x, ny-2])]  # du/dx=0 for y=1\n",
        "# u=0 for all sides\n",
        "bc += [Eq(u[t+1, x, 0], 0.)]\n",
        "bc += [Eq(u[t+1, x, ny-1], 0.)]\n",
        "bc += [Eq(u[t+1, 0, y], 0.)]\n",
        "bc += [Eq(u[t+1, nx-1, y], 0.)]\n",
        "\n",
        "op = Operator([update] + bc)"
      ],
      "outputs": [],
      "metadata": {
        "id": "jUrNjJcKG57j"
      }
    },
    {
      "cell_type": "markdown",
      "source": [
        "This function is used to call an operator to generate each output:"
      ],
      "metadata": {
        "id": "8syYE6J-C4os"
      }
    },
    {
      "cell_type": "code",
      "execution_count": 13,
      "source": [
        "'''\n",
        "Function to generate 'u' from 'a' using Devito\n",
        "\n",
        "parameters \n",
        "-----------------\n",
        "perm: Array of size (s, s)\n",
        "    This is \"a\"\n",
        "f: Array of size (s, s)\n",
        "    The forcing function f(x) = 1\n",
        " '''\n",
        "def darcy_flow_2d(perm, f):\n",
        "    \n",
        "    # a(x) is the coefficients\n",
        "    # f is the forcing function\n",
        "    # initialize a, f with inputs permeability and forcing\n",
        "    f1.data[:] = f[:]\n",
        "    initialize_function(a, perm, 0)\n",
        "    \n",
        "    # call operator for the 15,000th pseudo-timestep\n",
        "    op(time= 15000)\n",
        "   \n",
        "    return np.array(u.data[0])"
      ],
      "outputs": [],
      "metadata": {}
    },
    {
      "cell_type": "markdown",
      "source": [
        "Generate the outputs:"
      ],
      "metadata": {}
    },
    {
      "cell_type": "code",
      "execution_count": 14,
      "source": [
        "# Call operator for the 15,000th psuedo-timestep\n",
        "output1 = darcy_flow_2d(w1, f)\n",
        "output2 = darcy_flow_2d(w2, f)\n",
        "output3 = darcy_flow_2d(w3, f)"
      ],
      "outputs": [],
      "metadata": {}
    },
    {
      "cell_type": "markdown",
      "source": [
        "Use an assert on the norm of the results in order to confirm they are what is expected:"
      ],
      "metadata": {}
    },
    {
      "cell_type": "code",
      "execution_count": 15,
      "source": [
        "assert np.isclose(LA.norm(output1),1.0335084, atol=1e-3, rtol=0)\n",
        "assert np.isclose(LA.norm(output2),1.3038709, atol=1e-3, rtol=0)\n",
        "assert np.isclose(LA.norm(output3),1.3940924, atol=1e-3, rtol=0)"
      ],
      "outputs": [],
      "metadata": {}
    },
    {
      "cell_type": "markdown",
      "source": [
        "Plot the output:"
      ],
      "metadata": {
        "id": "54fdJbzSgabQ"
      }
    },
    {
      "cell_type": "code",
      "execution_count": 16,
      "source": [
        "#NBVAL_IGNORE_OUTPUT\n",
        "# plot to show the output: \n",
        "ax1 = plt.subplot(221)\n",
        "ax2 = plt.subplot(222)\n",
        "ax3 = plt.subplot(212)\n",
        "im1 = ax1.imshow(output1, interpolation='none')\n",
        "im2 = ax2.imshow(output2, interpolation='none')\n",
        "im3 = ax3.imshow(output3, interpolation='none')\n",
        "ax1_divider = make_axes_locatable(ax1)\n",
        "ax2_divider = make_axes_locatable(ax2)\n",
        "ax3_divider = make_axes_locatable(ax3)\n",
        "cax1 = ax1_divider.append_axes(\"right\", size=\"5%\", pad=0.05)\n",
        "cax2 = ax2_divider.append_axes(\"right\", size=\"5%\", pad=0.05)\n",
        "cax3 = ax3_divider.append_axes(\"right\", size=\"5%\", pad=0.05)\n",
        "plt.colorbar(im1, cax=cax1)\n",
        "plt.colorbar(im2, cax=cax2)\n",
        "plt.colorbar(im3, cax=cax3)\n",
        "ax1.title.set_text('First Output')\n",
        "ax2.title.set_text('Second Output')\n",
        "ax3.title.set_text('Third Output')\n",
        "plt.show()"
      ],
      "outputs": [
        {
          "output_type": "display_data",
          "data": {
            "image/png": "[encoded data removed]",
            "text/plain": [
              "<Figure size 432x288 with 6 Axes>"
            ]
          },
          "metadata": {
            "needs_background": "light"
          }
        }
      ],
      "metadata": {
        "colab": {
          "base_uri": "https://localhost:8080/",
          "height": 269
        },
        "id": "PelbjXRFgv4P",
        "outputId": "4d1e382c-d3ca-477e-a79d-4aa7838851be"
      }
    },
    {
      "cell_type": "markdown",
      "source": [
        "This output shows the flow of pressure given the permeability sample seen above. The results are as expected as a higher pressure is seen in the largest area that contains the lower permeability of 4."
      ],
      "metadata": {
        "id": "o_4fdGmigwnp"
      }
    }
  ]
}