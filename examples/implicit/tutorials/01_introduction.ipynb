{
 "cells": [
  {
   "cell_type": "markdown",
   "metadata": {},
   "source": [
    "## Tutorial 1: Introduction\n",
    "\n",
    "The objective of the first tutorial is to introduce the concepts of some basic devito instructions that are often used when trying to solve a problem implicitly. Most implicit methods require solving an equation iteratively, when an approximated solution is made better and better after each iteration."
   ]
  },
  {
   "cell_type": "markdown",
   "metadata": {},
   "source": [
    "### Breaking Loops\n",
    "\n",
    "One example of an iterative method is the Newton-Raphson method, which is a root-finding algorithm that can be used, for example, to find the square root of a number $N$ with arbitrary precision. The equation $f(x) = x^2 - N$ has two real roots, namely $\\sqrt{N}$ and $-\\sqrt{N}$. Given an initial approximation $x_0 \\approx N$, the Newton method gives a better approximation by the equation $x_{n+1} = x_n - \\frac{f(x_n)}{f'(x_n)}$. One way of knowing when to stop iterating is to use the following stopping criteria $|x_{n+1} - x_n| < \\epsilon$, with $\\epsilon$ being a sufficiently small value. This criteria is not sufficient to guarantee the current approximation is inside an interval of size $\\epsilon$ around the real solution, but is enough for our purposes."
   ]
  },
  {
   "cell_type": "markdown",
   "metadata": {},
   "source": [
    "The first step is to define the Newton-method parameters."
   ]
  },
  {
   "cell_type": "code",
   "execution_count": 1,
   "metadata": {},
   "outputs": [],
   "source": [
    "N = 2 # The number that will have its square root approximated\n",
    "x0 = 1 # Initial guess\n",
    "epsilon = 0.0001 # A constant that is used to know when to stop iterating\n",
    "n_M = 50 # Maximum number of iterations (used to avoid infinite loops)"
   ]
  },
  {
   "cell_type": "markdown",
   "metadata": {},
   "source": [
    "The next step is to define the devito variables that will store the approximations of each iteration. The __Dimension__ is defined, which will represent the dimension of iteration '$n$' in $x(n)$, and also the __TimeFunction__, which is the symbolic representation of the variable $x$ inside Devito. A residual variable is created to store a value that should represent how far from the solution the method is.\n",
    "\n",
    "Also, the devito class used to break loops is called __ConditionalDimension__. It gives devito a necessary condition when executing an equation dependent on that dimension. In our case, we want the iteration equation to execute only when the stop criteria hasn't been met, in other words, the iteration should be executed only while $|x_{n+1} - x_n| \\geq \\epsilon$. Using the __brk__ parameter, we can tell devito to break the iteration whenever that condition stops being met."
   ]
  },
  {
   "cell_type": "code",
   "execution_count": 2,
   "metadata": {},
   "outputs": [],
   "source": [
    "from devito import TimeFunction, Dimension, ConditionalDimension, Eq\n",
    "\n",
    "n = Dimension(name = 'n')\n",
    "\n",
    "residual = TimeFunction(name = 'r', shape = (n_M,), dimensions = (n,))\n",
    "residual.data[0] = 2 * epsilon # Initial residual must be bigger than epsilon for the first iteration to execute\n",
    "\n",
    "cn = ConditionalDimension(name = 'cn', parent = n, condition = (residual >= epsilon), brk = True)\n",
    "\n",
    "x = TimeFunction(name = 'x', shape = (n_M,), dimensions = (cn,))\n",
    "x.data[0] = x0 # Set the initial approximation"
   ]
  },
  {
   "cell_type": "markdown",
   "metadata": {},
   "source": [
    "Finally, we can define the two equations that represent our problem:\n",
    "\n",
    "1. The Newton equation: $x_{n+1} = x_n - \\frac{f(x_n)}{f'(x_n)}$\n",
    "2. The stop criteria residual: $residual = |x_{n+1} - x_n|$"
   ]
  },
  {
   "cell_type": "code",
   "execution_count": 3,
   "metadata": {},
   "outputs": [
    {
     "name": "stdout",
     "output_type": "stream",
     "text": [
      "x(cn + h_n) = -(x(cn)**2 - 2)/(2*x(cn)) + x(cn)\n"
     ]
    }
   ],
   "source": [
    "f = x ** 2 - N\n",
    "df = 2 * x\n",
    "\n",
    "newton = Eq(x.forward, x - f / df)\n",
    "stop_criteria = Eq(residual.forward, abs(x.forward - x))\n",
    "\n",
    "print(\"%s = %s\" % (newton.lhs, newton.rhs))"
   ]
  },
  {
   "cell_type": "markdown",
   "metadata": {},
   "source": [
    "The final step is to create and run the __Operator__ responsible for executing the iterations."
   ]
  },
  {
   "cell_type": "code",
   "execution_count": 4,
   "metadata": {},
   "outputs": [
    {
     "name": "stderr",
     "output_type": "stream",
     "text": [
      "Operator `Kernel` ran in 0.01 s\n"
     ]
    },
    {
     "name": "stdout",
     "output_type": "stream",
     "text": [
      "The approximations for sqrt(2) are [1.        1.5       1.4166666 1.4142157 1.4142135 0.        0.\n",
      " 0.        0.        0.        0.        0.        0.        0.\n",
      " 0.        0.        0.        0.        0.        0.        0.\n",
      " 0.        0.        0.        0.        0.        0.        0.\n",
      " 0.        0.        0.        0.        0.        0.        0.\n",
      " 0.        0.        0.        0.        0.        0.        0.\n",
      " 0.        0.        0.        0.        0.        0.        0.\n",
      " 0.       ]\n",
      "The residuals for sqrt(2) are [1.9999999e-04 5.0000000e-01 8.3333336e-02 2.4509407e-03 2.1215624e-06\n",
      " 0.0000000e+00 0.0000000e+00 0.0000000e+00 0.0000000e+00 0.0000000e+00\n",
      " 0.0000000e+00 0.0000000e+00 0.0000000e+00 0.0000000e+00 0.0000000e+00\n",
      " 0.0000000e+00 0.0000000e+00 0.0000000e+00 0.0000000e+00 0.0000000e+00\n",
      " 0.0000000e+00 0.0000000e+00 0.0000000e+00 0.0000000e+00 0.0000000e+00\n",
      " 0.0000000e+00 0.0000000e+00 0.0000000e+00 0.0000000e+00 0.0000000e+00\n",
      " 0.0000000e+00 0.0000000e+00 0.0000000e+00 0.0000000e+00 0.0000000e+00\n",
      " 0.0000000e+00 0.0000000e+00 0.0000000e+00 0.0000000e+00 0.0000000e+00\n",
      " 0.0000000e+00 0.0000000e+00 0.0000000e+00 0.0000000e+00 0.0000000e+00\n",
      " 0.0000000e+00 0.0000000e+00 0.0000000e+00 0.0000000e+00 0.0000000e+00]\n"
     ]
    }
   ],
   "source": [
    "from devito import Operator\n",
    "\n",
    "op = Operator([newton, stop_criteria])\n",
    "\n",
    "op() # Run the operator\n",
    "\n",
    "print(\"The approximations for sqrt(\" + str(N) + \") are \" + str(x.data))\n",
    "print(\"The residuals for sqrt(\" + str(N) + \") are \" + str(residual.data))"
   ]
  },
  {
   "cell_type": "markdown",
   "metadata": {},
   "source": [
    "Taking a look at the C code generated from the __Operator__, a 'break' instruction can be seen inside the iteration loop."
   ]
  },
  {
   "cell_type": "code",
   "execution_count": 5,
   "metadata": {},
   "outputs": [
    {
     "name": "stdout",
     "output_type": "stream",
     "text": [
      "#define _POSIX_C_SOURCE 200809L\n",
      "#define START_TIMER(S) struct timeval start_ ## S , end_ ## S ; gettimeofday(&start_ ## S , NULL);\n",
      "#define STOP_TIMER(S,T) gettimeofday(&end_ ## S, NULL); T->S += (double)(end_ ## S .tv_sec-start_ ## S.tv_sec)+(double)(end_ ## S .tv_usec-start_ ## S .tv_usec)/1000000;\n",
      "\n",
      "#include \"stdlib.h\"\n",
      "#include \"math.h\"\n",
      "#include \"sys/time.h\"\n",
      "#include \"xmmintrin.h\"\n",
      "#include \"pmmintrin.h\"\n",
      "\n",
      "struct dataobj\n",
      "{\n",
      "  void *restrict data;\n",
      "  int * size;\n",
      "  int * npsize;\n",
      "  int * dsize;\n",
      "  int * hsize;\n",
      "  int * hofs;\n",
      "  int * oofs;\n",
      "} ;\n",
      "\n",
      "struct profiler\n",
      "{\n",
      "  double section0;\n",
      "} ;\n",
      "\n",
      "\n",
      "int Kernel(struct dataobj *restrict r_vec, struct dataobj *restrict x_vec, const int n_M, const int n_m, struct profiler * timers)\n",
      "{\n",
      "  float (*restrict r) __attribute__ ((aligned (64))) = (float (*)) r_vec->data;\n",
      "  float (*restrict x) __attribute__ ((aligned (64))) = (float (*)) x_vec->data;\n",
      "\n",
      "  /* Flush denormal numbers to zero in hardware */\n",
      "  _MM_SET_DENORMALS_ZERO_MODE(_MM_DENORMALS_ZERO_ON);\n",
      "  _MM_SET_FLUSH_ZERO_MODE(_MM_FLUSH_ZERO_ON);\n",
      "\n",
      "  /* Begin section0 */\n",
      "  START_TIMER(section0)\n",
      "  for (int n = n_m; n <= n_M; n += 1)\n",
      "  {\n",
      "    if (r[n] >= 1.0e-4F)\n",
      "    {\n",
      "      x[n + 1] = -1.0F/2.0F*(x[n]*x[n] - 2)/x[n] + x[n];\n",
      "      r[n + 1] = fabs(x[n] - x[n + 1]);\n",
      "    }\n",
      "    else\n",
      "    {\n",
      "      break;\n",
      "    }\n",
      "  }\n",
      "  STOP_TIMER(section0,timers)\n",
      "  /* End section0 */\n",
      "\n",
      "  return 0;\n",
      "}\n",
      "\n"
     ]
    }
   ],
   "source": [
    "print(op.ccode) # Shows the kernel code"
   ]
  }
 ],
 "metadata": {
  "kernelspec": {
   "display_name": "Python (devito)",
   "language": "python",
   "name": "myenv"
  },
  "language_info": {
   "codemirror_mode": {
    "name": "ipython",
    "version": 3
   },
   "file_extension": ".py",
   "mimetype": "text/x-python",
   "name": "python",
   "nbconvert_exporter": "python",
   "pygments_lexer": "ipython3",
   "version": "3.8.3"
  }
 },
 "nbformat": 4,
 "nbformat_minor": 2
}
