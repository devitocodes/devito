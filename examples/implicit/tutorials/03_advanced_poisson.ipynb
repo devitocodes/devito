{
 "cells": [
  {
   "cell_type": "markdown",
   "metadata": {},
   "source": [
    "## Tutorial 3: Poisson Equation (Advanced)\n",
    "\n",
    "In this tutorial, we will try to validate an advanced implementation of the problem described by the previous tutorial, which should be looked at first. The main objective is to check some properties of iterative methods applied to the Poisson problem, specifically those described in the chapter 4.2 of $\\mathrm{LeVeque^{[1]}}$.\n",
    "\n",
    "$\\mathrm{^{[1]}}$ __LeVeque, R.J., 2007. Finite difference methods for ordinary and partial differential equations: steady-state and time-dependent problems (Vol. 98). Siam.__ "
   ]
  },
  {
   "cell_type": "markdown",
   "metadata": {},
   "source": [
    "The spectral radius $\\rho$ of the iteration matrix is a value that measures how much the error decays after one iteration for the worst scenario, which happens for the lowest frequencies of the solution. Given an initial error at the nth step $e^{[n]}$, the error after one iteration $e^{[n + 1]}$ is bounded by $\\rho\\ e^{[n]}$. From section 4.2 of the book \"Finite Difference Methods for Ordinary and Partial Differential Equations\", we can get the formula of the spectral radius $\\rho$ in the case of some common implicit methods:\n",
    "\n",
    "$$\\textrm{Jacobi:}\\ \\rho_h = \\cos{(\\pi h)} = 1 - \\frac{\\pi^2 h^2}{2} + O(h^4)$$\n",
    "\n",
    "$$\\textrm{Gauss-Seidel:}\\ \\rho_h = 1 - \\pi^2 h^2 + O(h^4)$$\n",
    "\n",
    "$$\\textrm{SOR using}\\ \\omega_{opt} = \\frac{2}{1 + \\sin{(\\pi h)}}\\textrm{:}\\ \\rho_h = 1 - 2 \\pi h + O(h^2)$$\n",
    "\n",
    "Since $e^{[n + 1]} = \\rho\\ e^{[n]}$, given an error reduction factor $\\epsilon$ such that we want $e^{[n]} \\leq \\epsilon\\ e^{[0]}$, then the required number of iterations $k$ to guarantee that precision respects the equation:\n",
    "\n",
    "$$\\rho^k \\leq \\epsilon \\implies k \\geq \\log_{\\rho} \\epsilon = \\frac{\\log \\epsilon}{\\log \\rho}$$"
   ]
  },
  {
   "cell_type": "code",
   "execution_count": 1,
   "metadata": {},
   "outputs": [
    {
     "name": "stdout",
     "output_type": "stream",
     "text": [
      "Grid spacing is 0.020408\n",
      "Spectral radius of the iteration matrix is 0.997945 for the Jacobi method\n",
      "Number of iterations to guarantee precision for the worst frequence is 1120\n"
     ]
    }
   ],
   "source": [
    "from devito import Grid\n",
    "from math import log, ceil, cos, pi\n",
    "\n",
    "shape = (50, 50)   # Grid size in number of points\n",
    "extent = (1., 1.)  # Grid domain limits -> [0,1] x [0,1]\n",
    "\n",
    "epsilon = 0.1\n",
    "space_order = 2\n",
    "\n",
    "grid = Grid(shape = shape, extent = extent) # The spatial grid\n",
    "hx, hy = grid.spacing # The calculated spatial steps (dx and dy)\n",
    "\n",
    "assert abs(hx - hy) < 0.0001, \\\n",
    "    \"Spatial spacing must be equal in both dimensions for analysis (%e, %e)\" % (hx, hy)\n",
    "\n",
    "h = hx # This could be h = hy or h = (hx + hy) / 2\n",
    "\n",
    "\n",
    "rho = cos(pi * h) # The spectral radius of the iterative matrix\n",
    "k = ceil(log(epsilon, rho)) # The required number of iterations\n",
    "\n",
    "print(\"Grid spacing is %f\" % h)\n",
    "print(\"Spectral radius of the iteration matrix is %f for the Jacobi method\" % rho)\n",
    "print(\"Number of iterations to guarantee precision for the worst frequence is %d\" % k)"
   ]
  },
  {
   "cell_type": "markdown",
   "metadata": {},
   "source": [
    "One of the main disadvantages of using the Jacobi method is that is has very slow convergence rate for the lowest frequency of the solution. For the problem above $\\rho \\approx 0.998$, which means that the upper bound for the error decreases by only 0.2% every iteration.\n",
    "\n",
    "Also note that, some of the time, depending on the initial guess, the number of iterations executed is not enough to guarantee the precision. A very common residual criteria is to stop whenever the relative error is below a limit $\\epsilon$:\n",
    "\n",
    "$$\\mathrm{stop\\ if\\ } \\frac{||p_{n+1}-p_n||_2}{||p_n||_2} < \\epsilon$$.\n",
    "\n",
    "But if that condition is used, there is no guarantee that the number $k$ of required iterations will be executed. This relation depends on the value of the condition number $\\kappa_2$ of the eigenvector matrix using norm-2, presented in the section 4.2.1 of LeVeque. This value measures how the evolution of the residual compares with the evolution of the error."
   ]
  },
  {
   "cell_type": "markdown",
   "metadata": {},
   "source": [
    "Let's now build an Operator that will solve the same problem as the last tutorial, but being able to choose between Jacobi, Gauss-Seidel or SOR and using the relative residual as the stop condition, instead of the absolute one. Let's also not save all the iterations, but use alternating buffers to save memory, so that we can vary $h$ into a wider range, without having to use swap memory. Let's also enable parallelism with OpenMP and enable aggressive optimizations to make our tests run faster."
   ]
  },
  {
   "cell_type": "code",
   "execution_count": 2,
   "metadata": {},
   "outputs": [],
   "source": [
    "from devito import configuration\n",
    "\n",
    "configuration['loop-splitting'] = False\n",
    "configuration['language'] = 'openmp'"
   ]
  },
  {
   "cell_type": "code",
   "execution_count": 3,
   "metadata": {},
   "outputs": [],
   "source": [
    "# Choose your method\n",
    "#method = 'jacobi'\n",
    "#method = 'gauss'\n",
    "method = 'sor'"
   ]
  },
  {
   "cell_type": "code",
   "execution_count": 4,
   "metadata": {},
   "outputs": [],
   "source": [
    "from devito import Dimension, ConditionalDimension, Eq, Function, Inc, Operator, TimeFunction, solve\n",
    "from numpy import int32\n",
    "from sympy import sin as Sin\n",
    "\n",
    "# The symbolic representation of the Poisson function\n",
    "p = TimeFunction(name = 'p', grid = grid, space_order = space_order)\n",
    "\n",
    "# The symbolic representation of the Poisson source/forcing term\n",
    "f = Function(name = 'f', grid = grid, space_order = space_order)\n",
    "\n",
    "# The symbolic representation of the absolute residual ||p(n + Δn) - p(n)||\n",
    "residual = Function(name = 'residual', shape = (1,), dimensions = (Dimension(name = 'residual_dim'),))\n",
    "\n",
    "# The symbolic representation of the normalizing term ||p(n + Δn)||\n",
    "pnorm = Function(name = 'pnorm', shape = (1,), dimensions = (Dimension(name = 'pnorm_dim'),))\n",
    "\n",
    "# The variable that will store which iteration is currently being executed\n",
    "niter = Function(name = 'niter', shape = (1,), dimensions = (Dimension(name = 'niter_dim'),),\n",
    "                 dtype = int32)\n",
    "\n",
    "n = grid.stepping_dim  # The dimension of iteration\n",
    "x, y = grid.dimensions # The spatial dimensions\n",
    "\n",
    "# Temporary dimensions used to separate the residual calculation from the PDE equation\n",
    "# Note: Since we use a Dimension instead of DefaultDimension, then we have to later set\n",
    "#       xt_M and yt_M manually when calling the operator\n",
    "xtemp = Dimension(name = 'xt')\n",
    "ytemp = Dimension(name = 'yt')\n",
    "\n",
    "xy_to_xtyt = [(x, xtemp), (y, ytemp)] # Used to convert an equation written in (x,y) to (xtemp, ytemp)\n",
    "\n",
    "# Epsilon is now a variable so that it can be dynamically changed\n",
    "epsilon = Function(name = 'epsilon', shape = (1,), dimensions = (Dimension(name = 'epsilon_dim'),))\n",
    "\n",
    "cn = ConditionalDimension(name = 'cn', parent = n.parent,\n",
    "                          condition = (residual[0] >= pnorm[0] * epsilon[0]), brk = True)\n",
    "\n",
    "# The poisson PDE\n",
    "pde = Eq(p.laplace, f, subdomain = grid.interior)\n",
    "\n",
    "# One iteration of the Jacobi method\n",
    "jacobiEq = solve(pde, p)\n",
    "\n",
    "# One iteration of the Gauss-Seidel method\n",
    "# Note: Gauss-Seidel equation is the same as the Jacobi one, but changing p(n) to p(n + Δn),\n",
    "#       thus forcing one iteration to operate using only p(n + Δn), which is a single array\n",
    "gaussEq = jacobiEq.subs(n, n + n.spacing)\n",
    "\n",
    "if method == 'jacobi':\n",
    "    iterEq = Eq(p.forward, jacobiEq)\n",
    "elif method == 'gauss':\n",
    "    iterEq = Eq(p.forward, gaussEq)\n",
    "elif method == 'sor':\n",
    "    # This is the equation for the optimal omega\n",
    "    #omega = 2 / (1 + pi * Sin(grid.spacing_symbols[0])) # Exact omega\n",
    "    omega = 2 - 2 * pi * grid.spacing_symbols[0] # Approximated omega\n",
    "\n",
    "    # One iteration of the SOR method\n",
    "    sorEq = omega * gaussEq + (1 - omega) * p.forward\n",
    "\n",
    "    iterEq = Eq(p.forward, sorEq)\n",
    "\n",
    "# Equation to calculate ||p(n + Δn) - p(n)||\n",
    "resEq = [Eq(residual[0], 0, implicit_dims = [n]),\n",
    "         Inc(residual[0], (p.forward - p).subs(xy_to_xtyt) ** 2)]\n",
    "\n",
    "# Equation to calculate ||p(n + Δn)||\n",
    "pnormEq = [Eq(pnorm[0], 0, implicit_dims = [n]),\n",
    "           Inc(pnorm[0], p.subs(xy_to_xtyt) ** 2)]\n",
    "\n",
    "# Equation to count, so we can know in what iteration it stopped\n",
    "cntEq = Eq(niter[0], cn)\n",
    "\n",
    "# Dirichlet boundary conditions\n",
    "boundary = [Eq(p[n + 1, 0, y], 0.)]\n",
    "boundary += [Eq(p[n + 1, x.symbolic_max, y], 0.)]\n",
    "boundary += [Eq(p[n + 1, x, 0], 0.)]\n",
    "boundary += [Eq(p[n + 1, x, y.symbolic_max], 0.)]\n",
    "\n",
    "if method == 'jacobi':\n",
    "    eqs = [iterEq] + boundary + resEq + pnormEq + [cntEq]\n",
    "else:\n",
    "    # Save last iteration so we can calculate the residual\n",
    "    saveEq = Eq(p.forward, p)\n",
    "\n",
    "    eqs = [saveEq, iterEq] + boundary + resEq + pnormEq + [cntEq]\n",
    "\n",
    "op = Operator(eqs)"
   ]
  },
  {
   "cell_type": "markdown",
   "metadata": {},
   "source": [
    "To validate the execution of the developed implicit method, we will execute it using various values for the spatial step $h = h_x = h_y$. This will be done to check the approximately linear evolution of the relative error ratio $r_h$ when reducing the value of the spatial step $h$ linearly, for low values of $h \\rightarrow 0$.\n",
    "\n",
    "Here is a demonstration for the two properties using the Gauss-Seidel spectral radius. The demonstration is almost identical for the Jacobi and SOR, the latter having a decay of $\\alpha$ instead of $\\alpha^2$:\n",
    "\n",
    "$$r_h = \\frac{e^{[n + 1]} - e^{[n]}}{e^{[n]}} = \\rho - 1 \\approx - \\pi^2 h^2\\ \\textrm{when}\\ h \\rightarrow 0 \\implies \\frac{r_h}{r_{\\frac{h}{\\alpha}}} \\approx \\frac{- \\pi^2 h^2}{-\\pi^2 (\\frac{h}{\\alpha})^2} = \\alpha^2 \\implies r_{\\frac{h}{\\alpha}} \\approx \\frac{r_h}{\\alpha^2} \\implies$$\n",
    "\n",
    "$$ \\implies  \\textrm{The relative error when dividing the spacing by a factor}\\ \\alpha \\textrm{ decays by a factor of } \\alpha^2$$\n",
    "\n",
    "$$k_h = \\frac{\\log \\epsilon}{\\log \\rho_h} \\implies \\frac{k_{\\frac{h}{\\alpha}}}{k_h} = \\frac{\\log (\\rho_h)}{\\log (\\rho_{\\frac{h}{\\alpha}})} \\approx \\frac{\\log (1 - \\pi^2 h^2)}{\\log (1 - \\pi^2 (\\frac{h}{\\alpha})^2)} \\approx \\frac{- \\pi^2 h^2}{-\\pi^2 (\\frac{h}{\\alpha})^2} = \\alpha^2 \\implies k_{\\frac{h}{\\alpha}} \\approx k_h \\alpha^2 \\implies$$\n",
    "\n",
    "$$ \\implies \\textrm{The number of required iterations increases approximately by } \\alpha^2 \\textrm{ when the number of points increases by a factor of}\\ \\alpha$$\n",
    "\n",
    "__Note__: The taylor expansion for $\\log (1 - h)$ around $h = 0$ is $\\log (1 - h) = -h - \\frac{h^2}{2} - \\frac{h^3}{3} - O(h^4)$"
   ]
  },
  {
   "cell_type": "code",
   "execution_count": 5,
   "metadata": {},
   "outputs": [],
   "source": [
    "# If \"exec_all\" is true, then execute exactly n% of the required k iterations\n",
    "if method == 'sor':\n",
    "    exec_all = True\n",
    "else:\n",
    "    exec_all = False\n",
    "npercent = 1\n",
    "\n",
    "epsilon_ = 0.0000001\n",
    "nmax = 10000 # This is the maximum iterations when exec_all = False"
   ]
  },
  {
   "cell_type": "code",
   "execution_count": 6,
   "metadata": {},
   "outputs": [
    {
     "name": "stderr",
     "output_type": "stream",
     "text": [
      "<ipython-input-6-ad7f82d9663b>:4: RuntimeWarning: This cell usually takes minutes to properly execute. Try reducing 'ns' for a faster execution.\n",
      "  warn(msg, RuntimeWarning)\n",
      "Operator `Kernel` ran in 0.08 s\n",
      "Operator `Kernel` ran in 0.01 s\n",
      "Operator `Kernel` ran in 0.01 s\n",
      "Operator `Kernel` ran in 0.01 s\n",
      "Operator `Kernel` ran in 0.07 s\n",
      "Operator `Kernel` ran in 0.41 s\n",
      "Operator `Kernel` ran in 3.81 s\n",
      "Operator `Kernel` ran in 29.79 s\n"
     ]
    }
   ],
   "source": [
    "from warnings import warn\n",
    "\n",
    "msg = \"This cell usually takes minutes to properly execute. Try reducing 'ns' for a faster execution.\"\n",
    "warn(msg, RuntimeWarning)\n",
    "\n",
    "from numpy import cos, inf, round, linspace, meshgrid, sin\n",
    "from numpy.linalg import norm\n",
    "\n",
    "# Useful: h[i] = extent[i] / (shape[i] - 1) => shape[i] = extent[i] / h[i] + 1\n",
    "\n",
    "extent = 1.0\n",
    "\n",
    "# Test parameters\n",
    "h0 = 0.25 # First spatial step\n",
    "alpha = 2 # Linear factor to decrease h\n",
    "ns = 8    # Number of spacings to be calculated\n",
    "\n",
    "H = [h0 * alpha ** -i for i in range(ns)]                   # List of spacings to be tested\n",
    "shapes = [int(round(extent / H[i]) + 1) for i in range(ns)] # List of shapes for the grid\n",
    "\n",
    "if exec_all:\n",
    "    epsilon.data[0] = 0.0\n",
    "else:\n",
    "    epsilon.data[0] = epsilon_\n",
    "\n",
    "hs = []     # List of actual spacings used\n",
    "niters = [] # List of performed iterations\n",
    "rs = []     # List of relative errors\n",
    "ks = []     # List of required number of iterations\n",
    "\n",
    "# Auxiliary function to calculate the absolute error in an iteration\n",
    "def absolute_error(p, it, sol):\n",
    "    return norm(sol - p.data[it, :, :], ord = 2)\n",
    "\n",
    "extent = (extent, extent)\n",
    "for shape in shapes:\n",
    "    shape = (shape, shape)\n",
    "    grid = Grid(shape = shape, extent = extent)\n",
    "    h = grid.spacing[0]\n",
    "\n",
    "    pnorm.data[0] = 0\n",
    "    residual.data[0] = 0\n",
    "    niter.data[0] = 0\n",
    "\n",
    "    p = TimeFunction(name = 'p', grid = grid, space_order = space_order)\n",
    "    p.data[:] = 0 # Initial data is null instead of random for consistent results if executing more than once\n",
    "\n",
    "    residuals = Function(name = 'residuals', shape = grid.shape, dimensions = [xtemp, ytemp], space_order = space_order)\n",
    "\n",
    "    f = Function(name = 'f', grid = grid)\n",
    "    H = linspace(0., 1., shape[0], endpoint = True)\n",
    "    X, Y = meshgrid(H, H, sparse = True)\n",
    "\n",
    "    f.data[:] = 4 * pi ** 2 * sin(2 * pi * X) * (2 * cos(2 * pi * Y) - 1)\n",
    "    solution = sin(2 * pi * X) * (1 - cos(2 * pi * Y))\n",
    "\n",
    "    if method == \"jacobi\":\n",
    "        rho = 1 - pi ** 2 * h ** 2 / 2\n",
    "    elif method == \"gauss\":\n",
    "        rho = 1 - pi ** 2 * h ** 2\n",
    "    elif method == \"sor\":\n",
    "        rho = 1 - 2 * pi * h\n",
    "    if rho < 0:\n",
    "        rho = epsilon_\n",
    "    k = ceil(log(epsilon_) / log(rho))\n",
    "\n",
    "    if exec_all:\n",
    "        nmax = ceil(k * npercent)\n",
    "\n",
    "    # Note: h_x and h_y must be manually updated since they are present in the equations of the operator\n",
    "    op(time_M = nmax, p = p, f = f, h_x = h, h_y = h, xt_M = p.shape[1] - 1, yt_M = p.shape[2] - 1)\n",
    "    last_iter = niter.data[0]\n",
    "\n",
    "    En = absolute_error(p, last_iter - 1, solution)\n",
    "    rh = abs(absolute_error(p, last_iter, solution) - En) / En\n",
    "\n",
    "    hs.append(h)\n",
    "    niters.append(last_iter)\n",
    "    rs.append(rh)\n",
    "    ks.append(k)"
   ]
  },
  {
   "cell_type": "code",
   "execution_count": 7,
   "metadata": {},
   "outputs": [
    {
     "data": {
      "image/png": "[encoded data removed]",
      "text/plain": [
       "<Figure size 432x288 with 1 Axes>"
      ]
     },
     "metadata": {
      "needs_background": "light"
     },
     "output_type": "display_data"
    },
    {
     "data": {
      "image/png": "[encoded data removed]",
      "text/plain": [
       "<Figure size 432x288 with 1 Axes>"
      ]
     },
     "metadata": {
      "needs_background": "light"
     },
     "output_type": "display_data"
    }
   ],
   "source": [
    "from numpy import array, exp, full, log, polyfit\n",
    "import matplotlib.pyplot as plt\n",
    "\n",
    "# Cast some of the lists to numpy array\n",
    "rs = array(rs)\n",
    "niters = array(niters)\n",
    "\n",
    "ratios = rs[:-1] / rs[1:]\n",
    "\n",
    "# Plot the relative error ratio\n",
    "# Note: This plot should approach \"alpha ** 2\" for Jacobi and Gauss-Seidel and \"alpha\" for SOR\n",
    "plt.figure()\n",
    "plt.title(\"Blue Plot -> Orange Plot\")\n",
    "plt.grid()\n",
    "plt.xlabel(\"Test Number\")\n",
    "plt.ylabel(\"Relative Error Ratio\")\n",
    "X = range(1, ns)\n",
    "plt.xticks(X)\n",
    "plt.plot(X, ratios)\n",
    "if method == 'sor':\n",
    "    plt.plot(X, full(ns-1, alpha))\n",
    "else:\n",
    "    plt.plot(X, full(ns-1, alpha ** 2))\n",
    "\n",
    "# Plot the number of required iterations\n",
    "# Note: This plot should be approximately line (when exec_all = False), especially for smaller h\n",
    "plt.figure()\n",
    "plt.title(\"Blue Plot -> Straight Line = Orange Plot\")\n",
    "plt.grid()\n",
    "plt.xlabel(\"Test Number\")\n",
    "plt.ylabel(\"Iterations Executed\")\n",
    "plt.yscale('log')\n",
    "X = range(ns)\n",
    "plt.xticks(X)\n",
    "plt.plot(X, niters)\n",
    "a, b = polyfit(X[2:], log(niters[2:]), 1)\n",
    "plt.plot(X, exp(a * X + b))\n",
    "\n",
    "None"
   ]
  },
  {
   "cell_type": "markdown",
   "metadata": {},
   "source": [
    "If you try to plot the last approximated solution, even though the basic \"form\" of the solution already shows up, you will see that it is not even close to the real solution, especially for the Jacobi and Gauss-Seidel methods. That happens because, as $h \\rightarrow 0$, the number of iterations required for the method to converge increases by the order of $h^2$. This means that when $h = 0.001$, for example, the number of required iterations to guarantee precision is on the order of $\\frac{1}{h^2} = 10^6$. The convergence is very slow in this case, so $10^6$ is much higher than the actual number of iterations executed when using the relative error stop criteria.\n",
    "\n",
    "Even though the real solution is still very badly approximated for small $h$, the properties deduced in this notebook are independent of the current iteration index and also independent of the actual distance between the real and approximated solution."
   ]
  },
  {
   "cell_type": "code",
   "execution_count": 8,
   "metadata": {},
   "outputs": [],
   "source": [
    "from numpy import max, min\n",
    "\n",
    "if method != \"sor\":\n",
    "    print(\"The absolute error of the last approximated solution is %f, which is still very large\\n\" % En)\n",
    "    print(\"The maximum and minimum value for the last approximated solution are %f and %f.\" % (max(p.data[0,:]),\n",
    "                                                                                              min(p.data[0,:])))\n",
    "    print(\"These values should converge to ±2, but are still far away\\n\")\n",
    "    \n",
    "    print(\"Even though %d iterations should be done for guaranteed convergence, only %d were executed\" % (ks[-1],\n",
    "                                                                                                      niter.data[0]))"
   ]
  },
  {
   "cell_type": "markdown",
   "metadata": {},
   "source": [
    "__Warning__: Be aware that we are plotting large data when using the code below, which will be the last approximated solution with the smallest $h$. As you can see, the solution has the basic \"form\", but the actual values are still far from the real solution."
   ]
  }
 ],
 "metadata": {
  "kernelspec": {
   "display_name": "Python (devito)",
   "language": "python",
   "name": "myenv"
  },
  "language_info": {
   "codemirror_mode": {
    "name": "ipython",
    "version": 3
   },
   "file_extension": ".py",
   "mimetype": "text/x-python",
   "name": "python",
   "nbconvert_exporter": "python",
   "pygments_lexer": "ipython3",
   "version": "3.8.3"
  }
 },
 "nbformat": 4,
 "nbformat_minor": 2
}
