{
 "cells": [
  {
   "cell_type": "markdown",
   "id": "c03d5e75-ea6d-410d-ac9f-3c79ea695637",
   "metadata": {},
   "source": [
    "## Criação da matriz Visco\n",
    "\n",
    "Criação baseada na implementação presente no repositório que Peterson me passou."
   ]
  },
  {
   "cell_type": "code",
   "execution_count": 1,
   "id": "80c4881c-6e1a-4c0d-a86a-019d6e65865b",
   "metadata": {},
   "outputs": [],
   "source": [
    "from examples.seismic import demo_model\n",
    "from examples.seismic.stiffness.operators import iso_elastic_tensor\n",
    "import numpy as np\n",
    "from devito import *"
   ]
  },
  {
   "cell_type": "code",
   "execution_count": 3,
   "id": "ef83a761-921e-4cf3-a8e4-4d04d8fa0c85",
   "metadata": {},
   "outputs": [
    {
     "name": "stderr",
     "output_type": "stream",
     "text": [
      "Operator `initdamp` ran in 0.01 s\n"
     ]
    }
   ],
   "source": [
    "shape=(50, 50, 50)\n",
    "spacing=(15.0, 15.0, 15.0)\n",
    "tn=500.\n",
    "space_order=4\n",
    "nbl=10\n",
    "preset = 'layers-elastic'\n",
    "\n",
    "model = demo_model(preset, space_order=space_order, shape=shape, nbl=nbl,\n",
    "                       dtype=np.float32, spacing=spacing)\n"
   ]
  },
  {
   "cell_type": "code",
   "execution_count": 4,
   "id": "badc4465-f051-4a0b-8b68-5407ab8f3b8b",
   "metadata": {},
   "outputs": [
    {
     "data": {
      "text/latex": [
       "$\\displaystyle \\left[\\begin{matrix}\\operatorname{lam}{\\left(x,y,z \\right)} + 2 \\mu{\\left(x,y,z \\right)} & \\operatorname{lam}{\\left(x,y,z \\right)} & \\operatorname{lam}{\\left(x,y,z \\right)} & 0 & 0 & 0\\\\\\operatorname{lam}{\\left(x,y,z \\right)} & \\operatorname{lam}{\\left(x,y,z \\right)} + 2 \\mu{\\left(x,y,z \\right)} & \\operatorname{lam}{\\left(x,y,z \\right)} & 0 & 0 & 0\\\\\\operatorname{lam}{\\left(x,y,z \\right)} & \\operatorname{lam}{\\left(x,y,z \\right)} & \\operatorname{lam}{\\left(x,y,z \\right)} + 2 \\mu{\\left(x,y,z \\right)} & 0 & 0 & 0\\\\0 & 0 & 0 & \\mu{\\left(x,y,z \\right)} & 0 & 0\\\\0 & 0 & 0 & 0 & \\mu{\\left(x,y,z \\right)} & 0\\\\0 & 0 & 0 & 0 & 0 & \\mu{\\left(x,y,z \\right)}\\end{matrix}\\right]$"
      ],
      "text/plain": [
       "Matrix([\n",
       "[lam(x, y, z) + 2*mu(x, y, z),                 lam(x, y, z),                 lam(x, y, z),           0,           0,           0],\n",
       "[                lam(x, y, z), lam(x, y, z) + 2*mu(x, y, z),                 lam(x, y, z),           0,           0,           0],\n",
       "[                lam(x, y, z),                 lam(x, y, z), lam(x, y, z) + 2*mu(x, y, z),           0,           0,           0],\n",
       "[                           0,                            0,                            0, mu(x, y, z),           0,           0],\n",
       "[                           0,                            0,                            0,           0, mu(x, y, z),           0],\n",
       "[                           0,                            0,                            0,           0,           0, mu(x, y, z)]])"
      ]
     },
     "execution_count": 4,
     "metadata": {},
     "output_type": "execute_result"
    }
   ],
   "source": [
    "C = iso_elastic_tensor(model)\n",
    "C"
   ]
  },
  {
   "cell_type": "markdown",
   "id": "8c1ffea8-838c-492d-b035-9ceba3c31409",
   "metadata": {},
   "source": [
    "## Obtenção da matriz resultante da aplicação da matrix Dt em v"
   ]
  },
  {
   "cell_type": "code",
   "execution_count": 5,
   "id": "4cb7db40-c78b-401f-8f5b-7f7afeb86c5a",
   "metadata": {},
   "outputs": [
    {
     "data": {
      "text/latex": [
       "$\\displaystyle \\left[\\begin{matrix}\\frac{\\partial}{\\partial x} \\operatorname{v_{x}}{\\left(t,x + \\frac{h_{x}}{2},y,z \\right)}\\\\\\frac{\\partial}{\\partial y} \\operatorname{v_{y}}{\\left(t,x,y + \\frac{h_{y}}{2},z \\right)}\\\\\\frac{\\partial}{\\partial z} \\operatorname{v_{z}}{\\left(t,x,y,z + \\frac{h_{z}}{2} \\right)}\\\\\\frac{\\partial}{\\partial z} \\operatorname{v_{y}}{\\left(t,x,y + \\frac{h_{y}}{2},z \\right)} + \\frac{\\partial}{\\partial y} \\operatorname{v_{z}}{\\left(t,x,y,z + \\frac{h_{z}}{2} \\right)}\\\\\\frac{\\partial}{\\partial z} \\operatorname{v_{x}}{\\left(t,x + \\frac{h_{x}}{2},y,z \\right)} + \\frac{\\partial}{\\partial x} \\operatorname{v_{z}}{\\left(t,x,y,z + \\frac{h_{z}}{2} \\right)}\\\\\\frac{\\partial}{\\partial y} \\operatorname{v_{x}}{\\left(t,x + \\frac{h_{x}}{2},y,z \\right)} + \\frac{\\partial}{\\partial x} \\operatorname{v_{y}}{\\left(t,x,y + \\frac{h_{y}}{2},z \\right)}\\end{matrix}\\right]$"
      ],
      "text/plain": [
       "Matrix([\n",
       "[                                         Derivative(v_x(t, x + h_x/2, y, z), x)],\n",
       "[                                         Derivative(v_y(t, x, y + h_y/2, z), y)],\n",
       "[                                         Derivative(v_z(t, x, y, z + h_z/2), z)],\n",
       "[Derivative(v_y(t, x, y + h_y/2, z), z) + Derivative(v_z(t, x, y, z + h_z/2), y)],\n",
       "[Derivative(v_x(t, x + h_x/2, y, z), z) + Derivative(v_z(t, x, y, z + h_z/2), x)],\n",
       "[Derivative(v_x(t, x + h_x/2, y, z), y) + Derivative(v_y(t, x, y + h_y/2, z), x)]])"
      ]
     },
     "execution_count": 5,
     "metadata": {},
     "output_type": "execute_result"
    }
   ],
   "source": [
    "grid = Grid(shape=(9,9,9), extent=(80,80,80))\n",
    "\n",
    "so = 2\n",
    "\n",
    "v = VectorTimeFunction(name='v', grid=model.grid, space_order=so, time_order=1)\n",
    "Dtv = S(v)\n",
    "Dtv"
   ]
  },
  {
   "cell_type": "code",
   "execution_count": 6,
   "id": "7f717b35-475e-43a0-9f2b-376f44711c2b",
   "metadata": {},
   "outputs": [
    {
     "data": {
      "text/latex": [
       "$\\displaystyle \\left[\\begin{matrix}\\left(\\operatorname{lam}{\\left(x,y,z \\right)} + 2 \\mu{\\left(x,y,z \\right)}\\right) \\frac{\\partial}{\\partial x} \\operatorname{v_{x}}{\\left(t,x + \\frac{h_{x}}{2},y,z \\right)} + \\operatorname{lam}{\\left(x,y,z \\right)} \\frac{\\partial}{\\partial y} \\operatorname{v_{y}}{\\left(t,x,y + \\frac{h_{y}}{2},z \\right)} + \\operatorname{lam}{\\left(x,y,z \\right)} \\frac{\\partial}{\\partial z} \\operatorname{v_{z}}{\\left(t,x,y,z + \\frac{h_{z}}{2} \\right)}\\\\\\left(\\operatorname{lam}{\\left(x,y,z \\right)} + 2 \\mu{\\left(x,y,z \\right)}\\right) \\frac{\\partial}{\\partial y} \\operatorname{v_{y}}{\\left(t,x,y + \\frac{h_{y}}{2},z \\right)} + \\operatorname{lam}{\\left(x,y,z \\right)} \\frac{\\partial}{\\partial x} \\operatorname{v_{x}}{\\left(t,x + \\frac{h_{x}}{2},y,z \\right)} + \\operatorname{lam}{\\left(x,y,z \\right)} \\frac{\\partial}{\\partial z} \\operatorname{v_{z}}{\\left(t,x,y,z + \\frac{h_{z}}{2} \\right)}\\\\\\left(\\operatorname{lam}{\\left(x,y,z \\right)} + 2 \\mu{\\left(x,y,z \\right)}\\right) \\frac{\\partial}{\\partial z} \\operatorname{v_{z}}{\\left(t,x,y,z + \\frac{h_{z}}{2} \\right)} + \\operatorname{lam}{\\left(x,y,z \\right)} \\frac{\\partial}{\\partial x} \\operatorname{v_{x}}{\\left(t,x + \\frac{h_{x}}{2},y,z \\right)} + \\operatorname{lam}{\\left(x,y,z \\right)} \\frac{\\partial}{\\partial y} \\operatorname{v_{y}}{\\left(t,x,y + \\frac{h_{y}}{2},z \\right)}\\\\\\left(\\frac{\\partial}{\\partial z} \\operatorname{v_{y}}{\\left(t,x,y + \\frac{h_{y}}{2},z \\right)} + \\frac{\\partial}{\\partial y} \\operatorname{v_{z}}{\\left(t,x,y,z + \\frac{h_{z}}{2} \\right)}\\right) \\mu{\\left(x,y,z \\right)}\\\\\\left(\\frac{\\partial}{\\partial z} \\operatorname{v_{x}}{\\left(t,x + \\frac{h_{x}}{2},y,z \\right)} + \\frac{\\partial}{\\partial x} \\operatorname{v_{z}}{\\left(t,x,y,z + \\frac{h_{z}}{2} \\right)}\\right) \\mu{\\left(x,y,z \\right)}\\\\\\left(\\frac{\\partial}{\\partial y} \\operatorname{v_{x}}{\\left(t,x + \\frac{h_{x}}{2},y,z \\right)} + \\frac{\\partial}{\\partial x} \\operatorname{v_{y}}{\\left(t,x,y + \\frac{h_{y}}{2},z \\right)}\\right) \\mu{\\left(x,y,z \\right)}\\end{matrix}\\right]$"
      ],
      "text/plain": [
       "Matrix([\n",
       "[(lam(x, y, z) + 2*mu(x, y, z))*Derivative(v_x(t, x + h_x/2, y, z), x) + lam(x, y, z)*Derivative(v_y(t, x, y + h_y/2, z), y) + lam(x, y, z)*Derivative(v_z(t, x, y, z + h_z/2), z)],\n",
       "[(lam(x, y, z) + 2*mu(x, y, z))*Derivative(v_y(t, x, y + h_y/2, z), y) + lam(x, y, z)*Derivative(v_x(t, x + h_x/2, y, z), x) + lam(x, y, z)*Derivative(v_z(t, x, y, z + h_z/2), z)],\n",
       "[(lam(x, y, z) + 2*mu(x, y, z))*Derivative(v_z(t, x, y, z + h_z/2), z) + lam(x, y, z)*Derivative(v_x(t, x + h_x/2, y, z), x) + lam(x, y, z)*Derivative(v_y(t, x, y + h_y/2, z), y)],\n",
       "[                                                                                    (Derivative(v_y(t, x, y + h_y/2, z), z) + Derivative(v_z(t, x, y, z + h_z/2), y))*mu(x, y, z)],\n",
       "[                                                                                    (Derivative(v_x(t, x + h_x/2, y, z), z) + Derivative(v_z(t, x, y, z + h_z/2), x))*mu(x, y, z)],\n",
       "[                                                                                    (Derivative(v_x(t, x + h_x/2, y, z), y) + Derivative(v_y(t, x, y + h_y/2, z), x))*mu(x, y, z)]])"
      ]
     },
     "execution_count": 6,
     "metadata": {},
     "output_type": "execute_result"
    }
   ],
   "source": [
    "result = C*Dtv\n",
    "result"
   ]
  },
  {
   "cell_type": "code",
   "execution_count": 9,
   "id": "1f4b96cf-fc45-49b3-84a6-028e5cfa2aa2",
   "metadata": {},
   "outputs": [
    {
     "data": {
      "text/latex": [
       "$\\displaystyle \\left[\\begin{matrix}\\operatorname{t_{xx}}{\\left(t,x,y,z \\right)} & \\operatorname{t_{xy}}{\\left(t,x + \\frac{h_{x}}{2},y + \\frac{h_{y}}{2},z \\right)} & \\operatorname{t_{xz}}{\\left(t,x + \\frac{h_{x}}{2},y,z + \\frac{h_{z}}{2} \\right)}\\\\\\operatorname{t_{xy}}{\\left(t,x + \\frac{h_{x}}{2},y + \\frac{h_{y}}{2},z \\right)} & \\operatorname{t_{yy}}{\\left(t,x,y,z \\right)} & \\operatorname{t_{yz}}{\\left(t,x,y + \\frac{h_{y}}{2},z + \\frac{h_{z}}{2} \\right)}\\\\\\operatorname{t_{xz}}{\\left(t,x + \\frac{h_{x}}{2},y,z + \\frac{h_{z}}{2} \\right)} & \\operatorname{t_{yz}}{\\left(t,x,y + \\frac{h_{y}}{2},z + \\frac{h_{z}}{2} \\right)} & \\operatorname{t_{zz}}{\\left(t,x,y,z \\right)}\\end{matrix}\\right]$"
      ],
      "text/plain": [
       "Matrix([\n",
       "[                t_xx(t, x, y, z), t_xy(t, x + h_x/2, y + h_y/2, z), t_xz(t, x + h_x/2, y, z + h_z/2)],\n",
       "[t_xy(t, x + h_x/2, y + h_y/2, z),                 t_yy(t, x, y, z), t_yz(t, x, y + h_y/2, z + h_z/2)],\n",
       "[t_xz(t, x + h_x/2, y, z + h_z/2), t_yz(t, x, y + h_y/2, z + h_z/2),                 t_zz(t, x, y, z)]])"
      ]
     },
     "execution_count": 9,
     "metadata": {},
     "output_type": "execute_result"
    }
   ],
   "source": [
    "tau = TensorTimeFunction(name='t', grid=model.grid, space_order=so, time_order=1, vec=True)\n",
    "tau"
   ]
  },
  {
   "cell_type": "code",
   "execution_count": 10,
   "id": "8774af12-95a5-4641-98c5-50bf6c722988",
   "metadata": {},
   "outputs": [
    {
     "data": {
      "text/latex": [
       "$\\displaystyle \\left[\\begin{matrix}\\operatorname{t_{xx}}{\\left(t,x,y,z \\right)}\\\\\\operatorname{t_{yy}}{\\left(t,x,y,z \\right)}\\\\\\operatorname{t_{zz}}{\\left(t,x,y,z \\right)}\\\\\\operatorname{t_{yz}}{\\left(t,x,y + \\frac{h_{y}}{2},z + \\frac{h_{z}}{2} \\right)}\\\\\\operatorname{t_{xz}}{\\left(t,x + \\frac{h_{x}}{2},y,z + \\frac{h_{z}}{2} \\right)}\\\\\\operatorname{t_{xy}}{\\left(t,x + \\frac{h_{x}}{2},y + \\frac{h_{y}}{2},z \\right)}\\end{matrix}\\right]$"
      ],
      "text/plain": [
       "Matrix([\n",
       "[                t_xx(t, x, y, z)],\n",
       "[                t_yy(t, x, y, z)],\n",
       "[                t_zz(t, x, y, z)],\n",
       "[t_yz(t, x, y + h_y/2, z + h_z/2)],\n",
       "[t_xz(t, x + h_x/2, y, z + h_z/2)],\n",
       "[t_xy(t, x + h_x/2, y + h_y/2, z)]])"
      ]
     },
     "execution_count": 10,
     "metadata": {},
     "output_type": "execute_result"
    }
   ],
   "source": [
    "tau = tau.vec\n",
    "tau"
   ]
  },
  {
   "cell_type": "code",
   "execution_count": 11,
   "id": "0beeb9e5-e6d2-45be-8c00-d5418a5289fb",
   "metadata": {},
   "outputs": [],
   "source": [
    "pde = tau.dt - C*Dtv\n",
    "\n",
    "# Time update\n",
    "u = Eq(tau.forward, solve(pde, tau.forward))\n",
    "\n",
    "op = Operator([u])\n"
   ]
  },
  {
   "cell_type": "code",
   "execution_count": null,
   "id": "1d5674af-f895-4144-bbb7-87230041b6a0",
   "metadata": {},
   "outputs": [],
   "source": []
  }
 ],
 "metadata": {
  "kernelspec": {
   "display_name": "devito-python",
   "language": "python",
   "name": "devito-python"
  },
  "language_info": {
   "codemirror_mode": {
    "name": "ipython",
    "version": 3
   },
   "file_extension": ".py",
   "mimetype": "text/x-python",
   "name": "python",
   "nbconvert_exporter": "python",
   "pygments_lexer": "ipython3",
   "version": "3.9.5"
  }
 },
 "nbformat": 4,
 "nbformat_minor": 5
}
