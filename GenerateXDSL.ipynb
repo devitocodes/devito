{
 "cells": [
  {
   "cell_type": "code",
   "execution_count": 1,
   "id": "f480b8b1",
   "metadata": {},
   "outputs": [],
   "source": [
    "from xdsl.dialects.builtin import *\n",
    "from xdsl.printer import Printer\n",
    "from devito.ir.ietxdsl import *\n",
    "from xdsl.dialects.builtin import ModuleOp"
   ]
  },
  {
   "cell_type": "code",
   "execution_count": 5,
   "id": "2d39181b",
   "metadata": {},
   "outputs": [],
   "source": [
    "from devito import Grid, TimeFunction, Eq, Operator"
   ]
  },
  {
   "cell_type": "code",
   "execution_count": 12,
   "id": "b9b2dbc4",
   "metadata": {},
   "outputs": [],
   "source": [
    "from devito.ir.iet.visitors import Visitor"
   ]
  },
  {
   "cell_type": "code",
   "execution_count": 3,
   "id": "6cf50149",
   "metadata": {},
   "outputs": [
    {
     "name": "stdout",
     "output_type": "stream",
     "text": [
      "module() {\n",
      "  iet.callable() [\"callable_name\" = \"kernel\", \"parameters\" = [\"u\"]] {\n",
      "  ^0(%0 : !i32):\n",
      "    iet.iteration() [\"limits\" = [\"time_m\", \"time_M\", \"1\"], \"properties\" = [\"affine\", \"sequential\"]] {\n",
      "    ^1(%1 : !i32, %2 : !i32, %3 : !i32):\n",
      "      iet.iteration() [\"limits\" = [\"x_m\", \"x_M\", \"1\"], \"properties\" = [\"affine\", \"parallel\", \"skewable\"]] {\n",
      "      ^2(%4 : !i32):\n",
      "        iet.iteration() [\"limits\" = [\"y_m\", \"y_M\", \"1\"], \"properties\" = [\"affine\", \"parallel\", \"skewable\", \"vector-dim\"]] {\n",
      "        ^3(%5 : !i32):\n",
      "          %6 : !i32 = iet.constant() [\"value\" = 1 : !i32]\n",
      "          %7 : !i32 = iet.addi(%4 : !i32, %6 : !i32)\n",
      "          %8 : !i32 = iet.addi(%5 : !i32, %6 : !i32)\n",
      "          %9 : !i32 = iet.idx(%0 : !i32, %2 : !i32)\n",
      "          %10 : !i32 = iet.idx(%9 : !i32, %7 : !i32)\n",
      "          %11 : !i32 = iet.idx(%10 : !i32, %8 : !i32)\n",
      "          %12 : !i32 = iet.addi(%11 : !i32, %6 : !i32)\n",
      "          %13 : !i32 = iet.idx(%0 : !i32, %3 : !i32)\n",
      "          %14 : !i32 = iet.idx(%13 : !i32, %7 : !i32)\n",
      "          %15 : !i32 = iet.idx(%14 : !i32, %8 : !i32)\n",
      "          iet.assign(%15 : !i32, %12 : !i32)\n",
      "        }\n",
      "      }\n",
      "    }\n",
      "  }\n",
      "}\n"
     ]
    }
   ],
   "source": [
    "def test_example():\n",
    "    ctx = MLContext()\n",
    "    Builtin(ctx)\n",
    "    iet = IET(ctx)\n",
    "\n",
    "    mod = ModuleOp.from_region_or_ops([\n",
    "        Callable.get(\"kernel\", [\"u\"], Block.from_callable([iet.i32], lambda u: [\n",
    "            Iteration.get([\"affine\", \"sequential\"], (\"time_m\", \"time_M\", \"1\"),\n",
    "                          Block.from_callable([iet.i32, iet.i32, iet.i32], lambda time, t0, t1: [\n",
    "                Iteration.get([\"affine\", \"parallel\", \"skewable\"], (\"x_m\", \"x_M\", \"1\"),\n",
    "                              Block.from_callable([iet.i32], lambda x: [\n",
    "                    Iteration.get([\"affine\", \"parallel\", \"skewable\", \"vector-dim\"], (\"y_m\", \"y_M\", \"1\"),\n",
    "                                  Block.from_callable([iet.i32], lambda y: [\n",
    "                        cst1    := Constant.get(1),\n",
    "                        x1      := Addi.get(x, cst1),\n",
    "                        y1      := Addi.get(y, cst1),\n",
    "                        ut0     := Idx.get(u, t0),\n",
    "                        ut0x1   := Idx.get(ut0, x1),\n",
    "                        ut0x1y1 := Idx.get(ut0x1, y1),\n",
    "                        rhs     := Addi.get(ut0x1y1, cst1),\n",
    "                        ut1     := Idx.get(u, t1),\n",
    "                        ut1x1   := Idx.get(ut1, x1),\n",
    "                        lhs     := Idx.get(ut1x1, y1),\n",
    "                        Assign.build([lhs, rhs])\n",
    "                    ]))\n",
    "                ]))\n",
    "            ]))\n",
    "        ]))\n",
    "    ])\n",
    "\n",
    "    printer = Printer()\n",
    "    printer.print_op(mod)\n",
    "\n",
    "test_example()"
   ]
  },
  {
   "cell_type": "code",
   "execution_count": 11,
   "id": "5e7c7223",
   "metadata": {},
   "outputs": [
    {
     "name": "stdout",
     "output_type": "stream",
     "text": [
      "<Callable Kernel>\n",
      "  <CallableBody <allocs=0, casts=1, maps=0> <unmaps=0, frees=0>>\n",
      "    <List (4, 0, 0)>\n",
      "      <C.Comment /* Flush denormal numbers to zero in hardware */>\n",
      "      <C.Statement _MM_SET_DENORMALS_ZERO_MODE(_MM_DENORMALS_ZERO_ON);>\n",
      "      <C.Statement _MM_SET_FLUSH_ZERO_MODE(_MM_FLUSH_ZERO_ON);>\n",
      "      <C.Line >\n",
      "\n",
      "\n",
      "    <List (0, 1, 0)>\n",
      "\n",
      "      <[affine,sequential] Iteration time::time::(time_m, time_M, 1)>\n",
      "        <Section (section0)>\n",
      "\n",
      "          <TimedList (1, 1, 1)>\n",
      "            <[affine,parallel,parallel=,skewable] Iteration x::x::(x_m, x_M, 1)>\n",
      "              <[affine,parallel,parallel=,skewable,vector-dim] Iteration y::y::(y_m, y_M, 1)>\n",
      "                <ExpressionBundle (1)>\n",
      "\n",
      "                  <Expression u[t1, x + 1, y + 1] = u[t0, x + 1, y + 1] + 1>\n",
      "\n",
      "\n",
      "\n"
     ]
    }
   ],
   "source": [
    "grid = Grid(shape = (3, 3))\n",
    "u = TimeFunction(name='u', grid=grid)\n",
    "eq = Eq(u.forward, u + 1)\n",
    "op = Operator([eq])\n",
    "print(op.view)"
   ]
  },
  {
   "cell_type": "code",
   "execution_count": 25,
   "id": "1bd363ba",
   "metadata": {},
   "outputs": [],
   "source": [
    "import devito.ir.iet.nodes as nodes"
   ]
  },
  {
   "cell_type": "code",
   "execution_count": 26,
   "id": "71394c68",
   "metadata": {},
   "outputs": [
    {
     "name": "stdout",
     "output_type": "stream",
     "text": [
      "float (*restrict u)[u_vec->size[1]][u_vec->size[2]] __attribute__ ((aligned (64))) = (float (*)[u_vec->size[1]][u_vec->size[2]]) u_vec->data;\n",
      "\n",
      "/* Flush denormal numbers to zero in hardware */\n",
      "_MM_SET_DENORMALS_ZERO_MODE(_MM_DENORMALS_ZERO_ON);\n",
      "_MM_SET_FLUSH_ZERO_MODE(_MM_FLUSH_ZERO_ON);\n",
      "\n",
      "for (int time = time_m, t0 = (time)%(2), t1 = (time + 1)%(2); time <= time_M; time += 1, t0 = (time)%(2), t1 = (time + 1)%(2))\n",
      "{\n",
      "  /* Begin section0 */\n",
      "  START_TIMER(section0)\n",
      "  for (int x = x_m; x <= x_M; x += 1)\n",
      "  {\n",
      "    #pragma omp simd aligned(u:32)\n",
      "    for (int y = y_m; y <= y_M; y += 1)\n",
      "    {\n",
      "      u[t1][x + 1][y + 1] = u[t0][x + 1][y + 1] + 1;\n",
      "    }\n",
      "  }\n",
      "  STOP_TIMER(section0,timers)\n",
      "  /* End section0 */\n",
      "}\n"
     ]
    }
   ],
   "source": [
    "def myVisit(node):\n",
    "    if isinstance(node, nodes.CallableBody):\n",
    "        print(node)\n",
    "        return \n",
    "    \n",
    "    raise TypeError(f'Unsupported type of node: {type(node)}')\n",
    "\n",
    "myVisit(op.body)"
   ]
  },
  {
   "cell_type": "code",
   "execution_count": null,
   "id": "2615cdc5",
   "metadata": {},
   "outputs": [],
   "source": []
  }
 ],
 "metadata": {
  "kernelspec": {
   "display_name": "Python 3 (ipykernel)",
   "language": "python",
   "name": "python3"
  },
  "language_info": {
   "codemirror_mode": {
    "name": "ipython",
    "version": 3
   },
   "file_extension": ".py",
   "mimetype": "text/x-python",
   "name": "python",
   "nbconvert_exporter": "python",
   "pygments_lexer": "ipython3",
   "version": "3.9.7"
  }
 },
 "nbformat": 4,
 "nbformat_minor": 5
}
