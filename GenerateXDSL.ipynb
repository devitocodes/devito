{
 "cells": [
  {
   "cell_type": "code",
   "execution_count": 1,
   "id": "f480b8b1",
   "metadata": {},
   "outputs": [],
   "source": [
    "from xdsl.dialects.builtin import *\n",
    "from xdsl.printer import Printer\n",
    "from devito.ir.ietxdsl import *\n",
    "from xdsl.dialects.builtin import ModuleOp"
   ]
  },
  {
   "cell_type": "code",
   "execution_count": 2,
   "id": "2d39181b",
   "metadata": {},
   "outputs": [],
   "source": [
    "from devito import Grid, TimeFunction, Eq, Operator"
   ]
  },
  {
   "cell_type": "code",
   "execution_count": 3,
   "id": "b9b2dbc4",
   "metadata": {},
   "outputs": [],
   "source": [
    "from devito.ir.iet.visitors import Visitor"
   ]
  },
  {
   "cell_type": "code",
   "execution_count": 4,
   "id": "5073010a",
   "metadata": {},
   "outputs": [],
   "source": [
    "import devito.ir.ietxdsl as ietxdsl"
   ]
  },
  {
   "cell_type": "code",
   "execution_count": 5,
   "id": "6cf50149",
   "metadata": {},
   "outputs": [
    {
     "name": "stdout",
     "output_type": "stream",
     "text": [
      "module() {\n",
      "  iet.callable() [\"callable_name\" = \"kernel\", \"parameters\" = [\"u\"]] {\n",
      "  ^0(%0 : !i32):\n",
      "    iet.iteration() [\"limits\" = [\"time_m\", \"time_M\", \"1\"], \"properties\" = [\"affine\", \"sequential\"]] {\n",
      "    ^1(%1 : !i32, %2 : !i32, %3 : !i32):\n",
      "      iet.iteration() [\"limits\" = [\"x_m\", \"x_M\", \"1\"], \"properties\" = [\"affine\", \"parallel\", \"skewable\"]] {\n",
      "      ^2(%4 : !i32):\n",
      "        iet.iteration() [\"limits\" = [\"y_m\", \"y_M\", \"1\"], \"properties\" = [\"affine\", \"parallel\", \"skewable\", \"vector-dim\"]] {\n",
      "        ^3(%5 : !i32):\n",
      "          %6 : !i32 = iet.constant() [\"value\" = 1 : !i32]\n",
      "          %7 : !i32 = iet.addi(%4 : !i32, %6 : !i32)\n",
      "          %8 : !i32 = iet.addi(%5 : !i32, %6 : !i32)\n",
      "          %9 : !i32 = iet.idx(%0 : !i32, %2 : !i32)\n",
      "          %10 : !i32 = iet.idx(%9 : !i32, %7 : !i32)\n",
      "          %11 : !i32 = iet.idx(%10 : !i32, %8 : !i32)\n",
      "          %12 : !i32 = iet.addi(%11 : !i32, %6 : !i32)\n",
      "          %13 : !i32 = iet.idx(%0 : !i32, %3 : !i32)\n",
      "          %14 : !i32 = iet.idx(%13 : !i32, %7 : !i32)\n",
      "          %15 : !i32 = iet.idx(%14 : !i32, %8 : !i32)\n",
      "          iet.assign(%15 : !i32, %12 : !i32)\n",
      "        }\n",
      "      }\n",
      "    }\n",
      "  }\n",
      "}\n"
     ]
    }
   ],
   "source": [
    "def test_example():\n",
    "    ctx = MLContext()\n",
    "    Builtin(ctx)\n",
    "    iet = IET(ctx)\n",
    "\n",
    "    mod = ModuleOp.from_region_or_ops([\n",
    "        Callable.get(\"kernel\", [\"u\"], Block.from_callable([iet.i32], lambda u: [\n",
    "            Iteration.get([\"affine\", \"sequential\"], (\"time_m\", \"time_M\", \"1\"),\n",
    "                          Block.from_callable([iet.i32, iet.i32, iet.i32], lambda time, t0, t1: [\n",
    "                Iteration.get([\"affine\", \"parallel\", \"skewable\"], (\"x_m\", \"x_M\", \"1\"),\n",
    "                              Block.from_callable([iet.i32], lambda x: [\n",
    "                    Iteration.get([\"affine\", \"parallel\", \"skewable\", \"vector-dim\"], (\"y_m\", \"y_M\", \"1\"),\n",
    "                                  Block.from_callable([iet.i32], lambda y: [\n",
    "                        cst1    := Constant.get(1),\n",
    "                        x1      := Addi.get(x, cst1),\n",
    "                        y1      := Addi.get(y, cst1),\n",
    "                        ut0     := Idx.get(u, t0),\n",
    "                        ut0x1   := Idx.get(ut0, x1),\n",
    "                        ut0x1y1 := Idx.get(ut0x1, y1),\n",
    "                        rhs     := Addi.get(ut0x1y1, cst1),\n",
    "                        ut1     := Idx.get(u, t1),\n",
    "                        ut1x1   := Idx.get(ut1, x1),\n",
    "                        lhs     := Idx.get(ut1x1, y1),\n",
    "                        Assign.build([lhs, rhs])\n",
    "                    ]))\n",
    "                ]))\n",
    "            ]))\n",
    "        ]))\n",
    "    ])\n",
    "    \n",
    "    printer = Printer()\n",
    "    printer.print_op(mod)\n",
    "\n",
    "test_example()"
   ]
  },
  {
   "cell_type": "code",
   "execution_count": 6,
   "id": "5e7c7223",
   "metadata": {},
   "outputs": [
    {
     "name": "stdout",
     "output_type": "stream",
     "text": [
      "<Callable Kernel>\n",
      "  <CallableBody <allocs=0, casts=1, maps=0> <unmaps=0, frees=0>>\n",
      "    <List (4, 0, 0)>\n",
      "      <C.Comment /* Flush denormal numbers to zero in hardware */>\n",
      "      <C.Statement _MM_SET_DENORMALS_ZERO_MODE(_MM_DENORMALS_ZERO_ON);>\n",
      "      <C.Statement _MM_SET_FLUSH_ZERO_MODE(_MM_FLUSH_ZERO_ON);>\n",
      "      <C.Line >\n",
      "\n",
      "\n",
      "    <List (0, 1, 0)>\n",
      "\n",
      "      <[affine,sequential] Iteration time::time::(time_m, time_M, 1)>\n",
      "        <Section (section0)>\n",
      "\n",
      "          <TimedList (1, 1, 1)>\n",
      "            <[affine,parallel,parallel=,skewable] Iteration x::x::(x_m, x_M, 1)>\n",
      "              <[affine,parallel,parallel=,skewable,vector-dim] Iteration y::y::(y_m, y_M, 1)>\n",
      "                <ExpressionBundle (1)>\n",
      "\n",
      "                  <Expression u[t1, x + 1, y + 1] = u[t0, x + 1, y + 1] + 1>\n",
      "\n",
      "\n",
      "\n"
     ]
    }
   ],
   "source": [
    "grid = Grid(shape = (3, 3))\n",
    "u = TimeFunction(name='u', grid=grid)\n",
    "eq = Eq(u.forward, u + 1)\n",
    "op = Operator([eq])\n",
    "print(op.view)"
   ]
  },
  {
   "cell_type": "code",
   "execution_count": 7,
   "id": "0a932eb8",
   "metadata": {
    "scrolled": true
   },
   "outputs": [
    {
     "name": "stdout",
     "output_type": "stream",
     "text": [
      "#define _POSIX_C_SOURCE 200809L\n",
      "#define START_TIMER(S) struct timeval start_ ## S , end_ ## S ; gettimeofday(&start_ ## S , NULL);\n",
      "#define STOP_TIMER(S,T) gettimeofday(&end_ ## S, NULL); T->S += (double)(end_ ## S .tv_sec-start_ ## S.tv_sec)+(double)(end_ ## S .tv_usec-start_ ## S .tv_usec)/1000000;\n",
      "\n",
      "#include \"stdlib.h\"\n",
      "#include \"math.h\"\n",
      "#include \"sys/time.h\"\n",
      "#include \"xmmintrin.h\"\n",
      "#include \"pmmintrin.h\"\n",
      "\n",
      "struct dataobj\n",
      "{\n",
      "  void *restrict data;\n",
      "  int * size;\n",
      "  int * npsize;\n",
      "  int * dsize;\n",
      "  int * hsize;\n",
      "  int * hofs;\n",
      "  int * oofs;\n",
      "} ;\n",
      "\n",
      "struct profiler\n",
      "{\n",
      "  double section0;\n",
      "} ;\n",
      "\n",
      "\n",
      "int Kernel(struct dataobj *restrict u_vec, const int time_M, const int time_m, const int x_M, const int x_m, const int y_M, const int y_m, struct profiler * timers)\n",
      "{\n",
      "  float (*restrict u)[u_vec->size[1]][u_vec->size[2]] __attribute__ ((aligned (64))) = (float (*)[u_vec->size[1]][u_vec->size[2]]) u_vec->data;\n",
      "\n",
      "  /* Flush denormal numbers to zero in hardware */\n",
      "  _MM_SET_DENORMALS_ZERO_MODE(_MM_DENORMALS_ZERO_ON);\n",
      "  _MM_SET_FLUSH_ZERO_MODE(_MM_FLUSH_ZERO_ON);\n",
      "\n",
      "  for (int time = time_m, t0 = (time)%(2), t1 = (time + 1)%(2); time <= time_M; time += 1, t0 = (time)%(2), t1 = (time + 1)%(2))\n",
      "  {\n",
      "    /* Begin section0 */\n",
      "    START_TIMER(section0)\n",
      "    for (int x = x_m; x <= x_M; x += 1)\n",
      "    {\n",
      "      #pragma omp simd aligned(u:16)\n",
      "      for (int y = y_m; y <= y_M; y += 1)\n",
      "      {\n",
      "        u[t1][x + 1][y + 1] = u[t0][x + 1][y + 1] + 1;\n",
      "      }\n",
      "    }\n",
      "    STOP_TIMER(section0,timers)\n",
      "    /* End section0 */\n",
      "  }\n",
      "\n",
      "  return 0;\n",
      "}\n",
      "\n"
     ]
    }
   ],
   "source": [
    "print(op)"
   ]
  },
  {
   "cell_type": "code",
   "execution_count": 8,
   "id": "675895ee",
   "metadata": {},
   "outputs": [
    {
     "data": {
      "text/latex": [
       "$\\displaystyle {u}_{t_{1},x + 1,y + 1} = {u}_{t_{0},x + 1,y + 1} + 1$"
      ],
      "text/plain": [
       "Eq(u[t1, x + 1, y + 1], u[t0, x + 1, y + 1] + 1)"
      ]
     },
     "execution_count": 8,
     "metadata": {},
     "output_type": "execute_result"
    }
   ],
   "source": [
    "expr = op.body.body[1].body[0].children[0][0].body[0].body[0].children[0][0].children[0][0].children[0][0].expr\n",
    "expr"
   ]
  },
  {
   "cell_type": "code",
   "execution_count": 9,
   "id": "d93e7b86",
   "metadata": {},
   "outputs": [],
   "source": [
    "# Transform n-dimensional index expressions to n 1-dimensional index expressions\n",
    "from sympy import Indexed, IndexedBase, symbols, Integer, Symbol, Add, Mul, Eq\n",
    "import sympy\n",
    "from devito.types.basic import IndexedData\n",
    "\n",
    "def add_to_block(expr, arg_by_expr, result):\n",
    "    if expr in arg_by_expr:\n",
    "        return\n",
    "    \n",
    "    if isinstance(expr, IndexedData):\n",
    "        # Only index first bit of IndexedData\n",
    "        add_to_block(expr.args[0], arg_by_expr, result)\n",
    "        arg_by_expr[expr] = arg_by_expr[expr.args[0]]\n",
    "        return\n",
    "    \n",
    "    if isinstance(expr, Symbol):\n",
    "        # All symbols must be passed in at the start\n",
    "        my_expr = Symbol(expr.name)\n",
    "        assert my_expr in arg_by_expr, f'Symbol with name {expr.name} not found in {arg_by_expr}'\n",
    "        arg_by_expr[expr] = arg_by_expr[my_expr]\n",
    "        return\n",
    "    \n",
    "    if isinstance(expr, Integer):\n",
    "        constant = int(expr.evalf())\n",
    "        arg = Constant.get(constant)\n",
    "        arg_by_expr[expr] = arg\n",
    "        result.append(arg)\n",
    "        return\n",
    "\n",
    "    for child_expr in expr.args:\n",
    "        add_to_block(child_expr, arg_by_expr, result)\n",
    "    \n",
    "    if isinstance(expr, Add):\n",
    "        lhs = arg_by_expr[expr.args[0]]\n",
    "        rhs = arg_by_expr[expr.args[1]]\n",
    "        sum = Addi.get(lhs, rhs)\n",
    "        arg_by_expr[expr] = sum\n",
    "        result.append(sum)\n",
    "        return\n",
    "    \n",
    "    if isinstance(expr, Indexed):\n",
    "        add_to_block(expr.args[0], arg_by_expr, result)\n",
    "        prev = arg_by_expr[expr.args[0]]\n",
    "        for child_expr in expr.args[1:]:\n",
    "            add_to_block(child_expr, arg_by_expr, result)\n",
    "            child_arg = arg_by_expr[child_expr]\n",
    "            idx = Idx.get(prev, child_arg)\n",
    "            result.append(idx)\n",
    "            prev = idx\n",
    "        arg_by_expr[expr] = prev\n",
    "        return\n",
    "    \n",
    "    if isinstance(expr, Eq):\n",
    "        add_to_block(expr.args[0], arg_by_expr, result)\n",
    "        lhs = arg_by_expr[expr.args[0]]\n",
    "        add_to_block(expr.args[1], arg_by_expr, result)\n",
    "        rhs = arg_by_expr[expr.args[1]]\n",
    "        assign = Assign.build([lhs, rhs])\n",
    "        arg_by_expr[expr] = assign\n",
    "        result.append(assign)\n",
    "        return\n",
    "\n",
    "    assert False, f'unsupported expr {expr} of type {expr.func}'\n"
   ]
  },
  {
   "cell_type": "code",
   "execution_count": 10,
   "id": "1bd363ba",
   "metadata": {},
   "outputs": [],
   "source": [
    "import devito.ir.iet.nodes as nodes"
   ]
  },
  {
   "cell_type": "code",
   "execution_count": 11,
   "id": "71394c68",
   "metadata": {
    "scrolled": false
   },
   "outputs": [
    {
     "name": "stdout",
     "output_type": "stream",
     "text": [
      "{'_args': {'nodes': (<WithProperties[affine,parallel,parallel=,skewable,vector-dim]::Iteration y; (y_m, y_M, 1)>,), 'dimension': x, 'limits': (x_m, x_M, 1), 'direction': ++, 'properties': {parallel=, affine, parallel, skewable}, 'uindices': (), 'pragmas': None}, 'nodes': (<WithProperties[affine,parallel,parallel=,skewable,vector-dim]::Iteration y; (y_m, y_M, 1)>,), 'dim': x, 'index': 'x', 'direction': ++, 'limits': (x_m, x_M, 1), 'properties': (affine, parallel, parallel=, skewable), 'pragmas': (), 'uindices': ()}\n",
      "^0(%0 : !i32, %1 : !i32, %2 : !i32, %3 : !i32):\n",
      "  iet.iteration() [\"limits\" = [\"x_m\", \"x_M\", \"1\"], \"properties\" = [\"affine\", \"parallel\", \"parallel=\", \"skewable\"]] {\n",
      "  ^1(%4 : !i32):\n",
      "    iet.iteration() [\"limits\" = [\"y_m\", \"y_M\", \"1\"], \"properties\" = [\"affine\", \"parallel\", \"parallel=\", \"skewable\", \"vector-dim\"]] {\n",
      "    ^2(%5 : !i32):\n",
      "      %6 : !i32 = iet.constant() [\"value\" = 1 : !i32]\n",
      "      %7 : !i32 = iet.addi(%6 : !i32, %4 : !i32)\n",
      "      %8 : !i32 = iet.addi(%6 : !i32, %5 : !i32)\n",
      "      %9 : !i32 = iet.idx(%3 : !i32, %1 : !i32)\n",
      "      %10 : !i32 = iet.idx(%9 : !i32, %7 : !i32)\n",
      "      %11 : !i32 = iet.idx(%10 : !i32, %8 : !i32)\n",
      "      %12 : !i32 = iet.idx(%3 : !i32, %0 : !i32)\n",
      "      %13 : !i32 = iet.idx(%12 : !i32, %7 : !i32)\n",
      "      %14 : !i32 = iet.idx(%13 : !i32, %8 : !i32)\n",
      "      %15 : !i32 = iet.addi(%6 : !i32, %14 : !i32)\n",
      "      iet.assign(%11 : !i32, %15 : !i32)\n",
      "    }\n",
      "  }\n"
     ]
    }
   ],
   "source": [
    "ctx = MLContext()\n",
    "Builtin(ctx)\n",
    "iet = IET(ctx)\n",
    "\n",
    "IET_TYPES = {'int': iet.i32}\n",
    "\n",
    "def myVisit(node, block=None, ctx={}):\n",
    "    assert isinstance(node, nodes.Node), f'Argument must be subclass of Node, found: {node}'\n",
    "    \n",
    "    if hasattr(node, 'is_Callable') and node.is_Callable:\n",
    "        name = node.name\n",
    "        parameters = node.parameters\n",
    "        body = myVisit(node.body)\n",
    "        return\n",
    "    \n",
    "    if isinstance(node, nodes.CallableBody):\n",
    "#         print(f'CallableBody: f{node.view}')\n",
    "        body = [myVisit(x) for x in node.body]\n",
    "        return \n",
    "    \n",
    "    if isinstance(node, nodes.Expression):\n",
    "        expr = node.expr\n",
    "        r = []\n",
    "        add_to_block(expr, {Symbol(s): a for s, a in ctx.items()}, r)\n",
    "        block.add_ops(r)\n",
    "        return\n",
    "    \n",
    "    if isinstance(node, nodes.ExpressionBundle):\n",
    "        assert len(node.children) == 1\n",
    "        assert len(node.children[0]) == 1\n",
    "        myVisit(node.children[0][0], block, ctx)\n",
    "        return\n",
    "    \n",
    "    if isinstance(node, nodes.Iteration):\n",
    "        assert len(node.children) == 1\n",
    "        assert len(node.children[0]) == 1\n",
    "        index = node.index\n",
    "        b = Block.from_arg_types([iet.i32])\n",
    "        ctx = {**ctx, index: b.args[0]}\n",
    "        myVisit(node.children[0][0], b, ctx)\n",
    "        iteration = Iteration.get(node.properties, node.limits, b)\n",
    "        block.add_ops([iteration])\n",
    "        return\n",
    "    \n",
    "    raise TypeError(f'Unsupported type of node: {type(node)}, {vars(node)}')\n",
    "\n",
    "ints = ['t0', 't1', 'x', 'u']\n",
    "b = Block.from_arg_types([iet.i32] * len(ints))\n",
    "d = {name: register for name, register in zip(ints, b.args)}\n",
    "    \n",
    "node = op.body.body[1].body[0].children[0][0].body[0].body[0]\n",
    "print(vars(node))\n",
    "# node.index\n",
    "myVisit(node, block=b, ctx=d)\n",
    "\n",
    "Printer()._print_named_block(b)"
   ]
  },
  {
   "cell_type": "code",
   "execution_count": 12,
   "id": "2615cdc5",
   "metadata": {
    "scrolled": false
   },
   "outputs": [
    {
     "data": {
      "text/plain": [
       "{'_args': {'name': 'Kernel',\n",
       "  'body': <CallableBody <allocs=0, casts=1, maps=0> <unmaps=0, frees=0>>,\n",
       "  'retval': 'int',\n",
       "  'parameters': [u(t, x, y), time_M, time_m, x_M, x_m, y_M, y_m, timers],\n",
       "  'prefix': ()},\n",
       " 'name': 'Kernel',\n",
       " 'body': <CallableBody <allocs=0, casts=1, maps=0> <unmaps=0, frees=0>>,\n",
       " 'retval': 'int',\n",
       " 'prefix': (),\n",
       " 'parameters': (u(t, x, y), time_M, time_m, x_M, x_m, y_M, y_m, timers),\n",
       " '_headers': [('_POSIX_C_SOURCE', '200809L'),\n",
       "  ('START_TIMER(S)',\n",
       "   'struct timeval start_ ## S , end_ ## S ; gettimeofday(&start_ ## S , NULL);'),\n",
       "  ('STOP_TIMER(S,T)',\n",
       "   'gettimeofday(&end_ ## S, NULL); T->S += (double)(end_ ## S .tv_sec-start_ ## S.tv_sec)+(double)(end_ ## S .tv_usec-start_ ## S .tv_usec)/1000000;')],\n",
       " '_globals': [],\n",
       " '_includes': ['stdlib.h',\n",
       "  'math.h',\n",
       "  'sys/time.h',\n",
       "  'xmmintrin.h',\n",
       "  'pmmintrin.h'],\n",
       " '_compiler': JITCompiler[GNUCompiler],\n",
       " '_lib': None,\n",
       " '_cfunction': None,\n",
       " '_func_table': OrderedDict(),\n",
       " '_state': {'optimizations': 'advanced'},\n",
       " '_input': [u(t, x, y)],\n",
       " '_output': [u(t, x, y)],\n",
       " '_dimensions': [t, time, x, y],\n",
       " '_dtype': numpy.float32,\n",
       " '_dspace': DataSpace[time[0,1]<208>, x[0,0]<208>, y[0,0]<208>, t[0,0]<208>],\n",
       " '_profiler': <devito.operator.profiling.Profiler at 0x123a9c460>,\n",
       " 'ccode': <cgen.Collection at 0x123b7d760>}"
      ]
     },
     "execution_count": 12,
     "metadata": {},
     "output_type": "execute_result"
    }
   ],
   "source": [
    "vars(op)"
   ]
  },
  {
   "cell_type": "code",
   "execution_count": null,
   "id": "a00776a9",
   "metadata": {},
   "outputs": [],
   "source": []
  }
 ],
 "metadata": {
  "kernelspec": {
   "display_name": "Python 3 (ipykernel)",
   "language": "python",
   "name": "python3"
  },
  "language_info": {
   "codemirror_mode": {
    "name": "ipython",
    "version": 3
   },
   "file_extension": ".py",
   "mimetype": "text/x-python",
   "name": "python",
   "nbconvert_exporter": "python",
   "pygments_lexer": "ipython3",
   "version": "3.9.10"
  }
 },
 "nbformat": 4,
 "nbformat_minor": 5
}
