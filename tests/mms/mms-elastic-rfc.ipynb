{
 "cells": [
  {
   "cell_type": "markdown",
   "metadata": {
    "collapsed": true
   },
   "source": [
    "# Verification of Elastic wave equation implementation on a staggered grid using the method of manufactured solutions.\n",
    "This is a first attempt at implemenenting the elastic wave equation as described in:\n",
    "\n",
    "[1] Jean Virieux (1986). ”P-SV wave propagation in heterogeneous media: Velocity‐stress finite‐difference method.” GEOPHYSICS, 51(4), 889-901. https://doi.org/10.1190/1.1442147\n",
    "\n",
    "The current version actually attempts to mirror the FDELMODC implementation by Jan Thorbecke:\n",
    "\n",
    "[2] https://janth.home.xs4all.nl/Software/fdelmodcManual.pdf\n",
    "\n",
    "## Explosive source\n",
    "\n",
    "We will first attempt to replicate the explosive source test case described in [1], Figure 4. We start by defining the source signature $g(t)$, the derivative of a Gaussian pulse, given by Eq 4:\n",
    "\n",
    "$$g(t) = -2 \\alpha(t - t_0)e^{-\\alpha(t-t_0)^2}$$"
   ]
  },
  {
   "cell_type": "code",
   "execution_count": 1,
   "metadata": {},
   "outputs": [
    {
     "name": "stdout",
     "output_type": "stream",
     "text": [
      "t is: t\n",
      "time is: time\n"
     ]
    },
    {
     "name": "stderr",
     "output_type": "stream",
     "text": [
      "Operator `Kernel` run in 0.50 s\n"
     ]
    }
   ],
   "source": [
    "from devito import *\n",
    "from examples.seismic.source import WaveletSource, RickerSource, TimeAxis\n",
    "from examples.seismic import plot_image\n",
    "import numpy as np\n",
    "\n",
    "from sympy import init_printing, latex\n",
    "init_printing(use_latex=True)\n",
    "\n",
    "# Initial grid: 1km x 1km, with spacing 100m\n",
    "extent = (2000., 2000.)\n",
    "shape = (301, 301)\n",
    "x = SpaceDimension(name='x', spacing=Constant(name='h_x', value=extent[0]/(shape[0]-1)))\n",
    "z = SpaceDimension(name='z', spacing=Constant(name='h_z', value=extent[1]/(shape[1]-1)))\n",
    "grid = Grid(extent=extent, shape=shape, dimensions=(x, z))\n",
    "\n",
    "class DGaussSource(WaveletSource):\n",
    "    \n",
    "    def wavelet(self, f0, t):\n",
    "        a = 0.004\n",
    "        return -2.*a*(t - 1/f0) * np.exp(-a * (t - 1/f0)**2)\n",
    "\n",
    "# Timestep size from Eq. 7 with V_p=6000. and dx=100\n",
    "t0, tn = 0., 600.\n",
    "dt = (10. / np.sqrt(2.)) / 6.\n",
    "time_range = TimeAxis(start=t0, stop=tn, step=dt)\n",
    "\n",
    "src = RickerSource(name='src', grid=grid, f0=0.01, time_range=time_range)\n",
    "src.coordinates.data[:] = [1000., 1000.]\n",
    "#src.show()\n",
    "\n",
    "so = 2 # space order\n",
    "vx  = TimeFunction(name='vx' , grid=grid, staggered = x,    space_order=so)\n",
    "vz  = TimeFunction(name='vz' , grid=grid, staggered = z,    space_order=so)\n",
    "txx = TimeFunction(name='txx', grid=grid, staggered = NODE, space_order=so)\n",
    "tzz = TimeFunction(name='tzz', grid=grid, staggered = NODE, space_order=so)\n",
    "txz = TimeFunction(name='txz', grid=grid, staggered=(x, z), space_order=so) \n",
    "\n",
    "# Now let's try and create the staggered updates\n",
    "t = grid.stepping_dim\n",
    "print('t is:', t)\n",
    "time = grid.time_dim\n",
    "print('time is:', time)\n",
    "\n",
    "# We need some initial conditions\n",
    "V_p = 4.0\n",
    "V_s = 1.0\n",
    "density = 3.\n",
    "\n",
    "# The source injection term\n",
    "src_xx = src.inject(field=txx.forward, expr=src)\n",
    "src_zz = src.inject(field=tzz.forward, expr=src)\n",
    "\n",
    "#c1 = 9.0/8.0;\n",
    "#c2 = -1.0/24.0;\n",
    "\n",
    "# Thorbecke's parameter notation\n",
    "cp2 = V_p*V_p\n",
    "cs2 = V_s*V_s\n",
    "ro = 1/density\n",
    "\n",
    "mu = cs2*ro\n",
    "l = (cp2*ro - 2*mu)\n",
    "\n",
    "# fdelmodc reference implementation\n",
    "u_vx = Eq(vx.forward, vx - dt*ro*(txx.dx + txz.dz))\n",
    "u_vz = Eq(vz.forward, vz - ro*dt*(txz.dx + tzz.dz))\n",
    "u_txx = Eq(txx.forward, txx - (l+2*mu)*dt * vx.forward.dx -  l*dt * vz.forward.dz)\n",
    "u_tzz = Eq(tzz.forward, tzz - (l+2*mu)*dt * vz.forward.dz -  l*dt * vx.forward.dx)\n",
    "u_txz = Eq(txz.forward, txz - mu*dt * (vx.forward.dz + vz.forward.dx))\n",
    "\n",
    "op = Operator([u_vx, u_vz, u_txx, u_tzz, u_txz] + src_xx + src_zz)\n",
    "\n",
    "# Reset the fields\n",
    "vx.data[:] = 0.\n",
    "vz.data[:] = 0.\n",
    "txx.data[:] = 0.\n",
    "tzz.data[:] = 0.\n",
    "txz.data[:] = 0.\n",
    "\n",
    "op()\n",
    "\n",
    "# Let's see what we got....\n",
    "#plot_image(vx.data[0], vmin=-.5*1e-2, vmax=.5*1e-2, cmap=\"seismic\")\n",
    "#plot_image(vz.data[0], vmin=-.5*1e-2, vmax=.5*1e-2, cmap=\"seismic\")\n",
    "#plot_image(txx.data[0], vmin=-.5*1e-2, vmax=.5*1e-2, cmap=\"seismic\")\n",
    "#plot_image(tzz.data[0], vmin=-.5*1e-2, vmax=.5*1e-2, cmap=\"seismic\")\n",
    "#plot_image(txz.data[0], vmin=-.5*1e-2, vmax=.5*1e-2, cmap=\"seismic\")"
   ]
  },
  {
   "cell_type": "markdown",
   "metadata": {},
   "source": [
    "# Analytical solution definition and  Corresponding source"
   ]
  },
  {
   "cell_type": "code",
   "execution_count": 2,
   "metadata": {},
   "outputs": [
    {
     "name": "stdout",
     "output_type": "stream",
     "text": [
      "source = sol.diff:  157.91367041743*sin(6.28318530717959*u)*sin(12.5663706143592*v)*sin(6.28318530717959*w)\n",
      "Solution: sin(6.28318530717959*x*h_x)*sin(12.5663706143592*z*h_z)*sin(6.28318530717959*time*dt)\n",
      "Source: sin(6.28318530717959*x*h_x)*sin(12.5663706143592*z*h_z)*sin(6.28318530717959*time*dt)\n",
      "wave_vx : Eq(vx(t + dt, x, z), -0.333333333333333*dt*(src_vx(t, x, z) - txz(t, x, z)/h_z + txz(t, x, z + h_z)/h_z + txx(t, x, z)/h_x - txx(t, x - h_x, z)/h_x) + vx(t, x, z))\n",
      "true_eqq_vx : Eq(vx_true(t, x, z), sin(6.28318530717959*x*h_x)*sin(12.5663706143592*z*h_z)*sin(6.28318530717959*time*dt))\n",
      "src_eq_vx : Eq(src_vx(t, x, z), 157.91367041743*sin(6.28318530717959*x*h_x)*sin(12.5663706143592*z*h_z)*sin(6.28318530717959*time*dt))\n"
     ]
    },
    {
     "data": {
      "text/plain": [
       "PerformanceSummary([('section0',\n",
       "  PerfEntry(time=3.504519999999998, gflopss=0.0, gpointss=0.0, oi=0.0, ops=0, itershapes=[]))])"
      ]
     },
     "execution_count": 2,
     "metadata": {},
     "output_type": "execute_result"
    }
   ],
   "source": [
    "from sympy import cos, sin, exp, pprint, sqrt, sin, sinc\n",
    "import sympy\n",
    "\n",
    "# Initial grid: 1km x 1km, with spacing 100m\n",
    "extent = (2000., 2000.)\n",
    "shape = (310, 310)\n",
    "x = SpaceDimension(name='x', spacing=Constant(name='h_x', value=extent[0]/(shape[0]-1)))\n",
    "z = SpaceDimension(name='z', spacing=Constant(name='h_z', value=extent[1]/(shape[1]-1)))\n",
    "grid = Grid(extent=extent, shape=shape, dimensions=(x, z)) #x, z = grid.dimensions\n",
    "\n",
    "# Now let's try and create the staggered updates\n",
    "t = grid.stepping_dim\n",
    "time = grid.time_dim\n",
    "\n",
    "u, v, w, c = sympy.symbols('u v w c')\n",
    "sol = sin(2*np.pi*u) * sin(4*np.pi*v)* sin(2*np.pi*w)\n",
    "#print(sol)\n",
    "\n",
    "\n",
    "# Corresponding source\n",
    "source = sol.diff(w, w) - sol.diff(u, u) - sol.diff(v, v)\n",
    "print('source = sol.diff: ', source)\n",
    "\n",
    "sol = sol.subs({u: x*x.spacing, v: z*z.spacing, w: time*time.spacing})\n",
    "print('Solution:',sol)\n",
    "source = source.subs({u: x*x.spacing, v: z*z.spacing, w: time*time.spacing})\n",
    "print('Source:',sol)\n",
    "\n",
    "\n",
    "\n",
    "so = 2\n",
    "so2 = 0\n",
    "to = 1\n",
    "\n",
    "u = TimeFunction(name='vx',  grid=grid, staggered=x,      space_order=so, time_order=to)\n",
    "\n",
    "\n",
    "vx  = TimeFunction(name='vx',  grid=grid, staggered=x,      space_order=so, time_order=to)\n",
    "vz  = TimeFunction(name='vz',  grid=grid, staggered=z,      space_order=so, time_order=to)\n",
    "vz  = TimeFunction(name='vz',  grid=grid, staggered=z,      space_order=so, time_order=to)\n",
    "txx = TimeFunction(name='txx', grid=grid, staggered=NODE,   space_order=so, time_order=to)\n",
    "tzz = TimeFunction(name='tzz', grid=grid, staggered=NODE,   space_order=so, time_order=to)\n",
    "txz = TimeFunction(name='txz', grid=grid, staggered=(x, z), space_order=so, time_order=to)\n",
    "    \n",
    "# Wave equation\n",
    "vx_true  = TimeFunction(name='vx_true' , grid=grid, staggered=x,      space_order=so, time_order=to)\n",
    "vz_true  = TimeFunction(name='vz_true' , grid=grid, staggered=z,      space_order=so, time_order=to)\n",
    "txx_true = TimeFunction(name='txx_true', grid=grid, staggered=NODE,   space_order=so, time_order=to)\n",
    "tzz_true = TimeFunction(name='tzz_true', grid=grid, staggered=NODE,   space_order=so, time_order=to)\n",
    "txz_true = TimeFunction(name='txz_true', grid=grid, staggered=(x, z), space_order=so, time_order=to)\n",
    "    \n",
    "src_vx  = TimeFunction(name='src_vx' , grid=grid, staggered=x,     space_order=so, time_order=to)\n",
    "src_vz  = TimeFunction(name='src_vz' , grid=grid, staggered=z,     space_order=so, time_order=to)\n",
    "src_txx = TimeFunction(name='src_txx', grid=grid, staggered=NODE,  space_order=so, time_order=to)\n",
    "src_tzz = TimeFunction(name='src_tzz', grid=grid, staggered=NODE,  space_order=so, time_order=to)\n",
    "src_txz = TimeFunction(name='src_txz', grid=grid, staggered=(x, z),space_order=so, time_order=to)\n",
    "    \n",
    "#print(':', vx)\n",
    "#print(':', vx_true)\n",
    "#print(':', src_vx)\n",
    "    \n",
    "# fdelmodc reference implementation\n",
    "wave_vx  = Eq(vx.forward,  vx - time.spacing*ro*(txx.dx + txz.dz + src_vx ) )\n",
    "wave_vz  = Eq(vz.forward,  vz - ro*time.spacing*(txz.dx + tzz.dz + src_vz) )\n",
    "wave_txx = Eq(txx.forward, txx - (l+2*mu)*time.spacing * vx.forward.dx -  l*dt * vz.forward.dz - time.spacing*src_txx )\n",
    "wave_tzz = Eq(tzz.forward, tzz - (l+2*mu)*time.spacing * vz.forward.dz -  l*dt * vx.forward.dx - time.spacing*src_tzz   )\n",
    "wave_txz = Eq(txz.forward, txz - mu*time.spacing * (vx.forward.dz + vz.forward.dx)   - time.spacing*src_txz   )\n",
    "\n",
    "print('wave_vx :', wave_vx)\n",
    "\n",
    "\n",
    "true_eqq_vx  = Eq(vx_true, sol)\n",
    "true_eqq_vz  = Eq(vz_true, sol)\n",
    "true_eqq_txx = Eq(txx_true, sol)\n",
    "true_eqq_txz = Eq(txz_true, sol)\n",
    "true_eqq_tzz = Eq(tzz_true, sol)\n",
    "\n",
    "print('true_eqq_vx :', true_eqq_vx)\n",
    "\n",
    "\n",
    "src_eq_vx  = Eq( src_vx , source)\n",
    "src_eq_vz  = Eq( src_vz , source)\n",
    "src_eq_txx = Eq( src_txx, source)\n",
    "src_eq_txz = Eq( src_txz, source)\n",
    "src_eq_tzz = Eq( src_tzz, source)\n",
    "\n",
    "print('src_eq_vx :', src_eq_vx)\n",
    "\n",
    "\n",
    "## from devito import configuration\n",
    "configuration[\"log-level\"] = \"ERROR\"\n",
    "h = .00125\n",
    "\n",
    "#print('u : ',u)\n",
    "#print('---------------')\n",
    "#print('vx : ', vx)\n",
    "#print('---------------')\n",
    "vx_0 = Eq(vx , sol )\n",
    "#print('vx 0: ', vx_0)\n",
    "vx_1 = Eq(vx.subs(time, 1), sol.subs(time, 1))\n",
    "#print('vx_1 : ', vx_1)\n",
    "#print('true_eqq_vx : ', true_eqq_vx)\n",
    "#print('src_eq_vx : ', src_eq_vx)\n",
    "#print(' wave_vx : ', wave_vx)\n",
    "#print('---------------')\n",
    "\n",
    "op = Operator([vx_1,true_eqq_vx, src_eq_vx, wave_vx], subs=({time.spacing: .1*h, x.spacing:h, z.spacing:h}))\n",
    "op.apply(t_m=0, t_M=600)\n",
    "\n",
    "#print('vx_1', vx_1)\n",
    "#print('true_eqq_vx : ', true_eqq_vx)\n",
    "#print('src_eq_vx : ', src_eq_vx)\n",
    "#print(' wave_vx : ', wave_vx)"
   ]
  },
  {
   "cell_type": "markdown",
   "metadata": {},
   "source": [
    "# Elastic wave equation"
   ]
  },
  {
   "cell_type": "code",
   "execution_count": 23,
   "metadata": {},
   "outputs": [],
   "source": [
    "def get_solution_elastic(size, space_order):\n",
    "    clear_cache()\n",
    "    import sympy\n",
    "    from sympy import cos, sin, exp, pprint, sqrt, sin, sinc\n",
    "    import matplotlib.pyplot as plt\n",
    "\n",
    "    \n",
    "    # Initial grid: 1km x 1km, with spacing 100m\n",
    "    extent = (2000., 2000.)\n",
    "    shape = (size, size)\n",
    "    x = SpaceDimension(name='x', spacing=Constant(name='h_x', value=extent[0]/(shape[0]-1)))\n",
    "    z = SpaceDimension(name='z', spacing=Constant(name='h_z', value=extent[1]/(shape[1]-1)))\n",
    "    grid = Grid(extent=extent, shape=shape, dimensions=(x, z))\n",
    "\n",
    "    # Grid\n",
    "    h = 1./(size - 1)\n",
    "    \n",
    "    # Now let's try and create the staggered updates\n",
    "    t = grid.stepping_dim\n",
    "    time = grid.time_dim\n",
    "\n",
    "    # We need some initial conditions\n",
    "    V_p = 4.0\n",
    "    V_s = 1.0\n",
    "    density = 3.\n",
    "\n",
    "    # Thorbecke's parameter notation\n",
    "    cp2 = V_p*V_p\n",
    "    cs2 = V_s*V_s\n",
    "    ro = 1/density\n",
    "    mu = cs2*ro\n",
    "    l = (cp2*ro - 2*mu)\n",
    "\n",
    "    # fdelmodc reference implementation\n",
    "    #u_vx = Eq(vx.forward, vx - dt*ro*(txx.dx + txz.dz))\n",
    "    #u_vz = Eq(vz.forward, vz - ro*dt*(txz.dx + tzz.dz))\n",
    "    #u_txx = Eq(txx.forward, txx - (l+2*mu)*dt * vx.forward.dx -  l*dt * vz.forward.dz)\n",
    "    #u_tzz = Eq(tzz.forward, tzz - (l+2*mu)*dt * vz.forward.dz -  l*dt * vx.forward.dx)\n",
    "    #u_txz = Eq(txz.forward, txz - mu*dt * (vx.forward.dz + vz.forward.dx))\n",
    "\n",
    "    # Timestep size from Eq. 7 with V_p=6000. and dx=100\n",
    "    t0, tn = 0., 100.\n",
    "\n",
    "    #dt = (10. / np.sqrt(2.)) / 40.\n",
    "    dt= 1.5\n",
    "    time_range = TimeAxis(start=t0, stop=tn, step=dt)\n",
    "    src = RickerSource(name='src', grid=grid, f0=0.01, time_range=time_range)\n",
    "    src.coordinates.data[:] = [1000., 1000.]\n",
    "    \n",
    "    nt = 68;   # FIX ME\n",
    "    \n",
    "    # Now we create the velocity and pressure fields\n",
    "    so = space_order\n",
    "    so2 = so\n",
    "    \n",
    "    vx  = TimeFunction(name='vx',  grid=grid, staggered=x,      space_order=so,time_order=3,  save=nt)\n",
    "    vz  = TimeFunction(name='vz',  grid=grid, staggered=z,      space_order=so,time_order=3,  save=nt)\n",
    "    txx = TimeFunction(name='txx', grid=grid, staggered=NODE,   space_order=so,time_order=3,  save=nt)\n",
    "    tzz = TimeFunction(name='tzz', grid=grid, staggered=NODE,   space_order=so,time_order=3,  save=nt)\n",
    "    txz = TimeFunction(name='txz', grid=grid, staggered=(x, z), space_order=so,time_order=3, save=nt)\n",
    "    \n",
    "    # The source injection term\n",
    "    src_xx = src.inject(field=txx.forward, expr=src)\n",
    "    src_zz = src.inject(field=tzz.forward, expr=src)\n",
    "    \n",
    "    # Wave equation\n",
    "    vx_true  = TimeFunction(name='vx_true' , grid=grid, staggered=x,      space_order=so,time_order=2,   save=nt)\n",
    "    vz_true  = TimeFunction(name='vz_true' , grid=grid, staggered=z,      space_order=so,time_order=2,   save=nt)\n",
    "    txx_true = TimeFunction(name='txx_true', grid=grid, staggered=NODE,   space_order=so,time_order=2,   save=nt)\n",
    "    tzz_true = TimeFunction(name='tzz_true', grid=grid, staggered=NODE,   space_order=so,time_order=2,   save=nt)\n",
    "    txz_true = TimeFunction(name='txz_true', grid=grid, staggered=(x, z), space_order=so,time_order=2,   save=nt)\n",
    "    \n",
    "    src_vx  = TimeFunction(name='src_vx' , grid=grid, staggered=x,      space_order=so,time_order=2,  save=nt)\n",
    "    src_vz  = TimeFunction(name='src_vz' , grid=grid, staggered=z,      space_order=so,time_order=2, save=nt)\n",
    "    src_txx = TimeFunction(name='src_txx', grid=grid, staggered=NODE,   space_order=so,time_order=2, save=nt)\n",
    "    src_tzz = TimeFunction(name='src_tzz', grid=grid, staggered=NODE,   space_order=so,time_order=2, save=nt)\n",
    "    src_txz = TimeFunction(name='src_txz', grid=grid, staggered=(x, z), space_order=so,time_order=2, save=nt)\n",
    "    \n",
    "    \n",
    "    ###################input = ###########################################################\n",
    "\n",
    "    # t2 = time\n",
    "    \n",
    "    # time = dt\n",
    "    \n",
    "    \n",
    "    u, v, w, c = sympy.symbols('u v w c')\n",
    "    #sol = 1e1*sin(2*np.pi*u) * sin(4*np.pi*v)* sin(6*np.pi*w)\n",
    "    sol = (10*sin(6*np.pi*w) * exp(-(u - .5)**2/.015 - (v-.5)**2/.015) -\n",
    "           10*sin(4*np.pi*w) *exp(-(u - .45)**2/.0025 - (v-.65)**2/.0025)+\n",
    "           500000*sin(8*np.pi*w) *exp(-(u - .65)**2/.0025 - (v-.45)**2/.0015)-\n",
    "           10*sin(6*np.pi*w) * exp(-(u - .45)**2/.0015 - (v-.45)**2/.0025)-\n",
    "           50*sin(6*np.pi*w) * exp(-(u - .65)**2/.0027 - (v-.65)**2/.0021))\n",
    "    #print(sol)\n",
    "\n",
    "    # Corresponding source\n",
    "    source = sol.diff(w, w) - sol.diff(u, u) - sol.diff(v, v)\n",
    "    #print('Source : ', source)\n",
    "\n",
    "    sol = sol.subs({u: x*x.spacing, v: z*z.spacing, w: time*time.spacing})\n",
    "    #print('Solution : ',sol)\n",
    "    source = source.subs({u: x*x.spacing, v: z*z.spacing, w: time*time.spacing})\n",
    "    #print('Source : ', source)\n",
    "\n",
    "    #################################################################################\n",
    "    \n",
    "    # fdelmodc reference implementation\n",
    "    wave_vx  = Eq(vx.forward,  vx - time.spacing*ro*(txx.dx + txz.dz + src_vx)                  )\n",
    "    wave_vz  = Eq(vz.forward,  vz - ro*time.spacing*(txz.dx + tzz.dz + src_vz)                  )\n",
    "    wave_txx = Eq(txx.forward, txx - (l+2*mu)*time.spacing * vx.forward.dx -  l*time.spacing * vz.forward.dz  - time.spacing*src_txx)\n",
    "    wave_tzz = Eq(tzz.forward, tzz - (l+2*mu)*time.spacing * vz.forward.dz -  l*dt * vx.forward.dx  - time.spacing*src_tzz )\n",
    "    wave_txz = Eq(txz.forward, txz - mu*time.spacing * (vx.forward.dz + vz.forward.dx)  - mu*time.spacing*src_txz )\n",
    "\n",
    "    true_eqq_vx  = Eq(vx_true, sol)\n",
    "    true_eqq_vz  = Eq(vz_true, sol)\n",
    "    true_eqq_txx = Eq(txx_true, sol)\n",
    "    true_eqq_txz = Eq(txz_true, sol)\n",
    "    true_eqq_tzz = Eq(tzz_true, sol)\n",
    "    #print(true_eqq_vx)\n",
    "\n",
    "\n",
    "    src_eq_vx  = Eq( src_vx , source)\n",
    "    src_eq_vz  = Eq( src_vz , source)\n",
    "    src_eq_txx = Eq( src_txx, source)\n",
    "    src_eq_txz = Eq( src_txz, source)\n",
    "    src_eq_tzz = Eq( src_tzz, source)\n",
    "    \n",
    "    \n",
    "    configuration[\"log-level\"] = \"ERROR\"\n",
    "    \n",
    "    if(0):\n",
    "        print('vx is : ' ,vx)\n",
    "        print('Sol is : ', sol)\n",
    "\n",
    "    vx_1 = Eq(vx.subs(time, 1), sol.subs(time, 1))\n",
    "    vz_1 = Eq(vz.subs(time, 1), sol.subs(time, 1))\n",
    "    txx_1 = Eq(txx.subs(time, 1), sol.subs(time, 1))\n",
    "    txz_1 = Eq(txz.subs(time, 1), sol.subs(time, 1))\n",
    "    tzz_1 = Eq(tzz.subs(time, 1), sol.subs(time, 1))\n",
    "    \n",
    "    \n",
    "    if(0):\n",
    "        print('---------------')\n",
    "        print('vx_1 : ', vx_1)\n",
    "        print(' wave_vx : ', wave_vx)\n",
    "        print('true_eqq_vx : ', true_eqq_vx)\n",
    "        print('src_eq_vx : ', src_eq_vx)\n",
    "        print('---------------')\n",
    "    #op = Operator([vx_1, vz_1, txx_1, tzz_1, txz_1])\n",
    "\n",
    "\n",
    "    #op = Operator([vx_1,true_eqq_vx, src_eq_vx, wave_vx]+ src_xx + src_zz, subs=({t.spacing: .1*h, x.spacing:h, z.spacing:h}))\n",
    "    \n",
    "    \n",
    "    op = Operator([vx_1,vz_1,txx_1,txz_1,tzz_1,\n",
    "                   wave_vx, wave_vz, wave_txx, wave_tzz, wave_txz,\n",
    "                   true_eqq_vx, true_eqq_vz, true_eqq_txx,true_eqq_txz,true_eqq_tzz,\n",
    "                   src_eq_vx,src_eq_vz,src_eq_txx,src_eq_txz,src_eq_tzz]+ src_xx + src_zz\n",
    "                   ,subs=({time.spacing: dt})\n",
    "                   )\n",
    "\n",
    "    \n",
    "    #### IMPORTANT NOTE TO FIX\n",
    "    # Using subs we do damage to the equations of our model but we screw up our analytical sources\n",
    "    \n",
    "    # Reset the fields\n",
    "    #vx.data[:] = 0.\n",
    "    #vz.data[:] = 0.\n",
    "    #txx.data[:] = 0.\n",
    "    #tzz.data[:] = 0.\n",
    "    #txz.data[:] = 0.\n",
    "    \n",
    "    #vx_true.data[:] = 0.\n",
    "    #vz_true.data[:] = 0.\n",
    "    #txx_true.data[:] = 0.\n",
    "    #tzz_true.data[:] = 0.\n",
    "    #txz_true.data[:] = 0.\n",
    "    \n",
    "    \n",
    "    op.apply()\n",
    "    #op.apply(t_m=1, t_M=600)\n",
    "       \n",
    "\n",
    "    \n",
    "    \n",
    "    error1 = np.linalg.norm(vx.data[(nt-3), :, :].reshape(-1) -\n",
    "                            vx_true.data[(nt-3), :, :].reshape(-1), 2)*h\n",
    "    error2 = np.linalg.norm(vz.data[(nt-3), :, :].reshape(-1) -\n",
    "                            vz_true.data[(nt-3), :, :].reshape(-1), 2)*h\n",
    "    error3 = np.linalg.norm(txx.data[(nt-3), :, :].reshape(-1) -\n",
    "                            txx_true.data[(nt-3), :, :].reshape(-1), 2)*h\n",
    "    error4 = np.linalg.norm(txz.data[(nt-3), :, :].reshape(-1) -\n",
    "                           txz_true.data[(nt-3), :, :].reshape(-1), 2)*h\n",
    "    error5 = np.linalg.norm(tzz.data[(nt-3), :, :].reshape(-1) -\n",
    "                           tzz_true.data[(nt-3), :, :].reshape(-1), 2)*h\n",
    "    \n",
    "    error = (error1 + error2 + error3 + error4 +error5) / 5\n",
    "    #print(\"for h = %f and dt= %2.2e ms error1 is %2.4e error2 is %2.4e error3 is %2.4e\" % (h, dt, error1,error2,error3))\n",
    "    print(\"Size = %d and space_order = %d \" % (size, so))\n",
    "    print(\"for h = %f and dt= %2.2e ms error is %2.4e\" % (h, dt, error))\n",
    "\n",
    "    \n",
    "    \n",
    "    if(1):\n",
    "        plt.figure()\n",
    "        plt.subplot(131)\n",
    "        plt.imshow(vx.data[(nt-3), :, :])\n",
    "        plt.subplot(132)\n",
    "        #plt.imshow(vx.data[(nt-3), :, :])\n",
    "        #plt.subplot(533)\n",
    "        #plt.imshow(vx_true.data[(nt-3), :, :])\n",
    "        plt.imshow(vx_true.data[(nt-3), :, :])\n",
    "        plt.subplot(133)\n",
    "        plt.imshow(vx.data[(nt-3), :, :] - vx_true.data[(nt-3), :, :])\n",
    "        plt.show()\n",
    "\n",
    "    return error"
   ]
  },
  {
   "cell_type": "markdown",
   "metadata": {},
   "source": [
    "# MMS"
   ]
  },
  {
   "cell_type": "code",
   "execution_count": null,
   "metadata": {},
   "outputs": [
    {
     "name": "stdout",
     "output_type": "stream",
     "text": [
      "Size = 301 and space_order = 2 \n",
      "for h = 0.003333 and dt= 1.50e+00 ms error is 2.5915e-03\n"
     ]
    },
    {
     "data": {
      "image/png": "[encoded data removed]",
      "text/plain": [
       "<Figure size 432x288 with 3 Axes>"
      ]
     },
     "metadata": {
      "needs_background": "light"
     },
     "output_type": "display_data"
    },
    {
     "name": "stdout",
     "output_type": "stream",
     "text": [
      "Size = 301 and space_order = 6 \n",
      "for h = 0.003333 and dt= 1.50e+00 ms error is 2.5290e-03\n"
     ]
    },
    {
     "data": {
      "image/png": "[encoded data removed]",
      "text/plain": [
       "<Figure size 432x288 with 3 Axes>"
      ]
     },
     "metadata": {
      "needs_background": "light"
     },
     "output_type": "display_data"
    }
   ],
   "source": [
    "#size = [51, 75, 101, 151, 201, 301, 401]\n",
    "size = [301, 401, 501]\n",
    "\n",
    "#t = 2\n",
    "so = [2,  6, 10]\n",
    "error = np.zeros((len(size), len(so)))\n",
    "# hh = [4*h for h in hh]\n",
    "for i, s in enumerate(size):\n",
    "    for j, sso in enumerate(so):\n",
    "        error[i, j] = get_solution_elastic(s, sso)"
   ]
  },
  {
   "cell_type": "code",
   "execution_count": 19,
   "metadata": {},
   "outputs": [
    {
     "data": {
      "image/png": "[encoded data removed]",
      "text/plain": [
       "<Figure size 1080x720 with 1 Axes>"
      ]
     },
     "metadata": {
      "needs_background": "light"
     },
     "output_type": "display_data"
    }
   ],
   "source": [
    "import matplotlib.pyplot as plt\n",
    "col = ['-ob', '-or', '-og', '-ok', '-oc']\n",
    "col_2 = ['--ob', '--or', '--og', '--ok', '--oc']\n",
    "#hh = [0.02, 0.01, 0.005, 0.00025]\n",
    "#hh = [1, .5, .25, .125]\n",
    "#hh = [4*h for h in hh]\n",
    "#hh = [0.02, 0.01, 0.005, 0.0025, 0.00125]\n",
    "hh = [0.08, 0.04, 0.02, 0.01, 0.005, 0.0025, 0.00125]\n",
    "\n",
    "plt.figure(figsize=(15, 10))\n",
    "for j, sso in enumerate(so):\n",
    "    plt.loglog(hh[1:3], hh[1]**so[j]*error[1:3, j]/error[1, j], col[j])\n",
    "    plt.loglog(hh[1:3], [h**so[j] for h in hh][1:3], col_2[j])\n",
    "\n",
    "    #plt.loglog(hh[1:3], error[:, 3])\n",
    "    #plt.loglog(hh[1:3], [h**so[3] for h in hh])"
   ]
  },
  {
   "cell_type": "code",
   "execution_count": 20,
   "metadata": {},
   "outputs": [
    {
     "data": {
      "text/plain": [
       "Text(0.5, 0, 'Space order')"
      ]
     },
     "execution_count": 20,
     "metadata": {},
     "output_type": "execute_result"
    },
    {
     "data": {
      "image/png": "[encoded data removed]",
      "text/plain": [
       "<Figure size 1440x720 with 2 Axes>"
      ]
     },
     "metadata": {
      "needs_background": "light"
     },
     "output_type": "display_data"
    }
   ],
   "source": [
    "fig = plt.figure(figsize=(20, 10))\n",
    "im = plt.pcolormesh(error)\n",
    "fig.colorbar(im)\n",
    "plt.ylabel('Grid size')\n",
    "plt.xlabel('Space order')"
   ]
  },
  {
   "cell_type": "code",
   "execution_count": 21,
   "metadata": {},
   "outputs": [
    {
     "data": {
      "image/png": "[encoded data removed]",
      "text/plain": [
       "<Figure size 432x288 with 3 Axes>"
      ]
     },
     "metadata": {
      "needs_background": "light"
     },
     "output_type": "display_data"
    }
   ],
   "source": [
    "nt=68\n",
    "plt.figure()\n",
    "plt.subplot(231)\n",
    "plt.imshow(vx.data[(nt-3), :, :])\n",
    "plt.subplot(232)\n",
    "plt.imshow(vx_true.data[(nt-3), :, :])\n",
    "plt.subplot(233)   \n",
    "plt.imshow(vx.data[(nt-3), :, :] - vx_true.data[(nt-3), :, :])\n",
    "plt.show()\n"
   ]
  },
  {
   "cell_type": "code",
   "execution_count": null,
   "metadata": {},
   "outputs": [],
   "source": []
  }
 ],
 "metadata": {
  "kernelspec": {
   "display_name": "Python 3",
   "language": "python",
   "name": "python3"
  },
  "language_info": {
   "codemirror_mode": {
    "name": "ipython",
    "version": 3
   },
   "file_extension": ".py",
   "mimetype": "text/x-python",
   "name": "python",
   "nbconvert_exporter": "python",
   "pygments_lexer": "ipython3",
   "version": "3.6.8"
  },
  "varInspector": {
   "cols": {
    "lenName": 16,
    "lenType": 16,
    "lenVar": 40
   },
   "kernels_config": {
    "python": {
     "delete_cmd_postfix": "",
     "delete_cmd_prefix": "del ",
     "library": "var_list.py",
     "varRefreshCmd": "print(var_dic_list())"
    },
    "r": {
     "delete_cmd_postfix": ") ",
     "delete_cmd_prefix": "rm(",
     "library": "var_list.r",
     "varRefreshCmd": "cat(var_dic_list()) "
    }
   },
   "types_to_exclude": [
    "module",
    "function",
    "builtin_function_or_method",
    "instance",
    "_Feature"
   ],
   "window_display": false
  },
  "widgets": {
   "state": {},
   "version": "1.1.2"
  }
 },
 "nbformat": 4,
 "nbformat_minor": 1
}
