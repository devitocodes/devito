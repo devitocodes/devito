{
 "cells": [
  {
   "cell_type": "markdown",
   "metadata": {},
   "source": [
    "# Effectiveness and computational efficiency of absorbing boundary conditions for full-waveform inversion\n",
    "\n",
    "## Authors: Daiane Iglesia Dolci, Felipe A. G. Silva, Pedro S. Peixoto and Ernani V. Volpe\n",
    "\n",
    "## Department of Mechanical Engineering of Polytechnic School, University of São Paulo\n",
    "\n",
    "## Department of Applied Mathematics, Institute of Mathematics and Statistics, University of São Paulo\n",
    "\n",
    "## Contacts: dolci@usp.br, felipe.augusto.guedes@usp.br, pedrosp@ime.usp.br, ernvolpe@usp.br\n",
    "\n",
    "**Important Informations:** These codes are part of the Project Software Technologies for Modeling and Inversion (STMI) at RCGI in the  University of Sao Paulo."
   ]
  },
  {
   "cell_type": "markdown",
   "metadata": {},
   "source": [
    "This notebook has the main instructions to carry out the analyses of ABCs methods in the forward and adjoint solvers. Also, to execute a forward solver to store the receiver's data related to the Marmousi and 2D SEG/EAGE velocity models. The FWI solver may be executed from this current notebook."
   ]
  },
  {
   "cell_type": "code",
   "execution_count": 1,
   "metadata": {},
   "outputs": [],
   "source": [
    "# Importing Python Packges\n",
    "\n",
    "import os                                                                       \n",
    "import multiprocessing as mp\n",
    "import numpy as np\n",
    "import argparse"
   ]
  },
  {
   "cell_type": "code",
   "execution_count": 2,
   "metadata": {},
   "outputs": [],
   "source": [
    "def run_python(process):\n",
    "    \n",
    "    os.system('python3 {}'.format(process)) "
   ]
  },
  {
   "cell_type": "markdown",
   "metadata": {},
   "source": [
    "Velocity models that can be used in the ABCs analyses:\n",
    "\n",
    "<span style='color:Blue'>\n",
    "    \n",
    ">model = 'Marmousi' \n",
    "\n",
    ">model = 'Salt' #2D SEG/EAGE \n",
    "\n",
    ">model = 'Circle' \n",
    "\n",
    ">model = 'HorizontalLayers' \n",
    "</span>\n",
    "\n",
    "Case to be executed:\n",
    "\n",
    "<span style='color:Red'>\n",
    "    \n",
    ">case = 'fwd_reference'\n",
    "\n",
    ">case = 'bwd_reference'\n",
    "\n",
    ">case = 'fwd_test'\n",
    "\n",
    ">case = 'bwd_test'\n",
    "\n",
    ">case = 'fwi'\n",
    "\n",
    ">case = 'true_rec'\n",
    "</span>\n",
    "\n",
    "The cases <span style='color:Red'> fwd_reference</span> and <span style='color:Red'>adjoint_reference</span> execute respectively the forward and adjoint solvers to store the pressure field computed in the reference domain.\n",
    "\n",
    "The case  <span style='color:Red'>fwd_test</span> and <span style='color:Red'>bwd_test</span> execute the respectively forward and adjoint tests by varying the extension domain width and Ricker wavelet peak of frequency.\n",
    "\n",
    "The case <span style='color:Red'>true_rec</span> executes forward solver to obtain the receivers'data related to the Marmousi and 2D SEG/EAGE vel. models.\n",
    "\n",
    "The case <span style='color:Red'>fwi</span> executes a FWI solver."
   ]
  },
  {
   "cell_type": "code",
   "execution_count": 3,
   "metadata": {},
   "outputs": [],
   "source": [
    "# Setting the case and the velocity model.\n",
    "\n",
    "case  = 'fwd_reference'\n",
    "model = 'HorizontalLayers'"
   ]
  },
  {
   "cell_type": "code",
   "execution_count": 4,
   "metadata": {},
   "outputs": [],
   "source": [
    "if(case=='fwi' or case=='true_rec'):\n",
    "    \n",
    "    freq = [15]\n",
    "\n",
    "else:\n",
    "\n",
    "    freq = [5, 10, 15, 20]"
   ]
  },
  {
   "cell_type": "code",
   "execution_count": 5,
   "metadata": {},
   "outputs": [],
   "source": [
    "if(model=='Marmousi'):\n",
    "    \n",
    "    if(case=='fwd_reference' or case=='bwd_reference' or case=='true_rec'):\n",
    "      \n",
    "        extension = [7500]       # extension lenght (meters)\n",
    "        methods   = ['damping']  # ABC method\n",
    "        \n",
    "    elif(case=='bwd_test' or case=='fwd_test'):\n",
    "        \n",
    "        extension = [900, 450, 200, 100] \n",
    "        methods   = ['damping' , 'habc-a1', 'Higdon', 'pml', 'cpml']\n",
    "        print(case)\n",
    "    \n",
    "    elif(case=='fwi'):\n",
    "        \n",
    "        extension = [400]\n",
    "        methods   = ['damping']\n",
    "\n",
    "elif(model=='Salt'):\n",
    "    \n",
    "    if(case=='fwd_reference' or case=='bwd_reference' or case=='true_rec'):\n",
    "        \n",
    "        extension = [8400]\n",
    "        methods   = ['damping']\n",
    "\n",
    "    elif(case=='bwd_test' or case=='fwd_test'):\n",
    "        \n",
    "        extension = [1440, 720, 360, 180, 90]\n",
    "        methods   = ['damping' , 'habc-a1', 'Higdon', 'pml', 'cpml']\n",
    "    \n",
    "    elif(case=='fwi'):\n",
    "        \n",
    "        extension = [600]\n",
    "        methods   = ['damping']\n",
    "\n",
    "elif(model=='Circle' or model=='HorizontalLayers'):\n",
    "    \n",
    "    if(case=='fwd_reference' or case=='bwd_reference'):\n",
    "        \n",
    "        extension = [2000]\n",
    "        methods   = ['damping']\n",
    "\n",
    "    elif(case=='bwd_test' or case=='fwd_test' or case=='true_rec'):\n",
    "    \n",
    "        extension = [180, 150, 120, 90, 50] \n",
    "        methods   = ['damping' , 'habc-a1', 'Higdon', 'pml', 'cpml']"
   ]
  },
  {
   "cell_type": "markdown",
   "metadata": {},
   "source": [
    "Execute the case previously chosen.\n",
    "\n",
    "The ABCs tests varying the peak of frequencies run in parallel."
   ]
  },
  {
   "cell_type": "code",
   "execution_count": 6,
   "metadata": {},
   "outputs": [
    {
     "ename": "KeyboardInterrupt",
     "evalue": "",
     "output_type": "error",
     "traceback": [
      "\u001b[0;31m---------------------------------------------------------------------------\u001b[0m",
      "\u001b[0;31mKeyboardInterrupt\u001b[0m                         Traceback (most recent call last)",
      "\u001b[0;32m<ipython-input-6-72be7e15df0d>\u001b[0m in \u001b[0;36m<module>\u001b[0;34m\u001b[0m\n\u001b[1;32m     44\u001b[0m \u001b[0;34m\u001b[0m\u001b[0m\n\u001b[1;32m     45\u001b[0m         \u001b[0mpool\u001b[0m \u001b[0;34m=\u001b[0m \u001b[0mmp\u001b[0m\u001b[0;34m.\u001b[0m\u001b[0mPool\u001b[0m\u001b[0;34m(\u001b[0m\u001b[0mprocesses\u001b[0m\u001b[0;34m=\u001b[0m\u001b[0mlen\u001b[0m\u001b[0;34m(\u001b[0m\u001b[0mfreq\u001b[0m\u001b[0;34m)\u001b[0m\u001b[0;34m)\u001b[0m\u001b[0;34m\u001b[0m\u001b[0;34m\u001b[0m\u001b[0m\n\u001b[0;32m---> 46\u001b[0;31m         \u001b[0mpool\u001b[0m\u001b[0;34m.\u001b[0m\u001b[0mmap\u001b[0m\u001b[0;34m(\u001b[0m\u001b[0mrun_python\u001b[0m\u001b[0;34m,\u001b[0m \u001b[0mprocesses\u001b[0m\u001b[0;34m)\u001b[0m\u001b[0;34m\u001b[0m\u001b[0;34m\u001b[0m\u001b[0m\n\u001b[0m\u001b[1;32m     47\u001b[0m         \u001b[0mpool\u001b[0m\u001b[0;34m.\u001b[0m\u001b[0mclose\u001b[0m\u001b[0;34m(\u001b[0m\u001b[0;34m)\u001b[0m\u001b[0;34m\u001b[0m\u001b[0;34m\u001b[0m\u001b[0m\n\u001b[1;32m     48\u001b[0m         \u001b[0mpool\u001b[0m\u001b[0;34m.\u001b[0m\u001b[0mjoin\u001b[0m\u001b[0;34m(\u001b[0m\u001b[0;34m)\u001b[0m\u001b[0;34m\u001b[0m\u001b[0;34m\u001b[0m\u001b[0m\n",
      "\u001b[0;32m/usr/lib/python3.8/multiprocessing/pool.py\u001b[0m in \u001b[0;36mmap\u001b[0;34m(self, func, iterable, chunksize)\u001b[0m\n\u001b[1;32m    362\u001b[0m         \u001b[0;32min\u001b[0m \u001b[0ma\u001b[0m \u001b[0mlist\u001b[0m \u001b[0mthat\u001b[0m \u001b[0;32mis\u001b[0m \u001b[0mreturned\u001b[0m\u001b[0;34m.\u001b[0m\u001b[0;34m\u001b[0m\u001b[0;34m\u001b[0m\u001b[0m\n\u001b[1;32m    363\u001b[0m         '''\n\u001b[0;32m--> 364\u001b[0;31m         \u001b[0;32mreturn\u001b[0m \u001b[0mself\u001b[0m\u001b[0;34m.\u001b[0m\u001b[0m_map_async\u001b[0m\u001b[0;34m(\u001b[0m\u001b[0mfunc\u001b[0m\u001b[0;34m,\u001b[0m \u001b[0miterable\u001b[0m\u001b[0;34m,\u001b[0m \u001b[0mmapstar\u001b[0m\u001b[0;34m,\u001b[0m \u001b[0mchunksize\u001b[0m\u001b[0;34m)\u001b[0m\u001b[0;34m.\u001b[0m\u001b[0mget\u001b[0m\u001b[0;34m(\u001b[0m\u001b[0;34m)\u001b[0m\u001b[0;34m\u001b[0m\u001b[0;34m\u001b[0m\u001b[0m\n\u001b[0m\u001b[1;32m    365\u001b[0m \u001b[0;34m\u001b[0m\u001b[0m\n\u001b[1;32m    366\u001b[0m     \u001b[0;32mdef\u001b[0m \u001b[0mstarmap\u001b[0m\u001b[0;34m(\u001b[0m\u001b[0mself\u001b[0m\u001b[0;34m,\u001b[0m \u001b[0mfunc\u001b[0m\u001b[0;34m,\u001b[0m \u001b[0miterable\u001b[0m\u001b[0;34m,\u001b[0m \u001b[0mchunksize\u001b[0m\u001b[0;34m=\u001b[0m\u001b[0;32mNone\u001b[0m\u001b[0;34m)\u001b[0m\u001b[0;34m:\u001b[0m\u001b[0;34m\u001b[0m\u001b[0;34m\u001b[0m\u001b[0m\n",
      "\u001b[0;32m/usr/lib/python3.8/multiprocessing/pool.py\u001b[0m in \u001b[0;36mget\u001b[0;34m(self, timeout)\u001b[0m\n\u001b[1;32m    763\u001b[0m \u001b[0;34m\u001b[0m\u001b[0m\n\u001b[1;32m    764\u001b[0m     \u001b[0;32mdef\u001b[0m \u001b[0mget\u001b[0m\u001b[0;34m(\u001b[0m\u001b[0mself\u001b[0m\u001b[0;34m,\u001b[0m \u001b[0mtimeout\u001b[0m\u001b[0;34m=\u001b[0m\u001b[0;32mNone\u001b[0m\u001b[0;34m)\u001b[0m\u001b[0;34m:\u001b[0m\u001b[0;34m\u001b[0m\u001b[0;34m\u001b[0m\u001b[0m\n\u001b[0;32m--> 765\u001b[0;31m         \u001b[0mself\u001b[0m\u001b[0;34m.\u001b[0m\u001b[0mwait\u001b[0m\u001b[0;34m(\u001b[0m\u001b[0mtimeout\u001b[0m\u001b[0;34m)\u001b[0m\u001b[0;34m\u001b[0m\u001b[0;34m\u001b[0m\u001b[0m\n\u001b[0m\u001b[1;32m    766\u001b[0m         \u001b[0;32mif\u001b[0m \u001b[0;32mnot\u001b[0m \u001b[0mself\u001b[0m\u001b[0;34m.\u001b[0m\u001b[0mready\u001b[0m\u001b[0;34m(\u001b[0m\u001b[0;34m)\u001b[0m\u001b[0;34m:\u001b[0m\u001b[0;34m\u001b[0m\u001b[0;34m\u001b[0m\u001b[0m\n\u001b[1;32m    767\u001b[0m             \u001b[0;32mraise\u001b[0m \u001b[0mTimeoutError\u001b[0m\u001b[0;34m\u001b[0m\u001b[0;34m\u001b[0m\u001b[0m\n",
      "\u001b[0;32m/usr/lib/python3.8/multiprocessing/pool.py\u001b[0m in \u001b[0;36mwait\u001b[0;34m(self, timeout)\u001b[0m\n\u001b[1;32m    760\u001b[0m \u001b[0;34m\u001b[0m\u001b[0m\n\u001b[1;32m    761\u001b[0m     \u001b[0;32mdef\u001b[0m \u001b[0mwait\u001b[0m\u001b[0;34m(\u001b[0m\u001b[0mself\u001b[0m\u001b[0;34m,\u001b[0m \u001b[0mtimeout\u001b[0m\u001b[0;34m=\u001b[0m\u001b[0;32mNone\u001b[0m\u001b[0;34m)\u001b[0m\u001b[0;34m:\u001b[0m\u001b[0;34m\u001b[0m\u001b[0;34m\u001b[0m\u001b[0m\n\u001b[0;32m--> 762\u001b[0;31m         \u001b[0mself\u001b[0m\u001b[0;34m.\u001b[0m\u001b[0m_event\u001b[0m\u001b[0;34m.\u001b[0m\u001b[0mwait\u001b[0m\u001b[0;34m(\u001b[0m\u001b[0mtimeout\u001b[0m\u001b[0;34m)\u001b[0m\u001b[0;34m\u001b[0m\u001b[0;34m\u001b[0m\u001b[0m\n\u001b[0m\u001b[1;32m    763\u001b[0m \u001b[0;34m\u001b[0m\u001b[0m\n\u001b[1;32m    764\u001b[0m     \u001b[0;32mdef\u001b[0m \u001b[0mget\u001b[0m\u001b[0;34m(\u001b[0m\u001b[0mself\u001b[0m\u001b[0;34m,\u001b[0m \u001b[0mtimeout\u001b[0m\u001b[0;34m=\u001b[0m\u001b[0;32mNone\u001b[0m\u001b[0;34m)\u001b[0m\u001b[0;34m:\u001b[0m\u001b[0;34m\u001b[0m\u001b[0;34m\u001b[0m\u001b[0m\n",
      "\u001b[0;32m/usr/lib/python3.8/threading.py\u001b[0m in \u001b[0;36mwait\u001b[0;34m(self, timeout)\u001b[0m\n\u001b[1;32m    556\u001b[0m             \u001b[0msignaled\u001b[0m \u001b[0;34m=\u001b[0m \u001b[0mself\u001b[0m\u001b[0;34m.\u001b[0m\u001b[0m_flag\u001b[0m\u001b[0;34m\u001b[0m\u001b[0;34m\u001b[0m\u001b[0m\n\u001b[1;32m    557\u001b[0m             \u001b[0;32mif\u001b[0m \u001b[0;32mnot\u001b[0m \u001b[0msignaled\u001b[0m\u001b[0;34m:\u001b[0m\u001b[0;34m\u001b[0m\u001b[0;34m\u001b[0m\u001b[0m\n\u001b[0;32m--> 558\u001b[0;31m                 \u001b[0msignaled\u001b[0m \u001b[0;34m=\u001b[0m \u001b[0mself\u001b[0m\u001b[0;34m.\u001b[0m\u001b[0m_cond\u001b[0m\u001b[0;34m.\u001b[0m\u001b[0mwait\u001b[0m\u001b[0;34m(\u001b[0m\u001b[0mtimeout\u001b[0m\u001b[0;34m)\u001b[0m\u001b[0;34m\u001b[0m\u001b[0;34m\u001b[0m\u001b[0m\n\u001b[0m\u001b[1;32m    559\u001b[0m             \u001b[0;32mreturn\u001b[0m \u001b[0msignaled\u001b[0m\u001b[0;34m\u001b[0m\u001b[0;34m\u001b[0m\u001b[0m\n\u001b[1;32m    560\u001b[0m \u001b[0;34m\u001b[0m\u001b[0m\n",
      "\u001b[0;32m/usr/lib/python3.8/threading.py\u001b[0m in \u001b[0;36mwait\u001b[0;34m(self, timeout)\u001b[0m\n\u001b[1;32m    300\u001b[0m         \u001b[0;32mtry\u001b[0m\u001b[0;34m:\u001b[0m    \u001b[0;31m# restore state no matter what (e.g., KeyboardInterrupt)\u001b[0m\u001b[0;34m\u001b[0m\u001b[0;34m\u001b[0m\u001b[0m\n\u001b[1;32m    301\u001b[0m             \u001b[0;32mif\u001b[0m \u001b[0mtimeout\u001b[0m \u001b[0;32mis\u001b[0m \u001b[0;32mNone\u001b[0m\u001b[0;34m:\u001b[0m\u001b[0;34m\u001b[0m\u001b[0;34m\u001b[0m\u001b[0m\n\u001b[0;32m--> 302\u001b[0;31m                 \u001b[0mwaiter\u001b[0m\u001b[0;34m.\u001b[0m\u001b[0macquire\u001b[0m\u001b[0;34m(\u001b[0m\u001b[0;34m)\u001b[0m\u001b[0;34m\u001b[0m\u001b[0;34m\u001b[0m\u001b[0m\n\u001b[0m\u001b[1;32m    303\u001b[0m                 \u001b[0mgotit\u001b[0m \u001b[0;34m=\u001b[0m \u001b[0;32mTrue\u001b[0m\u001b[0;34m\u001b[0m\u001b[0;34m\u001b[0m\u001b[0m\n\u001b[1;32m    304\u001b[0m             \u001b[0;32melse\u001b[0m\u001b[0;34m:\u001b[0m\u001b[0;34m\u001b[0m\u001b[0;34m\u001b[0m\u001b[0m\n",
      "\u001b[0;31mKeyboardInterrupt\u001b[0m: "
     ]
    }
   ],
   "source": [
    "for i in methods:\n",
    "    \n",
    "    for k in extension:\n",
    "    \n",
    "        processes = []\n",
    "        \n",
    "        for j in freq:\n",
    "\n",
    "            if(case=='bwd_reference' or case=='bwd_test'):\n",
    "                \n",
    "                processes.append(\"adjoint.py --extension \" \n",
    "                                + str(k) \n",
    "                                + \" --freq \" \n",
    "                                + str(j) \n",
    "                                + \" --method \" \n",
    "                                + str(i)\n",
    "                                + \" --model \" \n",
    "                                + model\n",
    "                                )     \n",
    "\n",
    "            elif(case=='fwd_reference' or case=='fwd_test' or case=='true_rec'):\n",
    "                \n",
    "                processes.append(\"forward.py --extension \" \n",
    "                                + str(k) \n",
    "                                + \" --freq \" \n",
    "                                + str(j) \n",
    "                                + \" --method \" \n",
    "                                + str(i)\n",
    "                                + \" --model \" \n",
    "                                + model\n",
    "                                )                   \n",
    "\n",
    "            elif(case=='fwi'): #either Marmousi or 2D salt\n",
    "                 \n",
    "                processes.append(\"fwi.py --extension \" \n",
    "                                + str(k) \n",
    "                                + \" --freq \" \n",
    "                                + str(j) \n",
    "                                + \" --method \" \n",
    "                                + str(i)\n",
    "                                + \" --model \" \n",
    "                                + model\n",
    "                                )  \n",
    "            \n",
    "        pool = mp.Pool(processes=len(freq))                                              \n",
    "        pool.map(run_python, processes)  \n",
    "        pool.close()\n",
    "        pool.join()"
   ]
  },
  {
   "cell_type": "code",
   "execution_count": null,
   "metadata": {},
   "outputs": [],
   "source": []
  }
 ],
 "metadata": {
  "kernelspec": {
   "display_name": "Python 3",
   "language": "python",
   "name": "python3"
  },
  "language_info": {
   "codemirror_mode": {
    "name": "ipython",
    "version": 3
   },
   "file_extension": ".py",
   "mimetype": "text/x-python",
   "name": "python",
   "nbconvert_exporter": "python",
   "pygments_lexer": "ipython3",
   "version": "3.8.10"
  }
 },
 "nbformat": 4,
 "nbformat_minor": 4
}
