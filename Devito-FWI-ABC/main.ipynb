{
 "cells": [
  {
   "cell_type": "markdown",
   "metadata": {},
   "source": [
    "# Main"
   ]
  },
  {
   "cell_type": "markdown",
   "metadata": {},
   "source": [
    "This notebook has the main instructions to carry out the analyses of ABCs methods in the forward and adjoint solvers. Also, to execute a forward solver to store the receiver's data related to the Marmousi and 2D SEG/EAGE velocity models. The FWI solver may be executed from this current notebook."
   ]
  },
  {
   "cell_type": "markdown",
   "metadata": {},
   "source": [
    "Importing python libraries"
   ]
  },
  {
   "cell_type": "code",
   "execution_count": 11,
   "metadata": {},
   "outputs": [],
   "source": [
    "import os                                                                       \n",
    "import multiprocessing as mp\n",
    "import numpy as np\n",
    "import argparse"
   ]
  },
  {
   "cell_type": "code",
   "execution_count": 12,
   "metadata": {},
   "outputs": [],
   "source": [
    "def run_python(process):                                                            \n",
    "    os.system('python3 {}'.format(process)) "
   ]
  },
  {
   "cell_type": "markdown",
   "metadata": {},
   "source": [
    "Velocity models that can be used in the ABCs analyses:\n",
    "\n",
    "<span style='color:Blue'>\n",
    "    \n",
    ">model = 'Marmousi' \n",
    "\n",
    ">model = 'Salt' \n",
    "\n",
    ">model = 'Circle' \n",
    "\n",
    ">model = 'HorizontalLayers' \n",
    "</span>\n",
    "\n",
    "Case to be executed:\n",
    "\n",
    "<span style='color:Red'>\n",
    "    \n",
    ">case = 'fwd_reference_u'\n",
    "\n",
    ">case = 'adjoint_reference'\n",
    "\n",
    ">case = 'fwd_reference_rec'\n",
    "\n",
    ">case = 'abc_test'\n",
    "\n",
    ">case = 'fwi'\n",
    "\n",
    ">case = 'true_rec'\n",
    "</span>\n",
    "\n",
    "The cases <span style='color:Red'> fwd_reference_u</span> and <span style='color:Red'>adjoint_reference</span> execute respectively the forward and adjoint solvers to store the pressure field computed in the reference domain.\n",
    "\n",
    "The case  <span style='color:Red'>abc_test</span> executes the ABCs tests by varying the extension domain width and Ricker wavelet peak of frequency.\n",
    "\n",
    "The case <span style='color:Red'>fwi</span> executes a FWI solver."
   ]
  },
  {
   "cell_type": "markdown",
   "metadata": {},
   "source": [
    "Setting the case and the velocity model."
   ]
  },
  {
   "cell_type": "code",
   "execution_count": 8,
   "metadata": {},
   "outputs": [],
   "source": [
    "case  = 'fwd_reference'\n",
    "model = 'Circle'"
   ]
  },
  {
   "cell_type": "code",
   "execution_count": 9,
   "metadata": {},
   "outputs": [],
   "source": [
    "if case=='fwi' or case=='true_rec':\n",
    "    freq = [15]\n",
    "else:\n",
    "    freq = [5, 10, 15, 20]"
   ]
  },
  {
   "cell_type": "code",
   "execution_count": 10,
   "metadata": {},
   "outputs": [],
   "source": [
    "if model=='Marmousi':\n",
    "    if case=='fwd_reference' or case=='bwd_reference' or 'true_rec':\n",
    "        extension = [7500]       # extension lenght (meters)\n",
    "        methods   = ['damping']  # ABC method\n",
    "\n",
    "    elif case=='bwd_test' or case=='fwd_test':\n",
    "        extension = [900, 450, 200, 100] \n",
    "        methods   = ['damping' , 'habc-a1', 'Higdon', 'pml', 'cpml']\n",
    "    \n",
    "    elif case=='fwi':\n",
    "        extension = [400]\n",
    "        methods   = ['damping']\n",
    "\n",
    "elif model=='Salt':\n",
    "    if case=='fwd_reference_u' or case=='bwd_reference':\n",
    "        extension = [8400]\n",
    "        methods   = ['damping']\n",
    "\n",
    "    elif case=='bwd_test' or case=='fwd_test':\n",
    "        extension = [1440, 720, 360, 180, 90]\n",
    "        methods   = ['damping' , 'habc-a1', 'Higdon', 'pml', 'cpml']\n",
    "    \n",
    "    elif case=='fwi':\n",
    "        extension = [600]\n",
    "        methods   = ['damping']\n",
    "\n",
    "elif model=='Circle' or model=='HorizontalLayers':\n",
    "    if case=='fwd_reference_u' or case=='bwd_reference':\n",
    "        extension = [2000]\n",
    "        methods   = ['damping']\n",
    "\n",
    "    elif case=='bwd_test' or case=='fwd_test':\n",
    "        extension = [180, 150, 120, 90, 50] \n",
    "        methods   = ['damping' , 'habc-a1', 'Higdon', 'pml', 'cpml']\n"
   ]
  },
  {
   "cell_type": "markdown",
   "metadata": {},
   "source": [
    "Execute the case previously chosen.\n",
    "\n",
    "The ABCs tests varying the peak of frequencies run in parallel."
   ]
  },
  {
   "cell_type": "code",
   "execution_count": null,
   "metadata": {},
   "outputs": [],
   "source": [
    "for i in methods:\n",
    "    for k in extension:\n",
    "        processes = []\n",
    "        for j in freq:\n",
    "\n",
    "            if case=='bwd_reference' or case=='bwd_test':\n",
    "                processes.append(\"test_adjoint.py --extension \" \n",
    "                                + str(k) \n",
    "                                + \" --freq \" \n",
    "                                + str(j) \n",
    "                                + \" --method \" \n",
    "                                + str(i)\n",
    "                                + \" --model \" \n",
    "                                + model\n",
    "                                )     \n",
    "\n",
    "            elif case=='fwd_reference' or case=='fwd_test':\n",
    "                processes.append(\"test_forward.py --extension \" \n",
    "                                + str(k) \n",
    "                                + \" --freq \" \n",
    "                                + str(j) \n",
    "                                + \" --method \" \n",
    "                                + str(i)\n",
    "                                + \" --model \" \n",
    "                                + model\n",
    "                                + \" --case \"\n",
    "                                + case\n",
    "                                )                   \n",
    "\n",
    "            elif case=='true_rec': #either Marmousi ou 2D salt\n",
    "\n",
    "                processes.append(\"forward.py --extension \" \n",
    "                                + str(k) \n",
    "                                + \" --freq \" \n",
    "                                + str(j) \n",
    "                                + \" --method \" \n",
    "                                + str(i)\n",
    "                                + \" --model \" \n",
    "                                + model\n",
    "                                )  \n",
    "            elif case=='fwi': #either Marmousi ou 2D salt\n",
    "                processes.append(\"fwi.py --extension \" \n",
    "                                + str(k) \n",
    "                                + \" --freq \" \n",
    "                                + str(j) \n",
    "                                + \" --method \" \n",
    "                                + str(i)\n",
    "                                + \" --model \" \n",
    "                                + model\n",
    "                                )  \n",
    "\n",
    "\n",
    "            \n",
    "        pool = mp.Pool(processes=len(freq))                                              \n",
    "        pool.map(run_python, processes)  \n",
    "        pool.close()\n",
    "        pool.join()"
   ]
  }
 ],
 "metadata": {
  "kernelspec": {
   "display_name": "Python 3",
   "language": "python",
   "name": "python3"
  },
  "language_info": {
   "codemirror_mode": {
    "name": "ipython",
    "version": 3
   },
   "file_extension": ".py",
   "mimetype": "text/x-python",
   "name": "python",
   "nbconvert_exporter": "python",
   "pygments_lexer": "ipython3",
   "version": "3.8.10"
  }
 },
 "nbformat": 4,
 "nbformat_minor": 4
}
